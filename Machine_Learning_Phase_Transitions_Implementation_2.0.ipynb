{
  "nbformat": 4,
  "nbformat_minor": 0,
  "metadata": {
    "colab": {
      "name": "Machine Learning Phase Transitions - Implementation.ipynb",
      "provenance": [],
      "authorship_tag": "ABX9TyMbRpd2ITGwo9oWktuIR/tb",
      "include_colab_link": true
    },
    "kernelspec": {
      "name": "python3",
      "display_name": "Python 3"
    },
    "language_info": {
      "name": "python"
    }
  },
  "cells": [
    {
      "cell_type": "markdown",
      "metadata": {
        "id": "view-in-github",
        "colab_type": "text"
      },
      "source": [
        "<a href=\"https://colab.research.google.com/github/girivad/ml-phases-of-matter-ext/blob/main/Machine_Learning_Phase_Transitions_Implementation_2.0.ipynb\" target=\"_parent\"><img src=\"https://colab.research.google.com/assets/colab-badge.svg\" alt=\"Open In Colab\"/></a>"
      ]
    },
    {
      "cell_type": "code",
      "source": [
        "import numpy as np\n",
        "import random"
      ],
      "metadata": {
        "id": "Inezb3UQhrCt"
      },
      "execution_count": 2,
      "outputs": []
    },
    {
      "cell_type": "markdown",
      "source": [
        "# **Data Generation**"
      ],
      "metadata": {
        "id": "Ipw8nBYofz_o"
      }
    },
    {
      "cell_type": "code",
      "execution_count": 10,
      "metadata": {
        "id": "mj43CC46fuHX",
        "outputId": "1e448e97-d6b3-4d94-b70a-4079842cee93",
        "colab": {
          "base_uri": "https://localhost:8080/"
        }
      },
      "outputs": [
        {
          "output_type": "execute_result",
          "data": {
            "text/plain": [
              "array([[-1., -1.,  1., ...,  1.,  1.,  1.],\n",
              "       [-1., -1., -1., ...,  1.,  1.,  1.],\n",
              "       [-1., -1., -1., ..., -1., -1.,  1.],\n",
              "       ...,\n",
              "       [ 1.,  1., -1., ...,  1.,  1.,  1.],\n",
              "       [ 1.,  1.,  1., ...,  1.,  1.,  1.],\n",
              "       [-1.,  1.,  1., ...,  1.,  1.,  1.]])"
            ]
          },
          "metadata": {},
          "execution_count": 10
        }
      ],
      "source": [
        "#Generate random grids of 1s and -1s, making sure they are unbalanced. Then calculate the energy of the current state. \n",
        "#Then pick a random particle in the lattice, and flip its sign. When you flip the spin, you have to calculate the energy of this new state again. \n",
        "#If it is less than the current energy, switch curr state to new state. If greater, apply the probability e^-(beta)(Ev-E_mu) = e^-(beta)(J)(summation of the product between the \n",
        "#flipped particle and its neighbors).\n",
        "#Sample for many different temps\n",
        "def get_energy(lattice):\n",
        "  en = 0\n",
        "  #Brute Neighbor Addition\n",
        "  for i in range(len(lattice)):\n",
        "    for j in range(len(lattice)):\n",
        "      if i>0:\n",
        "        en -= lattice[i][j]*lattice[i-1][j]\n",
        "      if i<len(lattice)-1:\n",
        "        en -= lattice[i][j]*lattice[i+1][j]\n",
        "      if j>0:\n",
        "        en -= lattice[i][j]*lattice[i][j-1]\n",
        "      if j<len(lattice)-1:\n",
        "        en -= lattice[i][j] * lattice[i][j+1]\n",
        "  return en\n",
        "\n",
        "grid_size = 32 #The grid size.\n",
        "starts = 10 #For each temperature. 10\n",
        "samples = 100 #The number of samples per start per temperature. 100\n",
        "temp_range = np.arange(1,3.7,0.1)\n",
        "therm_steps = 100\n",
        "k = (1.38064852)/(10**23)\n",
        "#b = 0.7 #This is our beta*J value. b = 1/kT\n",
        "for temp in temp_range:\n",
        "  b = 1/(k*temp)\n",
        "  for start in range(starts):\n",
        "    for sample in range(samples):\n",
        "      start_lat = np.array([[np.random.exponential() for a in range(grid_size)] for b in range(grid_size)])\n",
        "      lattice = np.zeros((grid_size,grid_size))\n",
        "      lattice[start_lat>=0.4] = 1.0\n",
        "      lattice[start_lat<0.4] = -1.0\n",
        "      assert list(lattice.flatten()).count(1.)/(grid_size**2) > 0.5 #To ensure largely unbalanced  \n",
        "      sampleList = []\n",
        "      enList = []\n",
        "      timeList = []\n",
        "      time = 0  \n",
        "      for therm_step in range(therm_steps):\n",
        "        curr_en = get_energy(lattice)\n",
        "        flip_x,flip_y = (random.randint(0,grid_size-1),random.randint(0,grid_size-1))\n",
        "        state_v = lattice.copy()\n",
        "        state_v[flip_x][flip_y] *=-1\n",
        "        v_en = get_energy(state_v)\n",
        "        p_uv = 1 if v_en<curr_en else np.exp(-b*(v_en - curr_en))\n",
        "        timeList.append(time)\n",
        "        time += 1\n",
        "        if np.random.random()<p_uv:\n",
        "          lattice = state_v.copy()\n",
        "        enList.append(get_energy(lattice))\n",
        "      sampleList.append(lattice)\n",
        "sampleList[0]"
      ]
    },
    {
      "cell_type": "code",
      "source": [
        "import matplotlib.pyplot as plt\n",
        "plt.plot(timeList,enList)\n",
        "plt.title(\"Energy vs Algorithmic Time\")\n",
        "timeList[-1]"
      ],
      "metadata": {
        "collapsed": true,
        "id": "DvhwA7S5iEN4",
        "outputId": "58b8f0e1-9333-418c-d7d2-eca72f603c92",
        "colab": {
          "base_uri": "https://localhost:8080/",
          "height": 298
        }
      },
      "execution_count": 11,
      "outputs": [
        {
          "output_type": "execute_result",
          "data": {
            "text/plain": [
              "99"
            ]
          },
          "metadata": {},
          "execution_count": 11
        },
        {
          "output_type": "display_data",
          "data": {
            "image/png": "[encoded data removed]",
            "text/plain": [
              "<Figure size 432x288 with 1 Axes>"
            ]
          },
          "metadata": {
            "needs_background": "light"
          }
        }
      ]
    }
  ]
}