{
  "cells": [
    {
      "cell_type": "markdown",
      "metadata": {
        "id": "view-in-github",
        "colab_type": "text"
      },
      "source": [
        "<a href=\"https://colab.research.google.com/github/santacruzAI/MLPhasesOfMatter/blob/main/Machine_Learning_Phase_Transitions_Final%2B1.ipynb\" target=\"_parent\"><img src=\"https://colab.research.google.com/assets/colab-badge.svg\" alt=\"Open In Colab\"/></a>"
      ]
    },
    {
      "cell_type": "code",
      "execution_count": 2,
      "metadata": {
        "colab": {
          "base_uri": "https://localhost:8080/"
        },
        "id": "Inezb3UQhrCt",
        "outputId": "585ef6ca-8e6a-451a-a02d-ad3b294fb115"
      },
      "outputs": [
        {
          "output_type": "stream",
          "name": "stdout",
          "text": [
            "Requirement already satisfied: numba in /usr/local/lib/python3.7/dist-packages (0.51.2)\n",
            "Requirement already satisfied: setuptools in /usr/local/lib/python3.7/dist-packages (from numba) (57.4.0)\n",
            "Requirement already satisfied: llvmlite<0.35,>=0.34.0.dev0 in /usr/local/lib/python3.7/dist-packages (from numba) (0.34.0)\n",
            "Requirement already satisfied: numpy>=1.15 in /usr/local/lib/python3.7/dist-packages (from numba) (1.21.5)\n"
          ]
        }
      ],
      "source": [
        "import numpy as np\n",
        "import random\n",
        "!pip install numba\n",
        "from numba import jit"
      ]
    },
    {
      "cell_type": "markdown",
      "metadata": {
        "id": "Ipw8nBYofz_o"
      },
      "source": [
        "# **Data Generation**"
      ]
    },
    {
      "cell_type": "markdown",
      "source": [
        "Here, we will perform the Metropolis-Hastings Algorithm to generate square lattices."
      ],
      "metadata": {
        "id": "wYYKm9HkKzDR"
      }
    },
    {
      "cell_type": "markdown",
      "source": [
        "First, we calculate the square Hamiltonian."
      ],
      "metadata": {
        "id": "ZmOriijsLPRo"
      }
    },
    {
      "cell_type": "code",
      "execution_count": null,
      "metadata": {
        "colab": {
          "background_save": true,
          "base_uri": "https://localhost:8080/"
        },
        "id": "mj43CC46fuHX",
        "outputId": "95f140cb-ded3-41fe-cf7a-f5275f0d6970"
      },
      "outputs": [
        {
          "ename": "NameError",
          "evalue": "ignored",
          "output_type": "error",
          "traceback": [
            "\u001b[0;31m---------------------------------------------------------------------------\u001b[0m",
            "\u001b[0;31mNameError\u001b[0m                                 Traceback (most recent call last)",
            "\u001b[0;32m<ipython-input-2-e05f567a5a88>\u001b[0m in \u001b[0;36m<module>\u001b[0;34m()\u001b[0m\n\u001b[1;32m     67\u001b[0m         \u001b[0menList\u001b[0m\u001b[0;34m.\u001b[0m\u001b[0mappend\u001b[0m\u001b[0;34m(\u001b[0m\u001b[0mget_energy\u001b[0m\u001b[0;34m(\u001b[0m\u001b[0mlattice\u001b[0m\u001b[0;34m)\u001b[0m\u001b[0;34m)\u001b[0m\u001b[0;34m\u001b[0m\u001b[0;34m\u001b[0m\u001b[0m\n\u001b[1;32m     68\u001b[0m       \u001b[0msampleList\u001b[0m\u001b[0;34m.\u001b[0m\u001b[0mappend\u001b[0m\u001b[0;34m(\u001b[0m\u001b[0mlattice\u001b[0m\u001b[0;34m)\u001b[0m\u001b[0;34m\u001b[0m\u001b[0;34m\u001b[0m\u001b[0m\n\u001b[0;32m---> 69\u001b[0;31m       \u001b[0mframes\u001b[0m\u001b[0;34m.\u001b[0m\u001b[0mappend\u001b[0m\u001b[0;34m(\u001b[0m\u001b[0;34m[\u001b[0m\u001b[0mplt\u001b[0m\u001b[0;34m.\u001b[0m\u001b[0mimshow\u001b[0m\u001b[0;34m(\u001b[0m\u001b[0mimg\u001b[0m\u001b[0;34m[\u001b[0m\u001b[0mi\u001b[0m\u001b[0;34m]\u001b[0m\u001b[0;34m,\u001b[0m \u001b[0mcmap\u001b[0m\u001b[0;34m=\u001b[0m\u001b[0mcm\u001b[0m\u001b[0;34m.\u001b[0m\u001b[0mGreys_r\u001b[0m\u001b[0;34m,\u001b[0m\u001b[0manimated\u001b[0m\u001b[0;34m=\u001b[0m\u001b[0;32mTrue\u001b[0m\u001b[0;34m)\u001b[0m\u001b[0;34m]\u001b[0m\u001b[0;34m)\u001b[0m\u001b[0;34m\u001b[0m\u001b[0;34m\u001b[0m\u001b[0m\n\u001b[0m\u001b[1;32m     70\u001b[0m       \u001b[0mplt\u001b[0m\u001b[0;34m.\u001b[0m\u001b[0mimshow\u001b[0m\u001b[0;34m(\u001b[0m\u001b[0mlattice\u001b[0m\u001b[0;34m)\u001b[0m\u001b[0;34m\u001b[0m\u001b[0;34m\u001b[0m\u001b[0m\n\u001b[1;32m     71\u001b[0m       \u001b[0mtempList\u001b[0m\u001b[0;34m.\u001b[0m\u001b[0mappend\u001b[0m\u001b[0;34m(\u001b[0m\u001b[0mtemp\u001b[0m\u001b[0;34m)\u001b[0m\u001b[0;34m\u001b[0m\u001b[0;34m\u001b[0m\u001b[0m\n",
            "\u001b[0;31mNameError\u001b[0m: name 'frames' is not defined"
          ]
        },
        {
          "data": {
            "text/plain": [
              "<Figure size 144x144 with 0 Axes>"
            ]
          },
          "metadata": {},
          "output_type": "display_data"
        }
      ],
      "source": [
        "import matplotlib.pyplot as plt\n",
        "import matplotlib.animation as animation\n",
        "import matplotlib.cm as cm\n",
        "@jit\n",
        "def get_energy(lattice):\n",
        "  en = 0\n",
        "  #Brute Neighbor Addition\n",
        "  for i in range(len(lattice)):\n",
        "    for j in range(len(lattice)):\n",
        "      if i>0:\n",
        "        en -= lattice[i][j]*lattice[i-1][j]\n",
        "      if i<len(lattice)-1:\n",
        "        en -= lattice[i][j]*lattice[i+1][j]\n",
        "      if j>0:\n",
        "        en -= lattice[i][j]*lattice[i][j-1]\n",
        "      if j<len(lattice)-1:\n",
        "        en -= lattice[i][j] * lattice[i][j+1]\n",
        "  return en\n",
        "\n",
        "grid_size = 40 #The grid size.\n",
        "starts = 10 #For each temperature. 10\n",
        "samples = 100 #The number of samples per start per temperature. 100\n",
        "temp_range = np.linspace(1,3.7,27) #The range of temperatures from 1 to 3.7\n",
        "therm_steps = 100 #100\n",
        "tempList = []\n",
        "sampleList = []\n",
        "imList = []\n",
        "k = (1.38064852)/(10**23)\n",
        "#b = 0.7 #This is our beta*J value. b = 1/kT\n",
        "count = 0\n",
        "total = 0\n",
        "loopCount = 0\n",
        "fig = plt.figure(figsize=(grid_size,grid_size))\n",
        "for temp in temp_range:\n",
        "  b = 1/(k*temp) #Computing the boltzmann constant (confirm).\n",
        "  for start in range(starts):\n",
        "    for sample in range(samples): \n",
        "      start_lat = np.array([[2*np.random.uniform() - 1 for a in range(grid_size)] for count2 in range(grid_size)])\n",
        "      lattice = np.zeros((grid_size,grid_size))\n",
        "      lattice[start_lat>=0] = 1.0\n",
        "      lattice[start_lat<0] = -1.0\n",
        "      enList = []\n",
        "      timeList = []\n",
        "      time = 0  \n",
        "      for therm_step in range(therm_steps):\n",
        "        curr_en = get_energy(lattice)\n",
        "        flip_x,flip_y = (random.randint(0,grid_size-1),random.randint(0,grid_size-1))\n",
        "        state_v = lattice.copy()\n",
        "        state_v[flip_x][flip_y] *=-1\n",
        "        v_en = get_energy(state_v)\n",
        "        p_uv = 1 if v_en<curr_en else np.exp(-b*(v_en - curr_en))\n",
        "        timeList.append(time)\n",
        "        time += 1\n",
        "        if np.random.random()<p_uv:\n",
        "          lattice = state_v.copy()\n",
        "        enList.append(get_energy(lattice))\n",
        "      sampleList.append(lattice)\n",
        "      frames.append([plt.imshow(img[i], cmap=cm.Greys_r,animated=True)])\n",
        "      plt.imshow(lattice)\n",
        "      tempList.append(temp)\n",
        "len(sampleList), loopCount\n",
        "fig = plt.figure()\n",
        "ani = animation.ArtistAnimation(fig, imList, interval=50, blit=True,\n",
        "                                repeat_delay=1000)"
      ]
    },
    {
      "cell_type": "code",
      "execution_count": null,
      "metadata": {
        "id": "9Nl2Qs4nvbXd"
      },
      "outputs": [],
      "source": [
        "plt.show()"
      ]
    },
    {
      "cell_type": "markdown",
      "metadata": {
        "id": "kydzXO8gSzAH"
      },
      "source": [
        "**Visualization of Ising Model Simulation**"
      ]
    },
    {
      "cell_type": "code",
      "execution_count": null,
      "metadata": {
        "colab": {
          "base_uri": "https://localhost:8080/",
          "height": 287
        },
        "id": "lz8-fSjoFiuR",
        "outputId": "7434ec93-53c9-43b6-dd3a-827107e20824"
      },
      "outputs": [
        {
          "name": "stderr",
          "output_type": "stream",
          "text": [
            " 96%|█████████▋| 27/28 [00:02<00:00, 13.25it/s]\n"
          ]
        },
        {
          "data": {
            "image/png": "[encoded data removed]",
            "text/plain": [
              "<Figure size 432x288 with 1 Axes>"
            ]
          },
          "metadata": {},
          "output_type": "display_data"
        }
      ],
      "source": [
        "from moviepy.editor import VideoClip\n",
        "from moviepy.video.io.bindings import mplfig_to_npimage\n",
        "fig, ax = plt.subplots()\n",
        "@jit\n",
        "def make_movie(sampleList):\n",
        "  n = 3\n",
        "  animation = VideoClip(make_frame, duration = n)\n",
        "  animation.ipython_display(fps = len(sampleList)//n, loop = True, autoplay = True)\n",
        "\n",
        "def make_frame(t):\n",
        "    t = int(t/len(sampleList))\n",
        "    ax.clear()\n",
        "    ax.imshow(sampleList[t])\n",
        "    return mplfig_to_npimage(fig)\n",
        "  \n",
        "make_movie(sampleList)\n",
        "plt.show()"
      ]
    },
    {
      "cell_type": "code",
      "execution_count": null,
      "metadata": {
        "collapsed": true,
        "id": "DvhwA7S5iEN4"
      },
      "outputs": [],
      "source": [
        "import matplotlib.pyplot as plt\n",
        "plt.plot(timeList,enList)\n",
        "plt.title(\"Energy vs Algorithmic Time\")\n",
        "count/total"
      ]
    },
    {
      "cell_type": "markdown",
      "metadata": {
        "id": "JgQor45rs5Ls"
      },
      "source": [
        "## **Data Preprocessing**"
      ]
    },
    {
      "cell_type": "code",
      "execution_count": null,
      "metadata": {
        "id": "6ddVJ3Avs4r9"
      },
      "outputs": [],
      "source": [
        "feature_matrix = np.array([features.flatten() for features in sampleList]) #Flatten lattice\n",
        "np.random.shuffle(feature_matrix) #\n",
        "end = 2 * len(feature_matrix) // 5\n",
        "feature_train_matrix = feature_matrix[:-1*end]\n",
        "feature_test_matrix = feature_matrix[-1*end:]\n",
        "tempList2 = np.array([[temp] for temp in tempList])\n",
        "tempList2_train = tempList2[:-1*end]\n",
        "tempList2_test = tempList2[-1*end:]\n",
        "Tc = 2.27\n",
        "y_train = tempList2_train.copy()\n",
        "y_train[tempList2_train>=Tc] = 1\n",
        "y_train[tempList2_train<Tc] = 0\n",
        "y_test = tempList2_test.copy()\n",
        "y_test[tempList2_test>=Tc] = 1\n",
        "y_test[tempList2_test<Tc] = 0\n",
        "import pandas as pd\n",
        "csv_train = pd.DataFrame(feature_train_matrix)\n",
        "csv_train[\"y_train\"] = y_train\n",
        "csv_train = csv_train.to_csv(\"csv_train.csv\")\n",
        "csv_test = pd.DataFrame(feature_test_matrix)\n",
        "csv_test[\"y_test\"] = y_test\n",
        "csv_test = csv_test.to_csv(\"csv_test.csv\")\n",
        "#from google.colab import files\n",
        "#files.download(\"csv_train.csv\")\n",
        "#files.download(\"csv_test.csv\")"
      ]
    },
    {
      "cell_type": "markdown",
      "metadata": {
        "id": "lgCnHuOXeUBp"
      },
      "source": [
        "## **Feedforward Neural Network for Lattice Phase Transitions**"
      ]
    },
    {
      "cell_type": "code",
      "execution_count": null,
      "metadata": {
        "id": "IEZAUIpBJ5gH"
      },
      "outputs": [],
      "source": [
        "import torch.nn as nn #Super-class for PyTorch NNs\n",
        "from torch.nn import Sigmoid\n",
        "from torch.optim import Adam\n",
        "import torch\n",
        "from torch import Tensor\n",
        "from torch import from_numpy\n",
        "class LinearModel(nn.Module): \n",
        "    def __init__(self): #Define struct\n",
        "        super(LinearModel, self).__init__()          \n",
        "        self.fc_1 = nn.Linear(grid_size*grid_size, 100)    \n",
        "        self.fc_2 = nn.Linear(100, 2)    \n",
        "            \n",
        "    def forward(self, X):    \n",
        "        #output = self.norm(X)\n",
        "        output = self.fc_1(X)\n",
        "        output = nn.Sigmoid()(output)\n",
        "        output = self.fc_2(output)\n",
        "        output = nn.Sigmoid()(output)\n",
        "        return output"
      ]
    },
    {
      "cell_type": "code",
      "execution_count": null,
      "metadata": {
        "id": "qqarYm8KzcqC"
      },
      "outputs": [],
      "source": [
        "EPOCHS = 100\n",
        "\n",
        "model = LinearModel()\n",
        "model.train()\n",
        "criterion = nn.CrossEntropyLoss()\n",
        "optimizer = Adam(model.parameters())\n",
        "y_train = torch.from_numpy(y_train)\n",
        "y_train = y_train.type(torch.LongTensor)\n",
        "feature_train_matrix = torch.from_numpy(feature_train_matrix)#.type(torch.DoubleTensor)\n",
        "#print(np.shape(feature_train_matrix))\n",
        "acc_list = []\n",
        "ep_li = []\n",
        "for ep in range(EPOCHS):\n",
        "  acc = 0\n",
        "  ep_li.append(ep)\n",
        "  for i in range(len(y_train)):\n",
        "    feature = feature_train_matrix[i:i+1].type(torch.FloatTensor)\n",
        "    optimizer.zero_grad()\n",
        "    out = model(feature)\n",
        "    label = y_train[i][0].unsqueeze(0)\n",
        "    #print(label,out)\n",
        "    if(label.item()==out.argmax().item()):\n",
        "      acc+=1\n",
        "    loss = criterion(out,label)\n",
        "    loss.backward()\n",
        "    optimizer.step()\n",
        "  print(\"EPOCH\",ep+1,\"loss: \",round(loss.item(),2))\n",
        "  print(\"Accuracy:\",acc/len(y_train))  \n",
        "  acc_list.append(acc/len(y_train))"
      ]
    },
    {
      "cell_type": "markdown",
      "metadata": {
        "id": "LnezwOKLW8GB"
      },
      "source": [
        "This is the plot of the accuracies vs epochs."
      ]
    },
    {
      "cell_type": "code",
      "execution_count": null,
      "metadata": {
        "id": "V1VxpwEGolnY"
      },
      "outputs": [],
      "source": [
        "plt.plot(ep_li, acc_list)"
      ]
    },
    {
      "cell_type": "markdown",
      "metadata": {
        "id": "9wsW5zTZXDCf"
      },
      "source": [
        "Here, we evaluate the accuracy of our PyTorch model on our test data."
      ]
    },
    {
      "cell_type": "code",
      "execution_count": null,
      "metadata": {
        "id": "ifTDctSOMeij"
      },
      "outputs": [],
      "source": [
        "y_test = torch.from_numpy(y_test)\n",
        "y_test = y_test.type(torch.LongTensor)\n",
        "feature_test_matrix = torch.from_numpy(feature_test_matrix)#.type(torch.DoubleTensor)\n",
        "model.eval()\n",
        "acc = 0\n",
        "for i in range(len(y_test)):\n",
        "    feature = feature_test_matrix[i:i+1].type(torch.FloatTensor)\n",
        "    out = model(feature)\n",
        "    label = y_test[i][0].unsqueeze(0)\n",
        "    #print(label,out)\n",
        "    if(label.item()==out.argmax().item()):\n",
        "      acc+=1\n",
        "    loss = criterion(out,label)\n",
        "#print(loss)\n",
        "print(acc/len(y_test))\n",
        "#csv_model = pd.DataFrame(model.state_dict())\n",
        "#csv_model = csv_model.to_csv(\"model1.csv\")\n",
        "#files.download(\"model1.csv\")\n",
        "#torch.save(model,\"./\")"
      ]
    },
    {
      "cell_type": "markdown",
      "metadata": {
        "id": "jjpLnS2wXLdp"
      },
      "source": [
        "Here, we save training and testing data in csvs as well as saving the PyTorch model."
      ]
    },
    {
      "cell_type": "code",
      "execution_count": null,
      "metadata": {
        "id": "bnJmD5Mze6W-"
      },
      "outputs": [],
      "source": [
        "from google.colab import files\n",
        "#files.download(\"csv_train.csv\")\n",
        "#files.download(\"csv_test.csv\")\n",
        "from google.colab import drive\n",
        "drive.mount('/content/gdrive')\n",
        "#torch.save(model.state_dict(), '/content/gdrive/My Drive/SCAI ML Phases of Matter Implementation/model1.994.pth')\n",
        "torch.save(model.state_dict(), '/content/gdrive/My Drive/SCAI ML Phases of Matter Implementation/model1.989.pth')"
      ]
    },
    {
      "cell_type": "markdown",
      "metadata": {
        "id": "BH3useq_lM1T"
      },
      "source": [
        "Here, we generate Triangular Lattices to evaluate our model against."
      ]
    },
    {
      "cell_type": "markdown",
      "metadata": {
        "id": "N1k8eoJiL4eI"
      },
      "source": [
        "Here, we generate a hexagonal filter."
      ]
    },
    {
      "cell_type": "code",
      "execution_count": null,
      "metadata": {
        "id": "6-McudEoth4e"
      },
      "outputs": [],
      "source": [
        "import matplotlib.pyplot as plt\n",
        "import numpy as np\n",
        "grid_size = 40\n",
        "grid = np.zeros((grid_size, grid_size)) > np.ones((grid_size, grid_size))\n",
        "grid_length = grid_size - grid_size // 3\n",
        "for i in range(grid_length//2):\n",
        "  for j in range((grid_size-1)//3 - i,2*(grid_size-1)//3 + i):\n",
        "    grid[i][j] = True\n",
        "for i in range(grid_length//2,grid_length):\n",
        "  k = i - grid_length//2\n",
        "  init_left = (grid_size - 1)//3 - grid_length//2 \n",
        "  init_right = 2*(grid_size - 1)//3 + grid_length//2\n",
        "  for j in range(init_left+ k,init_right - k):\n",
        "    grid[i][j] = True\n",
        "plt.figure(figsize=(grid_size,grid_size))\n",
        "plt.imshow(grid)\n",
        "plt.show()"
      ]
    },
    {
      "cell_type": "markdown",
      "metadata": {
        "id": "V3nDjSivXmqw"
      },
      "source": [
        "First, we generate triangular lattices, in the sense that it has a Triangular Hamiltonian. But we still generate square spins."
      ]
    },
    {
      "cell_type": "code",
      "execution_count": null,
      "metadata": {
        "id": "hqSTWwB9ZMQm"
      },
      "outputs": [],
      "source": [
        "from google.colab import files\n",
        "files.upload() #Here, we reload our PyTorch model so that we don't need to retrain it each time."
      ]
    },
    {
      "cell_type": "code",
      "execution_count": null,
      "metadata": {
        "id": "IszWE5TvXpF3"
      },
      "outputs": [],
      "source": [
        "@jit\n",
        "def get_energy(lattice):\n",
        "  en = 0\n",
        "  #Hexagonal Neighbor Addition\n",
        "  for i in range(len(lattice)):\n",
        "    for j in range(len(lattice[i])):\n",
        "      if(i>1 and j>2):\n",
        "        en += lattice[i][j] * lattice[i-1][j-1] * lattice[i][j-2]\n",
        "      if (i<len(lattice)-1 and j>2):\n",
        "        en += lattice[i][j] * lattice[i][j-2] * lattice[i+1][j-1]\n",
        "      if (i<len(lattice)-2 and j>1 and j<len(lattice)-1):\n",
        "        en += lattice[i][j] * lattice[i+1][j+1] * lattice[i+1][j-1]\n",
        "      if (i<len(lattice) - 2 and j<len(lattice) - 2):\n",
        "        en += lattice[i][j] * lattice[i+1][j+1] * lattice[i][j+2]\n",
        "      if (i>1 and j<len(lattice) - 2):\n",
        "        en += lattice[i][j] * lattice[i][j+2] * lattice[i-1][j+1]\n",
        "      if (i>1 and j > 1 and j<len(lattice) - 1):\n",
        "        en += lattice[i][j] * lattice[i-1][j+1] * lattice[i-1][j-1]\n",
        "  return en\n",
        "\n",
        "grid_size = 40\n",
        "starts = 10 #For each temperature. 10\n",
        "samples = 100 #The number of samples per start per temperature. 100\n",
        "temp_range = np.linspace(1,3.7,27) #The range of temperatures from 1 to 3.7\n",
        "therm_steps = 100 #100\n",
        "tempList = []\n",
        "sampleList = []\n",
        "k = (1.38064852)/(10**23)\n",
        "#b = 0.7 #This is our beta*J value. b = 1/kT\n",
        "count = 0\n",
        "total = 0\n",
        "loopCount = 0\n",
        "for temp in temp_range:\n",
        "  b = 1/(k*temp)\n",
        "  for start in range(starts):\n",
        "    for sample in range(samples):\n",
        "      loopCount+=1\n",
        "      start_lat = np.array([[np.random.exponential() for a in range(grid_size)] for count2 in range(grid_size)])\n",
        "      lattice = np.zeros((grid_size,grid_size))\n",
        "      lattice[start_lat>=0.4] = 1.0\n",
        "      lattice[start_lat<0.4] = -1.0\n",
        "      if list(lattice.flatten()).count(1.)/(grid_size**2) > 0.5:\n",
        "        count+=1#To ensure largely unbalanced  \n",
        "        total += 1\n",
        "      else:\n",
        "        total += 1\n",
        "      enList = []\n",
        "      timeList = []\n",
        "      time = 0  \n",
        "      for therm_step in range(therm_steps):\n",
        "        curr_en = get_energy(lattice)\n",
        "        flip_x,flip_y = (random.randint(0,grid_size-1),random.randint(0,grid_size-1))\n",
        "        state_v = lattice.copy()\n",
        "        state_v[flip_x][flip_y] *=-1\n",
        "        v_en = get_energy(state_v)\n",
        "        p_uv = 1 if v_en<curr_en else np.exp(-b*(v_en - curr_en))\n",
        "        timeList.append(time)\n",
        "        time += 1\n",
        "        if np.random.random()<p_uv:\n",
        "          lattice = state_v.copy()\n",
        "        enList.append(get_energy(lattice))\n",
        "      sampleList.append(lattice)\n",
        "      tempList.append(temp)"
      ]
    },
    {
      "cell_type": "code",
      "execution_count": null,
      "metadata": {
        "id": "FUheNJghYaAP"
      },
      "outputs": [],
      "source": [
        "sampleList[0]"
      ]
    },
    {
      "cell_type": "code",
      "execution_count": null,
      "metadata": {
        "id": "vTFrjTlmYdOo"
      },
      "outputs": [],
      "source": [
        "import matplotlib.pyplot as plt\n",
        "plt.plot(timeList,enList)\n",
        "plt.title(\"Energy vs Algorithmic Time\")\n",
        "count/total"
      ]
    },
    {
      "cell_type": "code",
      "execution_count": null,
      "metadata": {
        "id": "DMTODh6oYfrh"
      },
      "outputs": [],
      "source": [
        "feature_matrix = np.array([features.flatten() for features in sampleList]) #Flatten lattice\n",
        "np.random.shuffle(feature_matrix) #\n",
        "end = 2 * len(feature_matrix) // 5\n",
        "feature_train_matrix = feature_matrix[:-1*end]\n",
        "feature_test_matrix = feature_matrix[-1*end:]\n",
        "tempList2 = np.array([[temp] for temp in tempList])\n",
        "tempList2_train = tempList2[:-1*end]\n",
        "tempList2_test = tempList2[-1*end:]\n",
        "Tc = 2.27\n",
        "y_train = tempList2_train.copy()\n",
        "y_train[tempList2_train>=Tc] = 1\n",
        "y_train[tempList2_train<Tc] = 0\n",
        "y_test = tempList2_test.copy()\n",
        "y_test[tempList2_test>=Tc] = 1\n",
        "y_test[tempList2_test<Tc] = 0"
      ]
    },
    {
      "cell_type": "code",
      "execution_count": null,
      "metadata": {
        "colab": {
          "background_save": true
        },
        "id": "7C8z5lSlYjj5"
      },
      "outputs": [],
      "source": [
        "PATH = \"/content/gdrive/My Drive/SCAI ML Phases of Matter Implementation/model1.989.pth\"\n",
        "# Load\n",
        "model = LinearModel()\n",
        "model.load_state_dict(torch.load(PATH))\n",
        "y_test = torch.from_numpy(y_test)\n",
        "y_test = y_test.type(torch.LongTensor)\n",
        "feature_test_matrix = torch.from_numpy(feature_test_matrix)#.type(torch.DoubleTensor)\n",
        "model.eval()\n",
        "acc = 0\n",
        "for i in range(len(y_test)):\n",
        "    feature = feature_test_matrix[i:i+1].type(torch.FloatTensor)\n",
        "    out = model(feature)\n",
        "    label = y_test[i][0].unsqueeze(0)\n",
        "    #print(label,out)\n",
        "    if(label.item()==out.argmax().item()):\n",
        "      acc+=1\n",
        "    #loss = criterion(out,label)\n",
        "#print(loss)\n",
        "print(acc/len(y_test))"
      ]
    },
    {
      "cell_type": "markdown",
      "metadata": {
        "id": "Xd5Ho1EuX0kH"
      },
      "source": [
        "Then, we generate Triangular Lattices in a hexagonal shape, but allow to try to flip the zero spins. (Zero spins just represent nothing; we are using them to outline the hexagons)"
      ]
    },
    {
      "cell_type": "code",
      "execution_count": null,
      "metadata": {
        "colab": {
          "background_save": true
        },
        "id": "b_oXpENVYDhI"
      },
      "outputs": [],
      "source": [
        "@jit\n",
        "def get_energy(lattice):\n",
        "  en = 0\n",
        "  #Hexagonal Neighbor Addition\n",
        "  for i in range(len(lattice)):\n",
        "    for j in range(len(lattice[i])):\n",
        "      if(i>1 and j>2):\n",
        "        en += lattice[i][j] * lattice[i-1][j-1] * lattice[i][j-2]\n",
        "      elif (i<len(lattice)-1 and j>2):\n",
        "        en += lattice[i][j] * lattice[i][j-2] * lattice[i+1][j-1]\n",
        "      elif (i<len(lattice)-2 and j>1 and j<len(lattice)-1):\n",
        "        en += lattice[i][j] * lattice[i+1][j+1] * lattice[i+1][j-1]\n",
        "      elif (i<len(lattice) - 2 and j<len(lattice) - 2):\n",
        "        en += lattice[i][j] * lattice[i+1][j+1] * lattice[i][j+2]\n",
        "      elif (i>1 and j<len(lattice) - 2):\n",
        "        en += lattice[i][j] * lattice[i][j+2] * lattice[i-1][j+1]\n",
        "      elif (i>1 and j > 1 and j<len(lattice) - 1):\n",
        "        en += lattice[i][j] * lattice[i-1][j+1] * lattice[i-1][j-1]\n",
        "  return en\n",
        "\n",
        "starts = 10 #For each temperature. 10\n",
        "samples = 100 #The number of samples per start per temperature. 100\n",
        "temp_range = np.linspace(1,3.7,27) #The range of temperatures from 1 to 3.7\n",
        "therm_steps = 100 #100\n",
        "tempList = []\n",
        "sampleList = []\n",
        "k = (1.38064852)/(10**23)\n",
        "#b = 0.7 #This is our beta*J value. b = 1/kT\n",
        "count = 0\n",
        "total = 0\n",
        "loopCount = 0\n",
        "for temp in temp_range:\n",
        "  b = 1/(k*temp)\n",
        "  for start in range(starts):\n",
        "    for sample in range(samples):\n",
        "      loopCount+=1\n",
        "      start_lat = np.array([[np.random.exponential() for a in range(grid_size)] for count2 in range(grid_size)])\n",
        "      lattice = np.zeros((grid_size,grid_size))\n",
        "      lattice[start_lat>=0.4] = 1.0\n",
        "      lattice[start_lat<0.4] = -1.0\n",
        "      for i in range(grid_size):\n",
        "        for j in range(grid_size):\n",
        "          if not grid[i][j]:\n",
        "            lattice[i][j] = 0\n",
        "      if list(lattice.flatten()).count(1.)/(grid_size**2) > 0.5:\n",
        "        count+=1#To ensure largely unbalanced  \n",
        "        total += 1\n",
        "      else:\n",
        "        total += 1\n",
        "      enList = []\n",
        "      timeList = []\n",
        "      time = 0  \n",
        "      for therm_step in range(therm_steps):\n",
        "        curr_en = get_energy(lattice)\n",
        "        flip_x,flip_y = (random.randint(0,grid_size-1),random.randint(0,grid_size-1))\n",
        "        state_v = lattice.copy()\n",
        "        state_v[flip_x][flip_y] *=-1\n",
        "        v_en = get_energy(state_v)\n",
        "        p_uv = 1 if v_en<curr_en else np.exp(-b*(v_en - curr_en))\n",
        "        timeList.append(time)\n",
        "        time += 1\n",
        "        if np.random.random()<p_uv:\n",
        "          lattice = state_v.copy()\n",
        "        enList.append(get_energy(lattice))\n",
        "      sampleList.append(lattice)\n",
        "      tempList.append(temp)"
      ]
    },
    {
      "cell_type": "code",
      "execution_count": null,
      "metadata": {
        "colab": {
          "background_save": true
        },
        "id": "-zxX67DMYmWx"
      },
      "outputs": [],
      "source": [
        "sampleList[0]"
      ]
    },
    {
      "cell_type": "code",
      "execution_count": null,
      "metadata": {
        "colab": {
          "background_save": true
        },
        "id": "P3N_jXUHYojX"
      },
      "outputs": [],
      "source": [
        "import matplotlib.pyplot as plt\n",
        "plt.plot(timeList,enList)\n",
        "plt.title(\"Energy vs Algorithmic Time\")\n",
        "count/total"
      ]
    },
    {
      "cell_type": "code",
      "execution_count": null,
      "metadata": {
        "colab": {
          "background_save": true
        },
        "id": "jEprwjIeYrkH"
      },
      "outputs": [],
      "source": [
        "feature_matrix = np.array([features.flatten() for features in sampleList]) #Flatten lattice\n",
        "np.random.shuffle(feature_matrix) #\n",
        "end = 2 * len(feature_matrix) // 5\n",
        "feature_train_matrix = feature_matrix[:-1*end]\n",
        "feature_test_matrix = feature_matrix[-1*end:]\n",
        "tempList2 = np.array([[temp] for temp in tempList])\n",
        "tempList2_train = tempList2[:-1*end]\n",
        "tempList2_test = tempList2[-1*end:]\n",
        "Tc = 2.27\n",
        "y_train = tempList2_train.copy()\n",
        "y_train[tempList2_train>=Tc] = 1\n",
        "y_train[tempList2_train<Tc] = 0\n",
        "y_test = tempList2_test.copy()\n",
        "y_test[tempList2_test>=Tc] = 1\n",
        "y_test[tempList2_test<Tc] = 0"
      ]
    },
    {
      "cell_type": "code",
      "execution_count": null,
      "metadata": {
        "colab": {
          "background_save": true
        },
        "id": "xG4QameOYuAW"
      },
      "outputs": [],
      "source": [
        "PATH = \"/content/gdrive/My Drive/SCAI ML Phases of Matter Implementation/model1.989.pth\"\n",
        "# Load\n",
        "model = LinearModel()\n",
        "model.load_state_dict(torch.load(PATH))\n",
        "y_test = torch.from_numpy(y_test)\n",
        "y_test = y_test.type(torch.LongTensor)\n",
        "feature_test_matrix = torch.from_numpy(feature_test_matrix)#.type(torch.DoubleTensor)\n",
        "model.eval()\n",
        "acc = 0\n",
        "for i in range(len(y_test)):\n",
        "    feature = feature_test_matrix[i:i+1].type(torch.FloatTensor)\n",
        "    out = model(feature)\n",
        "    label = y_test[i][0].unsqueeze(0)\n",
        "    #print(label,out)\n",
        "    if(label.item()==out.argmax().item()):\n",
        "      acc+=1\n",
        "    #loss = criterion(out,label)\n",
        "#print(loss)\n",
        "print(acc/len(y_test))"
      ]
    },
    {
      "cell_type": "markdown",
      "metadata": {
        "id": "V0wRWvqSTx6h"
      },
      "source": [
        "Now we generate Triangular Lattices, in a hexagonal shape. (The other elements in the lattice are 0s, no spins)"
      ]
    },
    {
      "cell_type": "code",
      "execution_count": null,
      "metadata": {
        "colab": {
          "background_save": true
        },
        "id": "uPklBpLI_Gc8"
      },
      "outputs": [],
      "source": [
        "@jit\n",
        "def get_energy(lattice):\n",
        "  en = 0\n",
        "  #Hexagonal Neighbor Addition\n",
        "  for i in range(len(lattice)):\n",
        "    for j in range(len(lattice[i])):\n",
        "      if(i>1 and j>2):\n",
        "        en += lattice[i][j] * lattice[i-1][j-1] * lattice[i][j-2]\n",
        "      if (i<len(lattice)-1 and j>2):\n",
        "        en += lattice[i][j] * lattice[i][j-2] * lattice[i+1][j-1]\n",
        "      if (i<len(lattice)-2 and j>1 and j<len(lattice)-1):\n",
        "        en += lattice[i][j] * lattice[i+1][j+1] * lattice[i+1][j-1]\n",
        "      if (i<len(lattice) - 2 and j<len(lattice) - 2):\n",
        "        en += lattice[i][j] * lattice[i+1][j+1] * lattice[i][j+2]\n",
        "      if (i>1 and j<len(lattice) - 2):\n",
        "        en += lattice[i][j] * lattice[i][j+2] * lattice[i-1][j+1]\n",
        "      if (i>1 and j > 1 and j<len(lattice) - 1):\n",
        "        en += lattice[i][j] * lattice[i-1][j+1] * lattice[i-1][j-1]\n",
        "  return en\n",
        "\n",
        "starts = 10 #For each temperature. 10\n",
        "samples = 100 #The number of samples per start per temperature. 100\n",
        "temp_range = np.linspace(1,3.7,27) #The range of temperatures from 1 to 3.7\n",
        "therm_steps = 100 #100\n",
        "tempList = []\n",
        "sampleList = []\n",
        "k = (1.38064852)/(10**23)\n",
        "#b = 0.7 #This is our beta*J value. b = 1/kT\n",
        "count = 0\n",
        "total = 0\n",
        "loopCount = 0\n",
        "for temp in temp_range:\n",
        "  b = 1/(k*temp)\n",
        "  for start in range(starts):\n",
        "    for sample in range(samples):\n",
        "      loopCount+=1\n",
        "      start_lat = np.array([[np.random.exponential() for a in range(grid_size)] for count2 in range(grid_size)])\n",
        "      lattice = np.zeros((grid_size,grid_size))\n",
        "      lattice[start_lat>=0.4] = 1.0\n",
        "      lattice[start_lat<0.4] = -1.0\n",
        "      for i in range(grid_size):\n",
        "        for j in range(grid_size):\n",
        "          if not grid[i][j]:\n",
        "            lattice[i][j] = 0\n",
        "      if list(lattice.flatten()).count(1.)/(grid_size**2) > 0.5:\n",
        "        count+=1#To ensure largely unbalanced  \n",
        "        total += 1\n",
        "      else:\n",
        "        total += 1\n",
        "      enList = []\n",
        "      timeList = []\n",
        "      time = 0  \n",
        "      for therm_step in range(therm_steps):\n",
        "        curr_en = get_energy(lattice)\n",
        "        flip_x,flip_y = (random.randint(0,grid_size-1),random.randint(0,grid_size-1))\n",
        "        while lattice[flip_x][flip_y]==0:\n",
        "          flip_x,flip_y = (random.randint(0,grid_size-1),random.randint(0,grid_size-1))\n",
        "        state_v = lattice.copy()\n",
        "        state_v[flip_x][flip_y] *=-1\n",
        "        v_en = get_energy(state_v)\n",
        "        p_uv = 1 if v_en<curr_en else np.exp(-b*(v_en - curr_en))\n",
        "        timeList.append(time)\n",
        "        time += 1\n",
        "        if np.random.random()<p_uv:\n",
        "          lattice = state_v.copy()\n",
        "        enList.append(get_energy(lattice))\n",
        "      sampleList.append(lattice)\n",
        "      tempList.append(temp)"
      ]
    },
    {
      "cell_type": "code",
      "execution_count": null,
      "metadata": {
        "colab": {
          "background_save": true
        },
        "id": "9hDjnnK1FzXM"
      },
      "outputs": [],
      "source": [
        "sampleList[0]"
      ]
    },
    {
      "cell_type": "code",
      "execution_count": null,
      "metadata": {
        "colab": {
          "background_save": true
        },
        "id": "UhYFYRI7G7KW"
      },
      "outputs": [],
      "source": [
        "import matplotlib.pyplot as plt\n",
        "plt.plot(timeList,enList)\n",
        "plt.title(\"Energy vs Algorithmic Time\")\n",
        "count/total"
      ]
    },
    {
      "cell_type": "code",
      "execution_count": null,
      "metadata": {
        "colab": {
          "background_save": true
        },
        "id": "_TnbJvQoHBKS"
      },
      "outputs": [],
      "source": [
        "feature_matrix = np.array([features.flatten() for features in sampleList]) #Flatten lattice\n",
        "np.random.shuffle(feature_matrix) #\n",
        "end = 2 * len(feature_matrix) // 5\n",
        "feature_train_matrix = feature_matrix[:-1*end]\n",
        "feature_test_matrix = feature_matrix[-1*end:]\n",
        "tempList2 = np.array([[temp] for temp in tempList])\n",
        "tempList2_train = tempList2[:-1*end]\n",
        "tempList2_test = tempList2[-1*end:]\n",
        "Tc = 2.27\n",
        "y_train = tempList2_train.copy()\n",
        "y_train[tempList2_train>=Tc] = 1\n",
        "y_train[tempList2_train<Tc] = 0\n",
        "y_test = tempList2_test.copy()\n",
        "y_test[tempList2_test>=Tc] = 1\n",
        "y_test[tempList2_test<Tc] = 0"
      ]
    },
    {
      "cell_type": "code",
      "execution_count": null,
      "metadata": {
        "colab": {
          "background_save": true
        },
        "id": "SeUI2fLkIHcx"
      },
      "outputs": [],
      "source": [
        "PATH = \"/content/gdrive/My Drive/SCAI ML Phases of Matter Implementation/model1.989.pth\"\n",
        "# Load\n",
        "model = LinearModel()\n",
        "model.load_state_dict(torch.load(PATH))\n",
        "y_test = torch.from_numpy(y_test)\n",
        "y_test = y_test.type(torch.LongTensor)\n",
        "feature_test_matrix = torch.from_numpy(feature_test_matrix)#.type(torch.DoubleTensor)\n",
        "model.eval()\n",
        "acc = 0\n",
        "for i in range(len(y_test)):\n",
        "    feature = feature_test_matrix[i:i+1].type(torch.FloatTensor)\n",
        "    out = model(feature)\n",
        "    label = y_test[i][0].unsqueeze(0)\n",
        "    #print(label,out)\n",
        "    if(label.item()==out.argmax().item()):\n",
        "      acc+=1\n",
        "    #loss = criterion(out,label)\n",
        "#print(loss)\n",
        "print(acc/len(y_test))"
      ]
    },
    {
      "cell_type": "markdown",
      "metadata": {
        "id": "KIzQXCh1oYmx"
      },
      "source": [
        "## **Triangular Lattice Regeneration**"
      ]
    },
    {
      "cell_type": "markdown",
      "metadata": {
        "id": "n1oWGgEFodJy"
      },
      "source": [
        "Here, we try to generate data on square lattices."
      ]
    },
    {
      "cell_type": "code",
      "execution_count": null,
      "metadata": {
        "colab": {
          "background_save": true
        },
        "id": "OHWC1fPnpNkr"
      },
      "outputs": [],
      "source": [
        "#Generate random grids of 1s and -1s, making sure they are unbalanced. Then calculate the energy of the current state. \n",
        "#Then pick a random particle in the lattice, and flip its sign. When you flip the spin, you have to calculate the energy of this new state again. \n",
        "#If it is less than the current energy, switch curr state to new state. If greater, apply the probability e^-(beta)(Ev-E_mu) = e^-(beta)(J)(summation of the product between the \n",
        "#flipped particle and its neighbors).\n",
        "#Sample for many different temps\n",
        "import matplotlib.pyplot as plt\n",
        "import matplotlib.animation as animation\n",
        "import matplotlib.cm as cm\n",
        "@jit\n",
        "def get_energy(lattice):\n",
        "  en = 0\n",
        "  #Brute Neighbor Addition\n",
        "  for i in range(len(lattice)):\n",
        "    for j in range(len(lattice)):\n",
        "      if i>0:\n",
        "        en -= lattice[i][j]*lattice[i-1][j]\n",
        "      if i<len(lattice)-1:\n",
        "        en -= lattice[i][j]*lattice[i+1][j]\n",
        "      if j>0:\n",
        "        en -= lattice[i][j]*lattice[i][j-1]\n",
        "      if j<len(lattice)-1:\n",
        "        en -= lattice[i][j] * lattice[i][j+1]\n",
        "  return en\n",
        "\n",
        "grid_size = 2 #The grid size.\n",
        "starts = 1 #For each temperature. 10\n",
        "samples = 1 #The number of samples per start per temperature. 100\n",
        "temp_range = np.linspace(1,3.7,27) #The range of temperatures from 1 to 3.7\n",
        "therm_steps = 10 #100\n",
        "tempList = []\n",
        "sampleList = []\n",
        "imList = []\n",
        "k = (1.38064852)/(10**23)\n",
        "#b = 0.7 #This is our beta*J value. b = 1/kT\n",
        "count = 0\n",
        "total = 0\n",
        "loopCount = 0\n",
        "fig = plt.figure(figsize=(grid_size,grid_size))\n",
        "for temp in temp_range:\n",
        "  b = 1/(k*temp)\n",
        "  for start in range(starts):\n",
        "    for sample in range(samples):\n",
        "      loopCount+=1\n",
        "      start_lat = np.array([[np.random.exponential() for a in range(grid_size)] for count2 in range(grid_size)])\n",
        "      lattice = np.zeros((grid_size,grid_size))\n",
        "      lattice[start_lat>=0.4] = 1.0\n",
        "      lattice[start_lat<0.4] = -1.0\n",
        "      if list(lattice.flatten()).count(1.)/(grid_size**2) > 0.5:\n",
        "        count+=1#To ensure largely unbalanced  \n",
        "        total += 1\n",
        "      else:\n",
        "        total += 1\n",
        "      enList = []\n",
        "      timeList = []\n",
        "      time = 0  \n",
        "      for therm_step in range(therm_steps):\n",
        "        curr_en = get_energy(lattice)\n",
        "        flip_x,flip_y = (random.randint(0,grid_size-1),random.randint(0,grid_size-1))\n",
        "        state_v = lattice.copy()\n",
        "        state_v[flip_x][flip_y] *=-1\n",
        "        v_en = get_energy(state_v)\n",
        "        p_uv = 1 if v_en<curr_en else np.exp(-b*(v_en - curr_en))\n",
        "        timeList.append(time)\n",
        "        time += 1\n",
        "        if np.random.random()<p_uv:\n",
        "          lattice = state_v.copy()\n",
        "        enList.append(get_energy(lattice))\n",
        "      sampleList.append(lattice)\n",
        "      frames.append([plt.imshow(img[i], cmap=cm.Greys_r,animated=True)])\n",
        "      plt.imshow(lattice)\n",
        "      tempList.append(temp)\n",
        "len(sampleList), loopCount\n",
        "fig = plt.figure()\n",
        "ani = animation.ArtistAnimation(fig, imList, interval=50, blit=True,\n",
        "                                repeat_delay=1000)"
      ]
    },
    {
      "cell_type": "markdown",
      "metadata": {
        "id": "76dZr4y9sUBm"
      },
      "source": [
        "## **Square Ice Model:**"
      ]
    },
    {
      "cell_type": "markdown",
      "metadata": {
        "id": "bo88D361opBI"
      },
      "source": [
        "## **Ising Lattice Gauge Theory:**"
      ]
    },
    {
      "cell_type": "code",
      "execution_count": null,
      "metadata": {
        "colab": {
          "background_save": true
        },
        "id": "jtgX819ZtznX"
      },
      "outputs": [],
      "source": [
        "import matplotlib.pyplot as plt\n",
        "import matplotlib.animation as animation\n",
        "import matplotlib.cm as cm\n",
        "!pip install tqdm\n",
        "from tqdm import tqdm\n",
        "@jit\n",
        "def get_energy(lattice):\n",
        "  en = 0\n",
        "  #For each plaquette in lattice, add the product of its vertices' spins to en\n",
        "  plaquettes = gen_plaquette(lattice) \n",
        "  for p in plaquettes: #[[1,-1],[-1,1]]\n",
        "    en += p[0][0] * p[0][1] * p[1][0] * p[1][1]\n",
        "  return en\n",
        "\n",
        "@jit\n",
        "def gen_plaquette(lattice):\n",
        "  plaqs = []\n",
        "  for i in range(len(lattice) - 2):\n",
        "    for j in range(len(lattice[i]) - 2):\n",
        "      plaqs.append(lattice[i:i+2, j:j+2])\n",
        "  return plaqs\n",
        "\n",
        "@jit\n",
        "def get_energy_2(lattice):\n",
        "  en = 0\n",
        "  for i in range(len(lattice) - 2):\n",
        "    for j in range(len(lattice)-2):\n",
        "      en += lattice[i][j] * lattice[i + 1][j] * lattice[i][j + 1] * lattice[i + 1][j + 1]\n",
        "  return en\n",
        "\n",
        "grid_size = 16 #The grid size.\n",
        "starts = 10 #For each temperature. 10\n",
        "samples = 100 #The number of samples per start per temperature. 100\n",
        "temp_range = np.linspace(1,3.7,27) #The range of temperatures from 1 to 3.7\n",
        "therm_steps = 100 #100\n",
        "tempList = []\n",
        "sampleList = []\n",
        "frames = []\n",
        "imList = []\n",
        "k = (1.38064852)/(10**23)\n",
        "#b = 0.7 #This is our beta*J value. b = 1/kT\n",
        "count = 0\n",
        "total = 0\n",
        "loopCount = 0\n",
        "fig = plt.figure(figsize=(grid_size,grid_size))\n",
        "for temp_i in tqdm(range(len(temp_range))):\n",
        "  temp = temp_range[temp_i]\n",
        "  b = 1/(k*temp)\n",
        "  for start in range(starts):\n",
        "    for sample in range(samples):\n",
        "      loopCount+=1\n",
        "      start_lat = np.array([[np.random.exponential() for a in range(grid_size)] for count2 in range(grid_size)])\n",
        "      lattice = np.zeros((grid_size,grid_size))\n",
        "      lattice[start_lat>=0.4] = 1.0\n",
        "      lattice[start_lat<0.4] = -1.0\n",
        "      if list(lattice.flatten()).count(1.)/(grid_size**2) > 0.5:\n",
        "        count+=1#To ensure largely unbalanced  \n",
        "        total += 1\n",
        "      else:\n",
        "        total += 1\n",
        "      enList = []\n",
        "      timeList = []\n",
        "      time = 0  \n",
        "      for therm_step in range(therm_steps):\n",
        "        curr_en = get_energy_2(lattice)\n",
        "        flip_x,flip_y = (random.randint(0,grid_size-1),random.randint(0,grid_size-1))\n",
        "        state_v = lattice.copy()\n",
        "        state_v[flip_x][flip_y] *=-1\n",
        "        v_en = get_energy_2(state_v)\n",
        "        p_uv = 1 if v_en<curr_en else np.exp(-b*(v_en - curr_en))\n",
        "        timeList.append(time)\n",
        "        time += 1\n",
        "        if np.random.random()<p_uv:\n",
        "          lattice = state_v.copy()\n",
        "        enList.append(get_energy(lattice))\n",
        "      if random.random()>0.5:\n",
        "        sampleList.append(lattice)\n",
        "      tempList.append(temp)"
      ]
    },
    {
      "cell_type": "code",
      "execution_count": null,
      "metadata": {
        "colab": {
          "background_save": true
        },
        "id": "ElaitshwsrDA"
      },
      "outputs": [],
      "source": [
        "import cv2\n",
        "duration = 60\n",
        "fps = len(sampleList)//duration\n",
        "out = cv2.VideoWriter('gauge_lattice.mp4', cv2.VideoWriter_fourcc(*'mp4v'), fps, (grid_size, grid_size), False)\n",
        "for i in range(len(sampleList)):\n",
        "  frame = np.uint8(255 * sampleList[i])\n",
        "  out.write(frame)\n",
        "out.release()"
      ]
    },
    {
      "cell_type": "code",
      "execution_count": null,
      "metadata": {
        "colab": {
          "background_save": true
        },
        "id": "znqAR18DtNNF"
      },
      "outputs": [],
      "source": [
        "from google.colab import files\n",
        "files.download('gauge_lattice.mp4')"
      ]
    },
    {
      "cell_type": "markdown",
      "metadata": {
        "id": "1OnHOZJhr2Kp"
      },
      "source": [
        "Here, a Convolutional Neural Network on the Ising Gauge Theory Lattice, ideally to produce near 100% accuracy."
      ]
    },
    {
      "cell_type": "markdown",
      "metadata": {
        "id": "QvX2eRrNEVw2"
      },
      "source": [
        "Preprocessing: Here, we convert the 16x16 lattices generated into a tensor of shape 16x16x2, with each of the two values doing one-hot encoding of each spin.\n"
      ]
    },
    {
      "cell_type": "code",
      "execution_count": null,
      "metadata": {
        "colab": {
          "background_save": true
        },
        "id": "dIykvAZt-m5k"
      },
      "outputs": [],
      "source": [
        "import torch\n",
        "pos_mat = lattice>0\n",
        "neg_mat = lattice<0\n",
        "total_li = []\n",
        "def bool_bin(bool):\n",
        "  return 1 if bool else 0\n",
        "for i in range(len(pos_mat)):\n",
        "  total_li.append([])\n",
        "  for j in range(len(pos_mat[i])):\n",
        "    total_li[i].append([bool_bin(pos_mat[i][j]), bool_bin(neg_mat[i][j])])\n",
        "total_np = np.array(total_li)"
      ]
    },
    {
      "cell_type": "code",
      "execution_count": null,
      "metadata": {
        "colab": {
          "background_save": true
        },
        "id": "m0ntTll9BMOA"
      },
      "outputs": [],
      "source": [
        ""
      ]
    },
    {
      "cell_type": "markdown",
      "metadata": {
        "id": "8Sbp1keJGrsF"
      },
      "source": [
        "## **Generating New Test Sets: **"
      ]
    },
    {
      "cell_type": "code",
      "execution_count": null,
      "metadata": {
        "colab": {
          "background_save": true
        },
        "id": "zDnDYUgNDEcR"
      },
      "outputs": [],
      "source": [
        ""
      ]
    }
  ],
  "metadata": {
    "colab": {
      "collapsed_sections": [],
      "name": "Machine Learning Phase Transitions - Final.ipynb",
      "provenance": [],
      "authorship_tag": "ABX9TyPOstxLcXG20gd+vS+l4HkN",
      "include_colab_link": true
    },
    "kernelspec": {
      "display_name": "Python 3",
      "name": "python3"
    },
    "language_info": {
      "name": "python"
    }
  },
  "nbformat": 4,
  "nbformat_minor": 0
}