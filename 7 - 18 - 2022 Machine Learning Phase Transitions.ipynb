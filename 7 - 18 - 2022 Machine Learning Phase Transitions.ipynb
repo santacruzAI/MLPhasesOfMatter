{
  "cells": [
    {
      "cell_type": "markdown",
      "metadata": {
        "id": "view-in-github",
        "colab_type": "text"
      },
      "source": [
        "<a href=\"https://colab.research.google.com/github/santacruzAI/MLPhasesOfMatter/blob/main/7%20-%2018%20-%202022%20Machine%20Learning%20Phase%20Transitions.ipynb\" target=\"_parent\"><img src=\"https://colab.research.google.com/assets/colab-badge.svg\" alt=\"Open In Colab\"/></a>"
      ]
    },
    {
      "cell_type": "markdown",
      "source": [
        "#**FOR WORKING PURPOSES ONLY:**\n",
        "\n",
        "Plan:\n",
        "\n",
        "**1. Generate Square Lattice Data**\n",
        "2. Create a Fully-Conected Neural Network, achieving 94% accuracy on 10x10 grids.\n",
        "3. Create a Fully Connected Neural Network, achieving 99% accuracy on 40x40 grids.\n",
        "4. Create the mentioned Toy Model, with analytically determined parameters.\n",
        "5. Generate Triangular Lattice Data (L = 30) *(Side Note: They don't seem to train a separate model for each L)*\n",
        "6. If necessary, train a Fully Connected Neural Network on 30x30 square lattice data.\n",
        "7. Test out Fully Connected Neural Network on the Triangular Lattice Data.\n",
        "**8. Generate Square Ice Lattice Data (2 x 16 x 16).**\n",
        "9. Train Fully Connected Neural Network on Square Ice Lattice Data (100 hidden units..)\n",
        "**10. Generate Ising Lattice Gauge Theory Lattices (16 x 16 x 2).**\n",
        "11. Train a Fully-Connected Neural Network on this data, show it only attains 50% accuracy.\n",
        "12. Train a ConvNet on this data, show it attains nearly 100% accuracy.\n",
        "13. Modify the testing set to violate the closed-loop structure.\n",
        "14. Test the ConvNet on this, demonstrate results are still high.\n",
        "15. Modify the testing set to violate locality constraints.\n",
        "16. Test the ConvNet on this, demonstrate results are lower.\n",
        "17. Discuss future extensions, and eventually start implementing them.\n"
      ],
      "metadata": {
        "id": "VSCj8sCX86_3"
      }
    },
    {
      "cell_type": "code",
      "execution_count": 3,
      "metadata": {
        "id": "Inezb3UQhrCt",
        "colab": {
          "base_uri": "https://localhost:8080/"
        },
        "outputId": "bee09f66-9994-4be2-abb0-1c72e776d4b9"
      },
      "outputs": [
        {
          "output_type": "stream",
          "name": "stdout",
          "text": [
            "Looking in indexes: https://pypi.org/simple, https://us-python.pkg.dev/colab-wheels/public/simple/\n",
            "Requirement already satisfied: numba in /usr/local/lib/python3.7/dist-packages (0.51.2)\n",
            "Requirement already satisfied: numpy>=1.15 in /usr/local/lib/python3.7/dist-packages (from numba) (1.21.6)\n",
            "Requirement already satisfied: llvmlite<0.35,>=0.34.0.dev0 in /usr/local/lib/python3.7/dist-packages (from numba) (0.34.0)\n",
            "Requirement already satisfied: setuptools in /usr/local/lib/python3.7/dist-packages (from numba) (57.4.0)\n",
            "Looking in indexes: https://pypi.org/simple, https://us-python.pkg.dev/colab-wheels/public/simple/\n",
            "Requirement already satisfied: tqdm in /usr/local/lib/python3.7/dist-packages (4.64.0)\n",
            "Looking in indexes: https://pypi.org/simple, https://us-python.pkg.dev/colab-wheels/public/simple/\n",
            "Collecting ray\n",
            "  Downloading ray-1.13.0-cp37-cp37m-manylinux2014_x86_64.whl (54.5 MB)\n",
            "\u001b[K     |████████████████████████████████| 54.5 MB 146 kB/s \n",
            "\u001b[?25hCollecting aiosignal\n",
            "  Downloading aiosignal-1.2.0-py3-none-any.whl (8.2 kB)\n",
            "Requirement already satisfied: requests in /usr/local/lib/python3.7/dist-packages (from ray) (2.23.0)\n",
            "Requirement already satisfied: attrs in /usr/local/lib/python3.7/dist-packages (from ray) (21.4.0)\n",
            "Collecting virtualenv\n",
            "  Downloading virtualenv-20.15.1-py2.py3-none-any.whl (10.1 MB)\n",
            "\u001b[K     |████████████████████████████████| 10.1 MB 36.7 MB/s \n",
            "\u001b[?25hRequirement already satisfied: numpy>=1.16 in /usr/local/lib/python3.7/dist-packages (from ray) (1.21.6)\n",
            "Requirement already satisfied: pyyaml in /usr/local/lib/python3.7/dist-packages (from ray) (3.13)\n",
            "Requirement already satisfied: jsonschema in /usr/local/lib/python3.7/dist-packages (from ray) (4.3.3)\n",
            "Requirement already satisfied: protobuf<4.0.0,>=3.15.3 in /usr/local/lib/python3.7/dist-packages (from ray) (3.17.3)\n",
            "Requirement already satisfied: msgpack<2.0.0,>=1.0.0 in /usr/local/lib/python3.7/dist-packages (from ray) (1.0.4)\n",
            "Collecting grpcio<=1.43.0,>=1.28.1\n",
            "  Downloading grpcio-1.43.0-cp37-cp37m-manylinux_2_17_x86_64.manylinux2014_x86_64.whl (4.1 MB)\n",
            "\u001b[K     |████████████████████████████████| 4.1 MB 53.5 MB/s \n",
            "\u001b[?25hRequirement already satisfied: filelock in /usr/local/lib/python3.7/dist-packages (from ray) (3.7.1)\n",
            "Collecting frozenlist\n",
            "  Downloading frozenlist-1.3.0-cp37-cp37m-manylinux_2_5_x86_64.manylinux1_x86_64.manylinux_2_17_x86_64.manylinux2014_x86_64.whl (144 kB)\n",
            "\u001b[K     |████████████████████████████████| 144 kB 44.0 MB/s \n",
            "\u001b[?25hRequirement already satisfied: click<=8.0.4,>=7.0 in /usr/local/lib/python3.7/dist-packages (from ray) (7.1.2)\n",
            "Requirement already satisfied: six>=1.5.2 in /usr/local/lib/python3.7/dist-packages (from grpcio<=1.43.0,>=1.28.1->ray) (1.15.0)\n",
            "Requirement already satisfied: importlib-resources>=1.4.0 in /usr/local/lib/python3.7/dist-packages (from jsonschema->ray) (5.8.0)\n",
            "Requirement already satisfied: pyrsistent!=0.17.0,!=0.17.1,!=0.17.2,>=0.14.0 in /usr/local/lib/python3.7/dist-packages (from jsonschema->ray) (0.18.1)\n",
            "Requirement already satisfied: importlib-metadata in /usr/local/lib/python3.7/dist-packages (from jsonschema->ray) (4.12.0)\n",
            "Requirement already satisfied: typing-extensions in /usr/local/lib/python3.7/dist-packages (from jsonschema->ray) (4.1.1)\n",
            "Requirement already satisfied: zipp>=3.1.0 in /usr/local/lib/python3.7/dist-packages (from importlib-resources>=1.4.0->jsonschema->ray) (3.8.0)\n",
            "Requirement already satisfied: chardet<4,>=3.0.2 in /usr/local/lib/python3.7/dist-packages (from requests->ray) (3.0.4)\n",
            "Requirement already satisfied: idna<3,>=2.5 in /usr/local/lib/python3.7/dist-packages (from requests->ray) (2.10)\n",
            "Requirement already satisfied: certifi>=2017.4.17 in /usr/local/lib/python3.7/dist-packages (from requests->ray) (2022.6.15)\n",
            "Requirement already satisfied: urllib3!=1.25.0,!=1.25.1,<1.26,>=1.21.1 in /usr/local/lib/python3.7/dist-packages (from requests->ray) (1.24.3)\n",
            "Collecting distlib<1,>=0.3.1\n",
            "  Downloading distlib-0.3.5-py2.py3-none-any.whl (466 kB)\n",
            "\u001b[K     |████████████████████████████████| 466 kB 35.5 MB/s \n",
            "\u001b[?25hCollecting platformdirs<3,>=2\n",
            "  Downloading platformdirs-2.5.2-py3-none-any.whl (14 kB)\n",
            "Installing collected packages: platformdirs, frozenlist, distlib, virtualenv, grpcio, aiosignal, ray\n",
            "  Attempting uninstall: grpcio\n",
            "    Found existing installation: grpcio 1.47.0\n",
            "    Uninstalling grpcio-1.47.0:\n",
            "      Successfully uninstalled grpcio-1.47.0\n",
            "Successfully installed aiosignal-1.2.0 distlib-0.3.5 frozenlist-1.3.0 grpcio-1.43.0 platformdirs-2.5.2 ray-1.13.0 virtualenv-20.15.1\n"
          ]
        }
      ],
      "source": [
        "import numpy as np\n",
        "import random\n",
        "!pip install numba\n",
        "from numba import jit\n",
        "import matplotlib.pyplot as plt\n",
        "!pip install tqdm\n",
        "!pip install ray\n",
        "from tqdm import tqdm\n",
        "import pandas as pd"
      ]
    },
    {
      "cell_type": "markdown",
      "metadata": {
        "id": "Ipw8nBYofz_o"
      },
      "source": [
        "# **Data Generation**"
      ]
    },
    {
      "cell_type": "code",
      "source": [
        "np.random.seed(seed = 3)"
      ],
      "metadata": {
        "id": "WMdepwa2Tcwo"
      },
      "execution_count": 4,
      "outputs": []
    },
    {
      "cell_type": "markdown",
      "source": [
        "Here, we will perform the Metropolis-Hastings Algorithm to generate square lattices."
      ],
      "metadata": {
        "id": "wYYKm9HkKzDR"
      }
    },
    {
      "cell_type": "markdown",
      "source": [
        "First, we create this function to calculate the square Hamiltonian for each lattice."
      ],
      "metadata": {
        "id": "ZmOriijsLPRo"
      }
    },
    {
      "cell_type": "code",
      "source": [
        "@jit\n",
        "def ferr_square_energy(lattice):\n",
        "  en = 0\n",
        "  for i in range(len(lattice)):\n",
        "    for j in range(len(lattice)):\n",
        "      if i>0:\n",
        "        en += lattice[i][j]*lattice[i-1][j]\n",
        "      if i<len(lattice)-1:\n",
        "        en += lattice[i][j]*lattice[i+1][j]\n",
        "      if j>0:\n",
        "        en += lattice[i][j]*lattice[i][j-1]\n",
        "      if j<len(lattice)-1:\n",
        "        en += lattice[i][j] * lattice[i][j+1]\n",
        "  return en"
      ],
      "metadata": {
        "id": "HFhQQQf9Ls0A"
      },
      "execution_count": null,
      "outputs": []
    },
    {
      "cell_type": "markdown",
      "source": [
        "Here, we initialize our constants."
      ],
      "metadata": {
        "id": "UD4OEoGlL6gB"
      }
    },
    {
      "cell_type": "code",
      "source": [
        "k = (1.38064852)/(10**23) #"
      ],
      "metadata": {
        "id": "XxCvE_v_MCEY"
      },
      "execution_count": 5,
      "outputs": []
    },
    {
      "cell_type": "markdown",
      "source": [
        "Now, we create a function to execute the Metropolis-Hastings Algorithm and collect samples."
      ],
      "metadata": {
        "id": "ZYL8OgUnQvZA"
      }
    },
    {
      "cell_type": "markdown",
      "source": [
        "Change to try where the edge sites as having the other edge sites have them as neighbors."
      ],
      "metadata": {
        "id": "MmcPfpdq1bUR"
      }
    },
    {
      "cell_type": "code",
      "source": [
        "def delta_E(lattice, i, j):\n",
        "  en = 0\n",
        "  if i>0:\n",
        "      en += lattice[i][j]*lattice[i-1][j]\n",
        "  if i<len(lattice)-1:\n",
        "      en += lattice[i][j]*lattice[i+1][j]\n",
        "  if j>0:\n",
        "      en += lattice[i][j]*lattice[i][j-1]\n",
        "  if j<len(lattice)-1:\n",
        "      en += lattice[i][j] * lattice[i][j+1]\n",
        "  return en"
      ],
      "metadata": {
        "id": "XJn4OyYu975t"
      },
      "execution_count": null,
      "outputs": []
    },
    {
      "cell_type": "code",
      "source": [
        "def delta_E(lattice, i, j):\n",
        "  N = np.shape(lattice)[0]\n",
        "  en = lattice[i][j]*(lattice[(i-1) % N][j] + lattice[(i+1) % N][j] + lattice[i][(j-1) % N] + lattice[i][j] * lattice[i][(j+1) % N])\n",
        "  return en  "
      ],
      "metadata": {
        "id": "6wDuryLq501h"
      },
      "execution_count": null,
      "outputs": []
    },
    {
      "cell_type": "code",
      "source": [
        "from typing import Callable\n",
        "def metropolis(get_energy: Callable[[np.ndarray], float], grid_size: int, starts: int, samples: int, temp_start: float, temp_end: float, therm_steps: int):\n",
        "  temp_range = np.linspace(temp_start,temp_end,int(10*(temp_end-temp_start))) #The range of temperatures from 1 to 3.7\n",
        "  tempList = [] #This collects the specific temperatures for later plotting.\n",
        "  sampleList = [] #This collects the samples over the Metropolis-Hastings algorithm.\n",
        "\n",
        "  #For each temperature, for each start, we collect samples collected after thermal evolution. \n",
        "  for temp_count in tqdm(range(len(temp_range))):\n",
        "    temp = temp_range[temp_count]\n",
        "    #Computing beta.\n",
        "    b = 1/(k*temp) \n",
        "    #Collect each sample.\n",
        "    for sample in range(samples): \n",
        "      #Generates a random lattice of decimals between -1 and 1.\n",
        "      lattice = np.array([random.choice([-1, 1]) for j in range(grid_size**2)]).reshape(grid_size, grid_size)\n",
        "      \n",
        "      #This collects all the energies of samples for plotting.\n",
        "      enList = [] \n",
        "      #Here, we will collect iterative times for plotting.\n",
        "      timeList = []\n",
        "      #Initializing algorithmic time to 0.\n",
        "      time = 0\n",
        "    \n",
        "      #We perform thermal evolution.\n",
        "      for therm_step in range(therm_steps):\n",
        "      \n",
        "        #Collect the energy of the current lattice.\n",
        "        curr_en = get_energy(lattice)\n",
        "        \n",
        "        #Picks a lattice sites to flip.\n",
        "        index = random.randint(0, (grid_size - 1) * (grid_size - 1))\n",
        "        flip_x, flip_y = (index//grid_size, index % grid_size)\n",
        "        \n",
        "        #Now we calculate the probability that this state will be accepted. If the candidate state has a lower energy than the current state, this probability is 1, else it is the exponentiation of the difference between the candidate and present energy scaled.\n",
        "        p_uv = 2 * delta_E(lattice, flip_x, flip_y)\n",
        "      \n",
        "        #We store the algorithmic time and increment it.\n",
        "        timeList.append(time)\n",
        "        time += 1\n",
        "      \n",
        "        #If a coin toss with this acceptance probability as its distribution produces a 1 (perhaps thought of as a heads), we accept the state.\n",
        "        if np.random.uniform()<=p_uv:\n",
        "          lattice[flip_x][flip_y] *= -1\n",
        "      \n",
        "      #Here we store the sample and the current temperature for plotting and sample collection.\n",
        "      sampleList.append(lattice)\n",
        "      tempList.append(temp)\n",
        "        \n",
        "  return sampleList, tempList, enList, timeList"
      ],
      "metadata": {
        "id": "eQvRQQKKP1SY"
      },
      "execution_count": null,
      "outputs": []
    },
    {
      "cell_type": "markdown",
      "source": [
        "Now we run Metropolis-Hastings for the Square Lattice to generate 10 x 10 lattices, over 10 starts, taking 100 samples per start per temperatures ranging between 1.0 and 3.7. 100 thermal evolution steps will be taken to simulate the effects of a thermal bath."
      ],
      "metadata": {
        "id": "ZaxPMVs2T4C2"
      }
    },
    {
      "cell_type": "code",
      "source": [
        "sampleList, tempList, enList, timeList = metropolis(ferr_square_energy, 32, 10, 10000, 1, 3.7, 100)"
      ],
      "metadata": {
        "id": "ovJNI4zNRJYt"
      },
      "execution_count": null,
      "outputs": []
    },
    {
      "cell_type": "markdown",
      "metadata": {
        "id": "kydzXO8gSzAH"
      },
      "source": [
        "**Here, we plot algorithmic time vs the energy of the lattices over the last iteration of thermal evolution in the Metropolis-Hastings Algorithm.**"
      ]
    },
    {
      "cell_type": "code",
      "source": [
        "#We plot energy vs algorithmic time.\n",
        "plt.plot(timeList, enList)"
      ],
      "metadata": {
        "id": "H5q0Jvu-T_t_"
      },
      "execution_count": null,
      "outputs": []
    },
    {
      "cell_type": "markdown",
      "source": [
        "Though it is roughly-hewn, and may appear jittery, the energy decreases consistently over time, which is encouraging."
      ],
      "metadata": {
        "id": "i6suPmGrWmT5"
      }
    },
    {
      "cell_type": "markdown",
      "metadata": {
        "id": "JgQor45rs5Ls"
      },
      "source": [
        "## **Data Preprocessing**"
      ]
    },
    {
      "cell_type": "markdown",
      "source": [
        "**Here we preprocess the data by simply flattening the lattices into feature vectors, perform train-test split and store it in a .csv file.**\n",
        "\n",
        "\n"
      ],
      "metadata": {
        "id": "Jc3UVANeU-Ou"
      }
    },
    {
      "cell_type": "code",
      "execution_count": null,
      "metadata": {
        "id": "6ddVJ3Avs4r9"
      },
      "outputs": [],
      "source": [
        "def train_test_data(sampleList):\n",
        "\n",
        "  #Here, we flatten the samples into a feature matrix.\n",
        "  feature_matrix = np.array([features.flatten() for features in sampleList])\n",
        "\n",
        "  print(\"FEATURE MATRIX SHAPE: \", np.shape(feature_matrix))\n",
        "  \n",
        "  #Set Curie Temperature as 2.27\n",
        "  Tc = 2.27\n",
        "  \n",
        "  #We create another set of temperature values, first reformatting to correct dimensions and marking all temperatures above the critical temperature 1, and all below 0.\n",
        "  tempList2 = np.array([[temp] for temp in tempList])\n",
        "  tempList3 = np.zeros(tempList2.shape)\n",
        "  tempList3[tempList2>=Tc] = 1\n",
        "  tempList3[tempList2<Tc] = 0\n",
        "  \n",
        "  #Now, we append the target column (1/0 to indicate temp above or below the critical temperature) to the feature matrix.\n",
        "  feature_matrix = np.append(feature_matrix, tempList3, axis = 1)\n",
        "  \n",
        "  #We shuffle the feature matrix so that the neural network doesn't pick up any pattern around the temperature-ordered way we generated the data.\n",
        "  np.random.shuffle(feature_matrix) #\n",
        "  print(\"FEATURE/OUTPUT MATRIX SHAPE: \", np.shape(feature_matrix))\n",
        "\n",
        "  #Here, we perform train-test split, and pick 3/5 of the data for training and 2/5 for testing.\n",
        "  end = 3 * len(feature_matrix) // 5\n",
        "  feature_train_matrix = feature_matrix[:end, :-1]\n",
        "  feature_test_matrix = feature_matrix[end:, :-1]\n",
        "  print(\"UNIQUE FEATURES: \", np.unique(feature_test_matrix))\n",
        "  tempList2 = feature_matrix[:,-1]\n",
        "  print(\"UNIQUE TARGETS: \", np.unique(np.array(tempList2)))\n",
        "  tempList2 = [int(temp) for temp in tempList2]\n",
        "  y_train = tempList2[:end]\n",
        "  print(\"Y_TRAIN: \", y_train)\n",
        "  y_test = tempList2[end:]\n",
        "  print(\"FEATURE_TRAIN_MATRIX, of dimensions\", np.shape(feature_train_matrix), \" is\", feature_train_matrix)\n",
        "  print(\"\\nFEATURE_TEST_MATRIX, of dimensions\", np.shape(feature_test_matrix), \"is\", feature_test_matrix)\n",
        "  print(\"\\nY_TRAIN of dimensions\", np.shape(np.array([np.array(y_train)]).T), \"is\", np.array([np.array(y_train)]).T)\n",
        "  print(\"\\nY_TEST of dimensions\",  np.shape(np.array([np.array(y_test)]).T), \"is\", np.array([np.array(y_test)]).T)\n",
        "\n",
        "  #Here, we return the training and testing data.\n",
        "  return feature_train_matrix, np.expand_dims(np.array(y_train), axis = 1), feature_test_matrix, np.expand_dims(np.array(y_test), axis = 1)\n",
        "\n",
        "feature_train_matrix, y_train, feature_test_matrix, y_test = train_test_data(sampleList)\n",
        "\n",
        "#Uncomment the code below to store the data into a csv file.\n",
        "\n",
        "#csv_train = pd.DataFrame(feature_train_matrix)\n",
        "#csv_train[\"y_train\"] = y_train\n",
        "#csv_train = csv_train.to_csv(\"square_csv_train.csv\")\n",
        "#csv_test = pd.DataFrame(feature_test_matrix)\n",
        "#csv_test[\"y_test\"] = y_test\n",
        "#csv_test = csv_test.to_csv(\"square_csv_test.csv\")\n",
        "\n",
        "#These lines of code can be uncommented to download the csv files.\n",
        "\n",
        "#from google.colab import files\n",
        "#files.download(\"csv_train.csv\")\n",
        "#files.download(\"csv_test.csv\")"
      ]
    },
    {
      "cell_type": "code",
      "source": [
        "print(\"y_train has {} zeros and {} ones.\".format(list(y_train).count(0), list(y_train).count(1)))\n",
        "print(\"y_test has {} zeros and {} ones.\".format(list(y_test).count(0), list(y_test).count(1)))"
      ],
      "metadata": {
        "id": "7ENI4eq-tFmr"
      },
      "execution_count": null,
      "outputs": []
    },
    {
      "cell_type": "markdown",
      "source": [
        "##**Hyperparameter Tuning**"
      ],
      "metadata": {
        "id": "ag4pYnFoA_YN"
      }
    },
    {
      "cell_type": "markdown",
      "metadata": {
        "id": "lgCnHuOXeUBp"
      },
      "source": [
        "## **Feedforward Neural Network for Square Lattice Phase Transitions**"
      ]
    },
    {
      "cell_type": "markdown",
      "source": [
        "**Here, we construct our first Neural Network.**"
      ],
      "metadata": {
        "id": "Ip8xC1jmW-eJ"
      }
    },
    {
      "cell_type": "markdown",
      "source": [
        "Here we create a class defining a LinearModel Neural Network with dimensions as specified in paper, input layer of grid_size * grid_size x 100 and a hidden layer of 100 x 2, including a non-linear sigmoid activation."
      ],
      "metadata": {
        "id": "jh1JrAmvXByl"
      }
    },
    {
      "cell_type": "code",
      "execution_count": null,
      "metadata": {
        "id": "IEZAUIpBJ5gH"
      },
      "outputs": [],
      "source": [
        "import torch.nn as nn #Super-class for PyTorch NNs\n",
        "from torch.nn import Sigmoid\n",
        "from torch.optim import Adam\n",
        "import torch\n",
        "from torch import Tensor\n",
        "from torch import from_numpy\n",
        "grid_size = 32\n",
        "class LinearModel(nn.Module): \n",
        "    def __init__(self): #Define struct\n",
        "        super(LinearModel, self).__init__()          \n",
        "        self.fc_1 = nn.Linear(grid_size*grid_size, 100)    \n",
        "        self.fc_2 = nn.Linear(100, 2)\n",
        "        self.Sigmoid = nn.Sigmoid()\n",
        "            \n",
        "    def forward(self, X):    \n",
        "        output = self.fc_1(X)\n",
        "        output = self.Sigmoid(output)\n",
        "        output = self.fc_2(output)\n",
        "        output = self.Sigmoid(output)\n",
        "        return output"
      ]
    },
    {
      "cell_type": "markdown",
      "source": [
        "**Training:**\n",
        "\n",
        "Here we train the model on the training data using Cross-Entropy Loss with Adam-based optimization."
      ],
      "metadata": {
        "id": "-9fqXjTuXqgd"
      }
    },
    {
      "cell_type": "code",
      "source": [
        "temptest = [0 if temp < 2.27 else 1 for temp in tempList]\n",
        "print(temptest.count(0))\n",
        "print(temptest.count(1))"
      ],
      "metadata": {
        "id": "az22Un6gWo17"
      },
      "execution_count": null,
      "outputs": []
    },
    {
      "cell_type": "code",
      "source": [
        "def flip(n):\n",
        "  if n == 1:\n",
        "    return 0\n",
        "  else:\n",
        "    return 1"
      ],
      "metadata": {
        "id": "xUfOmSg2UOU-"
      },
      "execution_count": null,
      "outputs": []
    },
    {
      "cell_type": "code",
      "source": [
        "def train(config):\n",
        "\n",
        "  feature_train_matrix = config[\"x_train\"]\n",
        "  target_train = config[\"y_train\"]\n",
        "\n",
        "  y_test = config[\"y_test\"]\n",
        "  feature_test_matrix = config[\"x_test\"]\n",
        "\n",
        "  train_features = feature_train_matrix.copy()\n",
        "  train_out = y_train.copy()\n",
        "  optalg = Adam\n",
        "  epochs = 1000\n",
        "  batch_size = 128\n",
        "  lamda = 1e-3\n",
        "  alpha = 0.6\n",
        "  feature_test_matrix_torch = torch.Tensor(feature_test_matrix)\n",
        "  y_test_torch = torch.Tensor(y_test).type(torch.LongTensor)\n",
        "\n",
        "  features_train = train_features.copy()\n",
        "  target_train = train_out.copy()\n",
        "  #The grid_size is merely the square root of the length of each example, since its features are the list of all lattice sites.\n",
        "  grid_size = int(np.sqrt(len(features_train[0])))\n",
        "\n",
        "  #We run some number of Epochs of training.\n",
        "  EPOCHS = epochs\n",
        "\n",
        "  #Here we instantiate a Linear Model and set it to train mode.\n",
        "  model = LinearModel()\n",
        "  model.train()\n",
        "\n",
        "  #We set the criterion to be CrossEntropyLoss and the optimizer Adam.\n",
        "  criterion = nn.BCELoss()\n",
        "  optimizer = optalg(model.parameters(), lr = 10**-5)\n",
        "\n",
        "  #We convert the numpy data to a PyTorch Tensor to be compatible with the neural network.\n",
        "  y_train_torch = torch.from_numpy(target_train)\n",
        "  y_train_torch = y_train_torch.type(torch.LongTensor)\n",
        "  feature_train_matrix_torch = torch.from_numpy(features_train)\n",
        "\n",
        "  #Initialize the list of accuracies for plotting purposes.\n",
        "  acc_list = []\n",
        "  test_acc_list = []\n",
        "  #Initialize the list of epochs for plotting purposes.\n",
        "  ep_li = []\n",
        "  predictions = []\n",
        "\n",
        "  #For each epoch\n",
        "  for ep in tqdm(range(1, EPOCHS + 1)):\n",
        "    acc = 0\n",
        "    ep_li.append(ep)\n",
        "    rand_perms = torch.randperm(feature_train_matrix_torch.shape[0])\n",
        "  \n",
        "    #for each training example, extract the example's features, set the optimizer to zero_gradient mode.\n",
        "\n",
        "    for i in range(0, rand_perms.shape[0], batch_size):\n",
        "      current_indices = rand_perms[i:i+batch_size]\n",
        "      current_features = feature_train_matrix_torch[current_indices].type(torch.FloatTensor)\n",
        "      current_targets = y_train_torch[current_indices].type(torch.LongTensor)\n",
        "      optimizer.zero_grad()\n",
        "\n",
        "      out = model.forward(current_features)\n",
        "      #print(\"OUT.SHAPE: \", out.shape)\n",
        "      label = nn.functional.one_hot(current_targets.type(torch.LongTensor), num_classes = 2).type(torch.FloatTensor).squeeze(1)\n",
        "    \n",
        "      #print(\"LABEL.SHAPE: \", label.shape)\n",
        "      #print(\"OUT.SHAPE: \", out.shape)\n",
        "      #print(\"\\nCurrent Features Shape: \", current_features.shape)\n",
        "      #print(\"Current Targets Shape: \", current_targets.shape)\n",
        "    \n",
        "      acc+= list(torch.argmax(label, 1) - torch.argmax(out, 1)).count(0)\n",
        "      \n",
        "      #Calculate the loss via cross entropy.\n",
        "      loss = criterion(out,label)\n",
        "\n",
        "      #Perform backward propagation to improve the weights, on this loss function.\n",
        "      loss.backward()\n",
        "      #Step the optimizer.\n",
        "      optimizer.step()\n",
        "  \n",
        "    #Testing Step\n",
        "\n",
        "    test_out = model.forward(feature_test_matrix_torch)\n",
        "    test_label = nn.functional.one_hot(y_test_torch.type(torch.LongTensor), num_classes = 2).type(torch.FloatTensor).squeeze(1)\n",
        "    test_acc = list(torch.argmax(test_label, 1) - torch.argmax(test_out, 1)).count(0)\n",
        "\n",
        "    print(\"\\nTRAIN ACCURACY: \", 100 * acc/len(y_train_torch))\n",
        "    print(\"TEST ACCURACY: \", 100* test_acc/len(y_test_torch))\n",
        "\n",
        "    acc_list.append(100*acc/len(y_train_torch))\n",
        "    test_acc_list.append(100*test_acc/len(y_test_torch))\n",
        "    ep_li.append(ep)\n",
        "  \n",
        "  tune.report(accuracy = (test_acc_list[-1]))\n",
        "\n",
        "  return model"
      ],
      "metadata": {
        "id": "UPFpniAjPi1p"
      },
      "execution_count": null,
      "outputs": []
    },
    {
      "cell_type": "code",
      "source": [
        "#import ray\n",
        "#ray._private.utils.get_system_memory = lambda: psutil.virtual_memory().total\n",
        "#import ray.tune as tune\n",
        "#import psutil\n",
        "#def best_params(feature_train_matrix, y_train):\n",
        "#  config = {\"x_train\": feature_train_matrix, \n",
        "#             \"y_train\": y_train, \n",
        "#              \"x_test\": feature_test_matrix,\n",
        "#               \"y_test\": y_test, \n",
        "#             \"lr\": tune.grid_search([10**(-1*exp) for exp in range(2, 16)]),\n",
        "#             \"epochs\": tune.grid_search([ep for ep in range(100, 1000, 100)]),\n",
        "#             \"decay\": tune.grid_search([10**(-1*exp) for exp in range(2, 16)]), \n",
        "#             }\n",
        "#  analysis = tune.run(train, config = config, metric = \"accuracy\", mode = \"max\", num_samples = 1, resources_per_trial={\"gpu\":1}, verbose = 2)\n",
        "#  best_params = analysis.get_best_trial(\"accuracy\", \"max\", \"last\")\n",
        "#  \n",
        "#  return best_params.config\n",
        "\n",
        "#best_params(feature_train_matrix, y_train)"
      ],
      "metadata": {
        "id": "KklHskZ6QI5K"
      },
      "execution_count": null,
      "outputs": []
    },
    {
      "cell_type": "code",
      "source": [
        "#!pip install ray\n",
        "#import ray\n",
        "#from ray import tune"
      ],
      "metadata": {
        "id": "4cf1uxaFbMwq"
      },
      "execution_count": null,
      "outputs": []
    },
    {
      "cell_type": "code",
      "source": [
        "torch.manual_seed(0)"
      ],
      "metadata": {
        "id": "AmEkr1ro00Oz"
      },
      "execution_count": null,
      "outputs": []
    },
    {
      "cell_type": "code",
      "source": [
        "train_features = feature_train_matrix.copy()\n",
        "train_out = y_train.copy()\n",
        "optalg = Adam\n",
        "epochs = 3000\n",
        "batch_size = 128\n",
        "lamda = 1e-3\n",
        "alpha = 0.5\n",
        "feature_test_matrix_torch = torch.Tensor(feature_test_matrix)\n",
        "y_test_torch = torch.Tensor(y_test).type(torch.LongTensor)\n",
        "\n",
        "features_train = train_features.copy()\n",
        "target_train = train_out.copy()\n",
        "#The grid_size is merely the square root of the length of each example, since its features are the list of all lattice sites.\n",
        "grid_size = int(np.sqrt(len(features_train[0])))\n",
        "\n",
        "#We run some number of Epochs of training.\n",
        "EPOCHS = epochs\n",
        "\n",
        "#Here we instantiate a Linear Model and set it to train mode.\n",
        "model = LinearModel()\n",
        "model.train()\n",
        "\n",
        "#We set the criterion to be CrossEntropyLoss and the optimizer Adam.\n",
        "criterion = nn.BCELoss()\n",
        "optimizer = optalg(model.parameters())\n",
        "\n",
        "#We convert the numpy data to a PyTorch Tensor to be compatible with the neural network.\n",
        "y_train_torch = torch.from_numpy(target_train)\n",
        "y_train_torch = y_train_torch.type(torch.LongTensor)\n",
        "feature_train_matrix_torch = torch.from_numpy(features_train).type(torch.FloatTensor)\n",
        "\n",
        "#Initialize the list of accuracies for plotting purposes.\n",
        "acc_list = []\n",
        "test_acc_list = []\n",
        "#Initialize the list of epochs for plotting purposes.\n",
        "ep_li = []\n",
        "predictions = []\n",
        "\n",
        "#For each epoch\n",
        "for ep in tqdm(range(1, EPOCHS + 1)):\n",
        "  acc = 0\n",
        "  ep_li.append(ep)\n",
        "  rand_perms = torch.randperm(feature_train_matrix_torch.shape[0])\n",
        "  \n",
        "  #for each training example, extract the example's features, set the optimizer to zero_gradient mode.\n",
        "\n",
        "  for i in range(0, rand_perms.shape[0], batch_size):\n",
        "    current_indices = rand_perms[i:i+batch_size]\n",
        "    current_features = feature_train_matrix_torch[current_indices].type(torch.FloatTensor)\n",
        "    current_targets = y_train_torch[current_indices].type(torch.LongTensor)\n",
        "    optimizer.zero_grad()\n",
        "\n",
        "    out = model(current_features)\n",
        "    label = nn.functional.one_hot(current_targets.type(torch.LongTensor), num_classes = 2).type(torch.FloatTensor)#.squeeze(1)\n",
        "    label = label.squeeze(1)\n",
        "    acc += torch.sum(torch.eq(torch.argmax(label, 1), torch.argmax(out, 1))).item()\n",
        "    \n",
        "    #Calculate the loss via cross entropy and ElasticNet\n",
        "    loss = criterion(out,label)\n",
        "    for p in model.parameters():\n",
        "      loss += lamda * torch.square(p.sum())\n",
        "    \n",
        "    #Perform backward propagation to improve the weights, on this loss function.\n",
        "    loss.backward()\n",
        "    #Step the optimizer.\n",
        "    optimizer.step()\n",
        "  \n",
        "  #Testing Step\n",
        "\n",
        "  test_out = model.forward(feature_test_matrix_torch)\n",
        "  test_label = nn.functional.one_hot(y_test_torch.type(torch.LongTensor), num_classes = 2).type(torch.FloatTensor).squeeze(1)\n",
        "  test_acc = torch.sum(torch.eq(torch.argmax(test_label, 1), torch.argmax(test_out, 1))).item()\n",
        "\n",
        "  print(\"\\nTRAIN ACCURACY: \", 100 * acc/len(y_train_torch))\n",
        "  print(\"TEST ACCURACY: \", 100* test_acc/len(y_test_torch))\n",
        "\n",
        "  acc_list.append(100*acc/len(y_train_torch))\n",
        "  test_acc_list.append(100*test_acc/len(y_test_torch))\n",
        "  ep_li.append(ep)"
      ],
      "metadata": {
        "id": "vy1_a_GPnfWR",
        "colab": {
          "base_uri": "https://localhost:8080/",
          "height": 1000
        },
        "outputId": "0a2bc4de-c4be-4e0e-f3fc-cc70c9f9102a"
      },
      "execution_count": null,
      "outputs": [
        {
          "output_type": "stream",
          "name": "stderr",
          "text": [
            "  0%|          | 1/3000 [00:04<3:28:47,  4.18s/it]"
          ]
        },
        {
          "output_type": "stream",
          "name": "stdout",
          "text": [
            "\n",
            "TRAIN ACCURACY:  51.14135802469136\n",
            "TEST ACCURACY:  49.99444444444445\n"
          ]
        },
        {
          "output_type": "stream",
          "name": "stderr",
          "text": [
            "\r  0%|          | 2/3000 [00:08<3:44:53,  4.50s/it]"
          ]
        },
        {
          "output_type": "stream",
          "name": "stdout",
          "text": [
            "\n",
            "TRAIN ACCURACY:  51.54938271604938\n",
            "TEST ACCURACY:  51.077777777777776\n"
          ]
        },
        {
          "output_type": "stream",
          "name": "stderr",
          "text": [
            "\r  0%|          | 3/3000 [00:13<3:51:07,  4.63s/it]"
          ]
        },
        {
          "output_type": "stream",
          "name": "stdout",
          "text": [
            "\n",
            "TRAIN ACCURACY:  52.18641975308642\n",
            "TEST ACCURACY:  51.27777777777778\n"
          ]
        },
        {
          "output_type": "stream",
          "name": "stderr",
          "text": [
            "\r  0%|          | 4/3000 [00:18<3:47:30,  4.56s/it]"
          ]
        },
        {
          "output_type": "stream",
          "name": "stdout",
          "text": [
            "\n",
            "TRAIN ACCURACY:  52.33395061728395\n",
            "TEST ACCURACY:  51.287962962962965\n"
          ]
        },
        {
          "output_type": "stream",
          "name": "stderr",
          "text": [
            "\r  0%|          | 5/3000 [00:22<3:39:26,  4.40s/it]"
          ]
        },
        {
          "output_type": "stream",
          "name": "stdout",
          "text": [
            "\n",
            "TRAIN ACCURACY:  52.6679012345679\n",
            "TEST ACCURACY:  50.464814814814815\n"
          ]
        },
        {
          "output_type": "stream",
          "name": "stderr",
          "text": [
            "\r  0%|          | 6/3000 [00:26<3:34:13,  4.29s/it]"
          ]
        },
        {
          "output_type": "stream",
          "name": "stdout",
          "text": [
            "\n",
            "TRAIN ACCURACY:  52.66851851851852\n",
            "TEST ACCURACY:  51.52777777777778\n"
          ]
        },
        {
          "output_type": "stream",
          "name": "stderr",
          "text": [
            "\r  0%|          | 7/3000 [00:30<3:34:04,  4.29s/it]"
          ]
        },
        {
          "output_type": "stream",
          "name": "stdout",
          "text": [
            "\n",
            "TRAIN ACCURACY:  52.764197530864195\n",
            "TEST ACCURACY:  51.68518518518518\n"
          ]
        },
        {
          "output_type": "stream",
          "name": "stderr",
          "text": [
            "\r  0%|          | 8/3000 [00:34<3:31:28,  4.24s/it]"
          ]
        },
        {
          "output_type": "stream",
          "name": "stdout",
          "text": [
            "\n",
            "TRAIN ACCURACY:  52.7320987654321\n",
            "TEST ACCURACY:  49.13981481481481\n"
          ]
        },
        {
          "output_type": "stream",
          "name": "stderr",
          "text": [
            "\r  0%|          | 9/3000 [00:38<3:30:08,  4.22s/it]"
          ]
        },
        {
          "output_type": "stream",
          "name": "stdout",
          "text": [
            "\n",
            "TRAIN ACCURACY:  52.75864197530864\n",
            "TEST ACCURACY:  50.7287037037037\n"
          ]
        },
        {
          "output_type": "stream",
          "name": "stderr",
          "text": [
            "\r  0%|          | 10/3000 [00:42<3:27:01,  4.15s/it]"
          ]
        },
        {
          "output_type": "stream",
          "name": "stdout",
          "text": [
            "\n",
            "TRAIN ACCURACY:  52.95123456790123\n",
            "TEST ACCURACY:  50.849074074074075\n"
          ]
        },
        {
          "output_type": "stream",
          "name": "stderr",
          "text": [
            "\r  0%|          | 11/3000 [00:47<3:26:38,  4.15s/it]"
          ]
        },
        {
          "output_type": "stream",
          "name": "stdout",
          "text": [
            "\n",
            "TRAIN ACCURACY:  52.92469135802469\n",
            "TEST ACCURACY:  51.50925925925926\n"
          ]
        },
        {
          "output_type": "stream",
          "name": "stderr",
          "text": [
            "\r  0%|          | 12/3000 [00:51<3:26:03,  4.14s/it]"
          ]
        },
        {
          "output_type": "stream",
          "name": "stdout",
          "text": [
            "\n",
            "TRAIN ACCURACY:  52.83148148148148\n",
            "TEST ACCURACY:  50.660185185185185\n"
          ]
        },
        {
          "output_type": "stream",
          "name": "stderr",
          "text": [
            "\r  0%|          | 13/3000 [00:55<3:28:02,  4.18s/it]"
          ]
        },
        {
          "output_type": "stream",
          "name": "stdout",
          "text": [
            "\n",
            "TRAIN ACCURACY:  52.96358024691358\n",
            "TEST ACCURACY:  50.50555555555555\n"
          ]
        },
        {
          "output_type": "stream",
          "name": "stderr",
          "text": [
            "\r  0%|          | 14/3000 [01:00<3:34:16,  4.31s/it]"
          ]
        },
        {
          "output_type": "stream",
          "name": "stdout",
          "text": [
            "\n",
            "TRAIN ACCURACY:  53.025925925925925\n",
            "TEST ACCURACY:  51.52685185185185\n"
          ]
        },
        {
          "output_type": "stream",
          "name": "stderr",
          "text": [
            "\r  0%|          | 15/3000 [01:04<3:32:28,  4.27s/it]"
          ]
        },
        {
          "output_type": "stream",
          "name": "stdout",
          "text": [
            "\n",
            "TRAIN ACCURACY:  53.20493827160494\n",
            "TEST ACCURACY:  51.2\n"
          ]
        },
        {
          "output_type": "stream",
          "name": "stderr",
          "text": [
            "\r  1%|          | 16/3000 [01:08<3:30:50,  4.24s/it]"
          ]
        },
        {
          "output_type": "stream",
          "name": "stdout",
          "text": [
            "\n",
            "TRAIN ACCURACY:  53.12592592592593\n",
            "TEST ACCURACY:  50.69259259259259\n"
          ]
        },
        {
          "output_type": "stream",
          "name": "stderr",
          "text": [
            "\r  1%|          | 17/3000 [01:12<3:31:48,  4.26s/it]"
          ]
        },
        {
          "output_type": "stream",
          "name": "stdout",
          "text": [
            "\n",
            "TRAIN ACCURACY:  53.074074074074076\n",
            "TEST ACCURACY:  51.391666666666666\n"
          ]
        },
        {
          "output_type": "stream",
          "name": "stderr",
          "text": [
            "\r  1%|          | 18/3000 [01:16<3:30:16,  4.23s/it]"
          ]
        },
        {
          "output_type": "stream",
          "name": "stdout",
          "text": [
            "\n",
            "TRAIN ACCURACY:  53.13333333333333\n",
            "TEST ACCURACY:  50.12314814814815\n"
          ]
        },
        {
          "output_type": "stream",
          "name": "stderr",
          "text": [
            "\r  1%|          | 19/3000 [01:21<3:29:38,  4.22s/it]"
          ]
        },
        {
          "output_type": "stream",
          "name": "stdout",
          "text": [
            "\n",
            "TRAIN ACCURACY:  53.27037037037037\n",
            "TEST ACCURACY:  51.62314814814815\n"
          ]
        },
        {
          "output_type": "stream",
          "name": "stderr",
          "text": [
            "\r  1%|          | 20/3000 [01:25<3:27:03,  4.17s/it]"
          ]
        },
        {
          "output_type": "stream",
          "name": "stdout",
          "text": [
            "\n",
            "TRAIN ACCURACY:  53.09197530864198\n",
            "TEST ACCURACY:  51.49629629629629\n"
          ]
        },
        {
          "output_type": "stream",
          "name": "stderr",
          "text": [
            "\r  1%|          | 21/3000 [01:29<3:28:03,  4.19s/it]"
          ]
        },
        {
          "output_type": "stream",
          "name": "stdout",
          "text": [
            "\n",
            "TRAIN ACCURACY:  53.13333333333333\n",
            "TEST ACCURACY:  50.55925925925926\n"
          ]
        },
        {
          "output_type": "stream",
          "name": "stderr",
          "text": [
            "\r  1%|          | 22/3000 [01:33<3:26:40,  4.16s/it]"
          ]
        },
        {
          "output_type": "stream",
          "name": "stdout",
          "text": [
            "\n",
            "TRAIN ACCURACY:  53.114814814814814\n",
            "TEST ACCURACY:  51.41759259259259\n"
          ]
        },
        {
          "output_type": "stream",
          "name": "stderr",
          "text": [
            "\r  1%|          | 23/3000 [01:37<3:26:18,  4.16s/it]"
          ]
        },
        {
          "output_type": "stream",
          "name": "stdout",
          "text": [
            "\n",
            "TRAIN ACCURACY:  53.24753086419753\n",
            "TEST ACCURACY:  51.19537037037037\n"
          ]
        },
        {
          "output_type": "stream",
          "name": "stderr",
          "text": [
            "\r  1%|          | 24/3000 [01:41<3:23:53,  4.11s/it]"
          ]
        },
        {
          "output_type": "stream",
          "name": "stdout",
          "text": [
            "\n",
            "TRAIN ACCURACY:  53.22283950617284\n",
            "TEST ACCURACY:  51.14259259259259\n"
          ]
        },
        {
          "output_type": "stream",
          "name": "stderr",
          "text": [
            "\r  1%|          | 25/3000 [01:46<3:30:15,  4.24s/it]"
          ]
        },
        {
          "output_type": "stream",
          "name": "stdout",
          "text": [
            "\n",
            "TRAIN ACCURACY:  53.36604938271605\n",
            "TEST ACCURACY:  49.888888888888886\n"
          ]
        },
        {
          "output_type": "stream",
          "name": "stderr",
          "text": [
            "\r  1%|          | 26/3000 [01:50<3:34:26,  4.33s/it]"
          ]
        },
        {
          "output_type": "stream",
          "name": "stdout",
          "text": [
            "\n",
            "TRAIN ACCURACY:  53.42716049382716\n",
            "TEST ACCURACY:  51.08518518518518\n"
          ]
        },
        {
          "output_type": "stream",
          "name": "stderr",
          "text": [
            "\r  1%|          | 27/3000 [01:54<3:34:09,  4.32s/it]"
          ]
        },
        {
          "output_type": "stream",
          "name": "stdout",
          "text": [
            "\n",
            "TRAIN ACCURACY:  53.403703703703705\n",
            "TEST ACCURACY:  49.452777777777776\n"
          ]
        },
        {
          "output_type": "stream",
          "name": "stderr",
          "text": [
            "\r  1%|          | 28/3000 [01:59<3:29:26,  4.23s/it]"
          ]
        },
        {
          "output_type": "stream",
          "name": "stdout",
          "text": [
            "\n",
            "TRAIN ACCURACY:  53.39135802469136\n",
            "TEST ACCURACY:  50.70185185185185\n"
          ]
        },
        {
          "output_type": "stream",
          "name": "stderr",
          "text": [
            "\r  1%|          | 29/3000 [02:03<3:29:33,  4.23s/it]"
          ]
        },
        {
          "output_type": "stream",
          "name": "stdout",
          "text": [
            "\n",
            "TRAIN ACCURACY:  53.50864197530864\n",
            "TEST ACCURACY:  51.16111111111111\n"
          ]
        },
        {
          "output_type": "stream",
          "name": "stderr",
          "text": [
            "\r  1%|          | 30/3000 [02:07<3:28:56,  4.22s/it]"
          ]
        },
        {
          "output_type": "stream",
          "name": "stdout",
          "text": [
            "\n",
            "TRAIN ACCURACY:  53.6283950617284\n",
            "TEST ACCURACY:  50.58425925925926\n"
          ]
        },
        {
          "output_type": "stream",
          "name": "stderr",
          "text": [
            "\r  1%|          | 31/3000 [02:11<3:30:37,  4.26s/it]"
          ]
        },
        {
          "output_type": "stream",
          "name": "stdout",
          "text": [
            "\n",
            "TRAIN ACCURACY:  53.55925925925926\n",
            "TEST ACCURACY:  50.986111111111114\n"
          ]
        },
        {
          "output_type": "stream",
          "name": "stderr",
          "text": [
            "\r  1%|          | 32/3000 [02:15<3:28:58,  4.22s/it]"
          ]
        },
        {
          "output_type": "stream",
          "name": "stdout",
          "text": [
            "\n",
            "TRAIN ACCURACY:  53.68827160493827\n",
            "TEST ACCURACY:  51.20648148148148\n"
          ]
        },
        {
          "output_type": "stream",
          "name": "stderr",
          "text": [
            "\r  1%|          | 33/3000 [02:20<3:29:30,  4.24s/it]"
          ]
        },
        {
          "output_type": "stream",
          "name": "stdout",
          "text": [
            "\n",
            "TRAIN ACCURACY:  53.919135802469135\n",
            "TEST ACCURACY:  51.27962962962963\n"
          ]
        },
        {
          "output_type": "stream",
          "name": "stderr",
          "text": [
            "\r  1%|          | 34/3000 [02:24<3:27:40,  4.20s/it]"
          ]
        },
        {
          "output_type": "stream",
          "name": "stdout",
          "text": [
            "\n",
            "TRAIN ACCURACY:  54.175308641975306\n",
            "TEST ACCURACY:  51.07962962962963\n"
          ]
        },
        {
          "output_type": "stream",
          "name": "stderr",
          "text": [
            "\r  1%|          | 35/3000 [02:28<3:28:49,  4.23s/it]"
          ]
        },
        {
          "output_type": "stream",
          "name": "stdout",
          "text": [
            "\n",
            "TRAIN ACCURACY:  54.220987654320986\n",
            "TEST ACCURACY:  51.254629629629626\n"
          ]
        },
        {
          "output_type": "stream",
          "name": "stderr",
          "text": [
            "\r  1%|          | 36/3000 [02:32<3:25:59,  4.17s/it]"
          ]
        },
        {
          "output_type": "stream",
          "name": "stdout",
          "text": [
            "\n",
            "TRAIN ACCURACY:  54.28888888888889\n",
            "TEST ACCURACY:  50.8962962962963\n"
          ]
        },
        {
          "output_type": "stream",
          "name": "stderr",
          "text": [
            "\r  1%|          | 37/3000 [02:36<3:24:55,  4.15s/it]"
          ]
        },
        {
          "output_type": "stream",
          "name": "stdout",
          "text": [
            "\n",
            "TRAIN ACCURACY:  54.73641975308642\n",
            "TEST ACCURACY:  50.36574074074074\n"
          ]
        },
        {
          "output_type": "stream",
          "name": "stderr",
          "text": [
            "\r  1%|▏         | 38/3000 [02:40<3:22:46,  4.11s/it]"
          ]
        },
        {
          "output_type": "stream",
          "name": "stdout",
          "text": [
            "\n",
            "TRAIN ACCURACY:  54.93703703703704\n",
            "TEST ACCURACY:  51.275925925925925\n"
          ]
        },
        {
          "output_type": "stream",
          "name": "stderr",
          "text": [
            "\r  1%|▏         | 39/3000 [02:44<3:21:36,  4.09s/it]"
          ]
        },
        {
          "output_type": "stream",
          "name": "stdout",
          "text": [
            "\n",
            "TRAIN ACCURACY:  55.55\n",
            "TEST ACCURACY:  50.42037037037037\n"
          ]
        },
        {
          "output_type": "stream",
          "name": "stderr",
          "text": [
            "\r  1%|▏         | 40/3000 [02:48<3:22:18,  4.10s/it]"
          ]
        },
        {
          "output_type": "stream",
          "name": "stdout",
          "text": [
            "\n",
            "TRAIN ACCURACY:  56.06172839506173\n",
            "TEST ACCURACY:  50.45740740740741\n"
          ]
        },
        {
          "output_type": "stream",
          "name": "stderr",
          "text": [
            "\r  1%|▏         | 41/3000 [02:53<3:34:31,  4.35s/it]"
          ]
        },
        {
          "output_type": "stream",
          "name": "stdout",
          "text": [
            "\n",
            "TRAIN ACCURACY:  56.47592592592593\n",
            "TEST ACCURACY:  50.22592592592593\n"
          ]
        },
        {
          "output_type": "stream",
          "name": "stderr",
          "text": [
            "\r  1%|▏         | 42/3000 [02:58<3:32:24,  4.31s/it]"
          ]
        },
        {
          "output_type": "stream",
          "name": "stdout",
          "text": [
            "\n",
            "TRAIN ACCURACY:  57.30493827160494\n",
            "TEST ACCURACY:  50.49907407407407\n"
          ]
        },
        {
          "output_type": "stream",
          "name": "stderr",
          "text": [
            "\r  1%|▏         | 43/3000 [03:02<3:29:36,  4.25s/it]"
          ]
        },
        {
          "output_type": "stream",
          "name": "stdout",
          "text": [
            "\n",
            "TRAIN ACCURACY:  57.86604938271605\n",
            "TEST ACCURACY:  50.30462962962963\n"
          ]
        },
        {
          "output_type": "stream",
          "name": "stderr",
          "text": [
            "\r  1%|▏         | 44/3000 [03:06<3:28:35,  4.23s/it]"
          ]
        },
        {
          "output_type": "stream",
          "name": "stdout",
          "text": [
            "\n",
            "TRAIN ACCURACY:  58.66481481481482\n",
            "TEST ACCURACY:  50.138888888888886\n"
          ]
        },
        {
          "output_type": "stream",
          "name": "stderr",
          "text": [
            "  2%|▏         | 45/3000 [03:10<3:28:37,  4.24s/it]"
          ]
        },
        {
          "output_type": "stream",
          "name": "stdout",
          "text": [
            "\n",
            "TRAIN ACCURACY:  59.25\n",
            "TEST ACCURACY:  50.602777777777774\n"
          ]
        },
        {
          "output_type": "stream",
          "name": "stderr",
          "text": [
            "\n"
          ]
        },
        {
          "output_type": "error",
          "ename": "KeyboardInterrupt",
          "evalue": "ignored",
          "traceback": [
            "\u001b[0;31m---------------------------------------------------------------------------\u001b[0m",
            "\u001b[0;31mKeyboardInterrupt\u001b[0m                         Traceback (most recent call last)",
            "\u001b[0;32m<ipython-input-15-db1b353b78c6>\u001b[0m in \u001b[0;36m<module>\u001b[0;34m()\u001b[0m\n\u001b[1;32m     38\u001b[0m \u001b[0;34m\u001b[0m\u001b[0m\n\u001b[1;32m     39\u001b[0m \u001b[0;31m#For each epoch\u001b[0m\u001b[0;34m\u001b[0m\u001b[0;34m\u001b[0m\u001b[0;34m\u001b[0m\u001b[0m\n\u001b[0;32m---> 40\u001b[0;31m \u001b[0;32mfor\u001b[0m \u001b[0mep\u001b[0m \u001b[0;32min\u001b[0m \u001b[0mtqdm\u001b[0m\u001b[0;34m(\u001b[0m\u001b[0mrange\u001b[0m\u001b[0;34m(\u001b[0m\u001b[0;36m1\u001b[0m\u001b[0;34m,\u001b[0m \u001b[0mEPOCHS\u001b[0m \u001b[0;34m+\u001b[0m \u001b[0;36m1\u001b[0m\u001b[0;34m)\u001b[0m\u001b[0;34m)\u001b[0m\u001b[0;34m:\u001b[0m\u001b[0;34m\u001b[0m\u001b[0;34m\u001b[0m\u001b[0m\n\u001b[0m\u001b[1;32m     41\u001b[0m   \u001b[0macc\u001b[0m \u001b[0;34m=\u001b[0m \u001b[0;36m0\u001b[0m\u001b[0;34m\u001b[0m\u001b[0;34m\u001b[0m\u001b[0m\n\u001b[1;32m     42\u001b[0m   \u001b[0mep_li\u001b[0m\u001b[0;34m.\u001b[0m\u001b[0mappend\u001b[0m\u001b[0;34m(\u001b[0m\u001b[0mep\u001b[0m\u001b[0;34m)\u001b[0m\u001b[0;34m\u001b[0m\u001b[0;34m\u001b[0m\u001b[0m\n",
            "\u001b[0;32m/usr/local/lib/python3.7/dist-packages/tqdm/std.py\u001b[0m in \u001b[0;36m__iter__\u001b[0;34m(self)\u001b[0m\n\u001b[1;32m   1203\u001b[0m                     \u001b[0mdt\u001b[0m \u001b[0;34m=\u001b[0m \u001b[0mcur_t\u001b[0m \u001b[0;34m-\u001b[0m \u001b[0mlast_print_t\u001b[0m\u001b[0;34m\u001b[0m\u001b[0;34m\u001b[0m\u001b[0m\n\u001b[1;32m   1204\u001b[0m                     \u001b[0;32mif\u001b[0m \u001b[0mdt\u001b[0m \u001b[0;34m>=\u001b[0m \u001b[0mmininterval\u001b[0m \u001b[0;32mand\u001b[0m \u001b[0mcur_t\u001b[0m \u001b[0;34m>=\u001b[0m \u001b[0mmin_start_t\u001b[0m\u001b[0;34m:\u001b[0m\u001b[0;34m\u001b[0m\u001b[0;34m\u001b[0m\u001b[0m\n\u001b[0;32m-> 1205\u001b[0;31m                         \u001b[0mself\u001b[0m\u001b[0;34m.\u001b[0m\u001b[0mupdate\u001b[0m\u001b[0;34m(\u001b[0m\u001b[0mn\u001b[0m \u001b[0;34m-\u001b[0m \u001b[0mlast_print_n\u001b[0m\u001b[0;34m)\u001b[0m\u001b[0;34m\u001b[0m\u001b[0;34m\u001b[0m\u001b[0m\n\u001b[0m\u001b[1;32m   1206\u001b[0m                         \u001b[0mlast_print_n\u001b[0m \u001b[0;34m=\u001b[0m \u001b[0mself\u001b[0m\u001b[0;34m.\u001b[0m\u001b[0mlast_print_n\u001b[0m\u001b[0;34m\u001b[0m\u001b[0;34m\u001b[0m\u001b[0m\n\u001b[1;32m   1207\u001b[0m                         \u001b[0mlast_print_t\u001b[0m \u001b[0;34m=\u001b[0m \u001b[0mself\u001b[0m\u001b[0;34m.\u001b[0m\u001b[0mlast_print_t\u001b[0m\u001b[0;34m\u001b[0m\u001b[0;34m\u001b[0m\u001b[0m\n",
            "\u001b[0;32m/usr/local/lib/python3.7/dist-packages/tqdm/std.py\u001b[0m in \u001b[0;36mupdate\u001b[0;34m(self, n)\u001b[0m\n\u001b[1;32m   1254\u001b[0m                     \u001b[0mself\u001b[0m\u001b[0;34m.\u001b[0m\u001b[0m_ema_dn\u001b[0m\u001b[0;34m(\u001b[0m\u001b[0mdn\u001b[0m\u001b[0;34m)\u001b[0m\u001b[0;34m\u001b[0m\u001b[0;34m\u001b[0m\u001b[0m\n\u001b[1;32m   1255\u001b[0m                     \u001b[0mself\u001b[0m\u001b[0;34m.\u001b[0m\u001b[0m_ema_dt\u001b[0m\u001b[0;34m(\u001b[0m\u001b[0mdt\u001b[0m\u001b[0;34m)\u001b[0m\u001b[0;34m\u001b[0m\u001b[0;34m\u001b[0m\u001b[0m\n\u001b[0;32m-> 1256\u001b[0;31m                 \u001b[0mself\u001b[0m\u001b[0;34m.\u001b[0m\u001b[0mrefresh\u001b[0m\u001b[0;34m(\u001b[0m\u001b[0mlock_args\u001b[0m\u001b[0;34m=\u001b[0m\u001b[0mself\u001b[0m\u001b[0;34m.\u001b[0m\u001b[0mlock_args\u001b[0m\u001b[0;34m)\u001b[0m\u001b[0;34m\u001b[0m\u001b[0;34m\u001b[0m\u001b[0m\n\u001b[0m\u001b[1;32m   1257\u001b[0m                 \u001b[0;32mif\u001b[0m \u001b[0mself\u001b[0m\u001b[0;34m.\u001b[0m\u001b[0mdynamic_miniters\u001b[0m\u001b[0;34m:\u001b[0m\u001b[0;34m\u001b[0m\u001b[0;34m\u001b[0m\u001b[0m\n\u001b[1;32m   1258\u001b[0m                     \u001b[0;31m# If no `miniters` was specified, adjust automatically to the\u001b[0m\u001b[0;34m\u001b[0m\u001b[0;34m\u001b[0m\u001b[0;34m\u001b[0m\u001b[0m\n",
            "\u001b[0;32m/usr/local/lib/python3.7/dist-packages/tqdm/std.py\u001b[0m in \u001b[0;36mrefresh\u001b[0;34m(self, nolock, lock_args)\u001b[0m\n\u001b[1;32m   1359\u001b[0m             \u001b[0;32melse\u001b[0m\u001b[0;34m:\u001b[0m\u001b[0;34m\u001b[0m\u001b[0;34m\u001b[0m\u001b[0m\n\u001b[1;32m   1360\u001b[0m                 \u001b[0mself\u001b[0m\u001b[0;34m.\u001b[0m\u001b[0m_lock\u001b[0m\u001b[0;34m.\u001b[0m\u001b[0macquire\u001b[0m\u001b[0;34m(\u001b[0m\u001b[0;34m)\u001b[0m\u001b[0;34m\u001b[0m\u001b[0;34m\u001b[0m\u001b[0m\n\u001b[0;32m-> 1361\u001b[0;31m         \u001b[0mself\u001b[0m\u001b[0;34m.\u001b[0m\u001b[0mdisplay\u001b[0m\u001b[0;34m(\u001b[0m\u001b[0;34m)\u001b[0m\u001b[0;34m\u001b[0m\u001b[0;34m\u001b[0m\u001b[0m\n\u001b[0m\u001b[1;32m   1362\u001b[0m         \u001b[0;32mif\u001b[0m \u001b[0;32mnot\u001b[0m \u001b[0mnolock\u001b[0m\u001b[0;34m:\u001b[0m\u001b[0;34m\u001b[0m\u001b[0;34m\u001b[0m\u001b[0m\n\u001b[1;32m   1363\u001b[0m             \u001b[0mself\u001b[0m\u001b[0;34m.\u001b[0m\u001b[0m_lock\u001b[0m\u001b[0;34m.\u001b[0m\u001b[0mrelease\u001b[0m\u001b[0;34m(\u001b[0m\u001b[0;34m)\u001b[0m\u001b[0;34m\u001b[0m\u001b[0;34m\u001b[0m\u001b[0m\n",
            "\u001b[0;32m/usr/local/lib/python3.7/dist-packages/tqdm/std.py\u001b[0m in \u001b[0;36mdisplay\u001b[0;34m(self, msg, pos)\u001b[0m\n\u001b[1;32m   1507\u001b[0m         \u001b[0;32mif\u001b[0m \u001b[0mpos\u001b[0m\u001b[0;34m:\u001b[0m\u001b[0;34m\u001b[0m\u001b[0;34m\u001b[0m\u001b[0m\n\u001b[1;32m   1508\u001b[0m             \u001b[0mself\u001b[0m\u001b[0;34m.\u001b[0m\u001b[0mmoveto\u001b[0m\u001b[0;34m(\u001b[0m\u001b[0mpos\u001b[0m\u001b[0;34m)\u001b[0m\u001b[0;34m\u001b[0m\u001b[0;34m\u001b[0m\u001b[0m\n\u001b[0;32m-> 1509\u001b[0;31m         \u001b[0mself\u001b[0m\u001b[0;34m.\u001b[0m\u001b[0msp\u001b[0m\u001b[0;34m(\u001b[0m\u001b[0mself\u001b[0m\u001b[0;34m.\u001b[0m\u001b[0m__str__\u001b[0m\u001b[0;34m(\u001b[0m\u001b[0;34m)\u001b[0m \u001b[0;32mif\u001b[0m \u001b[0mmsg\u001b[0m \u001b[0;32mis\u001b[0m \u001b[0;32mNone\u001b[0m \u001b[0;32melse\u001b[0m \u001b[0mmsg\u001b[0m\u001b[0;34m)\u001b[0m\u001b[0;34m\u001b[0m\u001b[0;34m\u001b[0m\u001b[0m\n\u001b[0m\u001b[1;32m   1510\u001b[0m         \u001b[0;32mif\u001b[0m \u001b[0mpos\u001b[0m\u001b[0;34m:\u001b[0m\u001b[0;34m\u001b[0m\u001b[0;34m\u001b[0m\u001b[0m\n\u001b[1;32m   1511\u001b[0m             \u001b[0mself\u001b[0m\u001b[0;34m.\u001b[0m\u001b[0mmoveto\u001b[0m\u001b[0;34m(\u001b[0m\u001b[0;34m-\u001b[0m\u001b[0mpos\u001b[0m\u001b[0;34m)\u001b[0m\u001b[0;34m\u001b[0m\u001b[0;34m\u001b[0m\u001b[0m\n",
            "\u001b[0;32m/usr/local/lib/python3.7/dist-packages/tqdm/std.py\u001b[0m in \u001b[0;36mprint_status\u001b[0;34m(s)\u001b[0m\n\u001b[1;32m    348\u001b[0m         \u001b[0;32mdef\u001b[0m \u001b[0mprint_status\u001b[0m\u001b[0;34m(\u001b[0m\u001b[0ms\u001b[0m\u001b[0;34m)\u001b[0m\u001b[0;34m:\u001b[0m\u001b[0;34m\u001b[0m\u001b[0;34m\u001b[0m\u001b[0m\n\u001b[1;32m    349\u001b[0m             \u001b[0mlen_s\u001b[0m \u001b[0;34m=\u001b[0m \u001b[0mdisp_len\u001b[0m\u001b[0;34m(\u001b[0m\u001b[0ms\u001b[0m\u001b[0;34m)\u001b[0m\u001b[0;34m\u001b[0m\u001b[0;34m\u001b[0m\u001b[0m\n\u001b[0;32m--> 350\u001b[0;31m             \u001b[0mfp_write\u001b[0m\u001b[0;34m(\u001b[0m\u001b[0;34m'\\r'\u001b[0m \u001b[0;34m+\u001b[0m \u001b[0ms\u001b[0m \u001b[0;34m+\u001b[0m \u001b[0;34m(\u001b[0m\u001b[0;34m' '\u001b[0m \u001b[0;34m*\u001b[0m \u001b[0mmax\u001b[0m\u001b[0;34m(\u001b[0m\u001b[0mlast_len\u001b[0m\u001b[0;34m[\u001b[0m\u001b[0;36m0\u001b[0m\u001b[0;34m]\u001b[0m \u001b[0;34m-\u001b[0m \u001b[0mlen_s\u001b[0m\u001b[0;34m,\u001b[0m \u001b[0;36m0\u001b[0m\u001b[0;34m)\u001b[0m\u001b[0;34m)\u001b[0m\u001b[0;34m)\u001b[0m\u001b[0;34m\u001b[0m\u001b[0;34m\u001b[0m\u001b[0m\n\u001b[0m\u001b[1;32m    351\u001b[0m             \u001b[0mlast_len\u001b[0m\u001b[0;34m[\u001b[0m\u001b[0;36m0\u001b[0m\u001b[0;34m]\u001b[0m \u001b[0;34m=\u001b[0m \u001b[0mlen_s\u001b[0m\u001b[0;34m\u001b[0m\u001b[0;34m\u001b[0m\u001b[0m\n\u001b[1;32m    352\u001b[0m \u001b[0;34m\u001b[0m\u001b[0m\n",
            "\u001b[0;32m/usr/local/lib/python3.7/dist-packages/tqdm/std.py\u001b[0m in \u001b[0;36mfp_write\u001b[0;34m(s)\u001b[0m\n\u001b[1;32m    342\u001b[0m         \u001b[0;32mdef\u001b[0m \u001b[0mfp_write\u001b[0m\u001b[0;34m(\u001b[0m\u001b[0ms\u001b[0m\u001b[0;34m)\u001b[0m\u001b[0;34m:\u001b[0m\u001b[0;34m\u001b[0m\u001b[0;34m\u001b[0m\u001b[0m\n\u001b[1;32m    343\u001b[0m             \u001b[0mfp\u001b[0m\u001b[0;34m.\u001b[0m\u001b[0mwrite\u001b[0m\u001b[0;34m(\u001b[0m\u001b[0m_unicode\u001b[0m\u001b[0;34m(\u001b[0m\u001b[0ms\u001b[0m\u001b[0;34m)\u001b[0m\u001b[0;34m)\u001b[0m\u001b[0;34m\u001b[0m\u001b[0;34m\u001b[0m\u001b[0m\n\u001b[0;32m--> 344\u001b[0;31m             \u001b[0mfp_flush\u001b[0m\u001b[0;34m(\u001b[0m\u001b[0;34m)\u001b[0m\u001b[0;34m\u001b[0m\u001b[0;34m\u001b[0m\u001b[0m\n\u001b[0m\u001b[1;32m    345\u001b[0m \u001b[0;34m\u001b[0m\u001b[0m\n\u001b[1;32m    346\u001b[0m         \u001b[0mlast_len\u001b[0m \u001b[0;34m=\u001b[0m \u001b[0;34m[\u001b[0m\u001b[0;36m0\u001b[0m\u001b[0;34m]\u001b[0m\u001b[0;34m\u001b[0m\u001b[0;34m\u001b[0m\u001b[0m\n",
            "\u001b[0;32m/usr/local/lib/python3.7/dist-packages/tqdm/utils.py\u001b[0m in \u001b[0;36minner\u001b[0;34m(*args, **kwargs)\u001b[0m\n\u001b[1;32m    143\u001b[0m         \u001b[0;32mdef\u001b[0m \u001b[0minner\u001b[0m\u001b[0;34m(\u001b[0m\u001b[0;34m*\u001b[0m\u001b[0margs\u001b[0m\u001b[0;34m,\u001b[0m \u001b[0;34m**\u001b[0m\u001b[0mkwargs\u001b[0m\u001b[0;34m)\u001b[0m\u001b[0;34m:\u001b[0m\u001b[0;34m\u001b[0m\u001b[0;34m\u001b[0m\u001b[0m\n\u001b[1;32m    144\u001b[0m             \u001b[0;32mtry\u001b[0m\u001b[0;34m:\u001b[0m\u001b[0;34m\u001b[0m\u001b[0;34m\u001b[0m\u001b[0m\n\u001b[0;32m--> 145\u001b[0;31m                 \u001b[0;32mreturn\u001b[0m \u001b[0mfunc\u001b[0m\u001b[0;34m(\u001b[0m\u001b[0;34m*\u001b[0m\u001b[0margs\u001b[0m\u001b[0;34m,\u001b[0m \u001b[0;34m**\u001b[0m\u001b[0mkwargs\u001b[0m\u001b[0;34m)\u001b[0m\u001b[0;34m\u001b[0m\u001b[0;34m\u001b[0m\u001b[0m\n\u001b[0m\u001b[1;32m    146\u001b[0m             \u001b[0;32mexcept\u001b[0m \u001b[0mOSError\u001b[0m \u001b[0;32mas\u001b[0m \u001b[0me\u001b[0m\u001b[0;34m:\u001b[0m\u001b[0;34m\u001b[0m\u001b[0;34m\u001b[0m\u001b[0m\n\u001b[1;32m    147\u001b[0m                 \u001b[0;32mif\u001b[0m \u001b[0me\u001b[0m\u001b[0;34m.\u001b[0m\u001b[0merrno\u001b[0m \u001b[0;34m!=\u001b[0m \u001b[0;36m5\u001b[0m\u001b[0;34m:\u001b[0m\u001b[0;34m\u001b[0m\u001b[0;34m\u001b[0m\u001b[0m\n",
            "\u001b[0;32m/usr/local/lib/python3.7/dist-packages/ipykernel/iostream.py\u001b[0m in \u001b[0;36mflush\u001b[0;34m(self)\u001b[0m\n\u001b[1;32m    347\u001b[0m                 \u001b[0mself\u001b[0m\u001b[0;34m.\u001b[0m\u001b[0mpub_thread\u001b[0m\u001b[0;34m.\u001b[0m\u001b[0mschedule\u001b[0m\u001b[0;34m(\u001b[0m\u001b[0mevt\u001b[0m\u001b[0;34m.\u001b[0m\u001b[0mset\u001b[0m\u001b[0;34m)\u001b[0m\u001b[0;34m\u001b[0m\u001b[0;34m\u001b[0m\u001b[0m\n\u001b[1;32m    348\u001b[0m                 \u001b[0;31m# and give a timeout to avoid\u001b[0m\u001b[0;34m\u001b[0m\u001b[0;34m\u001b[0m\u001b[0;34m\u001b[0m\u001b[0m\n\u001b[0;32m--> 349\u001b[0;31m                 \u001b[0;32mif\u001b[0m \u001b[0;32mnot\u001b[0m \u001b[0mevt\u001b[0m\u001b[0;34m.\u001b[0m\u001b[0mwait\u001b[0m\u001b[0;34m(\u001b[0m\u001b[0mself\u001b[0m\u001b[0;34m.\u001b[0m\u001b[0mflush_timeout\u001b[0m\u001b[0;34m)\u001b[0m\u001b[0;34m:\u001b[0m\u001b[0;34m\u001b[0m\u001b[0;34m\u001b[0m\u001b[0m\n\u001b[0m\u001b[1;32m    350\u001b[0m                     \u001b[0;31m# write directly to __stderr__ instead of warning because\u001b[0m\u001b[0;34m\u001b[0m\u001b[0;34m\u001b[0m\u001b[0;34m\u001b[0m\u001b[0m\n\u001b[1;32m    351\u001b[0m                     \u001b[0;31m# if this is happening sys.stderr may be the problem.\u001b[0m\u001b[0;34m\u001b[0m\u001b[0;34m\u001b[0m\u001b[0;34m\u001b[0m\u001b[0m\n",
            "\u001b[0;32m/usr/lib/python3.7/threading.py\u001b[0m in \u001b[0;36mwait\u001b[0;34m(self, timeout)\u001b[0m\n\u001b[1;32m    550\u001b[0m             \u001b[0msignaled\u001b[0m \u001b[0;34m=\u001b[0m \u001b[0mself\u001b[0m\u001b[0;34m.\u001b[0m\u001b[0m_flag\u001b[0m\u001b[0;34m\u001b[0m\u001b[0;34m\u001b[0m\u001b[0m\n\u001b[1;32m    551\u001b[0m             \u001b[0;32mif\u001b[0m \u001b[0;32mnot\u001b[0m \u001b[0msignaled\u001b[0m\u001b[0;34m:\u001b[0m\u001b[0;34m\u001b[0m\u001b[0;34m\u001b[0m\u001b[0m\n\u001b[0;32m--> 552\u001b[0;31m                 \u001b[0msignaled\u001b[0m \u001b[0;34m=\u001b[0m \u001b[0mself\u001b[0m\u001b[0;34m.\u001b[0m\u001b[0m_cond\u001b[0m\u001b[0;34m.\u001b[0m\u001b[0mwait\u001b[0m\u001b[0;34m(\u001b[0m\u001b[0mtimeout\u001b[0m\u001b[0;34m)\u001b[0m\u001b[0;34m\u001b[0m\u001b[0;34m\u001b[0m\u001b[0m\n\u001b[0m\u001b[1;32m    553\u001b[0m             \u001b[0;32mreturn\u001b[0m \u001b[0msignaled\u001b[0m\u001b[0;34m\u001b[0m\u001b[0;34m\u001b[0m\u001b[0m\n\u001b[1;32m    554\u001b[0m \u001b[0;34m\u001b[0m\u001b[0m\n",
            "\u001b[0;32m/usr/lib/python3.7/threading.py\u001b[0m in \u001b[0;36mwait\u001b[0;34m(self, timeout)\u001b[0m\n\u001b[1;32m    298\u001b[0m             \u001b[0;32melse\u001b[0m\u001b[0;34m:\u001b[0m\u001b[0;34m\u001b[0m\u001b[0;34m\u001b[0m\u001b[0m\n\u001b[1;32m    299\u001b[0m                 \u001b[0;32mif\u001b[0m \u001b[0mtimeout\u001b[0m \u001b[0;34m>\u001b[0m \u001b[0;36m0\u001b[0m\u001b[0;34m:\u001b[0m\u001b[0;34m\u001b[0m\u001b[0;34m\u001b[0m\u001b[0m\n\u001b[0;32m--> 300\u001b[0;31m                     \u001b[0mgotit\u001b[0m \u001b[0;34m=\u001b[0m \u001b[0mwaiter\u001b[0m\u001b[0;34m.\u001b[0m\u001b[0macquire\u001b[0m\u001b[0;34m(\u001b[0m\u001b[0;32mTrue\u001b[0m\u001b[0;34m,\u001b[0m \u001b[0mtimeout\u001b[0m\u001b[0;34m)\u001b[0m\u001b[0;34m\u001b[0m\u001b[0;34m\u001b[0m\u001b[0m\n\u001b[0m\u001b[1;32m    301\u001b[0m                 \u001b[0;32melse\u001b[0m\u001b[0;34m:\u001b[0m\u001b[0;34m\u001b[0m\u001b[0;34m\u001b[0m\u001b[0m\n\u001b[1;32m    302\u001b[0m                     \u001b[0mgotit\u001b[0m \u001b[0;34m=\u001b[0m \u001b[0mwaiter\u001b[0m\u001b[0;34m.\u001b[0m\u001b[0macquire\u001b[0m\u001b[0;34m(\u001b[0m\u001b[0;32mFalse\u001b[0m\u001b[0;34m)\u001b[0m\u001b[0;34m\u001b[0m\u001b[0;34m\u001b[0m\u001b[0m\n",
            "\u001b[0;31mKeyboardInterrupt\u001b[0m: "
          ]
        }
      ]
    },
    {
      "cell_type": "markdown",
      "metadata": {
        "id": "LnezwOKLW8GB"
      },
      "source": [
        "**Plot of epochs vs training accuracy.**"
      ]
    },
    {
      "cell_type": "code",
      "execution_count": null,
      "metadata": {
        "id": "V1VxpwEGolnY",
        "colab": {
          "base_uri": "https://localhost:8080/",
          "height": 265
        },
        "outputId": "07647133-e942-4024-8801-4530673301fb"
      },
      "outputs": [
        {
          "output_type": "display_data",
          "data": {
            "text/plain": [
              "<Figure size 432x288 with 1 Axes>"
            ],
            "image/png": "[encoded data removed]"
          },
          "metadata": {
            "needs_background": "light"
          }
        }
      ],
      "source": [
        "ep_li = sorted(list(set(ep_li)))\n",
        "plt.plot(ep_li[:], acc_list)\n",
        "plt.plot(ep_li[:], test_acc_list)\n",
        "plt.show()"
      ]
    },
    {
      "cell_type": "markdown",
      "metadata": {
        "id": "9wsW5zTZXDCf"
      },
      "source": [
        "**Here, we evaluate the accuracy of our PyTorch model on our test data.**\n",
        "*Currently working on this, model gives wrong train accuracy even though the presumably correct accuracy was printed during training loop.*"
      ]
    },
    {
      "cell_type": "code",
      "execution_count": null,
      "metadata": {
        "id": "ifTDctSOMeij"
      },
      "outputs": [],
      "source": [
        "def test_model(nd_feature_test_matrix, nd_y_test, model, criterion = nn.CrossEntropyLoss()):\n",
        "\n",
        "  model.eval()\n",
        "\n",
        "  #Here, we convert our NumPy test data to Torch Tensors.\n",
        "  y_test_torch = torch.from_numpy(nd_y_test).type(torch.LongTensor)\n",
        "  feature_test_matrix = torch.from_numpy(nd_feature_test_matrix).type(torch.DoubleTensor)\n",
        "  \n",
        "  #This code below can be uncommented in order to load the model instead of retraining it from before.\n",
        "  #PATH = \"/content/gdrive/My Drive/SCAI ML Phases of Matter Implementation/model1.994.pth\"\n",
        "  #model = LinearModel()\n",
        "  #model.load_state_dict(torch.load(PATH))\n",
        "\n",
        "  #Initialize accuracy to 0.\n",
        "  acc = 0\n",
        "  with torch.no_grad():\n",
        "    #For each test example, perform forward propagation and compare the output with the label.\n",
        "    for i in range(len(y_test_torch)):\n",
        "      #Test feature vector.\n",
        "      example = feature_test_matrix[i:i+1].type(torch.FloatTensor)\n",
        "      #Forward Propagation evaluation of this feature vector.\n",
        "      out = model(example)\n",
        "      _, predicted = torch.max(out.data, 1)\n",
        "      #assert out.argmax().item() == predictions[i], (predicted.item(), predictions[i])\n",
        "      #This is the test label.\n",
        "      label = y_test_torch[i]\n",
        "      #If the prediction is correct, we increment the accuracy.\n",
        "      if(label.item()==out.argmax().item()):\n",
        "        acc+=1\n",
        "      #We calculate the loss for the prediction/label.\n",
        "      loss_label = torch.Tensor([label]).type(torch.LongTensor)\n",
        "      loss = criterion(out, loss_label)\n",
        "\n",
        "  #Normalize the accuracy count to get a measure of accuracy percentage.\n",
        "  acc/=len(y_test_torch)\n",
        "\n",
        "  print(\"ACCURACY (%): \", acc*100)\n",
        "\n",
        "  pass\n",
        "\n",
        "#Let us test our current model\n",
        "test_model(feature_train_matrix, y_train, model)\n",
        "\n",
        "#Uncomment this code to store the model.\n",
        "\n",
        "#csv_model = pd.DataFrame(model.state_dict())\n",
        "#csv_model = csv_model.to_csv(\"model1.csv\")\n",
        "#files.download(\"model1.csv\")\n",
        "#torch.save(model,\"./\")"
      ]
    },
    {
      "cell_type": "markdown",
      "metadata": {
        "id": "jjpLnS2wXLdp"
      },
      "source": [
        "Here, we save training and testing data in csvs as well as saving the PyTorch model."
      ]
    },
    {
      "cell_type": "code",
      "execution_count": null,
      "metadata": {
        "id": "bnJmD5Mze6W-"
      },
      "outputs": [],
      "source": [
        "from google.colab import files\n",
        "from google.colab import drive\n",
        "\n",
        "#Here, we download the train/test data csvs\n",
        "#files.download(\"csv_train.csv\")\n",
        "#files.download(\"csv_test.csv\")\n",
        "\n",
        "drive.mount('/content/gdrive')\n",
        "\n",
        "#Uncomment to save the torch models to these locations.\n",
        "\n",
        "#torch.save(model.state_dict(), '/content/gdrive/My Drive/SCAI ML Phases of Matter Implementation/model1.994.pth')\n",
        "#torch.save(model.state_dict(), '/content/gdrive/My Drive/SCAI ML Phases of Matter Implementation/model1.989.pth')"
      ]
    },
    {
      "cell_type": "markdown",
      "source": [
        "## **Triangular Lattices**"
      ],
      "metadata": {
        "id": "FizbOMMjpgTK"
      }
    },
    {
      "cell_type": "markdown",
      "metadata": {
        "id": "BH3useq_lM1T"
      },
      "source": [
        "While it is indeed surprising that a neural network is well able to model this statistical phenomenon, \n",
        "it's most surprising capability is its ability to generalize well to lattices of other structures, like triangular lattices. "
      ]
    },
    {
      "cell_type": "markdown",
      "metadata": {
        "id": "N1k8eoJiL4eI"
      },
      "source": [
        "In order to demonstrate this, we generate a dataset of triangular lattices to test our model (trained on square lattices)."
      ]
    },
    {
      "cell_type": "markdown",
      "source": [
        "We generate triangular lattices via two methods: Using a hexagonal filter and Exploiting MatPlotLib's visualization capabilities."
      ],
      "metadata": {
        "id": "OiYfZ8L7qdzK"
      }
    },
    {
      "cell_type": "markdown",
      "source": [
        "###**Approach 1: Hexagonal Filters**"
      ],
      "metadata": {
        "id": "X_ffQ744rLBK"
      }
    },
    {
      "cell_type": "markdown",
      "source": [
        "The triangular hamiltonian is a dependent on the similarity of spins of neighbors of each lattice site.\n",
        "[Obtained from cursory reading of *Ising Model on a Triangular Lattice\n",
        "with Three-spin Interactions. I The Eigenvalue Equation (Baxter et. al 1974)*]."
      ],
      "metadata": {
        "id": "R5ir-WigrU8y"
      }
    },
    {
      "cell_type": "markdown",
      "source": [
        "![image.png](data:image/png;base64,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)\n",
        "\n",
        "*This illustration of a single lattice site\n",
        " and the sites who it is related to in the calculation of the Triangular Hamiltonian is from the above mentioned paper.*"
      ],
      "metadata": {
        "id": "G09TSlJwt18Q"
      }
    },
    {
      "cell_type": "markdown",
      "source": [
        "First, we write a function to calculate the Hamiltonian of a particular lattice."
      ],
      "metadata": {
        "id": "AeqWtzrhujcS"
      }
    },
    {
      "cell_type": "code",
      "source": [
        "@jit\n",
        "def triang_energy(lattice):\n",
        "  en = 0\n",
        "  for i in range(len(lattice)):\n",
        "    for j in range(len(lattice[i])):\n",
        "      #First, we account for neighboring sites 1 and 2, which together with the center form a triangle.\n",
        "      if i<len(lattice) - 1"
      ],
      "metadata": {
        "id": "ZFDph-bbwaTC"
      },
      "execution_count": null,
      "outputs": []
    },
    {
      "cell_type": "code",
      "source": [
        "@jit\n",
        "def get_energy(lattice):\n",
        "  en = 0\n",
        "  for i in range(len(lattice)):\n",
        "    for j in range(len(lattice[i])):\n",
        "      if(i>1 and j>2):\n",
        "        en += lattice[i][j] * lattice[i-1][j-1] * lattice[i][j-2]\n",
        "      if (i<len(lattice)-1 and j>2):\n",
        "        en += lattice[i][j] * lattice[i][j-2] * lattice[i+1][j-1]\n",
        "      if (i<len(lattice)-2 and j>1 and j<len(lattice)-1):\n",
        "        en += lattice[i][j] * lattice[i+1][j+1] * lattice[i+1][j-1]\n",
        "      if (i<len(lattice) - 2 and j<len(lattice) - 2):\n",
        "        en += lattice[i][j] * lattice[i+1][j+1] * lattice[i][j+2]\n",
        "      if (i>1 and j<len(lattice) - 2):\n",
        "        en += lattice[i][j] * lattice[i][j+2] * lattice[i-1][j+1]\n",
        "      if (i>1 and j > 1 and j<len(lattice) - 1):\n",
        "        en += lattice[i][j] * lattice[i-1][j+1] * lattice[i-1][j-1]\n",
        "  return en"
      ],
      "metadata": {
        "id": "GWYsgoiatYvK"
      },
      "execution_count": null,
      "outputs": []
    },
    {
      "cell_type": "markdown",
      "source": [
        "Here, we run the Metropolis-Hastings algorithm to generate triangular lattices."
      ],
      "metadata": {
        "id": "ljy2pXjOSeeu"
      }
    },
    {
      "cell_type": "code",
      "source": [
        "sampleList, tempList, enList, timeList = metropolis(triang_energy, 40, 10, 100, 1, 3.7, 1000)"
      ],
      "metadata": {
        "id": "cv1Wx17bSa-_"
      },
      "execution_count": null,
      "outputs": []
    },
    {
      "cell_type": "code",
      "execution_count": null,
      "metadata": {
        "id": "6-McudEoth4e"
      },
      "outputs": [],
      "source": [
        "grid_size = 40\n",
        "grid = np.zeros((grid_size, grid_size)) > np.ones((grid_size, grid_size))\n",
        "grid_length = grid_size - grid_size // 3\n",
        "for i in range(grid_length//2):\n",
        "  for j in range((grid_size-1)//3 - i,2*(grid_size-1)//3 + i):\n",
        "    grid[i][j] = True\n",
        "for i in range(grid_length//2,grid_length):\n",
        "  k = i - grid_length//2\n",
        "  init_left = (grid_size - 1)//3 - grid_length//2 \n",
        "  init_right = 2*(grid_size - 1)//3 + grid_length//2\n",
        "  for j in range(init_left+ k,init_right - k):\n",
        "    grid[i][j] = True\n",
        "plt.figure(figsize=(grid_size,grid_size))\n",
        "plt.imshow(grid)\n",
        "plt.show()"
      ]
    },
    {
      "cell_type": "markdown",
      "metadata": {
        "id": "V3nDjSivXmqw"
      },
      "source": [
        "First, we generate triangular lattices, in the sense that it has a Triangular Hamiltonian. But we still generate square spins."
      ]
    },
    {
      "cell_type": "code",
      "execution_count": null,
      "metadata": {
        "id": "hqSTWwB9ZMQm"
      },
      "outputs": [],
      "source": [
        "from google.colab import files\n",
        "files.upload() #Here, we reload our PyTorch model so that we don't need to retrain it each time."
      ]
    },
    {
      "cell_type": "code",
      "execution_count": null,
      "metadata": {
        "id": "IszWE5TvXpF3"
      },
      "outputs": [],
      "source": [
        "@jit\n",
        "def get_energy(lattice):\n",
        "  en = 0\n",
        "  #Hexagonal Neighbor Addition\n",
        "  for i in range(len(lattice)):\n",
        "    for j in range(len(lattice[i])):\n",
        "      if(i>1 and j>2):\n",
        "        en += lattice[i][j] * lattice[i-1][j-1] * lattice[i][j-2]\n",
        "      if (i<len(lattice)-1 and j>2):\n",
        "        en += lattice[i][j] * lattice[i][j-2] * lattice[i+1][j-1]\n",
        "      if (i<len(lattice)-2 and j>1 and j<len(lattice)-1):\n",
        "        en += lattice[i][j] * lattice[i+1][j+1] * lattice[i+1][j-1]\n",
        "      if (i<len(lattice) - 2 and j<len(lattice) - 2):\n",
        "        en += lattice[i][j] * lattice[i+1][j+1] * lattice[i][j+2]\n",
        "      if (i>1 and j<len(lattice) - 2):\n",
        "        en += lattice[i][j] * lattice[i][j+2] * lattice[i-1][j+1]\n",
        "      if (i>1 and j > 1 and j<len(lattice) - 1):\n",
        "        en += lattice[i][j] * lattice[i-1][j+1] * lattice[i-1][j-1]\n",
        "  return en\n",
        "\n",
        "grid_size = 40\n",
        "starts = 10 #For each temperature. 10\n",
        "samples = 100 #The number of samples per start per temperature. 100\n",
        "temp_range = np.linspace(1,3.7,27) #The range of temperatures from 1 to 3.7\n",
        "therm_steps = 100 #100\n",
        "tempList = []\n",
        "sampleList = []\n",
        "k = (1.38064852)/(10**23)\n",
        "#b = 0.7 #This is our beta*J value. b = 1/kT\n",
        "count = 0\n",
        "total = 0\n",
        "loopCount = 0\n",
        "for temp in temp_range:\n",
        "  b = 1/(k*temp)\n",
        "  for start in range(starts):\n",
        "    for sample in range(samples):\n",
        "      loopCount+=1\n",
        "      start_lat = np.array([[np.random.exponential() for a in range(grid_size)] for count2 in range(grid_size)])\n",
        "      lattice = np.zeros((grid_size,grid_size))\n",
        "      lattice[start_lat>=0.4] = 1.0\n",
        "      lattice[start_lat<0.4] = -1.0\n",
        "      if list(lattice.flatten()).count(1.)/(grid_size**2) > 0.5:\n",
        "        count+=1#To ensure largely unbalanced  \n",
        "        total += 1\n",
        "      else:\n",
        "        total += 1\n",
        "      enList = []\n",
        "      timeList = []\n",
        "      time = 0  \n",
        "      for therm_step in range(therm_steps):\n",
        "        curr_en = get_energy(lattice)\n",
        "        flip_x,flip_y = (random.randint(0,grid_size-1),random.randint(0,grid_size-1))\n",
        "        state_v = lattice.copy()\n",
        "        state_v[flip_x][flip_y] *=-1\n",
        "        v_en = get_energy(state_v)\n",
        "        p_uv = 1 if v_en<curr_en else np.exp(-b*(v_en - curr_en))\n",
        "        timeList.append(time)\n",
        "        time += 1\n",
        "        if np.random.random()<p_uv:\n",
        "          lattice = state_v.copy()\n",
        "        enList.append(get_energy(lattice))\n",
        "      sampleList.append(lattice)\n",
        "      tempList.append(temp)"
      ]
    },
    {
      "cell_type": "code",
      "execution_count": null,
      "metadata": {
        "id": "FUheNJghYaAP"
      },
      "outputs": [],
      "source": [
        "sampleList[0]"
      ]
    },
    {
      "cell_type": "code",
      "execution_count": null,
      "metadata": {
        "id": "vTFrjTlmYdOo"
      },
      "outputs": [],
      "source": [
        "import matplotlib.pyplot as plt\n",
        "plt.plot(timeList,enList)\n",
        "plt.title(\"Energy vs Algorithmic Time\")\n",
        "count/total"
      ]
    },
    {
      "cell_type": "code",
      "execution_count": null,
      "metadata": {
        "id": "DMTODh6oYfrh"
      },
      "outputs": [],
      "source": [
        "feature_matrix = np.array([features.flatten() for features in sampleList]) #Flatten lattice\n",
        "np.random.shuffle(feature_matrix) #\n",
        "end = 2 * len(feature_matrix) // 5\n",
        "feature_train_matrix = feature_matrix[:-1*end]\n",
        "feature_test_matrix = feature_matrix[-1*end:]\n",
        "tempList2 = np.array([[temp] for temp in tempList])\n",
        "tempList2_train = tempList2[:-1*end]\n",
        "tempList2_test = tempList2[-1*end:]\n",
        "Tc = 2.27\n",
        "y_train = tempList2_train.copy()\n",
        "y_train[tempList2_train>=Tc] = 1\n",
        "y_train[tempList2_train<Tc] = 0\n",
        "y_test = tempList2_test.copy()\n",
        "y_test[tempList2_test>=Tc] = 1\n",
        "y_test[tempList2_test<Tc] = 0"
      ]
    },
    {
      "cell_type": "code",
      "execution_count": null,
      "metadata": {
        "id": "7C8z5lSlYjj5"
      },
      "outputs": [],
      "source": [
        "PATH = \"/content/gdrive/My Drive/SCAI ML Phases of Matter Implementation/model1.989.pth\"\n",
        "# Load\n",
        "model = LinearModel()\n",
        "model.load_state_dict(torch.load(PATH))\n",
        "y_test = torch.from_numpy(y_test)\n",
        "y_test = y_test.type(torch.LongTensor)\n",
        "feature_test_matrix = torch.from_numpy(feature_test_matrix)#.type(torch.DoubleTensor)\n",
        "model.eval()\n",
        "acc = 0\n",
        "for i in range(len(y_test)):\n",
        "    feature = feature_test_matrix[i:i+1].type(torch.FloatTensor)\n",
        "    out = model(feature)\n",
        "    label = y_test[i][0].unsqueeze(0)\n",
        "    #print(label,out)\n",
        "    if(label.item()==out.argmax().item()):\n",
        "      acc+=1\n",
        "    #loss = criterion(out,label)\n",
        "#print(loss)\n",
        "print(acc/len(y_test))"
      ]
    },
    {
      "cell_type": "markdown",
      "metadata": {
        "id": "Xd5Ho1EuX0kH"
      },
      "source": [
        "Then, we generate Triangular Lattices in a hexagonal shape, but allow to try to flip the zero spins. (Zero spins just represent nothing; we are using them to outline the hexagons)"
      ]
    },
    {
      "cell_type": "code",
      "execution_count": null,
      "metadata": {
        "id": "b_oXpENVYDhI"
      },
      "outputs": [],
      "source": [
        "@jit\n",
        "def get_energy(lattice):\n",
        "  en = 0\n",
        "  #Hexagonal Neighbor Addition\n",
        "  for i in range(len(lattice)):\n",
        "    for j in range(len(lattice[i])):\n",
        "      if(i>1 and j>2):\n",
        "        en += lattice[i][j] * lattice[i-1][j-1] * lattice[i][j-2]\n",
        "      elif (i<len(lattice)-1 and j>2):\n",
        "        en += lattice[i][j] * lattice[i][j-2] * lattice[i+1][j-1]\n",
        "      elif (i<len(lattice)-2 and j>1 and j<len(lattice)-1):\n",
        "        en += lattice[i][j] * lattice[i+1][j+1] * lattice[i+1][j-1]\n",
        "      elif (i<len(lattice) - 2 and j<len(lattice) - 2):\n",
        "        en += lattice[i][j] * lattice[i+1][j+1] * lattice[i][j+2]\n",
        "      elif (i>1 and j<len(lattice) - 2):\n",
        "        en += lattice[i][j] * lattice[i][j+2] * lattice[i-1][j+1]\n",
        "      elif (i>1 and j > 1 and j<len(lattice) - 1):\n",
        "        en += lattice[i][j] * lattice[i-1][j+1] * lattice[i-1][j-1]\n",
        "  return en\n",
        "\n",
        "starts = 10 #For each temperature. 10\n",
        "samples = 100 #The number of samples per start per temperature. 100\n",
        "temp_range = np.linspace(1,3.7,27) #The range of temperatures from 1 to 3.7\n",
        "therm_steps = 100 #100\n",
        "tempList = []\n",
        "sampleList = []\n",
        "k = (1.38064852)/(10**23)\n",
        "#b = 0.7 #This is our beta*J value. b = 1/kT\n",
        "count = 0\n",
        "total = 0\n",
        "loopCount = 0\n",
        "for temp in temp_range:\n",
        "  b = 1/(k*temp)\n",
        "  for start in range(starts):\n",
        "    for sample in range(samples):\n",
        "      loopCount+=1\n",
        "      start_lat = np.array([[np.random.exponential() for a in range(grid_size)] for count2 in range(grid_size)])\n",
        "      lattice = np.zeros((grid_size,grid_size))\n",
        "      lattice[start_lat>=0.4] = 1.0\n",
        "      lattice[start_lat<0.4] = -1.0\n",
        "      for i in range(grid_size):\n",
        "        for j in range(grid_size):\n",
        "          if not grid[i][j]:\n",
        "            lattice[i][j] = 0\n",
        "      if list(lattice.flatten()).count(1.)/(grid_size**2) > 0.5:\n",
        "        count+=1#To ensure largely unbalanced  \n",
        "        total += 1\n",
        "      else:\n",
        "        total += 1\n",
        "      enList = []\n",
        "      timeList = []\n",
        "      time = 0  \n",
        "      for therm_step in range(therm_steps):\n",
        "        curr_en = get_energy(lattice)\n",
        "        flip_x,flip_y = (random.randint(0,grid_size-1),random.randint(0,grid_size-1))\n",
        "        state_v = lattice.copy()\n",
        "        state_v[flip_x][flip_y] *=-1\n",
        "        v_en = get_energy(state_v)\n",
        "        p_uv = 1 if v_en<curr_en else np.exp(-b*(v_en - curr_en))\n",
        "        timeList.append(time)\n",
        "        time += 1\n",
        "        if np.random.random()<p_uv:\n",
        "          lattice = state_v.copy()\n",
        "        enList.append(get_energy(lattice))\n",
        "      sampleList.append(lattice)\n",
        "      tempList.append(temp)"
      ]
    },
    {
      "cell_type": "code",
      "execution_count": null,
      "metadata": {
        "id": "-zxX67DMYmWx"
      },
      "outputs": [],
      "source": [
        "sampleList[0]"
      ]
    },
    {
      "cell_type": "code",
      "execution_count": null,
      "metadata": {
        "id": "P3N_jXUHYojX"
      },
      "outputs": [],
      "source": [
        "import matplotlib.pyplot as plt\n",
        "plt.plot(timeList,enList)\n",
        "plt.title(\"Energy vs Algorithmic Time\")\n",
        "count/total"
      ]
    },
    {
      "cell_type": "code",
      "execution_count": null,
      "metadata": {
        "id": "jEprwjIeYrkH"
      },
      "outputs": [],
      "source": [
        "feature_matrix = np.array([features.flatten() for features in sampleList]) #Flatten lattice\n",
        "np.random.shuffle(feature_matrix) #\n",
        "end = 2 * len(feature_matrix) // 5\n",
        "feature_train_matrix = feature_matrix[:-1*end]\n",
        "feature_test_matrix = feature_matrix[-1*end:]\n",
        "tempList2 = np.array([[temp] for temp in tempList])\n",
        "tempList2_train = tempList2[:-1*end]\n",
        "tempList2_test = tempList2[-1*end:]\n",
        "Tc = 2.27\n",
        "y_train = tempList2_train.copy()\n",
        "y_train[tempList2_train>=Tc] = 1\n",
        "y_train[tempList2_train<Tc] = 0\n",
        "y_test = tempList2_test.copy()\n",
        "y_test[tempList2_test>=Tc] = 1\n",
        "y_test[tempList2_test<Tc] = 0"
      ]
    },
    {
      "cell_type": "code",
      "execution_count": null,
      "metadata": {
        "id": "xG4QameOYuAW"
      },
      "outputs": [],
      "source": [
        "PATH = \"/content/gdrive/My Drive/SCAI ML Phases of Matter Implementation/model1.989.pth\"\n",
        "# Load\n",
        "model = LinearModel()\n",
        "model.load_state_dict(torch.load(PATH))\n",
        "y_test = torch.from_numpy(y_test)\n",
        "y_test = y_test.type(torch.LongTensor)\n",
        "feature_test_matrix = torch.from_numpy(feature_test_matrix)#.type(torch.DoubleTensor)\n",
        "model.eval()\n",
        "acc = 0\n",
        "for i in range(len(y_test)):\n",
        "    feature = feature_test_matrix[i:i+1].type(torch.FloatTensor)\n",
        "    out = model(feature)\n",
        "    label = y_test[i][0].unsqueeze(0)\n",
        "    #print(label,out)\n",
        "    if(label.item()==out.argmax().item()):\n",
        "      acc+=1\n",
        "    #loss = criterion(out,label)\n",
        "#print(loss)\n",
        "print(acc/len(y_test))"
      ]
    },
    {
      "cell_type": "markdown",
      "metadata": {
        "id": "V0wRWvqSTx6h"
      },
      "source": [
        "Now we generate Triangular Lattices, in a hexagonal shape. (The other elements in the lattice are 0s, no spins)"
      ]
    },
    {
      "cell_type": "code",
      "execution_count": null,
      "metadata": {
        "id": "uPklBpLI_Gc8"
      },
      "outputs": [],
      "source": [
        "@jit\n",
        "def get_energy(lattice):\n",
        "  en = 0\n",
        "  #Hexagonal Neighbor Addition\n",
        "  for i in range(len(lattice)):\n",
        "    for j in range(len(lattice[i])):\n",
        "      if(i>1 and j>2):\n",
        "        en += lattice[i][j] * lattice[i-1][j-1] * lattice[i][j-2]\n",
        "      if (i<len(lattice)-1 and j>2):\n",
        "        en += lattice[i][j] * lattice[i][j-2] * lattice[i+1][j-1]\n",
        "      if (i<len(lattice)-2 and j>1 and j<len(lattice)-1):\n",
        "        en += lattice[i][j] * lattice[i+1][j+1] * lattice[i+1][j-1]\n",
        "      if (i<len(lattice) - 2 and j<len(lattice) - 2):\n",
        "        en += lattice[i][j] * lattice[i+1][j+1] * lattice[i][j+2]\n",
        "      if (i>1 and j<len(lattice) - 2):\n",
        "        en += lattice[i][j] * lattice[i][j+2] * lattice[i-1][j+1]\n",
        "      if (i>1 and j > 1 and j<len(lattice) - 1):\n",
        "        en += lattice[i][j] * lattice[i-1][j+1] * lattice[i-1][j-1]\n",
        "  return en\n",
        "\n",
        "starts = 10 #For each temperature. 10\n",
        "samples = 100 #The number of samples per start per temperature. 100\n",
        "temp_range = np.linspace(1,3.7,27) #The range of temperatures from 1 to 3.7\n",
        "therm_steps = 100 #100\n",
        "tempList = []\n",
        "sampleList = []\n",
        "k = (1.38064852)/(10**23)\n",
        "#b = 0.7 #This is our beta*J value. b = 1/kT\n",
        "count = 0\n",
        "total = 0\n",
        "loopCount = 0\n",
        "for temp in temp_range:\n",
        "  b = 1/(k*temp)\n",
        "  for start in range(starts):\n",
        "    for sample in range(samples):\n",
        "      loopCount+=1\n",
        "      start_lat = np.array([[np.random.exponential() for a in range(grid_size)] for count2 in range(grid_size)])\n",
        "      lattice = np.zeros((grid_size,grid_size))\n",
        "      lattice[start_lat>=0.4] = 1.0\n",
        "      lattice[start_lat<0.4] = -1.0\n",
        "      for i in range(grid_size):\n",
        "        for j in range(grid_size):\n",
        "          if not grid[i][j]:\n",
        "            lattice[i][j] = 0\n",
        "      if list(lattice.flatten()).count(1.)/(grid_size**2) > 0.5:\n",
        "        count+=1#To ensure largely unbalanced  \n",
        "        total += 1\n",
        "      else:\n",
        "        total += 1\n",
        "      enList = []\n",
        "      timeList = []\n",
        "      time = 0  \n",
        "      for therm_step in range(therm_steps):\n",
        "        curr_en = get_energy(lattice)\n",
        "        flip_x,flip_y = (random.randint(0,grid_size-1),random.randint(0,grid_size-1))\n",
        "        while lattice[flip_x][flip_y]==0:\n",
        "          flip_x,flip_y = (random.randint(0,grid_size-1),random.randint(0,grid_size-1))\n",
        "        state_v = lattice.copy()\n",
        "        state_v[flip_x][flip_y] *=-1\n",
        "        v_en = get_energy(state_v)\n",
        "        p_uv = 1 if v_en<curr_en else np.exp(-b*(v_en - curr_en))\n",
        "        timeList.append(time)\n",
        "        time += 1\n",
        "        if np.random.random()<p_uv:\n",
        "          lattice = state_v.copy()\n",
        "        enList.append(get_energy(lattice))\n",
        "      sampleList.append(lattice)\n",
        "      tempList.append(temp)"
      ]
    },
    {
      "cell_type": "code",
      "execution_count": null,
      "metadata": {
        "id": "9hDjnnK1FzXM"
      },
      "outputs": [],
      "source": [
        "sampleList[0]"
      ]
    },
    {
      "cell_type": "code",
      "execution_count": null,
      "metadata": {
        "id": "UhYFYRI7G7KW"
      },
      "outputs": [],
      "source": [
        "import matplotlib.pyplot as plt\n",
        "plt.plot(timeList,enList)\n",
        "plt.title(\"Energy vs Algorithmic Time\")\n",
        "count/total"
      ]
    },
    {
      "cell_type": "code",
      "execution_count": null,
      "metadata": {
        "id": "_TnbJvQoHBKS"
      },
      "outputs": [],
      "source": [
        "feature_matrix = np.array([features.flatten() for features in sampleList]) #Flatten lattice\n",
        "np.random.shuffle(feature_matrix) #\n",
        "end = 2 * len(feature_matrix) // 5\n",
        "feature_train_matrix = feature_matrix[:-1*end]\n",
        "feature_test_matrix = feature_matrix[-1*end:]\n",
        "tempList2 = np.array([[temp] for temp in tempList])\n",
        "tempList2_train = tempList2[:-1*end]\n",
        "tempList2_test = tempList2[-1*end:]\n",
        "Tc = 2.27\n",
        "y_train = tempList2_train.copy()\n",
        "y_train[tempList2_train>=Tc] = 1\n",
        "y_train[tempList2_train<Tc] = 0\n",
        "y_test = tempList2_test.copy()\n",
        "y_test[tempList2_test>=Tc] = 1\n",
        "y_test[tempList2_test<Tc] = 0"
      ]
    },
    {
      "cell_type": "code",
      "execution_count": null,
      "metadata": {
        "id": "SeUI2fLkIHcx"
      },
      "outputs": [],
      "source": [
        "PATH = \"/content/gdrive/My Drive/SCAI ML Phases of Matter Implementation/model1.989.pth\"\n",
        "# Load\n",
        "model = LinearModel()\n",
        "model.load_state_dict(torch.load(PATH))\n",
        "y_test = torch.from_numpy(y_test)\n",
        "y_test = y_test.type(torch.LongTensor)\n",
        "feature_test_matrix = torch.from_numpy(feature_test_matrix)#.type(torch.DoubleTensor)\n",
        "model.eval()\n",
        "acc = 0\n",
        "for i in range(len(y_test)):\n",
        "    feature = feature_test_matrix[i:i+1].type(torch.FloatTensor)\n",
        "    out = model(feature)\n",
        "    label = y_test[i][0].unsqueeze(0)\n",
        "    #print(label,out)\n",
        "    if(label.item()==out.argmax().item()):\n",
        "      acc+=1\n",
        "    #loss = criterion(out,label)\n",
        "#print(loss)\n",
        "print(acc/len(y_test))"
      ]
    },
    {
      "cell_type": "markdown",
      "metadata": {
        "id": "KIzQXCh1oYmx"
      },
      "source": [
        "## **Triangular Lattice Regeneration**"
      ]
    },
    {
      "cell_type": "markdown",
      "metadata": {
        "id": "n1oWGgEFodJy"
      },
      "source": [
        "Here, we try to generate data on square lattices."
      ]
    },
    {
      "cell_type": "code",
      "execution_count": null,
      "metadata": {
        "id": "OHWC1fPnpNkr"
      },
      "outputs": [],
      "source": [
        "@jit\n",
        "def get_energy(lattice):\n",
        "  en = 0\n",
        "  for i in range(len(lattice)):\n",
        "    for j in range(len(lattice)):\n",
        "      if i>0:\n",
        "        en -= lattice[i][j]*lattice[i-1][j]\n",
        "      if i<len(lattice)-1:\n",
        "        en -= lattice[i][j]*lattice[i+1][j]\n",
        "      if j>0:\n",
        "        en -= lattice[i][j]*lattice[i][j-1]\n",
        "      if j<len(lattice)-1:\n",
        "        en -= lattice[i][j] * lattice[i][j+1]\n",
        "  return en\n",
        "\n",
        "grid_size = 2 #The grid size.\n",
        "starts = 1 #For each temperature. 10\n",
        "samples = 1 #The number of samples per start per temperature. 100\n",
        "temp_range = np.linspace(1,3.7,27) #The range of temperatures from 1 to 3.7\n",
        "therm_steps = 10 #100\n",
        "tempList = []\n",
        "sampleList = []\n",
        "imList = []\n",
        "k = (1.38064852)/(10**23)\n",
        "#b = 0.7 #This is our beta*J value. b = 1/kT\n",
        "count = 0\n",
        "total = 0\n",
        "loopCount = 0\n",
        "fig = plt.figure(figsize=(grid_size,grid_size))\n",
        "for temp in temp_range:\n",
        "  b = 1/(k*temp)\n",
        "  for start in range(starts):\n",
        "    for sample in range(samples):\n",
        "      loopCount+=1\n",
        "      start_lat = np.array([[np.random.exponential() for a in range(grid_size)] for count2 in range(grid_size)])\n",
        "      lattice = np.zeros((grid_size,grid_size))\n",
        "      lattice[start_lat>=0.4] = 1.0\n",
        "      lattice[start_lat<0.4] = -1.0\n",
        "      if list(lattice.flatten()).count(1.)/(grid_size**2) > 0.5:\n",
        "        count+=1#To ensure largely unbalanced  \n",
        "        total += 1\n",
        "      else:\n",
        "        total += 1\n",
        "      enList = []\n",
        "      timeList = []\n",
        "      time = 0  \n",
        "      for therm_step in range(therm_steps):\n",
        "        curr_en = get_energy(lattice)\n",
        "        flip_x,flip_y = (random.randint(0,grid_size-1),random.randint(0,grid_size-1))\n",
        "        state_v = lattice.copy()\n",
        "        state_v[flip_x][flip_y] *=-1\n",
        "        v_en = get_energy(state_v)\n",
        "        p_uv = 1 if v_en<curr_en else np.exp(-b*(v_en - curr_en))\n",
        "        timeList.append(time)\n",
        "        time += 1\n",
        "        if np.random.random()<p_uv:\n",
        "          lattice = state_v.copy()\n",
        "        enList.append(get_energy(lattice))\n",
        "      sampleList.append(lattice)\n",
        "      frames.append([plt.imshow(img[i], cmap=cm.Greys_r,animated=True)])\n",
        "      plt.imshow(lattice)\n",
        "      tempList.append(temp)\n",
        "len(sampleList), loopCount\n",
        "fig = plt.figure()\n",
        "ani = animation.ArtistAnimation(fig, imList, interval=50, blit=True,\n",
        "                                repeat_delay=1000)"
      ]
    },
    {
      "cell_type": "markdown",
      "metadata": {
        "id": "76dZr4y9sUBm"
      },
      "source": [
        "## **Square Ice Model:**"
      ]
    },
    {
      "cell_type": "markdown",
      "source": [
        "###**Generating Square Ice Lattices via Metropolis_Hastings.**"
      ],
      "metadata": {
        "id": "_7RjN0E7xXW5"
      }
    },
    {
      "cell_type": "markdown",
      "source": [
        "First, we create a get_energy function to calculate the energy of a Square Ice Lattice:"
      ],
      "metadata": {
        "id": "p5ZBFZ-WxgUg"
      }
    },
    {
      "cell_type": "markdown",
      "source": [
        "![image.png](data:image/png;base64,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)"
      ],
      "metadata": {
        "id": "TO7czqihOfWZ"
      }
    },
    {
      "cell_type": "code",
      "source": [
        "@jit\n",
        "def sq_ice_energy(lattice):\n",
        "  en = 0\n",
        "  for vi in range(1, len(lattice) - -1):\n",
        "    for wi in range(1, len(lattice) - 1):\n",
        "      v = lattice[vi][wi]\n",
        "      charge_v = lattice[vi][wi - 1] + lattice[vi][wi + 1] + lattice[vi + 1][wi] + lattice[vi - 1][wi]\n",
        "      en+= charge_v**2\n",
        "  return en"
      ],
      "metadata": {
        "id": "1hbJbRD6xp2r"
      },
      "execution_count": null,
      "outputs": []
    },
    {
      "cell_type": "markdown",
      "source": [
        "Now we apply the Metropolis-Hastings method to generate Square Ice Lattice samples."
      ],
      "metadata": {
        "id": "rFInU_Ri05SB"
      }
    },
    {
      "cell_type": "code",
      "source": [
        "sampleList, tempList, enList, timeList =  metropolis(sq_ice_energy, 16, 10, 100, 1.0, 3.7, 100)"
      ],
      "metadata": {
        "id": "M-ysIVsf0TLr"
      },
      "execution_count": null,
      "outputs": []
    },
    {
      "cell_type": "code",
      "source": [
        "feature_train_matrix, y_train, feature_test_matrix, y_test = train_test_data(sampleList)"
      ],
      "metadata": {
        "id": "wF_O99fg1GWp"
      },
      "execution_count": null,
      "outputs": []
    },
    {
      "cell_type": "code",
      "source": [
        "from sklearn import svm \n",
        "clf = svm.SVC(kernel=\"rbf\") \n",
        "clf.fit(feature_train_matrix,y_train)\n",
        "predictions = clf.predict(feature_test_matrix)\n",
        "from sklearn import metrics\n",
        "print(metrics.accuracy_score(y_test,predictions)) "
      ],
      "metadata": {
        "id": "EZ2Hr2BMWDeK"
      },
      "execution_count": null,
      "outputs": []
    },
    {
      "cell_type": "markdown",
      "metadata": {
        "id": "bo88D361opBI"
      },
      "source": [
        "## **Ising Lattice Gauge Theory:**"
      ]
    },
    {
      "cell_type": "code",
      "execution_count": 43,
      "metadata": {
        "id": "jtgX819ZtznX",
        "colab": {
          "base_uri": "https://localhost:8080/",
          "height": 90
        },
        "outputId": "367f1b3c-e947-4e09-f24b-205446948571"
      },
      "outputs": [
        {
          "output_type": "stream",
          "name": "stdout",
          "text": [
            "Looking in indexes: https://pypi.org/simple, https://us-python.pkg.dev/colab-wheels/public/simple/\n",
            "Requirement already satisfied: tqdm in /usr/local/lib/python3.7/dist-packages (4.64.0)\n"
          ]
        },
        {
          "output_type": "stream",
          "name": "stderr",
          "text": [
            "100%|██████████| 27/27 [01:31<00:00,  3.38s/it]\n"
          ]
        },
        {
          "output_type": "display_data",
          "data": {
            "text/plain": [
              "<Figure size 1152x1152 with 0 Axes>"
            ]
          },
          "metadata": {}
        }
      ],
      "source": [
        "import matplotlib.pyplot as plt\n",
        "import matplotlib.animation as animation\n",
        "import matplotlib.cm as cm\n",
        "!pip install tqdm\n",
        "from tqdm import tqdm\n",
        "@jit\n",
        "def get_energy(lattice):\n",
        "  en = 0\n",
        "  #For each plaquette in lattice, add the product of its vertices' spins to en\n",
        "  plaquettes = gen_plaquette(lattice) \n",
        "  for p in plaquettes: #[[1,-1],[-1,1]]\n",
        "    en += p[0][0] * p[0][1] * p[1][0] * p[1][1]\n",
        "  return en\n",
        "\n",
        "@jit\n",
        "def gen_plaquette(lattice):\n",
        "  plaqs = []\n",
        "  for i in range(len(lattice) - 2):\n",
        "    for j in range(len(lattice[i]) - 2):\n",
        "      plaqs.append(lattice[i:i+2, j:j+2])\n",
        "  return plaqs\n",
        "\n",
        "@jit\n",
        "def get_energy_2(lattice):\n",
        "  en = 0\n",
        "  for i in range(len(lattice) - 2):\n",
        "    for j in range(len(lattice)-2):\n",
        "      en += lattice[i][j] * lattice[i + 1][j] * lattice[i][j + 1] * lattice[i + 1][j + 1]\n",
        "  return en\n",
        "\n",
        "grid_size = 16 #The grid size.\n",
        "starts = 10 #For each temperature. 10\n",
        "samples = 100 #The number of samples per start per temperature. 100\n",
        "temp_range = np.linspace(1,3.7,27) #The range of temperatures from 1 to 3.7\n",
        "therm_steps = 100 #100\n",
        "tempList = []\n",
        "sampleList = []\n",
        "frames = []\n",
        "imList = []\n",
        "k = (1.38064852)/(10**23)\n",
        "#b = 0.7 #This is our beta*J value. b = 1/kT\n",
        "count = 0\n",
        "total = 0\n",
        "loopCount = 0\n",
        "fig = plt.figure(figsize=(grid_size,grid_size))\n",
        "for temp_i in tqdm(range(len(temp_range))):\n",
        "  temp = temp_range[temp_i]\n",
        "  b = 1/(k*temp)\n",
        "  for start in range(starts):\n",
        "    for sample in range(samples):\n",
        "      loopCount+=1\n",
        "      start_lat = np.array([[np.random.exponential() for a in range(grid_size)] for count2 in range(grid_size)])\n",
        "      lattice = np.zeros((grid_size,grid_size))\n",
        "      lattice[start_lat>=0.4] = 1.0\n",
        "      lattice[start_lat<0.4] = -1.0\n",
        "      if list(lattice.flatten()).count(1.)/(grid_size**2) > 0.5:\n",
        "        count+=1#To ensure largely unbalanced  \n",
        "        total += 1\n",
        "      else:\n",
        "        total += 1\n",
        "      enList = []\n",
        "      timeList = []\n",
        "      time = 0  \n",
        "      for therm_step in range(therm_steps):\n",
        "        curr_en = get_energy_2(lattice)\n",
        "        flip_x,flip_y = (random.randint(0,grid_size-1),random.randint(0,grid_size-1))\n",
        "        state_v = lattice.copy()\n",
        "        state_v[flip_x][flip_y] *=-1\n",
        "        v_en = get_energy_2(state_v)\n",
        "        p_uv = 1 if v_en<curr_en else np.exp(-b*(v_en - curr_en))\n",
        "        timeList.append(time)\n",
        "        time += 1\n",
        "        if np.random.random()<p_uv:\n",
        "          lattice = state_v.copy()\n",
        "        enList.append(get_energy(lattice))\n",
        "      sampleList.append(lattice)\n",
        "      tempList.append(temp)"
      ]
    },
    {
      "cell_type": "code",
      "execution_count": null,
      "metadata": {
        "id": "ElaitshwsrDA"
      },
      "outputs": [],
      "source": [
        "import cv2\n",
        "duration = 60\n",
        "fps = len(sampleList)//duration\n",
        "out = cv2.VideoWriter('gauge_lattice.mp4', cv2.VideoWriter_fourcc(*'mp4v'), fps, (grid_size, grid_size), False)\n",
        "for i in range(len(sampleList)):\n",
        "  frame = np.uint8(255 * sampleList[i])\n",
        "  out.write(frame)\n",
        "out.release()"
      ]
    },
    {
      "cell_type": "code",
      "execution_count": null,
      "metadata": {
        "id": "znqAR18DtNNF"
      },
      "outputs": [],
      "source": [
        "from google.colab import files\n",
        "files.download('gauge_lattice.mp4')"
      ]
    },
    {
      "cell_type": "markdown",
      "metadata": {
        "id": "1OnHOZJhr2Kp"
      },
      "source": [
        "Here, a Convolutional Neural Network on the Ising Gauge Theory Lattice, ideally to produce near 100% accuracy."
      ]
    },
    {
      "cell_type": "markdown",
      "metadata": {
        "id": "QvX2eRrNEVw2"
      },
      "source": [
        "Preprocessing: Here, we convert the 16x16 lattices generated into a tensor of shape 16x16x2, with each of the two values doing one-hot encoding of each spin.\n"
      ]
    },
    {
      "cell_type": "code",
      "execution_count": 44,
      "metadata": {
        "id": "dIykvAZt-m5k"
      },
      "outputs": [],
      "source": [
        "trainx_tensor = torch.zeros(1, grid_size, grid_size, 2) #16 x 16 x 2 x 1\n",
        "\n",
        "for lattice in sampleList:\n",
        "  pos_mat = torch.tensor(lattice>0, dtype = torch.float32)\n",
        "  neg_mat = torch.tensor(lattice<0, dtype = torch.float32)\n",
        "  combined_tensor = torch.stack((pos_mat, neg_mat))\n",
        "  combined_tensor = torch.transpose(combined_tensor, dim0 = 0, dim1 = 2)\n",
        "  combined_tensor = torch.unsqueeze(combined_tensor, 0) #16 x 16 x 2 x 1\n",
        "\n",
        "  trainx_tensor = torch.cat((trainx_tensor, combined_tensor), dim = 0)"
      ]
    },
    {
      "cell_type": "code",
      "source": [
        "trainx_tensor = trainx_tensor[1:]"
      ],
      "metadata": {
        "colab": {
          "base_uri": "https://localhost:8080/"
        },
        "id": "HGzoGlHfscC2",
        "outputId": "83515c1c-4929-46f5-ce6e-0ab1a9128892"
      },
      "execution_count": 50,
      "outputs": [
        {
          "output_type": "execute_result",
          "data": {
            "text/plain": [
              "torch.Size([26999, 16, 16, 2])"
            ]
          },
          "metadata": {},
          "execution_count": 50
        }
      ]
    },
    {
      "cell_type": "code",
      "execution_count": 53,
      "metadata": {
        "id": "m0ntTll9BMOA"
      },
      "outputs": [],
      "source": [
        "Tc = 2.27\n",
        "zero_states = trainx_tensor[torch.tensor(tempList) < Tc]"
      ]
    },
    {
      "cell_type": "code",
      "source": [
        "print(zero_states.shape)"
      ],
      "metadata": {
        "colab": {
          "base_uri": "https://localhost:8080/"
        },
        "id": "OgglaMpItEGD",
        "outputId": "eeec13a0-a356-48eb-8f4f-b5759fe34383"
      },
      "execution_count": 54,
      "outputs": [
        {
          "output_type": "stream",
          "name": "stdout",
          "text": [
            "torch.Size([12999, 16, 16, 2])\n"
          ]
        }
      ]
    },
    {
      "cell_type": "markdown",
      "metadata": {
        "id": "8Sbp1keJGrsF"
      },
      "source": [
        "## **Generating New Test Sets: **"
      ]
    },
    {
      "cell_type": "code",
      "execution_count": 2,
      "metadata": {
        "id": "zDnDYUgNDEcR",
        "colab": {
          "base_uri": "https://localhost:8080/",
          "height": 226
        },
        "outputId": "21b020ed-b42d-482e-fc13-8e5acafb3023"
      },
      "outputs": [
        {
          "output_type": "error",
          "ename": "NameError",
          "evalue": "ignored",
          "traceback": [
            "\u001b[0;31m---------------------------------------------------------------------------\u001b[0m",
            "\u001b[0;31mNameError\u001b[0m                                 Traceback (most recent call last)",
            "\u001b[0;32m<ipython-input-2-652b81d110ba>\u001b[0m in \u001b[0;36m<module>\u001b[0;34m()\u001b[0m\n\u001b[1;32m      1\u001b[0m \u001b[0;31m# (2)\u001b[0m\u001b[0;34m\u001b[0m\u001b[0;34m\u001b[0m\u001b[0;34m\u001b[0m\u001b[0m\n\u001b[1;32m      2\u001b[0m \u001b[0;34m\u001b[0m\u001b[0m\n\u001b[0;32m----> 3\u001b[0;31m \u001b[0;32mfor\u001b[0m \u001b[0mlattice\u001b[0m \u001b[0;32min\u001b[0m \u001b[0msampleList\u001b[0m\u001b[0;34m:\u001b[0m\u001b[0;34m\u001b[0m\u001b[0;34m\u001b[0m\u001b[0m\n\u001b[0m\u001b[1;32m      4\u001b[0m   \u001b[0mprint\u001b[0m\u001b[0;34m(\u001b[0m\u001b[0;34m)\u001b[0m\u001b[0;34m\u001b[0m\u001b[0;34m\u001b[0m\u001b[0m\n",
            "\u001b[0;31mNameError\u001b[0m: name 'sampleList' is not defined"
          ]
        }
      ],
      "source": [
        "# (2)\n",
        "\n"
      ]
    },
    {
      "cell_type": "code",
      "source": [
        "  "
      ],
      "metadata": {
        "id": "e1pgzQAJgbQm"
      },
      "execution_count": null,
      "outputs": []
    }
  ],
  "metadata": {
    "colab": {
      "collapsed_sections": [],
      "name": "Experiments: Machine Learning Phase Transitions - Final.ipynb",
      "provenance": [],
      "include_colab_link": true
    },
    "kernelspec": {
      "display_name": "Python 3",
      "name": "python3"
    },
    "language_info": {
      "name": "python"
    }
  },
  "nbformat": 4,
  "nbformat_minor": 0
}