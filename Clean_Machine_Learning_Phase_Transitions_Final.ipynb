{
  "cells": [
    {
      "cell_type": "markdown",
      "metadata": {
        "id": "view-in-github",
        "colab_type": "text"
      },
      "source": [
        "<a href=\"https://colab.research.google.com/github/santacruzAI/MLPhasesOfMatter/blob/main/Clean_Machine_Learning_Phase_Transitions_Final.ipynb\" target=\"_parent\"><img src=\"https://colab.research.google.com/assets/colab-badge.svg\" alt=\"Open In Colab\"/></a>"
      ]
    },
    {
      "cell_type": "markdown",
      "source": [
        "#**FOR WORKING PURPOSES ONLY:**\n",
        "\n",
        "Plan:\n",
        "\n",
        "1. Generate Square Lattice Data\n",
        "2. Create a Fully-Conected Neural Network, achieving 94% accuracy on 10x10 grids.\n",
        "3. Create a Fully Connected Neural Network, achieving 99% accuracy on 40x40 grids.\n",
        "4. Create the mentioned Toy Model, with analytically determined parameters.\n",
        "5. Generate Triangular Lattice Data (L = 30) *(Side Note: They don't seem to train a separate model for each L)*\n",
        "6. If necessary, train a Fully Connected Neural Network on 30x30 square lattice data.\n",
        "7. Test out Fully Connected Neural Network on the Triangular Lattice Data.\n",
        "8. Generate Square Ice Lattice Data (2 x 16 x 16).\n",
        "9. Train Fully Connected Neural Network on Square Ice Lattice Data (100 hidden units..)\n",
        "10. Generate Ising Lattice Gauge Theory Lattices (16 x 16 x 2).\n",
        "11. Train a Fully-Connected Neural Network on this data, show it only attains 50% accuracy.\n",
        "12. Train a ConvNet on this data, show it attains nearly 100% accuracy.\n",
        "13. Modify the testing set to violate the closed-loop structure.\n",
        "14. Test the ConvNet on this, demonstrate results are still high.\n",
        "15. Modify the testing set to violate locality constraints.\n",
        "16. Test the ConvNet on this, demonstrate results are lower.\n",
        "17. Discuss future extensions, and eventually start implementing them.\n"
      ],
      "metadata": {
        "id": "VSCj8sCX86_3"
      }
    },
    {
      "cell_type": "code",
      "execution_count": 1,
      "metadata": {
        "id": "Inezb3UQhrCt",
        "colab": {
          "base_uri": "https://localhost:8080/"
        },
        "outputId": "2f752037-38d1-40df-e758-7ef7f17c1424"
      },
      "outputs": [
        {
          "output_type": "stream",
          "name": "stdout",
          "text": [
            "Looking in indexes: https://pypi.org/simple, https://us-python.pkg.dev/colab-wheels/public/simple/\n",
            "Requirement already satisfied: numba in /usr/local/lib/python3.7/dist-packages (0.56.0)\n",
            "Requirement already satisfied: setuptools in /usr/local/lib/python3.7/dist-packages (from numba) (57.4.0)\n",
            "Requirement already satisfied: importlib-metadata in /usr/local/lib/python3.7/dist-packages (from numba) (4.12.0)\n",
            "Requirement already satisfied: numpy<1.23,>=1.18 in /usr/local/lib/python3.7/dist-packages (from numba) (1.21.6)\n",
            "Requirement already satisfied: llvmlite<0.40,>=0.39.0dev0 in /usr/local/lib/python3.7/dist-packages (from numba) (0.39.0)\n",
            "Requirement already satisfied: typing-extensions>=3.6.4 in /usr/local/lib/python3.7/dist-packages (from importlib-metadata->numba) (4.1.1)\n",
            "Requirement already satisfied: zipp>=0.5 in /usr/local/lib/python3.7/dist-packages (from importlib-metadata->numba) (3.8.1)\n",
            "Looking in indexes: https://pypi.org/simple, https://us-python.pkg.dev/colab-wheels/public/simple/\n",
            "Requirement already satisfied: tqdm in /usr/local/lib/python3.7/dist-packages (4.64.0)\n",
            "Looking in indexes: https://pypi.org/simple, https://us-python.pkg.dev/colab-wheels/public/simple/\n",
            "Collecting ray\n",
            "  Downloading ray-1.13.0-cp37-cp37m-manylinux2014_x86_64.whl (54.5 MB)\n",
            "\u001b[K     |████████████████████████████████| 54.5 MB 207 kB/s \n",
            "\u001b[?25hRequirement already satisfied: jsonschema in /usr/local/lib/python3.7/dist-packages (from ray) (4.3.3)\n",
            "Collecting grpcio<=1.43.0,>=1.28.1\n",
            "  Downloading grpcio-1.43.0-cp37-cp37m-manylinux_2_17_x86_64.manylinux2014_x86_64.whl (4.1 MB)\n",
            "\u001b[K     |████████████████████████████████| 4.1 MB 45.5 MB/s \n",
            "\u001b[?25hRequirement already satisfied: filelock in /usr/local/lib/python3.7/dist-packages (from ray) (3.7.1)\n",
            "Requirement already satisfied: click<=8.0.4,>=7.0 in /usr/local/lib/python3.7/dist-packages (from ray) (7.1.2)\n",
            "Requirement already satisfied: protobuf<4.0.0,>=3.15.3 in /usr/local/lib/python3.7/dist-packages (from ray) (3.17.3)\n",
            "Requirement already satisfied: requests in /usr/local/lib/python3.7/dist-packages (from ray) (2.23.0)\n",
            "Requirement already satisfied: msgpack<2.0.0,>=1.0.0 in /usr/local/lib/python3.7/dist-packages (from ray) (1.0.4)\n",
            "Requirement already satisfied: frozenlist in /usr/local/lib/python3.7/dist-packages (from ray) (1.3.0)\n",
            "Collecting virtualenv\n",
            "  Downloading virtualenv-20.16.3-py2.py3-none-any.whl (8.8 MB)\n",
            "\u001b[K     |████████████████████████████████| 8.8 MB 44.6 MB/s \n",
            "\u001b[?25hRequirement already satisfied: numpy>=1.16 in /usr/local/lib/python3.7/dist-packages (from ray) (1.21.6)\n",
            "Requirement already satisfied: pyyaml in /usr/local/lib/python3.7/dist-packages (from ray) (3.13)\n",
            "Requirement already satisfied: aiosignal in /usr/local/lib/python3.7/dist-packages (from ray) (1.2.0)\n",
            "Requirement already satisfied: attrs in /usr/local/lib/python3.7/dist-packages (from ray) (22.1.0)\n",
            "Requirement already satisfied: six>=1.5.2 in /usr/local/lib/python3.7/dist-packages (from grpcio<=1.43.0,>=1.28.1->ray) (1.15.0)\n",
            "Requirement already satisfied: importlib-metadata in /usr/local/lib/python3.7/dist-packages (from jsonschema->ray) (4.12.0)\n",
            "Requirement already satisfied: importlib-resources>=1.4.0 in /usr/local/lib/python3.7/dist-packages (from jsonschema->ray) (5.9.0)\n",
            "Requirement already satisfied: pyrsistent!=0.17.0,!=0.17.1,!=0.17.2,>=0.14.0 in /usr/local/lib/python3.7/dist-packages (from jsonschema->ray) (0.18.1)\n",
            "Requirement already satisfied: typing-extensions in /usr/local/lib/python3.7/dist-packages (from jsonschema->ray) (4.1.1)\n",
            "Requirement already satisfied: zipp>=3.1.0 in /usr/local/lib/python3.7/dist-packages (from importlib-resources>=1.4.0->jsonschema->ray) (3.8.1)\n",
            "Requirement already satisfied: certifi>=2017.4.17 in /usr/local/lib/python3.7/dist-packages (from requests->ray) (2022.6.15)\n",
            "Requirement already satisfied: chardet<4,>=3.0.2 in /usr/local/lib/python3.7/dist-packages (from requests->ray) (3.0.4)\n",
            "Requirement already satisfied: urllib3!=1.25.0,!=1.25.1,<1.26,>=1.21.1 in /usr/local/lib/python3.7/dist-packages (from requests->ray) (1.24.3)\n",
            "Requirement already satisfied: idna<3,>=2.5 in /usr/local/lib/python3.7/dist-packages (from requests->ray) (2.10)\n",
            "Collecting platformdirs<3,>=2.4\n",
            "  Downloading platformdirs-2.5.2-py3-none-any.whl (14 kB)\n",
            "Collecting distlib<1,>=0.3.5\n",
            "  Downloading distlib-0.3.5-py2.py3-none-any.whl (466 kB)\n",
            "\u001b[K     |████████████████████████████████| 466 kB 56.9 MB/s \n",
            "\u001b[?25hInstalling collected packages: platformdirs, distlib, virtualenv, grpcio, ray\n",
            "  Attempting uninstall: grpcio\n",
            "    Found existing installation: grpcio 1.47.0\n",
            "    Uninstalling grpcio-1.47.0:\n",
            "      Successfully uninstalled grpcio-1.47.0\n",
            "Successfully installed distlib-0.3.5 grpcio-1.43.0 platformdirs-2.5.2 ray-1.13.0 virtualenv-20.16.3\n"
          ]
        }
      ],
      "source": [
        "import numpy as np\n",
        "import random\n",
        "!pip install numba\n",
        "from numba import jit\n",
        "import matplotlib.pyplot as plt\n",
        "!pip install tqdm\n",
        "!pip install ray\n",
        "from tqdm import tqdm\n",
        "import pandas as pd"
      ]
    },
    {
      "cell_type": "markdown",
      "metadata": {
        "id": "Ipw8nBYofz_o"
      },
      "source": [
        "# **Data Generation**"
      ]
    },
    {
      "cell_type": "code",
      "source": [
        "np.random.seed(seed = 3)"
      ],
      "metadata": {
        "id": "WMdepwa2Tcwo"
      },
      "execution_count": 2,
      "outputs": []
    },
    {
      "cell_type": "markdown",
      "source": [
        "Here, we will perform the Metropolis-Hastings Algorithm to generate square lattices."
      ],
      "metadata": {
        "id": "wYYKm9HkKzDR"
      }
    },
    {
      "cell_type": "markdown",
      "source": [
        "First, we create this function to calculate the square Hamiltonian for each lattice."
      ],
      "metadata": {
        "id": "ZmOriijsLPRo"
      }
    },
    {
      "cell_type": "code",
      "source": [
        "@jit\n",
        "def ferr_square_energy(lattice):\n",
        "  en = 0\n",
        "  for i in range(len(lattice)):\n",
        "    for j in range(len(lattice)):\n",
        "      if i>0:\n",
        "        en += lattice[i][j]*lattice[i-1][j]\n",
        "      if i<len(lattice)-1:\n",
        "        en += lattice[i][j]*lattice[i+1][j]\n",
        "      if j>0:\n",
        "        en += lattice[i][j]*lattice[i][j-1]\n",
        "      if j<len(lattice)-1:\n",
        "        en += lattice[i][j] * lattice[i][j+1]\n",
        "  return en"
      ],
      "metadata": {
        "id": "HFhQQQf9Ls0A"
      },
      "execution_count": 3,
      "outputs": []
    },
    {
      "cell_type": "markdown",
      "source": [
        "Here, we initialize our constants."
      ],
      "metadata": {
        "id": "UD4OEoGlL6gB"
      }
    },
    {
      "cell_type": "code",
      "source": [
        "k = (1.38064852)/(10**23) #"
      ],
      "metadata": {
        "id": "XxCvE_v_MCEY"
      },
      "execution_count": 4,
      "outputs": []
    },
    {
      "cell_type": "markdown",
      "source": [
        "Now, we create a function to execute the Metropolis-Hastings Algorithm and collect samples."
      ],
      "metadata": {
        "id": "ZYL8OgUnQvZA"
      }
    },
    {
      "cell_type": "code",
      "source": [
        "from typing import Callable\n",
        "def metropolis(get_energy: Callable[[np.ndarray], float], grid_size: int, starts: int, samples: int, temp_start: float, temp_end: float, therm_steps: int):\n",
        "  temp_range = np.linspace(temp_start,temp_end,int(10*(temp_end-temp_start))) #The range of temperatures from 1 to 3.7\n",
        "  tempList = [] #This collects the specific temperatures for later plotting.\n",
        "  sampleList = [] #This collects the samples over the Metropolis-Hastings algorithm.\n",
        "\n",
        "  #For each temperature, for each start, we collect samples collected after thermal evolution. \n",
        "  for temp_count in tqdm(range(len(temp_range))):\n",
        "    temp = temp_range[temp_count]\n",
        "    #Computing beta.\n",
        "    b = 1/(k*temp) \n",
        "    #Collect each sample.\n",
        "    for sample in range(samples): \n",
        "      #Generates a random lattice of decimals between -1 and 1.\n",
        "      lattice = np.array([random.choice([-1, 1]) for j in range(grid_size**2)]).reshape(grid_size, grid_size)\n",
        "      \n",
        "      #This collects all the energies of samples for plotting.\n",
        "      enList = [] \n",
        "      #Here, we will collect iterative times for plotting.\n",
        "      timeList = []\n",
        "      #Initializing algorithmic time to 0.\n",
        "      time = 0\n",
        "    \n",
        "      #We perform thermal evolution.\n",
        "      for therm_step in range(therm_steps):\n",
        "      \n",
        "        #Collect the energy of the current lattice.\n",
        "        curr_en = get_energy(lattice)\n",
        "        \n",
        "        #Picks a lattice sites to flip.\n",
        "        index = random.randint(0, (grid_size - 1) * (grid_size - 1))\n",
        "        flip_x, flip_y = (index//grid_size, index % grid_size)\n",
        "\n",
        "        flip_row = index//grid_size\n",
        "        \n",
        "        #We create a candidate state (state_v) that has this site flipped. \n",
        "        state_v = lattice.copy()\n",
        "        #state_v[flip_x][flip_y] *=-1\n",
        "        state_v[flip_row] *= -1\n",
        "\n",
        "        #Here, we evaluate the energy of this candidate.\n",
        "        v_en = get_energy(state_v)\n",
        "      \n",
        "        #Now we calculate the probability that this state will be accepted. If the candidate state has a lower energy than the current state, this probability is 1, else it is the exponentiation of the difference between the candidate and present energy scaled.\n",
        "        p_uv = 1 if v_en < curr_en else np.exp(-b*(v_en - curr_en))\n",
        "      \n",
        "        #We store the algorithmic time and increment it.\n",
        "        timeList.append(time)\n",
        "        time += 1\n",
        "      \n",
        "        #If a coin toss with this acceptance probability as its distribution produces a 1 (perhaps thought of as a heads), we accept the state.\n",
        "        if np.random.uniform()<=p_uv:\n",
        "        #if np.random.uniform() < np.exp()\n",
        "          lattice = state_v.copy()\n",
        "      \n",
        "        #We store the energy of the lattice, for the plotting.\n",
        "        enList.append(get_energy(lattice))\n",
        "    \n",
        "      #Here we store the sample and the current temperature for plotting and sample collection.\n",
        "      sampleList.append(lattice)\n",
        "      tempList.append(temp)\n",
        "        \n",
        "  return sampleList, tempList, enList, timeList"
      ],
      "metadata": {
        "id": "eQvRQQKKP1SY"
      },
      "execution_count": 5,
      "outputs": []
    },
    {
      "cell_type": "markdown",
      "source": [
        "Now we run Metropolis-Hastings for the Square Lattice to generate 10 x 10 lattices, over 10 starts, taking 100 samples per start per temperatures ranging between 1.0 and 3.7. 100 thermal evolution steps will be taken to simulate the effects of a thermal bath."
      ],
      "metadata": {
        "id": "ZaxPMVs2T4C2"
      }
    },
    {
      "cell_type": "code",
      "source": [
        "sampleList, tempList, enList, timeList = metropolis(ferr_square_energy, 10, 10, 100, 1, 3.7, 100)"
      ],
      "metadata": {
        "colab": {
          "base_uri": "https://localhost:8080/"
        },
        "id": "ovJNI4zNRJYt",
        "outputId": "2e8eddae-632f-47f1-ec1e-f22f48f1f4e2"
      },
      "execution_count": 6,
      "outputs": [
        {
          "output_type": "stream",
          "name": "stderr",
          "text": [
            "100%|██████████| 27/27 [00:08<00:00,  3.13it/s]\n"
          ]
        }
      ]
    },
    {
      "cell_type": "markdown",
      "metadata": {
        "id": "kydzXO8gSzAH"
      },
      "source": [
        "**Here, we plot algorithmic time vs the energy of the lattices over the last iteration of thermal evolution in the Metropolis-Hastings Algorithm.**"
      ]
    },
    {
      "cell_type": "code",
      "source": [
        "#We plot energy vs algorithmic time.\n",
        "plt.plot(timeList, enList)"
      ],
      "metadata": {
        "colab": {
          "base_uri": "https://localhost:8080/",
          "height": 282
        },
        "id": "H5q0Jvu-T_t_",
        "outputId": "0f987817-251e-40b2-90c5-56c9525f6c80"
      },
      "execution_count": 7,
      "outputs": [
        {
          "output_type": "execute_result",
          "data": {
            "text/plain": [
              "[<matplotlib.lines.Line2D at 0x7fbe5db84c50>]"
            ]
          },
          "metadata": {},
          "execution_count": 7
        },
        {
          "output_type": "display_data",
          "data": {
            "text/plain": [
              "<Figure size 432x288 with 1 Axes>"
            ],
            "image/png": "[encoded data removed]"
          },
          "metadata": {
            "needs_background": "light"
          }
        }
      ]
    },
    {
      "cell_type": "markdown",
      "source": [
        "Though it is roughly-hewn, and may appear jittery, the energy decreases consistently over time, which is encouraging."
      ],
      "metadata": {
        "id": "i6suPmGrWmT5"
      }
    },
    {
      "cell_type": "markdown",
      "metadata": {
        "id": "JgQor45rs5Ls"
      },
      "source": [
        "## **Data Preprocessing**"
      ]
    },
    {
      "cell_type": "markdown",
      "source": [
        "**Here we preprocess the data by simply flattening the lattices into feature vectors, perform train-test split and store it in a .csv file.**\n",
        "\n",
        "\n"
      ],
      "metadata": {
        "id": "Jc3UVANeU-Ou"
      }
    },
    {
      "cell_type": "code",
      "execution_count": null,
      "metadata": {
        "id": "6ddVJ3Avs4r9"
      },
      "outputs": [],
      "source": [
        "def train_test_data(sampleList):\n",
        "\n",
        "  #Here, we flatten the samples into a feature matrix.\n",
        "  feature_matrix = np.array([features.flatten() for features in sampleList])\n",
        "  \n",
        "  #Set Curie Temperature as 2.27\n",
        "  Tc = 2.27\n",
        "  \n",
        "  #We create another set of temperature values, first reformatting to correct dimensions and marking all temperatures above the critical temperature 1, and all below 0.\n",
        "  tempList2 = np.array([[temp] for temp in tempList])\n",
        "  tempList3 = np.zeros(tempList2.shape)\n",
        "  tempList3[tempList2>=Tc] = 1\n",
        "  tempList3[tempList2<Tc] = 0\n",
        "  \n",
        "  #Now, we append the target column (1/0 to indicate temp above or below the critical temperature) to the feature matrix.\n",
        "  feature_matrix = np.append(feature_matrix, tempList3, axis = 1)\n",
        "  \n",
        "  #We shuffle the feature matrix so that the neural network doesn't pick up any pattern around the temperature-ordered way we generated the data.\n",
        "  np.random.shuffle(feature_matrix) #\n",
        "\n",
        "  #Here, we perform train-test split, and pick 3/5 of the data for training and 2/5 for testing.\n",
        "  end = 4 * len(feature_matrix) // 5\n",
        "  feature_train_matrix = feature_matrix[:end, :-1]\n",
        "  feature_test_matrix = feature_matrix[end:, :-1]\n",
        "  \n",
        "  tempList2 = feature_matrix[:,-1]\n",
        "  tempList2 = [int(temp) for temp in tempList2]\n",
        "  \n",
        "  y_train = tempList2[:end]\n",
        "  y_test = tempList2[end:]\n",
        " \n",
        "  #Here, we return the training and testing data.\n",
        "  \n",
        "  return feature_train_matrix, np.expand_dims(np.array(y_train), axis = 1), feature_test_matrix, np.expand_dims(np.array(y_test), axis = 1)\n",
        "\n",
        "feature_train_matrix, y_train, feature_test_matrix, y_test = train_test_data(sampleList)\n",
        "\n",
        "#Uncomment the code below to store the data into a csv file.\n",
        "\n",
        "#csv_train = pd.DataFrame(feature_train_matrix)\n",
        "#csv_train[\"y_train\"] = y_train\n",
        "#csv_train = csv_train.to_csv(\"square_csv_train.csv\")\n",
        "#csv_test = pd.DataFrame(feature_test_matrix)\n",
        "#csv_test[\"y_test\"] = y_test\n",
        "#csv_test = csv_test.to_csv(\"square_csv_test.csv\")\n",
        "\n",
        "#These lines of code can be uncommented to download the csv files.\n",
        "\n",
        "#from google.colab import files\n",
        "#files.download(\"csv_train.csv\")\n",
        "#files.download(\"csv_test.csv\")"
      ]
    },
    {
      "cell_type": "markdown",
      "source": [
        "##**Hyperparameter Tuning**"
      ],
      "metadata": {
        "id": "ag4pYnFoA_YN"
      }
    },
    {
      "cell_type": "markdown",
      "metadata": {
        "id": "lgCnHuOXeUBp"
      },
      "source": [
        "## **Feedforward Neural Network for Square Lattice Phase Transitions**"
      ]
    },
    {
      "cell_type": "markdown",
      "source": [
        "**Here, we construct our first Neural Network.**"
      ],
      "metadata": {
        "id": "Ip8xC1jmW-eJ"
      }
    },
    {
      "cell_type": "markdown",
      "source": [
        "Here we create a class defining a LinearModel Neural Network with dimensions as specified in paper, input layer of grid_size * grid_size x 100 and a hidden layer of 100 x 2, including a non-linear sigmoid activation."
      ],
      "metadata": {
        "id": "jh1JrAmvXByl"
      }
    },
    {
      "cell_type": "code",
      "execution_count": 9,
      "metadata": {
        "id": "IEZAUIpBJ5gH"
      },
      "outputs": [],
      "source": [
        "import torch.nn as nn #Super-class for PyTorch NNs\n",
        "from torch.nn import Sigmoid\n",
        "from torch.optim import Adam\n",
        "import torch\n",
        "from torch import Tensor\n",
        "from torch import from_numpy\n",
        "grid_size = 10\n",
        "class LinearModel(nn.Module): \n",
        "    def __init__(self): #Define struct\n",
        "        super(LinearModel, self).__init__()          \n",
        "        self.fc_1 = nn.Linear(grid_size*grid_size, 100)    \n",
        "        self.fc_2 = nn.Linear(100, 2)\n",
        "            \n",
        "    def forward(self, X):    \n",
        "        output = self.fc_1(X)\n",
        "        output = nn.Sigmoid()(output)\n",
        "        output = self.fc_2(output)\n",
        "        output = nn.Sigmoid()(output)\n",
        "        return output"
      ]
    },
    {
      "cell_type": "markdown",
      "source": [
        "**Training:**\n",
        "\n",
        "Here we train the model on the training data using Cross-Entropy Loss with Adam-based optimization."
      ],
      "metadata": {
        "id": "-9fqXjTuXqgd"
      }
    },
    {
      "cell_type": "code",
      "source": [
        "temptest = [0 if temp < 2.27 else 1 for temp in tempList]\n",
        "print(temptest.count(0))\n",
        "print(temptest.count(1))"
      ],
      "metadata": {
        "colab": {
          "base_uri": "https://localhost:8080/"
        },
        "id": "az22Un6gWo17",
        "outputId": "4d93403e-939a-44dd-c2c8-abe7944d7727"
      },
      "execution_count": 10,
      "outputs": [
        {
          "output_type": "stream",
          "name": "stdout",
          "text": [
            "1300\n",
            "1400\n"
          ]
        }
      ]
    },
    {
      "cell_type": "code",
      "source": [
        "def flip(n):\n",
        "  if n == 1:\n",
        "    return 0\n",
        "  else:\n",
        "    return 1"
      ],
      "metadata": {
        "id": "xUfOmSg2UOU-"
      },
      "execution_count": 11,
      "outputs": []
    },
    {
      "cell_type": "code",
      "source": [
        "train_features = feature_train_matrix.copy()\n",
        "train_out = y_train.copy()\n",
        "optalg = Adam\n",
        "epochs = 1000\n",
        "batch_size = 128\n",
        "feature_test_matrix_torch = torch.Tensor(feature_test_matrix)\n",
        "y_test_torch = torch.Tensor(y_test).type(torch.LongTensor)\n",
        "\n",
        "features_train = train_features.copy()\n",
        "target_train = train_out.copy()\n",
        "#The grid_size is merely the square root of the length of each example, since its features are the list of all lattice sites.\n",
        "grid_size = int(np.sqrt(len(features_train[0])))\n",
        "\n",
        "#We run some number of Epochs of training.\n",
        "EPOCHS = epochs\n",
        "\n",
        "#Here we instantiate a Linear Model and set it to train mode.\n",
        "model = LinearModel()\n",
        "model.train()\n",
        "\n",
        "#We set the criterion to be CrossEntropyLoss and the optimizer Adam.\n",
        "criterion = nn.BCELoss()\n",
        "optimizer = optalg(model.parameters(), lr = 10**-5)\n",
        "\n",
        "#We convert the numpy data to a PyTorch Tensor to be compatible with the neural network.\n",
        "y_train_torch = torch.from_numpy(target_train)\n",
        "y_train_torch = y_train_torch.type(torch.LongTensor)\n",
        "feature_train_matrix_torch = torch.from_numpy(features_train)\n",
        "\n",
        "#Initialize the list of accuracies for plotting purposes.\n",
        "acc_list = []\n",
        "test_acc_list = []\n",
        "#Initialize the list of epochs for plotting purposes.\n",
        "ep_li = []\n",
        "predictions = []\n",
        "\n",
        "#For each epoch\n",
        "for ep in tqdm(range(1, EPOCHS + 1)):\n",
        "  acc = 0\n",
        "  ep_li.append(ep)\n",
        "  rand_perms = torch.randperm(feature_train_matrix_torch.shape[0])\n",
        "  \n",
        "  #for each training example, extract the example's features, set the optimizer to zero_gradient mode.\n",
        "\n",
        "  for i in range(0, rand_perms.shape[0], batch_size):\n",
        "    current_indices = rand_perms[i:i+batch_size]\n",
        "    current_features = feature_train_matrix_torch[current_indices].type(torch.FloatTensor)\n",
        "    current_targets = y_train_torch[current_indices].type(torch.LongTensor)\n",
        "    optimizer.zero_grad()\n",
        "\n",
        "    out = model.forward(current_features)\n",
        "    #print(\"OUT.SHAPE: \", out.shape)\n",
        "    label = nn.functional.one_hot(current_targets.type(torch.LongTensor), num_classes = 2).type(torch.FloatTensor).squeeze(1)\n",
        "    \n",
        "    #print(\"LABEL.SHAPE: \", label.shape)\n",
        "    #print(\"OUT.SHAPE: \", out.shape)\n",
        "    #print(\"\\nCurrent Features Shape: \", current_features.shape)\n",
        "    #print(\"Current Targets Shape: \", current_targets.shape)\n",
        "    \n",
        "    acc+= list(torch.argmax(label, 1) - torch.argmax(out, 1)).count(0)\n",
        "    #if(torch.eq(torch.argmax(label,1), torch.argmax(out_hot,1)).all()):\n",
        "    #  acc+=1\n",
        "    #Calculate the loss via cross entropy.\n",
        "    loss = criterion(out,label)\n",
        "    #Perform backward propagation to improve the weights, on this loss function.\n",
        "    loss.backward()\n",
        "    #Step the optimizer.\n",
        "    optimizer.step()\n",
        "  \n",
        "  #Testing Step\n",
        "\n",
        "  test_out = model.forward(feature_test_matrix_torch)\n",
        "  test_label = nn.functional.one_hot(y_test_torch.type(torch.LongTensor), num_classes = 2).type(torch.FloatTensor).squeeze(1)\n",
        "  test_acc = list(torch.argmax(test_label, 1) - torch.argmax(test_out, 1)).count(0)\n",
        "\n",
        "  print(\"\\nTRAIN ACCURACY: \", 100 * acc/len(y_train_torch))\n",
        "  print(\"TEST ACCURACY: \", 100* test_acc/len(y_test_torch))\n",
        "\n",
        "  acc_list.append(100*acc/len(y_train_torch))\n",
        "  test_acc_list.append(100*test_acc/len(y_test_torch))\n",
        "  ep_li.append(ep)"
      ],
      "metadata": {
        "id": "vy1_a_GPnfWR",
        "colab": {
          "base_uri": "https://localhost:8080/"
        },
        "outputId": "9c7b61fc-b86c-4a61-cff3-2b9459ec65f5"
      },
      "execution_count": 12,
      "outputs": [
        {
          "output_type": "stream",
          "name": "stderr",
          "text": [
            "  0%|          | 3/1000 [00:00<02:04,  7.98it/s]"
          ]
        },
        {
          "output_type": "stream",
          "name": "stdout",
          "text": [
            "\n",
            "TRAIN ACCURACY:  46.898148148148145\n",
            "TEST ACCURACY:  47.77777777777778\n",
            "\n",
            "TRAIN ACCURACY:  46.898148148148145\n",
            "TEST ACCURACY:  47.96296296296296\n",
            "\n",
            "TRAIN ACCURACY:  47.03703703703704\n",
            "TEST ACCURACY:  46.851851851851855\n"
          ]
        },
        {
          "output_type": "stream",
          "name": "stderr",
          "text": [
            "  1%|          | 7/1000 [00:00<01:20, 12.26it/s]"
          ]
        },
        {
          "output_type": "stream",
          "name": "stdout",
          "text": [
            "\n",
            "TRAIN ACCURACY:  47.083333333333336\n",
            "TEST ACCURACY:  48.148148148148145\n",
            "\n",
            "TRAIN ACCURACY:  47.129629629629626\n",
            "TEST ACCURACY:  47.22222222222222\n",
            "\n",
            "TRAIN ACCURACY:  47.407407407407405\n",
            "TEST ACCURACY:  47.407407407407405\n",
            "\n",
            "TRAIN ACCURACY:  47.68518518518518\n",
            "TEST ACCURACY:  47.03703703703704\n"
          ]
        },
        {
          "output_type": "stream",
          "name": "stderr",
          "text": [
            "\r  1%|          | 9/1000 [00:00<01:20, 12.27it/s]"
          ]
        },
        {
          "output_type": "stream",
          "name": "stdout",
          "text": [
            "\n",
            "TRAIN ACCURACY:  47.73148148148148\n",
            "TEST ACCURACY:  46.111111111111114\n",
            "\n",
            "TRAIN ACCURACY:  47.916666666666664\n",
            "TEST ACCURACY:  46.111111111111114\n"
          ]
        },
        {
          "output_type": "stream",
          "name": "stderr",
          "text": [
            "\r  1%|          | 11/1000 [00:01<01:25, 11.52it/s]"
          ]
        },
        {
          "output_type": "stream",
          "name": "stdout",
          "text": [
            "\n",
            "TRAIN ACCURACY:  48.333333333333336\n",
            "TEST ACCURACY:  46.2962962962963\n",
            "\n",
            "TRAIN ACCURACY:  48.657407407407405\n",
            "TEST ACCURACY:  46.48148148148148\n"
          ]
        },
        {
          "output_type": "stream",
          "name": "stderr",
          "text": [
            "\r  1%|▏         | 13/1000 [00:01<01:33, 10.54it/s]"
          ]
        },
        {
          "output_type": "stream",
          "name": "stdout",
          "text": [
            "\n",
            "TRAIN ACCURACY:  48.425925925925924\n",
            "TEST ACCURACY:  47.77777777777778\n",
            "\n",
            "TRAIN ACCURACY:  48.19444444444444\n",
            "TEST ACCURACY:  47.592592592592595\n",
            "\n",
            "TRAIN ACCURACY:  48.611111111111114\n",
            "TEST ACCURACY:  48.333333333333336\n"
          ]
        },
        {
          "output_type": "stream",
          "name": "stderr",
          "text": [
            "  2%|▏         | 17/1000 [00:01<01:28, 11.13it/s]"
          ]
        },
        {
          "output_type": "stream",
          "name": "stdout",
          "text": [
            "\n",
            "TRAIN ACCURACY:  48.7962962962963\n",
            "TEST ACCURACY:  48.7037037037037\n",
            "\n",
            "TRAIN ACCURACY:  49.44444444444444\n",
            "TEST ACCURACY:  49.25925925925926\n",
            "\n",
            "TRAIN ACCURACY:  49.9537037037037\n",
            "TEST ACCURACY:  49.44444444444444\n"
          ]
        },
        {
          "output_type": "stream",
          "name": "stderr",
          "text": [
            "\r  2%|▏         | 19/1000 [00:01<01:24, 11.62it/s]"
          ]
        },
        {
          "output_type": "stream",
          "name": "stdout",
          "text": [
            "\n",
            "TRAIN ACCURACY:  50.0\n",
            "TEST ACCURACY:  49.629629629629626\n",
            "\n",
            "TRAIN ACCURACY:  50.416666666666664\n",
            "TEST ACCURACY:  49.81481481481482\n",
            "\n",
            "TRAIN ACCURACY:  50.27777777777778\n",
            "TEST ACCURACY:  49.81481481481482\n"
          ]
        },
        {
          "output_type": "stream",
          "name": "stderr",
          "text": [
            "  2%|▏         | 23/1000 [00:02<01:25, 11.46it/s]"
          ]
        },
        {
          "output_type": "stream",
          "name": "stdout",
          "text": [
            "\n",
            "TRAIN ACCURACY:  50.0\n",
            "TEST ACCURACY:  50.0\n",
            "\n",
            "TRAIN ACCURACY:  49.907407407407405\n",
            "TEST ACCURACY:  50.55555555555556\n",
            "\n",
            "TRAIN ACCURACY:  49.675925925925924\n",
            "TEST ACCURACY:  50.0\n"
          ]
        },
        {
          "output_type": "stream",
          "name": "stderr",
          "text": [
            "\r  2%|▎         | 25/1000 [00:02<01:28, 11.06it/s]"
          ]
        },
        {
          "output_type": "stream",
          "name": "stdout",
          "text": [
            "\n",
            "TRAIN ACCURACY:  49.72222222222222\n",
            "TEST ACCURACY:  49.629629629629626\n",
            "\n",
            "TRAIN ACCURACY:  49.49074074074074\n",
            "TEST ACCURACY:  50.18518518518518\n",
            "\n",
            "TRAIN ACCURACY:  49.76851851851852\n",
            "TEST ACCURACY:  50.55555555555556\n"
          ]
        },
        {
          "output_type": "stream",
          "name": "stderr",
          "text": [
            "\r  3%|▎         | 27/1000 [00:02<01:23, 11.66it/s]"
          ]
        },
        {
          "output_type": "stream",
          "name": "stdout",
          "text": [
            "\n",
            "TRAIN ACCURACY:  49.76851851851852\n",
            "TEST ACCURACY:  50.18518518518518\n",
            "\n",
            "TRAIN ACCURACY:  49.629629629629626\n",
            "TEST ACCURACY:  50.55555555555556\n"
          ]
        },
        {
          "output_type": "stream",
          "name": "stderr",
          "text": [
            "  3%|▎         | 31/1000 [00:02<01:21, 11.84it/s]"
          ]
        },
        {
          "output_type": "stream",
          "name": "stdout",
          "text": [
            "\n",
            "TRAIN ACCURACY:  49.81481481481482\n",
            "TEST ACCURACY:  51.2962962962963\n",
            "\n",
            "TRAIN ACCURACY:  49.9537037037037\n",
            "TEST ACCURACY:  51.2962962962963\n",
            "\n",
            "TRAIN ACCURACY:  50.27777777777778\n",
            "TEST ACCURACY:  50.370370370370374\n",
            "\n",
            "TRAIN ACCURACY:  50.50925925925926\n",
            "TEST ACCURACY:  50.55555555555556\n"
          ]
        },
        {
          "output_type": "stream",
          "name": "stderr",
          "text": [
            "  4%|▎         | 35/1000 [00:03<01:13, 13.18it/s]"
          ]
        },
        {
          "output_type": "stream",
          "name": "stdout",
          "text": [
            "\n",
            "TRAIN ACCURACY:  50.416666666666664\n",
            "TEST ACCURACY:  51.48148148148148\n",
            "\n",
            "TRAIN ACCURACY:  50.74074074074074\n",
            "TEST ACCURACY:  51.111111111111114\n",
            "\n",
            "TRAIN ACCURACY:  50.97222222222222\n",
            "TEST ACCURACY:  51.111111111111114\n"
          ]
        },
        {
          "output_type": "stream",
          "name": "stderr",
          "text": [
            "\r  4%|▎         | 37/1000 [00:03<01:09, 13.77it/s]"
          ]
        },
        {
          "output_type": "stream",
          "name": "stdout",
          "text": [
            "\n",
            "TRAIN ACCURACY:  51.157407407407405\n",
            "TEST ACCURACY:  51.111111111111114\n",
            "\n",
            "TRAIN ACCURACY:  50.925925925925924\n",
            "TEST ACCURACY:  51.111111111111114\n",
            "\n",
            "TRAIN ACCURACY:  51.01851851851852\n",
            "TEST ACCURACY:  50.55555555555556\n",
            "\n",
            "TRAIN ACCURACY:  51.25\n",
            "TEST ACCURACY:  50.74074074074074\n"
          ]
        },
        {
          "output_type": "stream",
          "name": "stderr",
          "text": [
            "  4%|▍         | 41/1000 [00:03<01:15, 12.67it/s]"
          ]
        },
        {
          "output_type": "stream",
          "name": "stdout",
          "text": [
            "\n",
            "TRAIN ACCURACY:  51.2037037037037\n",
            "TEST ACCURACY:  50.370370370370374\n",
            "\n",
            "TRAIN ACCURACY:  51.342592592592595\n",
            "TEST ACCURACY:  50.370370370370374\n",
            "\n",
            "TRAIN ACCURACY:  51.2962962962963\n",
            "TEST ACCURACY:  49.81481481481482\n"
          ]
        },
        {
          "output_type": "stream",
          "name": "stderr",
          "text": [
            "  4%|▍         | 45/1000 [00:03<01:20, 11.85it/s]"
          ]
        },
        {
          "output_type": "stream",
          "name": "stdout",
          "text": [
            "\n",
            "TRAIN ACCURACY:  51.43518518518518\n",
            "TEST ACCURACY:  50.0\n",
            "\n",
            "TRAIN ACCURACY:  51.574074074074076\n",
            "TEST ACCURACY:  50.0\n",
            "\n",
            "TRAIN ACCURACY:  51.80555555555556\n",
            "TEST ACCURACY:  49.629629629629626\n"
          ]
        },
        {
          "output_type": "stream",
          "name": "stderr",
          "text": [
            "\r  5%|▍         | 47/1000 [00:04<01:19, 11.96it/s]"
          ]
        },
        {
          "output_type": "stream",
          "name": "stdout",
          "text": [
            "\n",
            "TRAIN ACCURACY:  51.75925925925926\n",
            "TEST ACCURACY:  49.629629629629626\n",
            "\n",
            "TRAIN ACCURACY:  51.574074074074076\n",
            "TEST ACCURACY:  50.0\n",
            "\n",
            "TRAIN ACCURACY:  51.71296296296296\n",
            "TEST ACCURACY:  50.370370370370374\n"
          ]
        },
        {
          "output_type": "stream",
          "name": "stderr",
          "text": [
            "  5%|▌         | 51/1000 [00:04<01:15, 12.63it/s]"
          ]
        },
        {
          "output_type": "stream",
          "name": "stdout",
          "text": [
            "\n",
            "TRAIN ACCURACY:  51.80555555555556\n",
            "TEST ACCURACY:  50.18518518518518\n",
            "\n",
            "TRAIN ACCURACY:  51.94444444444444\n",
            "TEST ACCURACY:  50.18518518518518\n",
            "\n",
            "TRAIN ACCURACY:  51.75925925925926\n",
            "TEST ACCURACY:  50.18518518518518\n"
          ]
        },
        {
          "output_type": "stream",
          "name": "stderr",
          "text": [
            "\r  5%|▌         | 53/1000 [00:04<01:12, 13.09it/s]"
          ]
        },
        {
          "output_type": "stream",
          "name": "stdout",
          "text": [
            "\n",
            "TRAIN ACCURACY:  51.851851851851855\n",
            "TEST ACCURACY:  50.370370370370374\n",
            "\n",
            "TRAIN ACCURACY:  51.80555555555556\n",
            "TEST ACCURACY:  50.74074074074074\n",
            "\n",
            "TRAIN ACCURACY:  51.80555555555556\n",
            "TEST ACCURACY:  50.74074074074074\n",
            "\n",
            "TRAIN ACCURACY:  51.99074074074074"
          ]
        },
        {
          "output_type": "stream",
          "name": "stderr",
          "text": [
            "  6%|▌         | 57/1000 [00:04<01:17, 12.23it/s]"
          ]
        },
        {
          "output_type": "stream",
          "name": "stdout",
          "text": [
            "\n",
            "TEST ACCURACY:  50.925925925925924\n",
            "\n",
            "TRAIN ACCURACY:  51.898148148148145\n",
            "TEST ACCURACY:  51.48148148148148\n",
            "\n",
            "TRAIN ACCURACY:  51.851851851851855\n",
            "TEST ACCURACY:  51.48148148148148\n"
          ]
        },
        {
          "output_type": "stream",
          "name": "stderr",
          "text": [
            "\r  6%|▌         | 59/1000 [00:05<01:31, 10.27it/s]"
          ]
        },
        {
          "output_type": "stream",
          "name": "stdout",
          "text": [
            "\n",
            "TRAIN ACCURACY:  51.75925925925926\n",
            "TEST ACCURACY:  50.925925925925924\n",
            "\n",
            "TRAIN ACCURACY:  51.851851851851855\n",
            "TEST ACCURACY:  50.74074074074074\n"
          ]
        },
        {
          "output_type": "stream",
          "name": "stderr",
          "text": [
            "\r  6%|▌         | 61/1000 [00:05<01:33, 10.04it/s]"
          ]
        },
        {
          "output_type": "stream",
          "name": "stdout",
          "text": [
            "\n",
            "TRAIN ACCURACY:  51.80555555555556\n",
            "TEST ACCURACY:  51.2962962962963\n",
            "\n",
            "TRAIN ACCURACY:  51.99074074074074\n",
            "TEST ACCURACY:  51.2962962962963\n"
          ]
        },
        {
          "output_type": "stream",
          "name": "stderr",
          "text": [
            "\r  6%|▋         | 63/1000 [00:05<01:34,  9.88it/s]"
          ]
        },
        {
          "output_type": "stream",
          "name": "stdout",
          "text": [
            "\n",
            "TRAIN ACCURACY:  51.851851851851855\n",
            "TEST ACCURACY:  51.2962962962963\n",
            "\n",
            "TRAIN ACCURACY:  51.99074074074074\n",
            "TEST ACCURACY:  51.111111111111114\n",
            "\n",
            "TRAIN ACCURACY:  52.22222222222222\n",
            "TEST ACCURACY:  "
          ]
        },
        {
          "output_type": "stream",
          "name": "stderr",
          "text": [
            "\r  6%|▋         | 65/1000 [00:05<01:42,  9.08it/s]"
          ]
        },
        {
          "output_type": "stream",
          "name": "stdout",
          "text": [
            "51.851851851851855\n",
            "\n",
            "TRAIN ACCURACY:  52.31481481481482\n",
            "TEST ACCURACY:  52.03703703703704\n"
          ]
        },
        {
          "output_type": "stream",
          "name": "stderr",
          "text": [
            "  7%|▋         | 68/1000 [00:06<01:26, 10.75it/s]"
          ]
        },
        {
          "output_type": "stream",
          "name": "stdout",
          "text": [
            "\n",
            "TRAIN ACCURACY:  52.26851851851852\n",
            "TEST ACCURACY:  52.03703703703704\n",
            "\n",
            "TRAIN ACCURACY:  52.4537037037037\n",
            "TEST ACCURACY:  51.851851851851855\n",
            "\n",
            "TRAIN ACCURACY:  52.4537037037037\n",
            "TEST ACCURACY:  51.851851851851855\n"
          ]
        },
        {
          "output_type": "stream",
          "name": "stderr",
          "text": [
            "\r  7%|▋         | 70/1000 [00:06<01:21, 11.38it/s]"
          ]
        },
        {
          "output_type": "stream",
          "name": "stdout",
          "text": [
            "\n",
            "TRAIN ACCURACY:  52.4537037037037\n",
            "TEST ACCURACY:  51.851851851851855\n",
            "\n",
            "TRAIN ACCURACY:  52.638888888888886\n",
            "TEST ACCURACY:  51.666666666666664\n",
            "\n",
            "TRAIN ACCURACY:  52.407407407407405\n",
            "TEST ACCURACY:  51.666666666666664\n"
          ]
        },
        {
          "output_type": "stream",
          "name": "stderr",
          "text": [
            "  7%|▋         | 74/1000 [00:06<01:15, 12.25it/s]"
          ]
        },
        {
          "output_type": "stream",
          "name": "stdout",
          "text": [
            "\n",
            "TRAIN ACCURACY:  52.5462962962963\n",
            "TEST ACCURACY:  51.851851851851855\n",
            "\n",
            "TRAIN ACCURACY:  52.4537037037037\n",
            "TEST ACCURACY:  51.851851851851855\n",
            "\n",
            "TRAIN ACCURACY:  52.5462962962963\n",
            "TEST ACCURACY:  51.666666666666664\n"
          ]
        },
        {
          "output_type": "stream",
          "name": "stderr",
          "text": [
            "\r  8%|▊         | 76/1000 [00:06<01:11, 12.92it/s]"
          ]
        },
        {
          "output_type": "stream",
          "name": "stdout",
          "text": [
            "\n",
            "TRAIN ACCURACY:  52.5462962962963\n",
            "TEST ACCURACY:  51.48148148148148\n",
            "\n",
            "TRAIN ACCURACY:  52.4537037037037\n",
            "TEST ACCURACY:  51.666666666666664\n",
            "\n",
            "TRAIN ACCURACY:  52.592592592592595\n",
            "TEST ACCURACY:  51.48148148148148\n"
          ]
        },
        {
          "output_type": "stream",
          "name": "stderr",
          "text": [
            "\r  8%|▊         | 78/1000 [00:06<01:11, 12.97it/s]"
          ]
        },
        {
          "output_type": "stream",
          "name": "stdout",
          "text": [
            "\n",
            "TRAIN ACCURACY:  52.5462962962963\n",
            "TEST ACCURACY:  51.48148148148148\n",
            "\n",
            "TRAIN ACCURACY:  52.592592592592595\n",
            "TEST ACCURACY:  51.48148148148148\n"
          ]
        },
        {
          "output_type": "stream",
          "name": "stderr",
          "text": [
            "  8%|▊         | 82/1000 [00:07<01:17, 11.82it/s]"
          ]
        },
        {
          "output_type": "stream",
          "name": "stdout",
          "text": [
            "\n",
            "TRAIN ACCURACY:  52.68518518518518\n",
            "TEST ACCURACY:  51.2962962962963\n",
            "\n",
            "TRAIN ACCURACY:  52.5462962962963\n",
            "TEST ACCURACY:  51.111111111111114\n",
            "\n",
            "TRAIN ACCURACY:  52.592592592592595\n",
            "TEST ACCURACY:  51.48148148148148\n",
            "\n",
            "TRAIN ACCURACY:  52.592592592592595\n",
            "TEST ACCURACY:  51.48148148148148\n"
          ]
        },
        {
          "output_type": "stream",
          "name": "stderr",
          "text": [
            "  9%|▊         | 86/1000 [00:07<01:10, 12.91it/s]"
          ]
        },
        {
          "output_type": "stream",
          "name": "stdout",
          "text": [
            "\n",
            "TRAIN ACCURACY:  52.592592592592595\n",
            "TEST ACCURACY:  51.48148148148148\n",
            "\n",
            "TRAIN ACCURACY:  52.68518518518518\n",
            "TEST ACCURACY:  51.48148148148148\n",
            "\n",
            "TRAIN ACCURACY:  52.77777777777778\n",
            "TEST ACCURACY:  51.2962962962963\n"
          ]
        },
        {
          "output_type": "stream",
          "name": "stderr",
          "text": [
            "\r  9%|▉         | 88/1000 [00:07<01:09, 13.16it/s]"
          ]
        },
        {
          "output_type": "stream",
          "name": "stdout",
          "text": [
            "\n",
            "TRAIN ACCURACY:  52.824074074074076\n",
            "TEST ACCURACY:  51.2962962962963\n",
            "\n",
            "TRAIN ACCURACY:  52.916666666666664\n",
            "TEST ACCURACY:  51.2962962962963\n",
            "\n",
            "TRAIN ACCURACY:  52.96296296296296\n",
            "TEST ACCURACY:  51.851851851851855\n"
          ]
        },
        {
          "output_type": "stream",
          "name": "stderr",
          "text": [
            "  9%|▉         | 92/1000 [00:07<01:11, 12.68it/s]"
          ]
        },
        {
          "output_type": "stream",
          "name": "stdout",
          "text": [
            "\n",
            "TRAIN ACCURACY:  52.96296296296296\n",
            "TEST ACCURACY:  51.851851851851855\n",
            "\n",
            "TRAIN ACCURACY:  53.00925925925926\n",
            "TEST ACCURACY:  51.851851851851855\n",
            "\n",
            "TRAIN ACCURACY:  52.916666666666664\n",
            "TEST ACCURACY:  51.851851851851855\n"
          ]
        },
        {
          "output_type": "stream",
          "name": "stderr",
          "text": [
            "\r  9%|▉         | 94/1000 [00:08<01:24, 10.73it/s]"
          ]
        },
        {
          "output_type": "stream",
          "name": "stdout",
          "text": [
            "\n",
            "TRAIN ACCURACY:  52.96296296296296\n",
            "TEST ACCURACY:  51.851851851851855\n",
            "\n",
            "TRAIN ACCURACY:  53.101851851851855\n",
            "TEST ACCURACY:  51.851851851851855\n",
            "\n",
            "TRAIN ACCURACY:  53.19444444444444\n",
            "TEST ACCURACY:  51.851851851851855\n"
          ]
        },
        {
          "output_type": "stream",
          "name": "stderr",
          "text": [
            "\r 10%|▉         | 96/1000 [00:08<01:20, 11.23it/s]"
          ]
        },
        {
          "output_type": "stream",
          "name": "stdout",
          "text": [
            "\n",
            "TRAIN ACCURACY:  53.24074074074074\n",
            "TEST ACCURACY:  51.851851851851855\n",
            "\n",
            "TRAIN ACCURACY:  53.28703703703704\n",
            "TEST ACCURACY:  51.851851851851855\n"
          ]
        },
        {
          "output_type": "stream",
          "name": "stderr",
          "text": [
            "\r 10%|▉         | 98/1000 [00:08<01:28, 10.21it/s]"
          ]
        },
        {
          "output_type": "stream",
          "name": "stdout",
          "text": [
            "\n",
            "TRAIN ACCURACY:  53.19444444444444\n",
            "TEST ACCURACY:  51.851851851851855\n",
            "\n",
            "TRAIN ACCURACY:  53.19444444444444\n",
            "TEST ACCURACY:  51.851851851851855\n"
          ]
        },
        {
          "output_type": "stream",
          "name": "stderr",
          "text": [
            " 10%|█         | 102/1000 [00:08<01:27, 10.26it/s]"
          ]
        },
        {
          "output_type": "stream",
          "name": "stdout",
          "text": [
            "\n",
            "TRAIN ACCURACY:  53.101851851851855\n",
            "TEST ACCURACY:  51.851851851851855\n",
            "\n",
            "TRAIN ACCURACY:  53.101851851851855\n",
            "TEST ACCURACY:  52.03703703703704\n",
            "\n",
            "TRAIN ACCURACY:  53.05555555555556\n",
            "TEST ACCURACY:  52.03703703703704\n"
          ]
        },
        {
          "output_type": "stream",
          "name": "stderr",
          "text": [
            "\r 10%|█         | 104/1000 [00:09<01:19, 11.23it/s]"
          ]
        },
        {
          "output_type": "stream",
          "name": "stdout",
          "text": [
            "\n",
            "TRAIN ACCURACY:  53.24074074074074\n",
            "TEST ACCURACY:  52.22222222222222\n",
            "\n",
            "TRAIN ACCURACY:  53.148148148148145\n",
            "TEST ACCURACY:  52.22222222222222\n",
            "\n",
            "TRAIN ACCURACY:  53.333333333333336\n",
            "TEST ACCURACY:  52.22222222222222\n"
          ]
        },
        {
          "output_type": "stream",
          "name": "stderr",
          "text": [
            "\r 11%|█         | 106/1000 [00:09<01:28, 10.11it/s]"
          ]
        },
        {
          "output_type": "stream",
          "name": "stdout",
          "text": [
            "\n",
            "TRAIN ACCURACY:  53.19444444444444\n",
            "TEST ACCURACY:  52.22222222222222\n",
            "\n",
            "TRAIN ACCURACY:  53.24074074074074\n",
            "TEST ACCURACY:  52.22222222222222\n"
          ]
        },
        {
          "output_type": "stream",
          "name": "stderr",
          "text": [
            "\r 11%|█         | 108/1000 [00:09<01:30,  9.90it/s]"
          ]
        },
        {
          "output_type": "stream",
          "name": "stdout",
          "text": [
            "\n",
            "TRAIN ACCURACY:  53.333333333333336\n",
            "TEST ACCURACY:  52.22222222222222\n",
            "\n",
            "TRAIN ACCURACY:  53.425925925925924\n",
            "TEST ACCURACY:  52.407407407407405\n"
          ]
        },
        {
          "output_type": "stream",
          "name": "stderr",
          "text": [
            " 11%|█         | 112/1000 [00:09<01:32,  9.61it/s]"
          ]
        },
        {
          "output_type": "stream",
          "name": "stdout",
          "text": [
            "\n",
            "TRAIN ACCURACY:  53.47222222222222\n",
            "TEST ACCURACY:  52.03703703703704\n",
            "\n",
            "TRAIN ACCURACY:  53.51851851851852\n",
            "TEST ACCURACY:  52.22222222222222\n",
            "\n",
            "TRAIN ACCURACY:  53.47222222222222\n",
            "TEST ACCURACY:  52.407407407407405\n"
          ]
        },
        {
          "output_type": "stream",
          "name": "stderr",
          "text": [
            "\r 11%|█▏        | 114/1000 [00:10<01:22, 10.72it/s]"
          ]
        },
        {
          "output_type": "stream",
          "name": "stdout",
          "text": [
            "\n",
            "TRAIN ACCURACY:  53.47222222222222\n",
            "TEST ACCURACY:  52.22222222222222\n",
            "\n",
            "TRAIN ACCURACY:  53.425925925925924\n",
            "TEST ACCURACY:  52.03703703703704\n"
          ]
        },
        {
          "output_type": "stream",
          "name": "stderr",
          "text": [
            "\r 12%|█▏        | 116/1000 [00:10<01:30,  9.81it/s]"
          ]
        },
        {
          "output_type": "stream",
          "name": "stdout",
          "text": [
            "\n",
            "TRAIN ACCURACY:  53.611111111111114\n",
            "TEST ACCURACY:  52.22222222222222\n",
            "\n",
            "TRAIN ACCURACY:  53.425925925925924\n",
            "TEST ACCURACY:  51.851851851851855\n",
            "\n",
            "TRAIN ACCURACY:  53.56481481481482\n",
            "TEST ACCURACY:  51.666666666666664\n",
            "\n",
            "TRAIN ACCURACY:  53.51851851851852\n",
            "TEST ACCURACY: "
          ]
        },
        {
          "output_type": "stream",
          "name": "stderr",
          "text": [
            " 12%|█▏        | 120/1000 [00:10<01:25, 10.28it/s]"
          ]
        },
        {
          "output_type": "stream",
          "name": "stdout",
          "text": [
            " 51.2962962962963\n",
            "\n",
            "TRAIN ACCURACY:  53.657407407407405\n",
            "TEST ACCURACY:  51.666666666666664\n",
            "\n",
            "TRAIN ACCURACY:  53.51851851851852\n",
            "TEST ACCURACY:  51.666666666666664\n"
          ]
        },
        {
          "output_type": "stream",
          "name": "stderr",
          "text": [
            "\r 12%|█▏        | 122/1000 [00:10<01:31,  9.61it/s]"
          ]
        },
        {
          "output_type": "stream",
          "name": "stdout",
          "text": [
            "\n",
            "TRAIN ACCURACY:  53.51851851851852\n",
            "TEST ACCURACY:  51.851851851851855\n",
            "\n",
            "TRAIN ACCURACY:  53.611111111111114\n",
            "TEST ACCURACY:  51.48148148148148\n"
          ]
        },
        {
          "output_type": "stream",
          "name": "stderr",
          "text": [
            " 12%|█▏        | 124/1000 [00:11<01:40,  8.71it/s]"
          ]
        },
        {
          "output_type": "stream",
          "name": "stdout",
          "text": [
            "\n",
            "TRAIN ACCURACY:  53.611111111111114\n",
            "TEST ACCURACY:  51.48148148148148\n",
            "\n",
            "TRAIN ACCURACY:  53.657407407407405\n",
            "TEST ACCURACY:  51.666666666666664\n"
          ]
        },
        {
          "output_type": "stream",
          "name": "stderr",
          "text": [
            "\r 13%|█▎        | 126/1000 [00:11<01:37,  8.99it/s]"
          ]
        },
        {
          "output_type": "stream",
          "name": "stdout",
          "text": [
            "\n",
            "TRAIN ACCURACY:  53.657407407407405\n",
            "TEST ACCURACY:  51.48148148148148\n",
            "\n",
            "TRAIN ACCURACY:  53.7037037037037\n",
            "TEST ACCURACY:  51.48148148148148\n"
          ]
        },
        {
          "output_type": "stream",
          "name": "stderr",
          "text": [
            " 13%|█▎        | 129/1000 [00:11<01:27,  9.97it/s]"
          ]
        },
        {
          "output_type": "stream",
          "name": "stdout",
          "text": [
            "\n",
            "TRAIN ACCURACY:  53.7037037037037\n",
            "TEST ACCURACY:  51.666666666666664\n",
            "\n",
            "TRAIN ACCURACY:  53.7962962962963\n",
            "TEST ACCURACY:  51.666666666666664\n",
            "\n",
            "TRAIN ACCURACY:  53.7962962962963\n",
            "TEST ACCURACY:  51.48148148148148\n"
          ]
        },
        {
          "output_type": "stream",
          "name": "stderr",
          "text": [
            " 13%|█▎        | 132/1000 [00:12<01:27,  9.91it/s]"
          ]
        },
        {
          "output_type": "stream",
          "name": "stdout",
          "text": [
            "\n",
            "TRAIN ACCURACY:  53.7962962962963\n",
            "TEST ACCURACY:  51.48148148148148\n",
            "\n",
            "TRAIN ACCURACY:  53.7037037037037\n",
            "TEST ACCURACY:  51.48148148148148\n",
            "\n",
            "TRAIN ACCURACY:  53.75\n",
            "TEST ACCURACY:  51.48148148148148\n"
          ]
        },
        {
          "output_type": "stream",
          "name": "stderr",
          "text": [
            " 14%|█▎        | 135/1000 [00:12<01:16, 11.32it/s]"
          ]
        },
        {
          "output_type": "stream",
          "name": "stdout",
          "text": [
            "\n",
            "TRAIN ACCURACY:  53.7962962962963\n",
            "TEST ACCURACY:  51.666666666666664\n",
            "\n",
            "TRAIN ACCURACY:  53.888888888888886\n",
            "TEST ACCURACY:  51.666666666666664\n",
            "\n",
            "TRAIN ACCURACY:  53.7037037037037\n",
            "TEST ACCURACY:  51.2962962962963\n"
          ]
        },
        {
          "output_type": "stream",
          "name": "stderr",
          "text": [
            "\r 14%|█▎        | 137/1000 [00:12<01:11, 12.02it/s]"
          ]
        },
        {
          "output_type": "stream",
          "name": "stdout",
          "text": [
            "\n",
            "TRAIN ACCURACY:  53.7962962962963\n",
            "TEST ACCURACY:  51.2962962962963\n",
            "\n",
            "TRAIN ACCURACY:  53.842592592592595\n",
            "TEST ACCURACY:  50.925925925925924\n",
            "\n",
            "TRAIN ACCURACY:  53.7037037037037\n",
            "TEST ACCURACY:  50.925925925925924\n"
          ]
        },
        {
          "output_type": "stream",
          "name": "stderr",
          "text": [
            " 14%|█▍        | 141/1000 [00:12<01:10, 12.15it/s]"
          ]
        },
        {
          "output_type": "stream",
          "name": "stdout",
          "text": [
            "\n",
            "TRAIN ACCURACY:  53.888888888888886\n",
            "TEST ACCURACY:  50.925925925925924\n",
            "\n",
            "TRAIN ACCURACY:  53.98148148148148\n",
            "TEST ACCURACY:  51.111111111111114\n",
            "\n",
            "TRAIN ACCURACY:  54.074074074074076\n",
            "TEST ACCURACY:  51.111111111111114\n"
          ]
        },
        {
          "output_type": "stream",
          "name": "stderr",
          "text": [
            "\r 14%|█▍        | 143/1000 [00:12<01:16, 11.21it/s]"
          ]
        },
        {
          "output_type": "stream",
          "name": "stdout",
          "text": [
            "\n",
            "TRAIN ACCURACY:  54.074074074074076\n",
            "TEST ACCURACY:  50.925925925925924\n",
            "\n",
            "TRAIN ACCURACY:  54.120370370370374\n",
            "TEST ACCURACY:  50.74074074074074\n",
            "\n",
            "TRAIN ACCURACY:  54.25925925925926\n",
            "TEST ACCURACY:  50.925925925925924\n"
          ]
        },
        {
          "output_type": "stream",
          "name": "stderr",
          "text": [
            " 15%|█▍        | 147/1000 [00:13<01:12, 11.74it/s]"
          ]
        },
        {
          "output_type": "stream",
          "name": "stdout",
          "text": [
            "\n",
            "TRAIN ACCURACY:  54.351851851851855\n",
            "TEST ACCURACY:  50.925925925925924\n",
            "\n",
            "TRAIN ACCURACY:  54.21296296296296\n",
            "TEST ACCURACY:  50.925925925925924\n",
            "\n",
            "TRAIN ACCURACY:  54.21296296296296\n",
            "TEST ACCURACY:  50.925925925925924\n"
          ]
        },
        {
          "output_type": "stream",
          "name": "stderr",
          "text": [
            " 15%|█▌        | 152/1000 [00:13<00:54, 15.47it/s]"
          ]
        },
        {
          "output_type": "stream",
          "name": "stdout",
          "text": [
            "\n",
            "TRAIN ACCURACY:  54.21296296296296\n",
            "TEST ACCURACY:  50.925925925925924\n",
            "\n",
            "TRAIN ACCURACY:  54.25925925925926\n",
            "TEST ACCURACY:  50.74074074074074\n",
            "\n",
            "TRAIN ACCURACY:  54.351851851851855\n",
            "TEST ACCURACY:  50.74074074074074\n",
            "\n",
            "TRAIN ACCURACY:  54.49074074074074\n",
            "TEST ACCURACY:  50.55555555555556\n",
            "\n",
            "TRAIN ACCURACY:  54.53703703703704\n",
            "TEST ACCURACY:  50.55555555555556\n"
          ]
        },
        {
          "output_type": "stream",
          "name": "stderr",
          "text": [
            " 16%|█▌        | 158/1000 [00:13<00:42, 19.78it/s]"
          ]
        },
        {
          "output_type": "stream",
          "name": "stdout",
          "text": [
            "\n",
            "TRAIN ACCURACY:  54.53703703703704\n",
            "TEST ACCURACY:  50.55555555555556\n",
            "\n",
            "TRAIN ACCURACY:  54.629629629629626\n",
            "TEST ACCURACY:  50.370370370370374\n",
            "\n",
            "TRAIN ACCURACY:  54.49074074074074\n",
            "TEST ACCURACY:  50.925925925925924\n",
            "\n",
            "TRAIN ACCURACY:  54.629629629629626\n",
            "TEST ACCURACY:  50.18518518518518\n",
            "\n",
            "TRAIN ACCURACY:  54.81481481481482\n",
            "TEST ACCURACY:  50.18518518518518\n",
            "\n",
            "TRAIN ACCURACY:  54.72222222222222\n",
            "TEST ACCURACY:  50.370370370370374\n"
          ]
        },
        {
          "output_type": "stream",
          "name": "stderr",
          "text": [
            " 16%|█▋        | 164/1000 [00:14<00:37, 22.08it/s]"
          ]
        },
        {
          "output_type": "stream",
          "name": "stdout",
          "text": [
            "\n",
            "TRAIN ACCURACY:  54.72222222222222\n",
            "TEST ACCURACY:  50.370370370370374\n",
            "\n",
            "TRAIN ACCURACY:  54.861111111111114\n",
            "TEST ACCURACY:  50.370370370370374\n",
            "\n",
            "TRAIN ACCURACY:  54.907407407407405\n",
            "TEST ACCURACY:  50.370370370370374\n",
            "\n",
            "TRAIN ACCURACY:  55.0462962962963\n",
            "TEST ACCURACY:  50.370370370370374\n",
            "\n",
            "TRAIN ACCURACY:  55.0\n",
            "TEST ACCURACY:  50.370370370370374\n",
            "\n",
            "TRAIN ACCURACY:  54.9537037037037\n",
            "TEST ACCURACY:  50.55555555555556\n"
          ]
        },
        {
          "output_type": "stream",
          "name": "stderr",
          "text": [
            " 17%|█▋        | 170/1000 [00:14<00:35, 23.09it/s]"
          ]
        },
        {
          "output_type": "stream",
          "name": "stdout",
          "text": [
            "\n",
            "TRAIN ACCURACY:  55.0462962962963\n",
            "TEST ACCURACY:  50.18518518518518\n",
            "\n",
            "TRAIN ACCURACY:  55.27777777777778\n",
            "TEST ACCURACY:  50.0\n",
            "\n",
            "TRAIN ACCURACY:  55.324074074074076\n",
            "TEST ACCURACY:  50.18518518518518\n",
            "\n",
            "TRAIN ACCURACY:  55.23148148148148\n",
            "TEST ACCURACY:  50.18518518518518\n",
            "\n",
            "TRAIN ACCURACY:  55.138888888888886\n",
            "TEST ACCURACY:  50.0\n",
            "\n",
            "TRAIN ACCURACY:  55.092592592592595\n",
            "TEST ACCURACY:  50.0\n"
          ]
        },
        {
          "output_type": "stream",
          "name": "stderr",
          "text": [
            " 18%|█▊        | 176/1000 [00:14<00:34, 23.81it/s]"
          ]
        },
        {
          "output_type": "stream",
          "name": "stdout",
          "text": [
            "\n",
            "TRAIN ACCURACY:  55.46296296296296\n",
            "TEST ACCURACY:  50.370370370370374\n",
            "\n",
            "TRAIN ACCURACY:  55.416666666666664\n",
            "TEST ACCURACY:  50.370370370370374\n",
            "\n",
            "TRAIN ACCURACY:  55.27777777777778\n",
            "TEST ACCURACY:  50.18518518518518\n",
            "\n",
            "TRAIN ACCURACY:  55.27777777777778\n",
            "TEST ACCURACY:  50.55555555555556\n",
            "\n",
            "TRAIN ACCURACY:  55.138888888888886\n",
            "TEST ACCURACY:  50.18518518518518\n",
            "\n",
            "TRAIN ACCURACY:  55.092592592592595\n",
            "TEST ACCURACY:  50.370370370370374\n"
          ]
        },
        {
          "output_type": "stream",
          "name": "stderr",
          "text": [
            "\r 18%|█▊        | 179/1000 [00:14<00:34, 24.02it/s]"
          ]
        },
        {
          "output_type": "stream",
          "name": "stdout",
          "text": [
            "\n",
            "TRAIN ACCURACY:  54.861111111111114\n",
            "TEST ACCURACY:  50.370370370370374\n",
            "\n",
            "TRAIN ACCURACY:  54.81481481481482\n",
            "TEST ACCURACY:  50.370370370370374\n",
            "\n",
            "TRAIN ACCURACY:  54.9537037037037\n",
            "TEST ACCURACY:  50.55555555555556\n",
            "\n",
            "TRAIN ACCURACY:  54.81481481481482\n",
            "TEST ACCURACY:  50.370370370370374\n",
            "\n",
            "TRAIN ACCURACY:  54.861111111111114\n",
            "TEST ACCURACY:  50.370370370370374\n"
          ]
        },
        {
          "output_type": "stream",
          "name": "stderr",
          "text": [
            " 18%|█▊        | 185/1000 [00:14<00:33, 23.99it/s]"
          ]
        },
        {
          "output_type": "stream",
          "name": "stdout",
          "text": [
            "\n",
            "TRAIN ACCURACY:  54.861111111111114\n",
            "TEST ACCURACY:  50.370370370370374\n",
            "\n",
            "TRAIN ACCURACY:  54.81481481481482\n",
            "TEST ACCURACY:  50.18518518518518\n",
            "\n",
            "TRAIN ACCURACY:  54.81481481481482\n",
            "TEST ACCURACY:  50.370370370370374\n",
            "\n",
            "TRAIN ACCURACY:  54.76851851851852\n",
            "TEST ACCURACY:  50.370370370370374\n",
            "\n",
            "TRAIN ACCURACY:  54.72222222222222\n",
            "TEST ACCURACY:  50.370370370370374\n"
          ]
        },
        {
          "output_type": "stream",
          "name": "stderr",
          "text": [
            " 19%|█▉        | 191/1000 [00:15<00:33, 24.24it/s]"
          ]
        },
        {
          "output_type": "stream",
          "name": "stdout",
          "text": [
            "\n",
            "TRAIN ACCURACY:  54.76851851851852\n",
            "TEST ACCURACY:  50.370370370370374\n",
            "\n",
            "TRAIN ACCURACY:  54.629629629629626\n",
            "TEST ACCURACY:  50.18518518518518\n",
            "\n",
            "TRAIN ACCURACY:  54.81481481481482\n",
            "TEST ACCURACY:  50.370370370370374\n",
            "\n",
            "TRAIN ACCURACY:  54.81481481481482\n",
            "TEST ACCURACY:  50.370370370370374\n",
            "\n",
            "TRAIN ACCURACY:  54.861111111111114\n",
            "TEST ACCURACY:  50.55555555555556\n"
          ]
        },
        {
          "output_type": "stream",
          "name": "stderr",
          "text": [
            "\r 19%|█▉        | 194/1000 [00:15<00:33, 24.33it/s]"
          ]
        },
        {
          "output_type": "stream",
          "name": "stdout",
          "text": [
            "\n",
            "TRAIN ACCURACY:  54.81481481481482\n",
            "TEST ACCURACY:  50.370370370370374\n",
            "\n",
            "TRAIN ACCURACY:  54.861111111111114\n",
            "TEST ACCURACY:  50.18518518518518\n",
            "\n",
            "TRAIN ACCURACY:  54.861111111111114\n",
            "TEST ACCURACY:  50.370370370370374\n",
            "\n",
            "TRAIN ACCURACY:  54.9537037037037\n",
            "TEST ACCURACY:  50.370370370370374\n",
            "\n",
            "TRAIN ACCURACY:  54.9537037037037\n",
            "TEST ACCURACY:  50.18518518518518\n"
          ]
        },
        {
          "output_type": "stream",
          "name": "stderr",
          "text": [
            " 20%|██        | 200/1000 [00:15<00:33, 23.89it/s]"
          ]
        },
        {
          "output_type": "stream",
          "name": "stdout",
          "text": [
            "\n",
            "TRAIN ACCURACY:  54.861111111111114\n",
            "TEST ACCURACY:  50.370370370370374\n",
            "\n",
            "TRAIN ACCURACY:  54.861111111111114\n",
            "TEST ACCURACY:  50.370370370370374\n",
            "\n",
            "TRAIN ACCURACY:  54.861111111111114\n",
            "TEST ACCURACY:  50.370370370370374\n",
            "\n",
            "TRAIN ACCURACY:  54.9537037037037\n",
            "TEST ACCURACY:  50.55555555555556\n",
            "\n",
            "TRAIN ACCURACY:  55.0\n",
            "TEST ACCURACY:  50.55555555555556\n"
          ]
        },
        {
          "output_type": "stream",
          "name": "stderr",
          "text": [
            " 21%|██        | 206/1000 [00:15<00:33, 23.97it/s]"
          ]
        },
        {
          "output_type": "stream",
          "name": "stdout",
          "text": [
            "\n",
            "TRAIN ACCURACY:  55.0462962962963\n",
            "TEST ACCURACY:  50.55555555555556\n",
            "\n",
            "TRAIN ACCURACY:  55.0462962962963\n",
            "TEST ACCURACY:  50.55555555555556\n",
            "\n",
            "TRAIN ACCURACY:  55.0462962962963\n",
            "TEST ACCURACY:  50.55555555555556\n",
            "\n",
            "TRAIN ACCURACY:  55.138888888888886\n",
            "TEST ACCURACY:  50.55555555555556\n",
            "\n",
            "TRAIN ACCURACY:  55.092592592592595\n",
            "TEST ACCURACY:  50.55555555555556\n"
          ]
        },
        {
          "output_type": "stream",
          "name": "stderr",
          "text": [
            " 21%|██        | 212/1000 [00:16<00:32, 24.00it/s]"
          ]
        },
        {
          "output_type": "stream",
          "name": "stdout",
          "text": [
            "\n",
            "TRAIN ACCURACY:  55.0462962962963\n",
            "TEST ACCURACY:  50.55555555555556\n",
            "\n",
            "TRAIN ACCURACY:  55.18518518518518\n",
            "TEST ACCURACY:  50.74074074074074\n",
            "\n",
            "TRAIN ACCURACY:  55.27777777777778\n",
            "TEST ACCURACY:  50.55555555555556\n",
            "\n",
            "TRAIN ACCURACY:  55.324074074074076\n",
            "TEST ACCURACY:  50.55555555555556\n",
            "\n",
            "TRAIN ACCURACY:  55.27777777777778\n",
            "TEST ACCURACY:  50.370370370370374\n",
            "\n",
            "TRAIN ACCURACY:  55.18518518518518\n",
            "TEST ACCURACY:  50.18518518518518\n"
          ]
        },
        {
          "output_type": "stream",
          "name": "stderr",
          "text": [
            " 22%|██▏       | 218/1000 [00:16<00:32, 24.33it/s]"
          ]
        },
        {
          "output_type": "stream",
          "name": "stdout",
          "text": [
            "\n",
            "TRAIN ACCURACY:  55.23148148148148\n",
            "TEST ACCURACY:  50.18518518518518\n",
            "\n",
            "TRAIN ACCURACY:  55.416666666666664\n",
            "TEST ACCURACY:  50.18518518518518\n",
            "\n",
            "TRAIN ACCURACY:  55.370370370370374\n",
            "TEST ACCURACY:  50.18518518518518\n",
            "\n",
            "TRAIN ACCURACY:  55.416666666666664\n",
            "TEST ACCURACY:  50.18518518518518\n",
            "\n",
            "TRAIN ACCURACY:  55.370370370370374\n",
            "TEST ACCURACY:  50.18518518518518\n",
            "\n",
            "TRAIN ACCURACY:  55.27777777777778\n",
            "TEST ACCURACY:  50.18518518518518\n"
          ]
        },
        {
          "output_type": "stream",
          "name": "stderr",
          "text": [
            "\r 22%|██▏       | 221/1000 [00:16<00:33, 23.60it/s]"
          ]
        },
        {
          "output_type": "stream",
          "name": "stdout",
          "text": [
            "\n",
            "TRAIN ACCURACY:  55.27777777777778\n",
            "TEST ACCURACY:  50.18518518518518\n",
            "\n",
            "TRAIN ACCURACY:  55.370370370370374\n",
            "TEST ACCURACY:  50.370370370370374\n",
            "\n",
            "TRAIN ACCURACY:  55.27777777777778\n",
            "TEST ACCURACY:  50.18518518518518\n",
            "\n",
            "TRAIN ACCURACY:  55.27777777777778\n",
            "TEST ACCURACY:  49.81481481481482\n",
            "\n",
            "TRAIN ACCURACY:  55.324074074074076\n",
            "TEST ACCURACY:  49.81481481481482\n"
          ]
        },
        {
          "output_type": "stream",
          "name": "stderr",
          "text": [
            " 23%|██▎       | 227/1000 [00:16<00:32, 24.14it/s]"
          ]
        },
        {
          "output_type": "stream",
          "name": "stdout",
          "text": [
            "\n",
            "TRAIN ACCURACY:  55.416666666666664\n",
            "TEST ACCURACY:  49.629629629629626\n",
            "\n",
            "TRAIN ACCURACY:  55.46296296296296\n",
            "TEST ACCURACY:  49.81481481481482\n",
            "\n",
            "TRAIN ACCURACY:  55.370370370370374\n",
            "TEST ACCURACY:  49.629629629629626\n",
            "\n",
            "TRAIN ACCURACY:  55.416666666666664\n",
            "TEST ACCURACY:  49.629629629629626\n",
            "\n",
            "TRAIN ACCURACY:  55.50925925925926\n",
            "TEST ACCURACY:  49.629629629629626\n",
            "\n",
            "TRAIN ACCURACY:  55.55555555555556\n",
            "TEST ACCURACY:  49.629629629629626\n"
          ]
        },
        {
          "output_type": "stream",
          "name": "stderr",
          "text": [
            " 23%|██▎       | 233/1000 [00:16<00:31, 24.28it/s]"
          ]
        },
        {
          "output_type": "stream",
          "name": "stdout",
          "text": [
            "\n",
            "TRAIN ACCURACY:  55.55555555555556\n",
            "TEST ACCURACY:  49.81481481481482\n",
            "\n",
            "TRAIN ACCURACY:  55.601851851851855\n",
            "TEST ACCURACY:  49.629629629629626\n",
            "\n",
            "TRAIN ACCURACY:  55.46296296296296\n",
            "TEST ACCURACY:  49.81481481481482\n",
            "\n",
            "TRAIN ACCURACY:  55.601851851851855\n",
            "TEST ACCURACY:  49.629629629629626\n",
            "\n",
            "TRAIN ACCURACY:  55.69444444444444\n",
            "TEST ACCURACY:  49.629629629629626\n"
          ]
        },
        {
          "output_type": "stream",
          "name": "stderr",
          "text": [
            " 24%|██▍       | 239/1000 [00:17<00:31, 24.47it/s]"
          ]
        },
        {
          "output_type": "stream",
          "name": "stdout",
          "text": [
            "\n",
            "TRAIN ACCURACY:  55.69444444444444\n",
            "TEST ACCURACY:  49.629629629629626\n",
            "\n",
            "TRAIN ACCURACY:  55.601851851851855\n",
            "TEST ACCURACY:  49.44444444444444\n",
            "\n",
            "TRAIN ACCURACY:  55.601851851851855\n",
            "TEST ACCURACY:  49.629629629629626\n",
            "\n",
            "TRAIN ACCURACY:  55.648148148148145\n",
            "TEST ACCURACY:  49.629629629629626\n",
            "\n",
            "TRAIN ACCURACY:  55.833333333333336\n",
            "TEST ACCURACY:  49.629629629629626\n"
          ]
        },
        {
          "output_type": "stream",
          "name": "stderr",
          "text": [
            "\r 24%|██▍       | 242/1000 [00:17<00:31, 23.91it/s]"
          ]
        },
        {
          "output_type": "stream",
          "name": "stdout",
          "text": [
            "\n",
            "TRAIN ACCURACY:  55.78703703703704\n",
            "TEST ACCURACY:  49.629629629629626\n",
            "\n",
            "TRAIN ACCURACY:  55.833333333333336\n",
            "TEST ACCURACY:  49.629629629629626\n",
            "\n",
            "TRAIN ACCURACY:  55.833333333333336\n",
            "TEST ACCURACY:  49.629629629629626\n",
            "\n",
            "TRAIN ACCURACY:  55.78703703703704\n",
            "TEST ACCURACY:  49.629629629629626\n",
            "\n",
            "TRAIN ACCURACY:  55.833333333333336\n",
            "TEST ACCURACY:  49.629629629629626\n"
          ]
        },
        {
          "output_type": "stream",
          "name": "stderr",
          "text": [
            " 25%|██▍       | 248/1000 [00:17<00:32, 23.47it/s]"
          ]
        },
        {
          "output_type": "stream",
          "name": "stdout",
          "text": [
            "\n",
            "TRAIN ACCURACY:  55.833333333333336\n",
            "TEST ACCURACY:  49.629629629629626\n",
            "\n",
            "TRAIN ACCURACY:  55.925925925925924\n",
            "TEST ACCURACY:  49.629629629629626\n",
            "\n",
            "TRAIN ACCURACY:  55.74074074074074\n",
            "TEST ACCURACY:  50.0\n",
            "\n",
            "TRAIN ACCURACY:  55.69444444444444\n",
            "TEST ACCURACY:  50.0\n",
            "\n",
            "TRAIN ACCURACY:  55.69444444444444\n",
            "TEST ACCURACY:  50.0\n"
          ]
        },
        {
          "output_type": "stream",
          "name": "stderr",
          "text": [
            " 25%|██▌       | 254/1000 [00:17<00:31, 23.96it/s]"
          ]
        },
        {
          "output_type": "stream",
          "name": "stdout",
          "text": [
            "\n",
            "TRAIN ACCURACY:  55.69444444444444\n",
            "TEST ACCURACY:  50.0\n",
            "\n",
            "TRAIN ACCURACY:  55.74074074074074\n",
            "TEST ACCURACY:  49.81481481481482\n",
            "\n",
            "TRAIN ACCURACY:  55.69444444444444\n",
            "TEST ACCURACY:  50.18518518518518\n",
            "\n",
            "TRAIN ACCURACY:  55.74074074074074\n",
            "TEST ACCURACY:  50.18518518518518\n",
            "\n",
            "TRAIN ACCURACY:  55.833333333333336\n",
            "TEST ACCURACY:  50.370370370370374\n"
          ]
        },
        {
          "output_type": "stream",
          "name": "stderr",
          "text": [
            " 26%|██▌       | 260/1000 [00:18<00:30, 23.99it/s]"
          ]
        },
        {
          "output_type": "stream",
          "name": "stdout",
          "text": [
            "\n",
            "TRAIN ACCURACY:  55.74074074074074\n",
            "TEST ACCURACY:  50.370370370370374\n",
            "\n",
            "TRAIN ACCURACY:  55.69444444444444\n",
            "TEST ACCURACY:  50.55555555555556\n",
            "\n",
            "TRAIN ACCURACY:  55.69444444444444\n",
            "TEST ACCURACY:  50.0\n",
            "\n",
            "TRAIN ACCURACY:  55.648148148148145\n",
            "TEST ACCURACY:  50.370370370370374\n",
            "\n",
            "TRAIN ACCURACY:  55.69444444444444\n",
            "TEST ACCURACY:  50.0\n",
            "\n",
            "TRAIN ACCURACY:  55.74074074074074\n",
            "TEST ACCURACY:  50.18518518518518\n"
          ]
        },
        {
          "output_type": "stream",
          "name": "stderr",
          "text": [
            "\r 26%|██▋       | 263/1000 [00:18<00:30, 23.81it/s]"
          ]
        },
        {
          "output_type": "stream",
          "name": "stdout",
          "text": [
            "\n",
            "TRAIN ACCURACY:  55.74074074074074\n",
            "TEST ACCURACY:  50.18518518518518\n",
            "\n",
            "TRAIN ACCURACY:  55.74074074074074\n",
            "TEST ACCURACY:  50.18518518518518\n",
            "\n",
            "TRAIN ACCURACY:  55.78703703703704\n",
            "TEST ACCURACY:  50.18518518518518\n",
            "\n",
            "TRAIN ACCURACY:  55.78703703703704\n",
            "TEST ACCURACY:  50.18518518518518\n",
            "\n",
            "TRAIN ACCURACY:  55.833333333333336\n",
            "TEST ACCURACY:  50.18518518518518\n"
          ]
        },
        {
          "output_type": "stream",
          "name": "stderr",
          "text": [
            " 27%|██▋       | 269/1000 [00:18<00:30, 23.64it/s]"
          ]
        },
        {
          "output_type": "stream",
          "name": "stdout",
          "text": [
            "\n",
            "TRAIN ACCURACY:  56.06481481481482\n",
            "TEST ACCURACY:  50.18518518518518\n",
            "\n",
            "TRAIN ACCURACY:  55.925925925925924\n",
            "TEST ACCURACY:  50.18518518518518\n",
            "\n",
            "TRAIN ACCURACY:  55.879629629629626\n",
            "TEST ACCURACY:  50.18518518518518\n",
            "\n",
            "TRAIN ACCURACY:  55.925925925925924\n",
            "TEST ACCURACY:  50.0\n",
            "\n",
            "TRAIN ACCURACY:  56.01851851851852\n",
            "TEST ACCURACY:  50.18518518518518\n"
          ]
        },
        {
          "output_type": "stream",
          "name": "stderr",
          "text": [
            " 28%|██▊       | 275/1000 [00:18<00:30, 23.72it/s]"
          ]
        },
        {
          "output_type": "stream",
          "name": "stdout",
          "text": [
            "\n",
            "TRAIN ACCURACY:  56.01851851851852\n",
            "TEST ACCURACY:  50.0\n",
            "\n",
            "TRAIN ACCURACY:  56.06481481481482\n",
            "TEST ACCURACY:  50.0\n",
            "\n",
            "TRAIN ACCURACY:  55.97222222222222\n",
            "TEST ACCURACY:  50.0\n",
            "\n",
            "TRAIN ACCURACY:  55.925925925925924\n",
            "TEST ACCURACY:  50.0\n",
            "\n",
            "TRAIN ACCURACY:  55.879629629629626\n",
            "TEST ACCURACY:  50.0\n"
          ]
        },
        {
          "output_type": "stream",
          "name": "stderr",
          "text": [
            " 28%|██▊       | 281/1000 [00:18<00:29, 24.04it/s]"
          ]
        },
        {
          "output_type": "stream",
          "name": "stdout",
          "text": [
            "\n",
            "TRAIN ACCURACY:  55.97222222222222\n",
            "TEST ACCURACY:  50.0\n",
            "\n",
            "TRAIN ACCURACY:  56.01851851851852\n",
            "TEST ACCURACY:  49.81481481481482\n",
            "\n",
            "TRAIN ACCURACY:  56.111111111111114\n",
            "TEST ACCURACY:  49.81481481481482\n",
            "\n",
            "TRAIN ACCURACY:  56.111111111111114\n",
            "TEST ACCURACY:  49.81481481481482\n",
            "\n",
            "TRAIN ACCURACY:  56.2037037037037\n",
            "TEST ACCURACY:  49.629629629629626\n",
            "\n",
            "TRAIN ACCURACY:  56.48148148148148\n",
            "TEST ACCURACY:  49.629629629629626\n"
          ]
        },
        {
          "output_type": "stream",
          "name": "stderr",
          "text": [
            "\r 28%|██▊       | 284/1000 [00:19<00:30, 23.69it/s]"
          ]
        },
        {
          "output_type": "stream",
          "name": "stdout",
          "text": [
            "\n",
            "TRAIN ACCURACY:  56.574074074074076\n",
            "TEST ACCURACY:  49.44444444444444\n",
            "\n",
            "TRAIN ACCURACY:  56.666666666666664\n",
            "TEST ACCURACY:  49.629629629629626\n",
            "\n",
            "TRAIN ACCURACY:  56.666666666666664\n",
            "TEST ACCURACY:  49.25925925925926\n",
            "\n",
            "TRAIN ACCURACY:  56.620370370370374\n",
            "TEST ACCURACY:  49.25925925925926\n",
            "\n",
            "TRAIN ACCURACY:  56.574074074074076\n",
            "TEST ACCURACY:  49.44444444444444\n"
          ]
        },
        {
          "output_type": "stream",
          "name": "stderr",
          "text": [
            " 29%|██▉       | 290/1000 [00:19<00:29, 23.82it/s]"
          ]
        },
        {
          "output_type": "stream",
          "name": "stdout",
          "text": [
            "\n",
            "TRAIN ACCURACY:  56.52777777777778\n",
            "TEST ACCURACY:  49.44444444444444\n",
            "\n",
            "TRAIN ACCURACY:  56.43518518518518\n",
            "TEST ACCURACY:  49.44444444444444\n",
            "\n",
            "TRAIN ACCURACY:  56.71296296296296\n",
            "TEST ACCURACY:  49.44444444444444\n",
            "\n",
            "TRAIN ACCURACY:  56.80555555555556\n",
            "TEST ACCURACY:  49.074074074074076\n",
            "\n",
            "TRAIN ACCURACY:  56.75925925925926\n",
            "TEST ACCURACY:  49.25925925925926\n"
          ]
        },
        {
          "output_type": "stream",
          "name": "stderr",
          "text": [
            " 30%|██▉       | 296/1000 [00:19<00:29, 23.53it/s]"
          ]
        },
        {
          "output_type": "stream",
          "name": "stdout",
          "text": [
            "\n",
            "TRAIN ACCURACY:  56.666666666666664\n",
            "TEST ACCURACY:  49.25925925925926\n",
            "\n",
            "TRAIN ACCURACY:  56.75925925925926\n",
            "TEST ACCURACY:  49.25925925925926\n",
            "\n",
            "TRAIN ACCURACY:  56.75925925925926\n",
            "TEST ACCURACY:  49.25925925925926\n",
            "\n",
            "TRAIN ACCURACY:  56.851851851851855\n",
            "TEST ACCURACY:  49.25925925925926\n",
            "\n",
            "TRAIN ACCURACY:  56.75925925925926\n",
            "TEST ACCURACY:  49.25925925925926\n"
          ]
        },
        {
          "output_type": "stream",
          "name": "stderr",
          "text": [
            " 30%|███       | 302/1000 [00:19<00:29, 23.81it/s]"
          ]
        },
        {
          "output_type": "stream",
          "name": "stdout",
          "text": [
            "\n",
            "TRAIN ACCURACY:  56.898148148148145\n",
            "TEST ACCURACY:  49.25925925925926\n",
            "\n",
            "TRAIN ACCURACY:  56.851851851851855\n",
            "TEST ACCURACY:  49.25925925925926\n",
            "\n",
            "TRAIN ACCURACY:  56.851851851851855\n",
            "TEST ACCURACY:  49.44444444444444\n",
            "\n",
            "TRAIN ACCURACY:  56.80555555555556\n",
            "TEST ACCURACY:  49.44444444444444\n",
            "\n",
            "TRAIN ACCURACY:  56.851851851851855\n",
            "TEST ACCURACY:  49.44444444444444\n",
            "\n",
            "TRAIN ACCURACY:  56.851851851851855\n",
            "TEST ACCURACY:  49.25925925925926\n"
          ]
        },
        {
          "output_type": "stream",
          "name": "stderr",
          "text": [
            "\r 30%|███       | 305/1000 [00:19<00:29, 23.48it/s]"
          ]
        },
        {
          "output_type": "stream",
          "name": "stdout",
          "text": [
            "\n",
            "TRAIN ACCURACY:  56.666666666666664\n",
            "TEST ACCURACY:  49.25925925925926\n",
            "\n",
            "TRAIN ACCURACY:  56.666666666666664\n",
            "TEST ACCURACY:  49.25925925925926\n",
            "\n",
            "TRAIN ACCURACY:  56.620370370370374\n",
            "TEST ACCURACY:  49.25925925925926\n",
            "\n",
            "TRAIN ACCURACY:  56.71296296296296\n",
            "TEST ACCURACY:  49.44444444444444\n",
            "\n",
            "TRAIN ACCURACY:  56.71296296296296\n",
            "TEST ACCURACY:  49.25925925925926\n"
          ]
        },
        {
          "output_type": "stream",
          "name": "stderr",
          "text": [
            " 31%|███       | 311/1000 [00:20<00:29, 23.19it/s]"
          ]
        },
        {
          "output_type": "stream",
          "name": "stdout",
          "text": [
            "\n",
            "TRAIN ACCURACY:  56.75925925925926\n",
            "TEST ACCURACY:  49.25925925925926\n",
            "\n",
            "TRAIN ACCURACY:  56.71296296296296\n",
            "TEST ACCURACY:  49.074074074074076\n",
            "\n",
            "TRAIN ACCURACY:  56.620370370370374\n",
            "TEST ACCURACY:  49.074074074074076\n",
            "\n",
            "TRAIN ACCURACY:  56.620370370370374\n",
            "TEST ACCURACY:  49.074074074074076\n",
            "\n",
            "TRAIN ACCURACY:  56.666666666666664\n",
            "TEST ACCURACY:  49.074074074074076\n"
          ]
        },
        {
          "output_type": "stream",
          "name": "stderr",
          "text": [
            " 32%|███▏      | 317/1000 [00:20<00:29, 23.18it/s]"
          ]
        },
        {
          "output_type": "stream",
          "name": "stdout",
          "text": [
            "\n",
            "TRAIN ACCURACY:  56.620370370370374\n",
            "TEST ACCURACY:  49.074074074074076\n",
            "\n",
            "TRAIN ACCURACY:  56.666666666666664\n",
            "TEST ACCURACY:  49.44444444444444\n",
            "\n",
            "TRAIN ACCURACY:  56.620370370370374\n",
            "TEST ACCURACY:  49.074074074074076\n",
            "\n",
            "TRAIN ACCURACY:  56.80555555555556\n",
            "TEST ACCURACY:  49.25925925925926\n",
            "\n",
            "TRAIN ACCURACY:  56.75925925925926\n",
            "TEST ACCURACY:  49.44444444444444\n"
          ]
        },
        {
          "output_type": "stream",
          "name": "stderr",
          "text": [
            "\r 32%|███▏      | 320/1000 [00:20<00:28, 23.49it/s]"
          ]
        },
        {
          "output_type": "stream",
          "name": "stdout",
          "text": [
            "\n",
            "TRAIN ACCURACY:  56.75925925925926\n",
            "TEST ACCURACY:  49.44444444444444\n",
            "\n",
            "TRAIN ACCURACY:  56.75925925925926\n",
            "TEST ACCURACY:  49.44444444444444\n",
            "\n",
            "TRAIN ACCURACY:  56.71296296296296\n",
            "TEST ACCURACY:  49.44444444444444\n",
            "\n",
            "TRAIN ACCURACY:  56.666666666666664\n",
            "TEST ACCURACY:  49.44444444444444\n",
            "\n",
            "TRAIN ACCURACY:  56.75925925925926\n",
            "TEST ACCURACY:  49.44444444444444\n"
          ]
        },
        {
          "output_type": "stream",
          "name": "stderr",
          "text": [
            " 33%|███▎      | 326/1000 [00:20<00:28, 23.46it/s]"
          ]
        },
        {
          "output_type": "stream",
          "name": "stdout",
          "text": [
            "\n",
            "TRAIN ACCURACY:  56.75925925925926\n",
            "TEST ACCURACY:  49.44444444444444\n",
            "\n",
            "TRAIN ACCURACY:  56.71296296296296\n",
            "TEST ACCURACY:  49.44444444444444\n",
            "\n",
            "TRAIN ACCURACY:  56.71296296296296\n",
            "TEST ACCURACY:  49.25925925925926\n",
            "\n",
            "TRAIN ACCURACY:  56.851851851851855\n",
            "TEST ACCURACY:  49.074074074074076\n",
            "\n",
            "TRAIN ACCURACY:  56.75925925925926\n",
            "TEST ACCURACY:  49.25925925925926\n"
          ]
        },
        {
          "output_type": "stream",
          "name": "stderr",
          "text": [
            " 33%|███▎      | 332/1000 [00:21<00:28, 23.64it/s]"
          ]
        },
        {
          "output_type": "stream",
          "name": "stdout",
          "text": [
            "\n",
            "TRAIN ACCURACY:  56.75925925925926\n",
            "TEST ACCURACY:  49.25925925925926\n",
            "\n",
            "TRAIN ACCURACY:  56.80555555555556\n",
            "TEST ACCURACY:  49.25925925925926\n",
            "\n",
            "TRAIN ACCURACY:  56.851851851851855\n",
            "TEST ACCURACY:  49.25925925925926\n",
            "\n",
            "TRAIN ACCURACY:  56.898148148148145\n",
            "TEST ACCURACY:  49.44444444444444\n",
            "\n",
            "TRAIN ACCURACY:  56.851851851851855\n",
            "TEST ACCURACY:  49.629629629629626\n"
          ]
        },
        {
          "output_type": "stream",
          "name": "stderr",
          "text": [
            "\r 34%|███▎      | 335/1000 [00:21<00:28, 23.59it/s]"
          ]
        },
        {
          "output_type": "stream",
          "name": "stdout",
          "text": [
            "\n",
            "TRAIN ACCURACY:  56.851851851851855\n",
            "TEST ACCURACY:  49.629629629629626\n",
            "\n",
            "TRAIN ACCURACY:  56.80555555555556\n",
            "TEST ACCURACY:  49.81481481481482\n",
            "\n",
            "TRAIN ACCURACY:  56.851851851851855\n",
            "TEST ACCURACY:  49.81481481481482\n",
            "\n",
            "TRAIN ACCURACY:  56.898148148148145\n",
            "TEST ACCURACY:  49.81481481481482\n",
            "\n",
            "TRAIN ACCURACY:  56.94444444444444\n",
            "TEST ACCURACY:  49.81481481481482\n"
          ]
        },
        {
          "output_type": "stream",
          "name": "stderr",
          "text": [
            " 34%|███▍      | 341/1000 [00:21<00:27, 23.67it/s]"
          ]
        },
        {
          "output_type": "stream",
          "name": "stdout",
          "text": [
            "\n",
            "TRAIN ACCURACY:  56.94444444444444\n",
            "TEST ACCURACY:  49.629629629629626\n",
            "\n",
            "TRAIN ACCURACY:  56.94444444444444\n",
            "TEST ACCURACY:  49.629629629629626\n",
            "\n",
            "TRAIN ACCURACY:  56.99074074074074\n",
            "TEST ACCURACY:  49.629629629629626\n",
            "\n",
            "TRAIN ACCURACY:  57.03703703703704\n",
            "TEST ACCURACY:  49.629629629629626\n",
            "\n",
            "TRAIN ACCURACY:  57.03703703703704\n",
            "TEST ACCURACY:  49.629629629629626\n"
          ]
        },
        {
          "output_type": "stream",
          "name": "stderr",
          "text": [
            " 35%|███▍      | 347/1000 [00:21<00:27, 23.89it/s]"
          ]
        },
        {
          "output_type": "stream",
          "name": "stdout",
          "text": [
            "\n",
            "TRAIN ACCURACY:  56.99074074074074\n",
            "TEST ACCURACY:  49.629629629629626\n",
            "\n",
            "TRAIN ACCURACY:  57.083333333333336\n",
            "TEST ACCURACY:  49.629629629629626\n",
            "\n",
            "TRAIN ACCURACY:  57.03703703703704\n",
            "TEST ACCURACY:  49.629629629629626\n",
            "\n",
            "TRAIN ACCURACY:  57.129629629629626\n",
            "TEST ACCURACY:  49.629629629629626\n",
            "\n",
            "TRAIN ACCURACY:  57.03703703703704\n",
            "TEST ACCURACY:  49.629629629629626\n"
          ]
        },
        {
          "output_type": "stream",
          "name": "stderr",
          "text": [
            " 35%|███▌      | 353/1000 [00:21<00:26, 24.01it/s]"
          ]
        },
        {
          "output_type": "stream",
          "name": "stdout",
          "text": [
            "\n",
            "TRAIN ACCURACY:  56.99074074074074\n",
            "TEST ACCURACY:  49.629629629629626\n",
            "\n",
            "TRAIN ACCURACY:  56.898148148148145\n",
            "TEST ACCURACY:  49.629629629629626\n",
            "\n",
            "TRAIN ACCURACY:  56.898148148148145\n",
            "TEST ACCURACY:  49.629629629629626\n",
            "\n",
            "TRAIN ACCURACY:  56.851851851851855\n",
            "TEST ACCURACY:  49.629629629629626\n",
            "\n",
            "TRAIN ACCURACY:  56.851851851851855\n",
            "TEST ACCURACY:  49.81481481481482\n",
            "\n",
            "TRAIN ACCURACY:  56.80555555555556\n",
            "TEST ACCURACY:  49.629629629629626\n"
          ]
        },
        {
          "output_type": "stream",
          "name": "stderr",
          "text": [
            " 36%|███▌      | 359/1000 [00:22<00:26, 24.64it/s]"
          ]
        },
        {
          "output_type": "stream",
          "name": "stdout",
          "text": [
            "\n",
            "TRAIN ACCURACY:  56.898148148148145\n",
            "TEST ACCURACY:  49.81481481481482\n",
            "\n",
            "TRAIN ACCURACY:  56.851851851851855\n",
            "TEST ACCURACY:  49.81481481481482\n",
            "\n",
            "TRAIN ACCURACY:  56.94444444444444\n",
            "TEST ACCURACY:  49.81481481481482\n",
            "\n",
            "TRAIN ACCURACY:  56.99074074074074\n",
            "TEST ACCURACY:  50.0\n",
            "\n",
            "TRAIN ACCURACY:  56.99074074074074\n",
            "TEST ACCURACY:  50.0\n",
            "\n",
            "TRAIN ACCURACY:  57.03703703703704\n",
            "TEST ACCURACY:  50.0\n"
          ]
        },
        {
          "output_type": "stream",
          "name": "stderr",
          "text": [
            " 36%|███▋      | 365/1000 [00:22<00:25, 24.46it/s]"
          ]
        },
        {
          "output_type": "stream",
          "name": "stdout",
          "text": [
            "\n",
            "TRAIN ACCURACY:  57.129629629629626\n",
            "TEST ACCURACY:  49.81481481481482\n",
            "\n",
            "TRAIN ACCURACY:  57.083333333333336\n",
            "TEST ACCURACY:  50.0\n",
            "\n",
            "TRAIN ACCURACY:  56.99074074074074\n",
            "TEST ACCURACY:  50.18518518518518\n",
            "\n",
            "TRAIN ACCURACY:  57.175925925925924\n",
            "TEST ACCURACY:  50.0\n",
            "\n",
            "TRAIN ACCURACY:  57.361111111111114\n",
            "TEST ACCURACY:  50.370370370370374\n",
            "\n",
            "TRAIN ACCURACY:  57.26851851851852\n",
            "TEST ACCURACY:  50.370370370370374\n"
          ]
        },
        {
          "output_type": "stream",
          "name": "stderr",
          "text": [
            " 37%|███▋      | 371/1000 [00:22<00:25, 24.68it/s]"
          ]
        },
        {
          "output_type": "stream",
          "name": "stdout",
          "text": [
            "\n",
            "TRAIN ACCURACY:  57.22222222222222\n",
            "TEST ACCURACY:  50.370370370370374\n",
            "\n",
            "TRAIN ACCURACY:  57.31481481481482\n",
            "TEST ACCURACY:  50.0\n",
            "\n",
            "TRAIN ACCURACY:  57.31481481481482\n",
            "TEST ACCURACY:  50.18518518518518\n",
            "\n",
            "TRAIN ACCURACY:  57.31481481481482\n",
            "TEST ACCURACY:  50.18518518518518\n",
            "\n",
            "TRAIN ACCURACY:  57.407407407407405\n",
            "TEST ACCURACY:  50.18518518518518\n",
            "\n",
            "TRAIN ACCURACY:  57.4537037037037\n",
            "TEST ACCURACY:  50.18518518518518\n"
          ]
        },
        {
          "output_type": "stream",
          "name": "stderr",
          "text": [
            " 38%|███▊      | 377/1000 [00:22<00:25, 24.23it/s]"
          ]
        },
        {
          "output_type": "stream",
          "name": "stdout",
          "text": [
            "\n",
            "TRAIN ACCURACY:  57.407407407407405\n",
            "TEST ACCURACY:  50.18518518518518\n",
            "\n",
            "TRAIN ACCURACY:  57.4537037037037\n",
            "TEST ACCURACY:  50.370370370370374\n",
            "\n",
            "TRAIN ACCURACY:  57.5\n",
            "TEST ACCURACY:  50.370370370370374\n",
            "\n",
            "TRAIN ACCURACY:  57.5\n",
            "TEST ACCURACY:  50.370370370370374\n",
            "\n",
            "TRAIN ACCURACY:  57.5\n",
            "TEST ACCURACY:  50.370370370370374\n",
            "\n",
            "TRAIN ACCURACY:  57.407407407407405\n",
            "TEST ACCURACY:  50.370370370370374\n"
          ]
        },
        {
          "output_type": "stream",
          "name": "stderr",
          "text": [
            " 38%|███▊      | 383/1000 [00:23<00:25, 24.28it/s]"
          ]
        },
        {
          "output_type": "stream",
          "name": "stdout",
          "text": [
            "\n",
            "TRAIN ACCURACY:  57.4537037037037\n",
            "TEST ACCURACY:  50.370370370370374\n",
            "\n",
            "TRAIN ACCURACY:  57.4537037037037\n",
            "TEST ACCURACY:  50.370370370370374\n",
            "\n",
            "TRAIN ACCURACY:  57.4537037037037\n",
            "TEST ACCURACY:  50.370370370370374\n",
            "\n",
            "TRAIN ACCURACY:  57.5\n",
            "TEST ACCURACY:  50.370370370370374\n",
            "\n",
            "TRAIN ACCURACY:  57.407407407407405\n",
            "TEST ACCURACY:  50.370370370370374\n",
            "\n",
            "TRAIN ACCURACY:  57.407407407407405\n",
            "TEST ACCURACY:  50.18518518518518\n"
          ]
        },
        {
          "output_type": "stream",
          "name": "stderr",
          "text": [
            " 39%|███▉      | 389/1000 [00:23<00:24, 24.63it/s]"
          ]
        },
        {
          "output_type": "stream",
          "name": "stdout",
          "text": [
            "\n",
            "TRAIN ACCURACY:  57.407407407407405\n",
            "TEST ACCURACY:  50.18518518518518\n",
            "\n",
            "TRAIN ACCURACY:  57.31481481481482\n",
            "TEST ACCURACY:  50.370370370370374\n",
            "\n",
            "TRAIN ACCURACY:  57.407407407407405\n",
            "TEST ACCURACY:  50.370370370370374\n",
            "\n",
            "TRAIN ACCURACY:  57.407407407407405\n",
            "TEST ACCURACY:  50.18518518518518\n",
            "\n",
            "TRAIN ACCURACY:  57.5\n",
            "TEST ACCURACY:  50.370370370370374\n",
            "\n",
            "TRAIN ACCURACY:  57.5\n",
            "TEST ACCURACY:  50.18518518518518\n"
          ]
        },
        {
          "output_type": "stream",
          "name": "stderr",
          "text": [
            "\r 39%|███▉      | 392/1000 [00:23<00:25, 24.20it/s]"
          ]
        },
        {
          "output_type": "stream",
          "name": "stdout",
          "text": [
            "\n",
            "TRAIN ACCURACY:  57.5462962962963\n",
            "TEST ACCURACY:  50.370370370370374\n",
            "\n",
            "TRAIN ACCURACY:  57.4537037037037\n",
            "TEST ACCURACY:  50.370370370370374\n",
            "\n",
            "TRAIN ACCURACY:  57.5462962962963\n",
            "TEST ACCURACY:  50.370370370370374\n",
            "\n",
            "TRAIN ACCURACY:  57.592592592592595\n",
            "TEST ACCURACY:  50.18518518518518\n",
            "\n",
            "TRAIN ACCURACY:  57.592592592592595\n",
            "TEST ACCURACY:  50.18518518518518\n"
          ]
        },
        {
          "output_type": "stream",
          "name": "stderr",
          "text": [
            " 40%|███▉      | 398/1000 [00:23<00:24, 24.88it/s]"
          ]
        },
        {
          "output_type": "stream",
          "name": "stdout",
          "text": [
            "\n",
            "TRAIN ACCURACY:  57.592592592592595\n",
            "TEST ACCURACY:  50.18518518518518\n",
            "\n",
            "TRAIN ACCURACY:  57.4537037037037\n",
            "TEST ACCURACY:  50.925925925925924\n",
            "\n",
            "TRAIN ACCURACY:  57.592592592592595\n",
            "TEST ACCURACY:  50.18518518518518\n",
            "\n",
            "TRAIN ACCURACY:  57.361111111111114\n",
            "TEST ACCURACY:  50.74074074074074\n",
            "\n",
            "TRAIN ACCURACY:  57.592592592592595\n",
            "TEST ACCURACY:  50.55555555555556\n",
            "\n",
            "TRAIN ACCURACY:  57.638888888888886\n",
            "TEST ACCURACY:  50.55555555555556\n"
          ]
        },
        {
          "output_type": "stream",
          "name": "stderr",
          "text": [
            " 40%|████      | 404/1000 [00:24<00:24, 24.60it/s]"
          ]
        },
        {
          "output_type": "stream",
          "name": "stdout",
          "text": [
            "\n",
            "TRAIN ACCURACY:  57.592592592592595\n",
            "TEST ACCURACY:  50.55555555555556\n",
            "\n",
            "TRAIN ACCURACY:  57.4537037037037\n",
            "TEST ACCURACY:  50.925925925925924\n",
            "\n",
            "TRAIN ACCURACY:  57.5\n",
            "TEST ACCURACY:  50.55555555555556\n",
            "\n",
            "TRAIN ACCURACY:  57.4537037037037\n",
            "TEST ACCURACY:  50.74074074074074\n",
            "\n",
            "TRAIN ACCURACY:  57.407407407407405\n",
            "TEST ACCURACY:  50.925925925925924\n"
          ]
        },
        {
          "output_type": "stream",
          "name": "stderr",
          "text": [
            " 41%|████      | 410/1000 [00:24<00:24, 24.49it/s]"
          ]
        },
        {
          "output_type": "stream",
          "name": "stdout",
          "text": [
            "\n",
            "TRAIN ACCURACY:  57.407407407407405\n",
            "TEST ACCURACY:  50.74074074074074\n",
            "\n",
            "TRAIN ACCURACY:  57.407407407407405\n",
            "TEST ACCURACY:  50.74074074074074\n",
            "\n",
            "TRAIN ACCURACY:  57.31481481481482\n",
            "TEST ACCURACY:  50.74074074074074\n",
            "\n",
            "TRAIN ACCURACY:  57.361111111111114\n",
            "TEST ACCURACY:  50.74074074074074\n",
            "\n",
            "TRAIN ACCURACY:  57.4537037037037\n",
            "TEST ACCURACY:  50.74074074074074\n",
            "\n",
            "TRAIN ACCURACY:  57.4537037037037\n",
            "TEST ACCURACY:  50.74074074074074\n"
          ]
        },
        {
          "output_type": "stream",
          "name": "stderr",
          "text": [
            " 42%|████▏     | 416/1000 [00:24<00:24, 23.69it/s]"
          ]
        },
        {
          "output_type": "stream",
          "name": "stdout",
          "text": [
            "\n",
            "TRAIN ACCURACY:  57.4537037037037\n",
            "TEST ACCURACY:  51.111111111111114\n",
            "\n",
            "TRAIN ACCURACY:  57.5462962962963\n",
            "TEST ACCURACY:  50.74074074074074\n",
            "\n",
            "TRAIN ACCURACY:  57.5462962962963\n",
            "TEST ACCURACY:  51.111111111111114\n",
            "\n",
            "TRAIN ACCURACY:  57.5462962962963\n",
            "TEST ACCURACY:  50.925925925925924\n",
            "\n",
            "TRAIN ACCURACY:  57.5\n",
            "TEST ACCURACY:  50.925925925925924\n"
          ]
        },
        {
          "output_type": "stream",
          "name": "stderr",
          "text": [
            " 42%|████▏     | 422/1000 [00:24<00:23, 24.30it/s]"
          ]
        },
        {
          "output_type": "stream",
          "name": "stdout",
          "text": [
            "\n",
            "TRAIN ACCURACY:  57.68518518518518\n",
            "TEST ACCURACY:  50.925925925925924\n",
            "\n",
            "TRAIN ACCURACY:  57.68518518518518\n",
            "TEST ACCURACY:  51.111111111111114\n",
            "\n",
            "TRAIN ACCURACY:  57.638888888888886\n",
            "TEST ACCURACY:  51.111111111111114\n",
            "\n",
            "TRAIN ACCURACY:  57.638888888888886\n",
            "TEST ACCURACY:  51.111111111111114\n",
            "\n",
            "TRAIN ACCURACY:  57.68518518518518\n",
            "TEST ACCURACY:  50.925925925925924\n",
            "\n",
            "TRAIN ACCURACY:  57.68518518518518\n",
            "TEST ACCURACY:  50.925925925925924\n"
          ]
        },
        {
          "output_type": "stream",
          "name": "stderr",
          "text": [
            "\r 42%|████▎     | 425/1000 [00:24<00:23, 24.48it/s]"
          ]
        },
        {
          "output_type": "stream",
          "name": "stdout",
          "text": [
            "\n",
            "TRAIN ACCURACY:  57.638888888888886\n",
            "TEST ACCURACY:  50.925925925925924\n",
            "\n",
            "TRAIN ACCURACY:  57.638888888888886\n",
            "TEST ACCURACY:  50.925925925925924\n",
            "\n",
            "TRAIN ACCURACY:  57.68518518518518\n",
            "TEST ACCURACY:  50.925925925925924\n",
            "\n",
            "TRAIN ACCURACY:  57.68518518518518\n",
            "TEST ACCURACY:  50.925925925925924\n",
            "\n",
            "TRAIN ACCURACY:  57.5462962962963\n",
            "TEST ACCURACY:  50.925925925925924\n"
          ]
        },
        {
          "output_type": "stream",
          "name": "stderr",
          "text": [
            " 43%|████▎     | 431/1000 [00:25<00:23, 23.93it/s]"
          ]
        },
        {
          "output_type": "stream",
          "name": "stdout",
          "text": [
            "\n",
            "TRAIN ACCURACY:  57.592592592592595\n",
            "TEST ACCURACY:  50.925925925925924\n",
            "\n",
            "TRAIN ACCURACY:  57.638888888888886\n",
            "TEST ACCURACY:  50.925925925925924\n",
            "\n",
            "TRAIN ACCURACY:  57.592592592592595\n",
            "TEST ACCURACY:  51.111111111111114\n",
            "\n",
            "TRAIN ACCURACY:  57.5\n",
            "TEST ACCURACY:  50.74074074074074\n",
            "\n",
            "TRAIN ACCURACY:  57.5462962962963\n",
            "TEST ACCURACY:  51.111111111111114\n"
          ]
        },
        {
          "output_type": "stream",
          "name": "stderr",
          "text": [
            " 44%|████▎     | 437/1000 [00:25<00:23, 24.10it/s]"
          ]
        },
        {
          "output_type": "stream",
          "name": "stdout",
          "text": [
            "\n",
            "TRAIN ACCURACY:  57.638888888888886\n",
            "TEST ACCURACY:  50.925925925925924\n",
            "\n",
            "TRAIN ACCURACY:  57.5\n",
            "TEST ACCURACY:  51.111111111111114\n",
            "\n",
            "TRAIN ACCURACY:  57.592592592592595\n",
            "TEST ACCURACY:  51.111111111111114\n",
            "\n",
            "TRAIN ACCURACY:  57.5462962962963\n",
            "TEST ACCURACY:  51.111111111111114\n",
            "\n",
            "TRAIN ACCURACY:  57.638888888888886\n",
            "TEST ACCURACY:  51.111111111111114\n"
          ]
        },
        {
          "output_type": "stream",
          "name": "stderr",
          "text": [
            " 44%|████▍     | 443/1000 [00:25<00:23, 24.02it/s]"
          ]
        },
        {
          "output_type": "stream",
          "name": "stdout",
          "text": [
            "\n",
            "TRAIN ACCURACY:  57.68518518518518\n",
            "TEST ACCURACY:  51.2962962962963\n",
            "\n",
            "TRAIN ACCURACY:  57.638888888888886\n",
            "TEST ACCURACY:  51.2962962962963\n",
            "\n",
            "TRAIN ACCURACY:  57.638888888888886\n",
            "TEST ACCURACY:  51.2962962962963\n",
            "\n",
            "TRAIN ACCURACY:  57.638888888888886\n",
            "TEST ACCURACY:  51.2962962962963\n",
            "\n",
            "TRAIN ACCURACY:  57.592592592592595\n",
            "TEST ACCURACY:  51.2962962962963\n",
            "\n",
            "TRAIN ACCURACY:  57.68518518518518\n",
            "TEST ACCURACY:  51.111111111111114\n"
          ]
        },
        {
          "output_type": "stream",
          "name": "stderr",
          "text": [
            " 45%|████▍     | 449/1000 [00:25<00:23, 23.90it/s]"
          ]
        },
        {
          "output_type": "stream",
          "name": "stdout",
          "text": [
            "\n",
            "TRAIN ACCURACY:  57.592592592592595\n",
            "TEST ACCURACY:  51.111111111111114\n",
            "\n",
            "TRAIN ACCURACY:  57.68518518518518\n",
            "TEST ACCURACY:  51.2962962962963\n",
            "\n",
            "TRAIN ACCURACY:  57.73148148148148\n",
            "TEST ACCURACY:  51.111111111111114\n",
            "\n",
            "TRAIN ACCURACY:  57.638888888888886\n",
            "TEST ACCURACY:  51.111111111111114\n",
            "\n",
            "TRAIN ACCURACY:  57.592592592592595\n",
            "TEST ACCURACY:  51.111111111111114\n",
            "\n",
            "TRAIN ACCURACY:  57.638888888888886\n",
            "TEST ACCURACY:  51.111111111111114\n"
          ]
        },
        {
          "output_type": "stream",
          "name": "stderr",
          "text": [
            "\r 45%|████▌     | 452/1000 [00:26<00:22, 23.99it/s]"
          ]
        },
        {
          "output_type": "stream",
          "name": "stdout",
          "text": [
            "\n",
            "TRAIN ACCURACY:  57.73148148148148\n",
            "TEST ACCURACY:  51.111111111111114\n",
            "\n",
            "TRAIN ACCURACY:  57.824074074074076\n",
            "TEST ACCURACY:  51.111111111111114\n",
            "\n",
            "TRAIN ACCURACY:  57.824074074074076\n",
            "TEST ACCURACY:  51.111111111111114\n",
            "\n",
            "TRAIN ACCURACY:  57.870370370370374\n",
            "TEST ACCURACY:  51.111111111111114\n",
            "\n",
            "TRAIN ACCURACY:  57.870370370370374\n",
            "TEST ACCURACY:  51.2962962962963\n"
          ]
        },
        {
          "output_type": "stream",
          "name": "stderr",
          "text": [
            " 46%|████▌     | 458/1000 [00:26<00:22, 23.81it/s]"
          ]
        },
        {
          "output_type": "stream",
          "name": "stdout",
          "text": [
            "\n",
            "TRAIN ACCURACY:  57.916666666666664\n",
            "TEST ACCURACY:  51.2962962962963\n",
            "\n",
            "TRAIN ACCURACY:  57.916666666666664\n",
            "TEST ACCURACY:  51.111111111111114\n",
            "\n",
            "TRAIN ACCURACY:  57.916666666666664\n",
            "TEST ACCURACY:  51.111111111111114\n",
            "\n",
            "TRAIN ACCURACY:  57.96296296296296\n",
            "TEST ACCURACY:  51.48148148148148\n",
            "\n",
            "TRAIN ACCURACY:  57.96296296296296\n",
            "TEST ACCURACY:  51.2962962962963\n"
          ]
        },
        {
          "output_type": "stream",
          "name": "stderr",
          "text": [
            " 46%|████▋     | 464/1000 [00:26<00:22, 23.55it/s]"
          ]
        },
        {
          "output_type": "stream",
          "name": "stdout",
          "text": [
            "\n",
            "TRAIN ACCURACY:  58.05555555555556\n",
            "TEST ACCURACY:  51.48148148148148\n",
            "\n",
            "TRAIN ACCURACY:  57.96296296296296\n",
            "TEST ACCURACY:  51.48148148148148\n",
            "\n",
            "TRAIN ACCURACY:  57.916666666666664\n",
            "TEST ACCURACY:  51.48148148148148\n",
            "\n",
            "TRAIN ACCURACY:  58.00925925925926\n",
            "TEST ACCURACY:  51.48148148148148\n",
            "\n",
            "TRAIN ACCURACY:  57.870370370370374\n",
            "TEST ACCURACY:  51.48148148148148\n"
          ]
        },
        {
          "output_type": "stream",
          "name": "stderr",
          "text": [
            " 47%|████▋     | 470/1000 [00:26<00:22, 23.73it/s]"
          ]
        },
        {
          "output_type": "stream",
          "name": "stdout",
          "text": [
            "\n",
            "TRAIN ACCURACY:  57.916666666666664\n",
            "TEST ACCURACY:  51.48148148148148\n",
            "\n",
            "TRAIN ACCURACY:  57.916666666666664\n",
            "TEST ACCURACY:  51.48148148148148\n",
            "\n",
            "TRAIN ACCURACY:  57.824074074074076\n",
            "TEST ACCURACY:  51.48148148148148\n",
            "\n",
            "TRAIN ACCURACY:  57.870370370370374\n",
            "TEST ACCURACY:  51.48148148148148\n",
            "\n",
            "TRAIN ACCURACY:  57.916666666666664\n",
            "TEST ACCURACY:  51.48148148148148\n",
            "\n",
            "TRAIN ACCURACY:  57.870370370370374\n",
            "TEST ACCURACY:  51.48148148148148\n"
          ]
        },
        {
          "output_type": "stream",
          "name": "stderr",
          "text": [
            " 48%|████▊     | 476/1000 [00:27<00:21, 24.11it/s]"
          ]
        },
        {
          "output_type": "stream",
          "name": "stdout",
          "text": [
            "\n",
            "TRAIN ACCURACY:  57.96296296296296\n",
            "TEST ACCURACY:  51.48148148148148\n",
            "\n",
            "TRAIN ACCURACY:  57.916666666666664\n",
            "TEST ACCURACY:  51.48148148148148\n",
            "\n",
            "TRAIN ACCURACY:  57.916666666666664\n",
            "TEST ACCURACY:  51.666666666666664\n",
            "\n",
            "TRAIN ACCURACY:  57.870370370370374\n",
            "TEST ACCURACY:  51.48148148148148\n",
            "\n",
            "TRAIN ACCURACY:  57.96296296296296\n",
            "TEST ACCURACY:  51.666666666666664\n",
            "\n",
            "TRAIN ACCURACY:  58.05555555555556\n",
            "TEST ACCURACY:  51.666666666666664\n"
          ]
        },
        {
          "output_type": "stream",
          "name": "stderr",
          "text": [
            " 48%|████▊     | 482/1000 [00:27<00:21, 24.04it/s]"
          ]
        },
        {
          "output_type": "stream",
          "name": "stdout",
          "text": [
            "\n",
            "TRAIN ACCURACY:  57.96296296296296\n",
            "TEST ACCURACY:  51.666666666666664\n",
            "\n",
            "TRAIN ACCURACY:  57.96296296296296\n",
            "TEST ACCURACY:  51.666666666666664\n",
            "\n",
            "TRAIN ACCURACY:  57.96296296296296\n",
            "TEST ACCURACY:  51.666666666666664\n",
            "\n",
            "TRAIN ACCURACY:  57.916666666666664\n",
            "TEST ACCURACY:  51.666666666666664\n",
            "\n",
            "TRAIN ACCURACY:  57.96296296296296\n",
            "TEST ACCURACY:  51.851851851851855\n",
            "\n",
            "TRAIN ACCURACY:  57.96296296296296\n",
            "TEST ACCURACY:  51.666666666666664\n"
          ]
        },
        {
          "output_type": "stream",
          "name": "stderr",
          "text": [
            "\r 48%|████▊     | 485/1000 [00:27<00:21, 23.55it/s]"
          ]
        },
        {
          "output_type": "stream",
          "name": "stdout",
          "text": [
            "\n",
            "TRAIN ACCURACY:  57.96296296296296\n",
            "TEST ACCURACY:  51.666666666666664\n",
            "\n",
            "TRAIN ACCURACY:  57.870370370370374\n",
            "TEST ACCURACY:  51.851851851851855\n",
            "\n",
            "TRAIN ACCURACY:  57.916666666666664\n",
            "TEST ACCURACY:  51.666666666666664\n",
            "\n",
            "TRAIN ACCURACY:  57.916666666666664\n",
            "TEST ACCURACY:  51.851851851851855\n",
            "\n",
            "TRAIN ACCURACY:  57.916666666666664\n",
            "TEST ACCURACY:  51.851851851851855\n"
          ]
        },
        {
          "output_type": "stream",
          "name": "stderr",
          "text": [
            " 49%|████▉     | 491/1000 [00:27<00:21, 23.48it/s]"
          ]
        },
        {
          "output_type": "stream",
          "name": "stdout",
          "text": [
            "\n",
            "TRAIN ACCURACY:  57.916666666666664\n",
            "TEST ACCURACY:  51.851851851851855\n",
            "\n",
            "TRAIN ACCURACY:  57.96296296296296\n",
            "TEST ACCURACY:  51.851851851851855\n",
            "\n",
            "TRAIN ACCURACY:  57.916666666666664\n",
            "TEST ACCURACY:  51.851851851851855\n",
            "\n",
            "TRAIN ACCURACY:  58.00925925925926\n",
            "TEST ACCURACY:  51.851851851851855\n",
            "\n",
            "TRAIN ACCURACY:  58.101851851851855\n",
            "TEST ACCURACY:  51.851851851851855\n",
            "\n",
            "TRAIN ACCURACY:  57.96296296296296\n",
            "TEST ACCURACY:  51.851851851851855\n"
          ]
        },
        {
          "output_type": "stream",
          "name": "stderr",
          "text": [
            " 50%|████▉     | 497/1000 [00:27<00:21, 23.75it/s]"
          ]
        },
        {
          "output_type": "stream",
          "name": "stdout",
          "text": [
            "\n",
            "TRAIN ACCURACY:  58.101851851851855\n",
            "TEST ACCURACY:  51.851851851851855\n",
            "\n",
            "TRAIN ACCURACY:  58.148148148148145\n",
            "TEST ACCURACY:  51.851851851851855\n",
            "\n",
            "TRAIN ACCURACY:  58.148148148148145\n",
            "TEST ACCURACY:  51.851851851851855\n",
            "\n",
            "TRAIN ACCURACY:  58.19444444444444\n",
            "TEST ACCURACY:  51.851851851851855\n",
            "\n",
            "TRAIN ACCURACY:  58.24074074074074\n",
            "TEST ACCURACY:  51.851851851851855\n"
          ]
        },
        {
          "output_type": "stream",
          "name": "stderr",
          "text": [
            " 50%|█████     | 503/1000 [00:28<00:20, 24.10it/s]"
          ]
        },
        {
          "output_type": "stream",
          "name": "stdout",
          "text": [
            "\n",
            "TRAIN ACCURACY:  58.24074074074074\n",
            "TEST ACCURACY:  51.851851851851855\n",
            "\n",
            "TRAIN ACCURACY:  58.24074074074074\n",
            "TEST ACCURACY:  51.851851851851855\n",
            "\n",
            "TRAIN ACCURACY:  58.19444444444444\n",
            "TEST ACCURACY:  51.851851851851855\n",
            "\n",
            "TRAIN ACCURACY:  58.19444444444444\n",
            "TEST ACCURACY:  51.851851851851855\n",
            "\n",
            "TRAIN ACCURACY:  58.19444444444444\n",
            "TEST ACCURACY:  51.851851851851855\n"
          ]
        },
        {
          "output_type": "stream",
          "name": "stderr",
          "text": [
            " 51%|█████     | 509/1000 [00:28<00:20, 24.27it/s]"
          ]
        },
        {
          "output_type": "stream",
          "name": "stdout",
          "text": [
            "\n",
            "TRAIN ACCURACY:  58.19444444444444\n",
            "TEST ACCURACY:  51.851851851851855\n",
            "\n",
            "TRAIN ACCURACY:  58.28703703703704\n",
            "TEST ACCURACY:  51.851851851851855\n",
            "\n",
            "TRAIN ACCURACY:  58.28703703703704\n",
            "TEST ACCURACY:  51.851851851851855\n",
            "\n",
            "TRAIN ACCURACY:  58.24074074074074\n",
            "TEST ACCURACY:  51.851851851851855\n",
            "\n",
            "TRAIN ACCURACY:  58.24074074074074\n",
            "TEST ACCURACY:  51.851851851851855\n",
            "\n",
            "TRAIN ACCURACY:  58.24074074074074\n",
            "TEST ACCURACY:  52.03703703703704\n"
          ]
        },
        {
          "output_type": "stream",
          "name": "stderr",
          "text": [
            "\r 51%|█████     | 512/1000 [00:28<00:20, 23.96it/s]"
          ]
        },
        {
          "output_type": "stream",
          "name": "stdout",
          "text": [
            "\n",
            "TRAIN ACCURACY:  58.19444444444444\n",
            "TEST ACCURACY:  51.851851851851855\n",
            "\n",
            "TRAIN ACCURACY:  58.24074074074074\n",
            "TEST ACCURACY:  52.22222222222222\n",
            "\n",
            "TRAIN ACCURACY:  58.19444444444444\n",
            "TEST ACCURACY:  52.22222222222222\n",
            "\n",
            "TRAIN ACCURACY:  58.28703703703704\n",
            "TEST ACCURACY:  52.03703703703704\n",
            "\n",
            "TRAIN ACCURACY:  58.28703703703704\n",
            "TEST ACCURACY:  52.22222222222222\n"
          ]
        },
        {
          "output_type": "stream",
          "name": "stderr",
          "text": [
            " 52%|█████▏    | 518/1000 [00:28<00:20, 23.71it/s]"
          ]
        },
        {
          "output_type": "stream",
          "name": "stdout",
          "text": [
            "\n",
            "TRAIN ACCURACY:  58.24074074074074\n",
            "TEST ACCURACY:  52.03703703703704\n",
            "\n",
            "TRAIN ACCURACY:  58.19444444444444\n",
            "TEST ACCURACY:  52.03703703703704\n",
            "\n",
            "TRAIN ACCURACY:  58.24074074074074\n",
            "TEST ACCURACY:  51.851851851851855\n",
            "\n",
            "TRAIN ACCURACY:  58.19444444444444\n",
            "TEST ACCURACY:  52.03703703703704\n",
            "\n",
            "TRAIN ACCURACY:  58.148148148148145\n",
            "TEST ACCURACY:  52.03703703703704\n"
          ]
        },
        {
          "output_type": "stream",
          "name": "stderr",
          "text": [
            " 52%|█████▏    | 524/1000 [00:29<00:20, 23.50it/s]"
          ]
        },
        {
          "output_type": "stream",
          "name": "stdout",
          "text": [
            "\n",
            "TRAIN ACCURACY:  58.148148148148145\n",
            "TEST ACCURACY:  52.03703703703704\n",
            "\n",
            "TRAIN ACCURACY:  58.19444444444444\n",
            "TEST ACCURACY:  52.22222222222222\n",
            "\n",
            "TRAIN ACCURACY:  58.333333333333336\n",
            "TEST ACCURACY:  52.22222222222222\n",
            "\n",
            "TRAIN ACCURACY:  58.333333333333336\n",
            "TEST ACCURACY:  52.22222222222222\n",
            "\n",
            "TRAIN ACCURACY:  58.19444444444444\n",
            "TEST ACCURACY:  52.22222222222222\n",
            "\n",
            "TRAIN ACCURACY:  58.19444444444444\n",
            "TEST ACCURACY:  51.851851851851855\n"
          ]
        },
        {
          "output_type": "stream",
          "name": "stderr",
          "text": [
            " 53%|█████▎    | 530/1000 [00:29<00:19, 24.10it/s]"
          ]
        },
        {
          "output_type": "stream",
          "name": "stdout",
          "text": [
            "\n",
            "TRAIN ACCURACY:  58.24074074074074\n",
            "TEST ACCURACY:  52.03703703703704\n",
            "\n",
            "TRAIN ACCURACY:  58.28703703703704\n",
            "TEST ACCURACY:  52.407407407407405\n",
            "\n",
            "TRAIN ACCURACY:  58.333333333333336\n",
            "TEST ACCURACY:  52.03703703703704\n",
            "\n",
            "TRAIN ACCURACY:  58.333333333333336\n",
            "TEST ACCURACY:  52.407407407407405\n",
            "\n",
            "TRAIN ACCURACY:  58.333333333333336\n",
            "TEST ACCURACY:  52.03703703703704\n",
            "\n",
            "TRAIN ACCURACY:  58.24074074074074\n",
            "TEST ACCURACY:  52.22222222222222\n"
          ]
        },
        {
          "output_type": "stream",
          "name": "stderr",
          "text": [
            " 54%|█████▎    | 536/1000 [00:29<00:19, 23.96it/s]"
          ]
        },
        {
          "output_type": "stream",
          "name": "stdout",
          "text": [
            "\n",
            "TRAIN ACCURACY:  58.28703703703704\n",
            "TEST ACCURACY:  52.03703703703704\n",
            "\n",
            "TRAIN ACCURACY:  58.379629629629626\n",
            "TEST ACCURACY:  52.03703703703704\n",
            "\n",
            "TRAIN ACCURACY:  58.333333333333336\n",
            "TEST ACCURACY:  51.851851851851855\n",
            "\n",
            "TRAIN ACCURACY:  58.28703703703704\n",
            "TEST ACCURACY:  52.22222222222222\n",
            "\n",
            "TRAIN ACCURACY:  58.24074074074074\n",
            "TEST ACCURACY:  52.03703703703704\n"
          ]
        },
        {
          "output_type": "stream",
          "name": "stderr",
          "text": [
            " 54%|█████▍    | 542/1000 [00:29<00:19, 23.75it/s]"
          ]
        },
        {
          "output_type": "stream",
          "name": "stdout",
          "text": [
            "\n",
            "TRAIN ACCURACY:  58.24074074074074\n",
            "TEST ACCURACY:  52.22222222222222\n",
            "\n",
            "TRAIN ACCURACY:  58.148148148148145\n",
            "TEST ACCURACY:  52.22222222222222\n",
            "\n",
            "TRAIN ACCURACY:  58.148148148148145\n",
            "TEST ACCURACY:  52.22222222222222\n",
            "\n",
            "TRAIN ACCURACY:  58.24074074074074\n",
            "TEST ACCURACY:  52.22222222222222\n",
            "\n",
            "TRAIN ACCURACY:  58.148148148148145\n",
            "TEST ACCURACY:  52.22222222222222\n",
            "\n",
            "TRAIN ACCURACY:  58.28703703703704\n",
            "TEST ACCURACY:  52.22222222222222\n"
          ]
        },
        {
          "output_type": "stream",
          "name": "stderr",
          "text": [
            "\r 55%|█████▍    | 545/1000 [00:30<00:19, 23.18it/s]"
          ]
        },
        {
          "output_type": "stream",
          "name": "stdout",
          "text": [
            "\n",
            "TRAIN ACCURACY:  58.24074074074074\n",
            "TEST ACCURACY:  52.22222222222222\n",
            "\n",
            "TRAIN ACCURACY:  58.24074074074074\n",
            "TEST ACCURACY:  52.22222222222222\n",
            "\n",
            "TRAIN ACCURACY:  58.379629629629626\n",
            "TEST ACCURACY:  52.22222222222222\n",
            "\n",
            "TRAIN ACCURACY:  58.28703703703704\n",
            "TEST ACCURACY:  52.03703703703704\n",
            "\n",
            "TRAIN ACCURACY:  58.19444444444444\n",
            "TEST ACCURACY:  52.22222222222222\n"
          ]
        },
        {
          "output_type": "stream",
          "name": "stderr",
          "text": [
            " 55%|█████▌    | 551/1000 [00:30<00:18, 23.66it/s]"
          ]
        },
        {
          "output_type": "stream",
          "name": "stdout",
          "text": [
            "\n",
            "TRAIN ACCURACY:  58.333333333333336\n",
            "TEST ACCURACY:  52.22222222222222\n",
            "\n",
            "TRAIN ACCURACY:  58.148148148148145\n",
            "TEST ACCURACY:  52.22222222222222\n",
            "\n",
            "TRAIN ACCURACY:  58.148148148148145\n",
            "TEST ACCURACY:  52.03703703703704\n",
            "\n",
            "TRAIN ACCURACY:  58.28703703703704\n",
            "TEST ACCURACY:  52.03703703703704\n",
            "\n",
            "TRAIN ACCURACY:  58.24074074074074\n",
            "TEST ACCURACY:  52.03703703703704\n",
            "\n",
            "TRAIN ACCURACY:  58.101851851851855\n",
            "TEST ACCURACY:  52.03703703703704\n"
          ]
        },
        {
          "output_type": "stream",
          "name": "stderr",
          "text": [
            " 56%|█████▌    | 557/1000 [00:30<00:18, 23.80it/s]"
          ]
        },
        {
          "output_type": "stream",
          "name": "stdout",
          "text": [
            "\n",
            "TRAIN ACCURACY:  58.333333333333336\n",
            "TEST ACCURACY:  52.03703703703704\n",
            "\n",
            "TRAIN ACCURACY:  58.333333333333336\n",
            "TEST ACCURACY:  52.03703703703704\n",
            "\n",
            "TRAIN ACCURACY:  58.19444444444444\n",
            "TEST ACCURACY:  51.851851851851855\n",
            "\n",
            "TRAIN ACCURACY:  58.19444444444444\n",
            "TEST ACCURACY:  51.851851851851855\n",
            "\n",
            "TRAIN ACCURACY:  58.19444444444444\n",
            "TEST ACCURACY:  51.851851851851855\n"
          ]
        },
        {
          "output_type": "stream",
          "name": "stderr",
          "text": [
            " 56%|█████▋    | 563/1000 [00:30<00:18, 23.58it/s]"
          ]
        },
        {
          "output_type": "stream",
          "name": "stdout",
          "text": [
            "\n",
            "TRAIN ACCURACY:  58.19444444444444\n",
            "TEST ACCURACY:  51.666666666666664\n",
            "\n",
            "TRAIN ACCURACY:  58.101851851851855\n",
            "TEST ACCURACY:  51.851851851851855\n",
            "\n",
            "TRAIN ACCURACY:  58.19444444444444\n",
            "TEST ACCURACY:  51.851851851851855\n",
            "\n",
            "TRAIN ACCURACY:  58.148148148148145\n",
            "TEST ACCURACY:  51.851851851851855\n",
            "\n",
            "TRAIN ACCURACY:  58.24074074074074\n",
            "TEST ACCURACY:  51.851851851851855\n"
          ]
        },
        {
          "output_type": "stream",
          "name": "stderr",
          "text": [
            " 57%|█████▋    | 569/1000 [00:31<00:17, 24.21it/s]"
          ]
        },
        {
          "output_type": "stream",
          "name": "stdout",
          "text": [
            "\n",
            "TRAIN ACCURACY:  58.24074074074074\n",
            "TEST ACCURACY:  51.851851851851855\n",
            "\n",
            "TRAIN ACCURACY:  58.24074074074074\n",
            "TEST ACCURACY:  51.851851851851855\n",
            "\n",
            "TRAIN ACCURACY:  58.148148148148145\n",
            "TEST ACCURACY:  51.851851851851855\n",
            "\n",
            "TRAIN ACCURACY:  58.24074074074074\n",
            "TEST ACCURACY:  51.851851851851855\n",
            "\n",
            "TRAIN ACCURACY:  58.28703703703704\n",
            "TEST ACCURACY:  51.666666666666664\n",
            "\n",
            "TRAIN ACCURACY:  58.24074074074074\n",
            "TEST ACCURACY:  51.851851851851855\n"
          ]
        },
        {
          "output_type": "stream",
          "name": "stderr",
          "text": [
            "\r 57%|█████▋    | 572/1000 [00:31<00:18, 23.72it/s]"
          ]
        },
        {
          "output_type": "stream",
          "name": "stdout",
          "text": [
            "\n",
            "TRAIN ACCURACY:  58.333333333333336\n",
            "TEST ACCURACY:  51.851851851851855\n",
            "\n",
            "TRAIN ACCURACY:  58.333333333333336\n",
            "TEST ACCURACY:  51.851851851851855\n",
            "\n",
            "TRAIN ACCURACY:  58.333333333333336\n",
            "TEST ACCURACY:  51.851851851851855\n",
            "\n",
            "TRAIN ACCURACY:  58.28703703703704\n",
            "TEST ACCURACY:  51.851851851851855\n",
            "\n",
            "TRAIN ACCURACY:  58.24074074074074\n",
            "TEST ACCURACY:  51.851851851851855\n"
          ]
        },
        {
          "output_type": "stream",
          "name": "stderr",
          "text": [
            " 58%|█████▊    | 578/1000 [00:31<00:17, 24.04it/s]"
          ]
        },
        {
          "output_type": "stream",
          "name": "stdout",
          "text": [
            "\n",
            "TRAIN ACCURACY:  58.28703703703704\n",
            "TEST ACCURACY:  51.851851851851855\n",
            "\n",
            "TRAIN ACCURACY:  58.24074074074074\n",
            "TEST ACCURACY:  51.851851851851855\n",
            "\n",
            "TRAIN ACCURACY:  58.24074074074074\n",
            "TEST ACCURACY:  51.48148148148148\n",
            "\n",
            "TRAIN ACCURACY:  58.28703703703704\n",
            "TEST ACCURACY:  51.851851851851855\n",
            "\n",
            "TRAIN ACCURACY:  58.28703703703704\n",
            "TEST ACCURACY:  51.851851851851855\n"
          ]
        },
        {
          "output_type": "stream",
          "name": "stderr",
          "text": [
            " 58%|█████▊    | 584/1000 [00:31<00:17, 24.13it/s]"
          ]
        },
        {
          "output_type": "stream",
          "name": "stdout",
          "text": [
            "\n",
            "TRAIN ACCURACY:  58.28703703703704\n",
            "TEST ACCURACY:  51.48148148148148\n",
            "\n",
            "TRAIN ACCURACY:  58.379629629629626\n",
            "TEST ACCURACY:  51.48148148148148\n",
            "\n",
            "TRAIN ACCURACY:  58.379629629629626\n",
            "TEST ACCURACY:  51.666666666666664\n",
            "\n",
            "TRAIN ACCURACY:  58.28703703703704\n",
            "TEST ACCURACY:  51.48148148148148\n",
            "\n",
            "TRAIN ACCURACY:  58.333333333333336\n",
            "TEST ACCURACY:  51.48148148148148\n"
          ]
        },
        {
          "output_type": "stream",
          "name": "stderr",
          "text": [
            " 59%|█████▉    | 590/1000 [00:31<00:16, 24.16it/s]"
          ]
        },
        {
          "output_type": "stream",
          "name": "stdout",
          "text": [
            "\n",
            "TRAIN ACCURACY:  58.28703703703704\n",
            "TEST ACCURACY:  51.666666666666664\n",
            "\n",
            "TRAIN ACCURACY:  58.333333333333336\n",
            "TEST ACCURACY:  51.666666666666664\n",
            "\n",
            "TRAIN ACCURACY:  58.333333333333336\n",
            "TEST ACCURACY:  51.48148148148148\n",
            "\n",
            "TRAIN ACCURACY:  58.28703703703704\n",
            "TEST ACCURACY:  51.666666666666664\n",
            "\n",
            "TRAIN ACCURACY:  58.28703703703704\n",
            "TEST ACCURACY:  51.2962962962963\n",
            "\n",
            "TRAIN ACCURACY:  58.333333333333336\n",
            "TEST ACCURACY:  51.2962962962963\n"
          ]
        },
        {
          "output_type": "stream",
          "name": "stderr",
          "text": [
            " 60%|█████▉    | 596/1000 [00:32<00:16, 24.00it/s]"
          ]
        },
        {
          "output_type": "stream",
          "name": "stdout",
          "text": [
            "\n",
            "TRAIN ACCURACY:  58.333333333333336\n",
            "TEST ACCURACY:  51.48148148148148\n",
            "\n",
            "TRAIN ACCURACY:  58.379629629629626\n",
            "TEST ACCURACY:  51.2962962962963\n",
            "\n",
            "TRAIN ACCURACY:  58.24074074074074\n",
            "TEST ACCURACY:  51.2962962962963\n",
            "\n",
            "TRAIN ACCURACY:  58.28703703703704\n",
            "TEST ACCURACY:  51.2962962962963\n",
            "\n",
            "TRAIN ACCURACY:  58.28703703703704\n",
            "TEST ACCURACY:  51.2962962962963\n",
            "\n",
            "TRAIN ACCURACY:  58.28703703703704\n",
            "TEST ACCURACY:  51.2962962962963\n"
          ]
        },
        {
          "output_type": "stream",
          "name": "stderr",
          "text": [
            " 60%|██████    | 602/1000 [00:32<00:16, 24.00it/s]"
          ]
        },
        {
          "output_type": "stream",
          "name": "stdout",
          "text": [
            "\n",
            "TRAIN ACCURACY:  58.28703703703704\n",
            "TEST ACCURACY:  51.48148148148148\n",
            "\n",
            "TRAIN ACCURACY:  58.24074074074074\n",
            "TEST ACCURACY:  51.2962962962963\n",
            "\n",
            "TRAIN ACCURACY:  58.19444444444444\n",
            "TEST ACCURACY:  51.2962962962963\n",
            "\n",
            "TRAIN ACCURACY:  58.28703703703704\n",
            "TEST ACCURACY:  51.111111111111114\n",
            "\n",
            "TRAIN ACCURACY:  58.28703703703704\n",
            "TEST ACCURACY:  51.2962962962963\n",
            "\n",
            "TRAIN ACCURACY:  58.28703703703704\n",
            "TEST ACCURACY:  51.111111111111114\n"
          ]
        },
        {
          "output_type": "stream",
          "name": "stderr",
          "text": [
            "\r 60%|██████    | 605/1000 [00:32<00:16, 23.68it/s]"
          ]
        },
        {
          "output_type": "stream",
          "name": "stdout",
          "text": [
            "\n",
            "TRAIN ACCURACY:  58.333333333333336\n",
            "TEST ACCURACY:  51.111111111111114\n",
            "\n",
            "TRAIN ACCURACY:  58.333333333333336\n",
            "TEST ACCURACY:  51.111111111111114\n",
            "\n",
            "TRAIN ACCURACY:  58.379629629629626\n",
            "TEST ACCURACY:  51.111111111111114\n",
            "\n",
            "TRAIN ACCURACY:  58.425925925925924\n",
            "TEST ACCURACY:  51.111111111111114\n",
            "\n",
            "TRAIN ACCURACY:  58.425925925925924\n",
            "TEST ACCURACY:  51.111111111111114\n"
          ]
        },
        {
          "output_type": "stream",
          "name": "stderr",
          "text": [
            " 61%|██████    | 611/1000 [00:32<00:16, 23.30it/s]"
          ]
        },
        {
          "output_type": "stream",
          "name": "stdout",
          "text": [
            "\n",
            "TRAIN ACCURACY:  58.379629629629626\n",
            "TEST ACCURACY:  51.111111111111114\n",
            "\n",
            "TRAIN ACCURACY:  58.425925925925924\n",
            "TEST ACCURACY:  51.111111111111114\n",
            "\n",
            "TRAIN ACCURACY:  58.425925925925924\n",
            "TEST ACCURACY:  51.111111111111114\n",
            "\n",
            "TRAIN ACCURACY:  58.47222222222222\n",
            "TEST ACCURACY:  51.111111111111114\n",
            "\n",
            "TRAIN ACCURACY:  58.51851851851852\n",
            "TEST ACCURACY:  51.111111111111114\n"
          ]
        },
        {
          "output_type": "stream",
          "name": "stderr",
          "text": [
            " 62%|██████▏   | 617/1000 [00:33<00:16, 23.30it/s]"
          ]
        },
        {
          "output_type": "stream",
          "name": "stdout",
          "text": [
            "\n",
            "TRAIN ACCURACY:  58.51851851851852\n",
            "TEST ACCURACY:  51.111111111111114\n",
            "\n",
            "TRAIN ACCURACY:  58.51851851851852\n",
            "TEST ACCURACY:  51.111111111111114\n",
            "\n",
            "TRAIN ACCURACY:  58.425925925925924\n",
            "TEST ACCURACY:  51.111111111111114\n",
            "\n",
            "TRAIN ACCURACY:  58.51851851851852\n",
            "TEST ACCURACY:  51.111111111111114\n",
            "\n",
            "TRAIN ACCURACY:  58.379629629629626\n",
            "TEST ACCURACY:  51.111111111111114\n"
          ]
        },
        {
          "output_type": "stream",
          "name": "stderr",
          "text": [
            "\r 62%|██████▏   | 620/1000 [00:33<00:16, 22.97it/s]"
          ]
        },
        {
          "output_type": "stream",
          "name": "stdout",
          "text": [
            "\n",
            "TRAIN ACCURACY:  58.51851851851852\n",
            "TEST ACCURACY:  51.111111111111114\n",
            "\n",
            "TRAIN ACCURACY:  58.425925925925924\n",
            "TEST ACCURACY:  51.111111111111114\n",
            "\n",
            "TRAIN ACCURACY:  58.379629629629626\n",
            "TEST ACCURACY:  51.111111111111114\n",
            "\n",
            "TRAIN ACCURACY:  58.425925925925924\n",
            "TEST ACCURACY:  51.111111111111114\n",
            "\n",
            "TRAIN ACCURACY:  58.425925925925924\n",
            "TEST ACCURACY:  51.111111111111114\n",
            "\n",
            "TRAIN ACCURACY:  58.379629629629626\n"
          ]
        },
        {
          "output_type": "stream",
          "name": "stderr",
          "text": [
            " 63%|██████▎   | 626/1000 [00:33<00:15, 23.45it/s]"
          ]
        },
        {
          "output_type": "stream",
          "name": "stdout",
          "text": [
            "TEST ACCURACY:  51.111111111111114\n",
            "\n",
            "TRAIN ACCURACY:  58.425925925925924\n",
            "TEST ACCURACY:  51.111111111111114\n",
            "\n",
            "TRAIN ACCURACY:  58.379629629629626\n",
            "TEST ACCURACY:  51.111111111111114\n",
            "\n",
            "TRAIN ACCURACY:  58.379629629629626\n",
            "TEST ACCURACY:  51.111111111111114\n",
            "\n",
            "TRAIN ACCURACY:  58.425925925925924\n",
            "TEST ACCURACY:  51.48148148148148\n"
          ]
        },
        {
          "output_type": "stream",
          "name": "stderr",
          "text": [
            " 63%|██████▎   | 632/1000 [00:33<00:15, 23.83it/s]"
          ]
        },
        {
          "output_type": "stream",
          "name": "stdout",
          "text": [
            "\n",
            "TRAIN ACCURACY:  58.425925925925924\n",
            "TEST ACCURACY:  51.2962962962963\n",
            "\n",
            "TRAIN ACCURACY:  58.425925925925924\n",
            "TEST ACCURACY:  51.2962962962963\n",
            "\n",
            "TRAIN ACCURACY:  58.47222222222222\n",
            "TEST ACCURACY:  51.2962962962963\n",
            "\n",
            "TRAIN ACCURACY:  58.47222222222222\n",
            "TEST ACCURACY:  51.48148148148148\n",
            "\n",
            "TRAIN ACCURACY:  58.425925925925924\n",
            "TEST ACCURACY:  51.2962962962963\n"
          ]
        },
        {
          "output_type": "stream",
          "name": "stderr",
          "text": [
            "\r 64%|██████▎   | 635/1000 [00:33<00:15, 23.36it/s]"
          ]
        },
        {
          "output_type": "stream",
          "name": "stdout",
          "text": [
            "\n",
            "TRAIN ACCURACY:  58.379629629629626\n",
            "TEST ACCURACY:  51.2962962962963\n",
            "\n",
            "TRAIN ACCURACY:  58.379629629629626\n",
            "TEST ACCURACY:  51.2962962962963\n",
            "\n",
            "TRAIN ACCURACY:  58.379629629629626\n",
            "TEST ACCURACY:  51.2962962962963\n",
            "\n",
            "TRAIN ACCURACY:  58.379629629629626\n",
            "TEST ACCURACY:  51.2962962962963\n",
            "\n",
            "TRAIN ACCURACY:  58.425925925925924\n",
            "TEST ACCURACY:  51.2962962962963\n"
          ]
        },
        {
          "output_type": "stream",
          "name": "stderr",
          "text": [
            " 64%|██████▍   | 641/1000 [00:34<00:15, 23.15it/s]"
          ]
        },
        {
          "output_type": "stream",
          "name": "stdout",
          "text": [
            "\n",
            "TRAIN ACCURACY:  58.425925925925924\n",
            "TEST ACCURACY:  51.2962962962963\n",
            "\n",
            "TRAIN ACCURACY:  58.47222222222222\n",
            "TEST ACCURACY:  51.2962962962963\n",
            "\n",
            "TRAIN ACCURACY:  58.379629629629626\n",
            "TEST ACCURACY:  51.2962962962963\n",
            "\n",
            "TRAIN ACCURACY:  58.333333333333336\n",
            "TEST ACCURACY:  51.2962962962963\n",
            "\n",
            "TRAIN ACCURACY:  58.47222222222222\n",
            "TEST ACCURACY:  51.2962962962963\n"
          ]
        },
        {
          "output_type": "stream",
          "name": "stderr",
          "text": [
            " 65%|██████▍   | 647/1000 [00:34<00:15, 23.19it/s]"
          ]
        },
        {
          "output_type": "stream",
          "name": "stdout",
          "text": [
            "\n",
            "TRAIN ACCURACY:  58.47222222222222\n",
            "TEST ACCURACY:  51.2962962962963\n",
            "\n",
            "TRAIN ACCURACY:  58.657407407407405\n",
            "TEST ACCURACY:  51.2962962962963\n",
            "\n",
            "TRAIN ACCURACY:  58.425925925925924\n",
            "TEST ACCURACY:  51.2962962962963\n",
            "\n",
            "TRAIN ACCURACY:  58.47222222222222\n",
            "TEST ACCURACY:  51.2962962962963\n",
            "\n",
            "TRAIN ACCURACY:  58.425925925925924\n",
            "TEST ACCURACY:  51.2962962962963\n"
          ]
        },
        {
          "output_type": "stream",
          "name": "stderr",
          "text": [
            "\r 65%|██████▌   | 650/1000 [00:34<00:15, 23.32it/s]"
          ]
        },
        {
          "output_type": "stream",
          "name": "stdout",
          "text": [
            "\n",
            "TRAIN ACCURACY:  58.47222222222222\n",
            "TEST ACCURACY:  51.2962962962963\n",
            "\n",
            "TRAIN ACCURACY:  58.425925925925924\n",
            "TEST ACCURACY:  51.2962962962963\n",
            "\n",
            "TRAIN ACCURACY:  58.47222222222222\n",
            "TEST ACCURACY:  51.2962962962963\n",
            "\n",
            "TRAIN ACCURACY:  58.611111111111114\n",
            "TEST ACCURACY:  51.2962962962963\n",
            "\n",
            "TRAIN ACCURACY:  58.51851851851852\n",
            "TEST ACCURACY:  51.2962962962963\n"
          ]
        },
        {
          "output_type": "stream",
          "name": "stderr",
          "text": [
            " 66%|██████▌   | 656/1000 [00:34<00:14, 23.95it/s]"
          ]
        },
        {
          "output_type": "stream",
          "name": "stdout",
          "text": [
            "\n",
            "TRAIN ACCURACY:  58.611111111111114\n",
            "TEST ACCURACY:  51.2962962962963\n",
            "\n",
            "TRAIN ACCURACY:  58.56481481481482\n",
            "TEST ACCURACY:  51.2962962962963\n",
            "\n",
            "TRAIN ACCURACY:  58.611111111111114\n",
            "TEST ACCURACY:  51.2962962962963\n",
            "\n",
            "TRAIN ACCURACY:  58.56481481481482\n",
            "TEST ACCURACY:  51.2962962962963\n",
            "\n",
            "TRAIN ACCURACY:  58.47222222222222\n",
            "TEST ACCURACY:  51.2962962962963\n"
          ]
        },
        {
          "output_type": "stream",
          "name": "stderr",
          "text": [
            " 66%|██████▌   | 662/1000 [00:34<00:14, 23.22it/s]"
          ]
        },
        {
          "output_type": "stream",
          "name": "stdout",
          "text": [
            "\n",
            "TRAIN ACCURACY:  58.51851851851852\n",
            "TEST ACCURACY:  51.111111111111114\n",
            "\n",
            "TRAIN ACCURACY:  58.51851851851852\n",
            "TEST ACCURACY:  51.111111111111114\n",
            "\n",
            "TRAIN ACCURACY:  58.425925925925924\n",
            "TEST ACCURACY:  51.111111111111114\n",
            "\n",
            "TRAIN ACCURACY:  58.51851851851852\n",
            "TEST ACCURACY:  51.111111111111114\n",
            "\n",
            "TRAIN ACCURACY:  58.425925925925924\n",
            "TEST ACCURACY:  51.2962962962963\n"
          ]
        },
        {
          "output_type": "stream",
          "name": "stderr",
          "text": [
            " 67%|██████▋   | 668/1000 [00:35<00:14, 23.67it/s]"
          ]
        },
        {
          "output_type": "stream",
          "name": "stdout",
          "text": [
            "\n",
            "TRAIN ACCURACY:  58.56481481481482\n",
            "TEST ACCURACY:  51.111111111111114\n",
            "\n",
            "TRAIN ACCURACY:  58.47222222222222\n",
            "TEST ACCURACY:  51.111111111111114\n",
            "\n",
            "TRAIN ACCURACY:  58.425925925925924\n",
            "TEST ACCURACY:  51.2962962962963\n",
            "\n",
            "TRAIN ACCURACY:  58.425925925925924\n",
            "TEST ACCURACY:  51.2962962962963\n",
            "\n",
            "TRAIN ACCURACY:  58.47222222222222\n",
            "TEST ACCURACY:  51.111111111111114\n",
            "\n",
            "TRAIN ACCURACY:  58.425925925925924\n",
            "TEST ACCURACY:  51.2962962962963\n"
          ]
        },
        {
          "output_type": "stream",
          "name": "stderr",
          "text": [
            "\r 67%|██████▋   | 671/1000 [00:35<00:13, 23.71it/s]"
          ]
        },
        {
          "output_type": "stream",
          "name": "stdout",
          "text": [
            "\n",
            "TRAIN ACCURACY:  58.379629629629626\n",
            "TEST ACCURACY:  51.2962962962963\n",
            "\n",
            "TRAIN ACCURACY:  58.425925925925924\n",
            "TEST ACCURACY:  51.2962962962963\n",
            "\n",
            "TRAIN ACCURACY:  58.425925925925924\n",
            "TEST ACCURACY:  51.2962962962963\n",
            "\n",
            "TRAIN ACCURACY:  58.425925925925924\n",
            "TEST ACCURACY:  51.2962962962963\n",
            "\n",
            "TRAIN ACCURACY:  58.47222222222222\n",
            "TEST ACCURACY:  51.2962962962963\n"
          ]
        },
        {
          "output_type": "stream",
          "name": "stderr",
          "text": [
            " 68%|██████▊   | 677/1000 [00:35<00:13, 23.46it/s]"
          ]
        },
        {
          "output_type": "stream",
          "name": "stdout",
          "text": [
            "\n",
            "TRAIN ACCURACY:  58.425925925925924\n",
            "TEST ACCURACY:  51.2962962962963\n",
            "\n",
            "TRAIN ACCURACY:  58.379629629629626\n",
            "TEST ACCURACY:  51.2962962962963\n",
            "\n",
            "TRAIN ACCURACY:  58.425925925925924\n",
            "TEST ACCURACY:  51.2962962962963\n",
            "\n",
            "TRAIN ACCURACY:  58.425925925925924\n",
            "TEST ACCURACY:  51.2962962962963\n",
            "\n",
            "TRAIN ACCURACY:  58.425925925925924\n",
            "TEST ACCURACY:  51.2962962962963\n"
          ]
        },
        {
          "output_type": "stream",
          "name": "stderr",
          "text": [
            " 68%|██████▊   | 683/1000 [00:35<00:13, 23.24it/s]"
          ]
        },
        {
          "output_type": "stream",
          "name": "stdout",
          "text": [
            "\n",
            "TRAIN ACCURACY:  58.425925925925924\n",
            "TEST ACCURACY:  51.2962962962963\n",
            "\n",
            "TRAIN ACCURACY:  58.51851851851852\n",
            "TEST ACCURACY:  51.2962962962963\n",
            "\n",
            "TRAIN ACCURACY:  58.379629629629626\n",
            "TEST ACCURACY:  51.2962962962963\n",
            "\n",
            "TRAIN ACCURACY:  58.51851851851852\n",
            "TEST ACCURACY:  51.2962962962963\n",
            "\n",
            "TRAIN ACCURACY:  58.47222222222222\n",
            "TEST ACCURACY:  51.2962962962963\n"
          ]
        },
        {
          "output_type": "stream",
          "name": "stderr",
          "text": [
            "\r 69%|██████▊   | 686/1000 [00:36<00:13, 22.87it/s]"
          ]
        },
        {
          "output_type": "stream",
          "name": "stdout",
          "text": [
            "\n",
            "TRAIN ACCURACY:  58.47222222222222\n",
            "TEST ACCURACY:  51.2962962962963\n",
            "\n",
            "TRAIN ACCURACY:  58.47222222222222\n",
            "TEST ACCURACY:  51.2962962962963\n",
            "\n",
            "TRAIN ACCURACY:  58.47222222222222\n",
            "TEST ACCURACY:  51.2962962962963\n",
            "\n",
            "TRAIN ACCURACY:  58.379629629629626\n",
            "TEST ACCURACY:  51.2962962962963\n",
            "\n",
            "TRAIN ACCURACY:  58.379629629629626\n",
            "TEST ACCURACY:  51.2962962962963\n"
          ]
        },
        {
          "output_type": "stream",
          "name": "stderr",
          "text": [
            " 69%|██████▉   | 692/1000 [00:36<00:13, 23.35it/s]"
          ]
        },
        {
          "output_type": "stream",
          "name": "stdout",
          "text": [
            "\n",
            "TRAIN ACCURACY:  58.425925925925924\n",
            "TEST ACCURACY:  51.2962962962963\n",
            "\n",
            "TRAIN ACCURACY:  58.47222222222222\n",
            "TEST ACCURACY:  51.2962962962963\n",
            "\n",
            "TRAIN ACCURACY:  58.425925925925924\n",
            "TEST ACCURACY:  51.2962962962963\n",
            "\n",
            "TRAIN ACCURACY:  58.47222222222222\n",
            "TEST ACCURACY:  51.2962962962963\n",
            "\n",
            "TRAIN ACCURACY:  58.47222222222222\n",
            "TEST ACCURACY:  51.2962962962963\n"
          ]
        },
        {
          "output_type": "stream",
          "name": "stderr",
          "text": [
            " 70%|██████▉   | 698/1000 [00:36<00:12, 23.56it/s]"
          ]
        },
        {
          "output_type": "stream",
          "name": "stdout",
          "text": [
            "\n",
            "TRAIN ACCURACY:  58.51851851851852\n",
            "TEST ACCURACY:  51.2962962962963\n",
            "\n",
            "TRAIN ACCURACY:  58.56481481481482\n",
            "TEST ACCURACY:  51.2962962962963\n",
            "\n",
            "TRAIN ACCURACY:  58.51851851851852\n",
            "TEST ACCURACY:  51.2962962962963\n",
            "\n",
            "TRAIN ACCURACY:  58.51851851851852\n",
            "TEST ACCURACY:  51.2962962962963\n",
            "\n",
            "TRAIN ACCURACY:  58.51851851851852\n",
            "TEST ACCURACY:  51.2962962962963\n"
          ]
        },
        {
          "output_type": "stream",
          "name": "stderr",
          "text": [
            "\r 70%|███████   | 701/1000 [00:36<00:12, 23.35it/s]"
          ]
        },
        {
          "output_type": "stream",
          "name": "stdout",
          "text": [
            "\n",
            "TRAIN ACCURACY:  58.51851851851852\n",
            "TEST ACCURACY:  51.2962962962963\n",
            "\n",
            "TRAIN ACCURACY:  58.51851851851852\n",
            "TEST ACCURACY:  51.2962962962963\n",
            "\n",
            "TRAIN ACCURACY:  58.425925925925924\n",
            "TEST ACCURACY:  51.2962962962963\n",
            "\n",
            "TRAIN ACCURACY:  58.379629629629626\n",
            "TEST ACCURACY:  51.2962962962963\n",
            "\n",
            "TRAIN ACCURACY:  58.379629629629626\n",
            "TEST ACCURACY:  51.48148148148148\n"
          ]
        },
        {
          "output_type": "stream",
          "name": "stderr",
          "text": [
            " 71%|███████   | 707/1000 [00:36<00:12, 23.09it/s]"
          ]
        },
        {
          "output_type": "stream",
          "name": "stdout",
          "text": [
            "\n",
            "TRAIN ACCURACY:  58.379629629629626\n",
            "TEST ACCURACY:  51.2962962962963\n",
            "\n",
            "TRAIN ACCURACY:  58.425925925925924\n",
            "TEST ACCURACY:  51.48148148148148\n",
            "\n",
            "TRAIN ACCURACY:  58.425925925925924\n",
            "TEST ACCURACY:  51.2962962962963\n",
            "\n",
            "TRAIN ACCURACY:  58.51851851851852\n",
            "TEST ACCURACY:  51.2962962962963\n",
            "\n",
            "TRAIN ACCURACY:  58.47222222222222\n",
            "TEST ACCURACY:  51.2962962962963\n"
          ]
        },
        {
          "output_type": "stream",
          "name": "stderr",
          "text": [
            " 71%|███████▏  | 713/1000 [00:37<00:12, 23.19it/s]"
          ]
        },
        {
          "output_type": "stream",
          "name": "stdout",
          "text": [
            "\n",
            "TRAIN ACCURACY:  58.47222222222222\n",
            "TEST ACCURACY:  51.2962962962963\n",
            "\n",
            "TRAIN ACCURACY:  58.425925925925924\n",
            "TEST ACCURACY:  51.2962962962963\n",
            "\n",
            "TRAIN ACCURACY:  58.425925925925924\n",
            "TEST ACCURACY:  51.2962962962963\n",
            "\n",
            "TRAIN ACCURACY:  58.425925925925924\n",
            "TEST ACCURACY:  51.2962962962963\n",
            "\n",
            "TRAIN ACCURACY:  58.425925925925924\n",
            "TEST ACCURACY:  51.48148148148148\n"
          ]
        },
        {
          "output_type": "stream",
          "name": "stderr",
          "text": [
            " 72%|███████▏  | 719/1000 [00:37<00:11, 24.05it/s]"
          ]
        },
        {
          "output_type": "stream",
          "name": "stdout",
          "text": [
            "\n",
            "TRAIN ACCURACY:  58.47222222222222\n",
            "TEST ACCURACY:  51.48148148148148\n",
            "\n",
            "TRAIN ACCURACY:  58.425925925925924\n",
            "TEST ACCURACY:  51.48148148148148\n",
            "\n",
            "TRAIN ACCURACY:  58.379629629629626\n",
            "TEST ACCURACY:  51.48148148148148\n",
            "\n",
            "TRAIN ACCURACY:  58.333333333333336\n",
            "TEST ACCURACY:  51.48148148148148\n",
            "\n",
            "TRAIN ACCURACY:  58.425925925925924\n",
            "TEST ACCURACY:  51.666666666666664\n",
            "\n",
            "TRAIN ACCURACY:  58.379629629629626\n",
            "TEST ACCURACY:  51.48148148148148\n"
          ]
        },
        {
          "output_type": "stream",
          "name": "stderr",
          "text": [
            " 72%|███████▎  | 725/1000 [00:37<00:11, 23.94it/s]"
          ]
        },
        {
          "output_type": "stream",
          "name": "stdout",
          "text": [
            "\n",
            "TRAIN ACCURACY:  58.379629629629626\n",
            "TEST ACCURACY:  51.48148148148148\n",
            "\n",
            "TRAIN ACCURACY:  58.379629629629626\n",
            "TEST ACCURACY:  51.666666666666664\n",
            "\n",
            "TRAIN ACCURACY:  58.333333333333336\n",
            "TEST ACCURACY:  51.666666666666664\n",
            "\n",
            "TRAIN ACCURACY:  58.333333333333336\n",
            "TEST ACCURACY:  51.666666666666664\n",
            "\n",
            "TRAIN ACCURACY:  58.333333333333336\n",
            "TEST ACCURACY:  51.666666666666664\n",
            "\n",
            "TRAIN ACCURACY:  58.333333333333336\n",
            "TEST ACCURACY:  51.666666666666664\n"
          ]
        },
        {
          "output_type": "stream",
          "name": "stderr",
          "text": [
            "\r 73%|███████▎  | 728/1000 [00:37<00:11, 23.48it/s]"
          ]
        },
        {
          "output_type": "stream",
          "name": "stdout",
          "text": [
            "\n",
            "TRAIN ACCURACY:  58.333333333333336\n",
            "TEST ACCURACY:  51.666666666666664\n",
            "\n",
            "TRAIN ACCURACY:  58.333333333333336\n",
            "TEST ACCURACY:  51.666666666666664\n",
            "\n",
            "TRAIN ACCURACY:  58.379629629629626\n",
            "TEST ACCURACY:  51.666666666666664\n",
            "\n",
            "TRAIN ACCURACY:  58.47222222222222\n",
            "TEST ACCURACY:  51.666666666666664\n",
            "\n",
            "TRAIN ACCURACY:  58.425925925925924\n",
            "TEST ACCURACY:  51.666666666666664\n"
          ]
        },
        {
          "output_type": "stream",
          "name": "stderr",
          "text": [
            " 73%|███████▎  | 734/1000 [00:38<00:11, 23.60it/s]"
          ]
        },
        {
          "output_type": "stream",
          "name": "stdout",
          "text": [
            "\n",
            "TRAIN ACCURACY:  58.379629629629626\n",
            "TEST ACCURACY:  51.666666666666664\n",
            "\n",
            "TRAIN ACCURACY:  58.379629629629626\n",
            "TEST ACCURACY:  51.666666666666664\n",
            "\n",
            "TRAIN ACCURACY:  58.379629629629626\n",
            "TEST ACCURACY:  51.666666666666664\n",
            "\n",
            "TRAIN ACCURACY:  58.379629629629626\n",
            "TEST ACCURACY:  51.666666666666664\n",
            "\n",
            "TRAIN ACCURACY:  58.333333333333336\n",
            "TEST ACCURACY:  51.666666666666664\n",
            "\n",
            "TRAIN ACCURACY:  58.379629629629626\n",
            "TEST ACCURACY: "
          ]
        },
        {
          "output_type": "stream",
          "name": "stderr",
          "text": [
            " 74%|███████▍  | 740/1000 [00:38<00:10, 24.14it/s]"
          ]
        },
        {
          "output_type": "stream",
          "name": "stdout",
          "text": [
            " 51.666666666666664\n",
            "\n",
            "TRAIN ACCURACY:  58.333333333333336\n",
            "TEST ACCURACY:  51.666666666666664\n",
            "\n",
            "TRAIN ACCURACY:  58.379629629629626\n",
            "TEST ACCURACY:  51.666666666666664\n",
            "\n",
            "TRAIN ACCURACY:  58.379629629629626\n",
            "TEST ACCURACY:  51.666666666666664\n",
            "\n",
            "TRAIN ACCURACY:  58.28703703703704\n",
            "TEST ACCURACY:  51.666666666666664\n"
          ]
        },
        {
          "output_type": "stream",
          "name": "stderr",
          "text": [
            "\r 74%|███████▍  | 743/1000 [00:38<00:10, 23.56it/s]"
          ]
        },
        {
          "output_type": "stream",
          "name": "stdout",
          "text": [
            "\n",
            "TRAIN ACCURACY:  58.379629629629626\n",
            "TEST ACCURACY:  51.48148148148148\n",
            "\n",
            "TRAIN ACCURACY:  58.56481481481482\n",
            "TEST ACCURACY:  51.48148148148148\n",
            "\n",
            "TRAIN ACCURACY:  58.56481481481482\n",
            "TEST ACCURACY:  51.48148148148148\n",
            "\n",
            "TRAIN ACCURACY:  58.56481481481482\n",
            "TEST ACCURACY:  51.48148148148148\n",
            "\n",
            "TRAIN ACCURACY:  58.425925925925924\n",
            "TEST ACCURACY:  51.666666666666664\n"
          ]
        },
        {
          "output_type": "stream",
          "name": "stderr",
          "text": [
            " 75%|███████▍  | 749/1000 [00:38<00:10, 23.26it/s]"
          ]
        },
        {
          "output_type": "stream",
          "name": "stdout",
          "text": [
            "\n",
            "TRAIN ACCURACY:  58.333333333333336\n",
            "TEST ACCURACY:  51.48148148148148\n",
            "\n",
            "TRAIN ACCURACY:  58.425925925925924\n",
            "TEST ACCURACY:  51.48148148148148\n",
            "\n",
            "TRAIN ACCURACY:  58.51851851851852\n",
            "TEST ACCURACY:  51.48148148148148\n",
            "\n",
            "TRAIN ACCURACY:  58.51851851851852\n",
            "TEST ACCURACY:  51.48148148148148\n",
            "\n",
            "TRAIN ACCURACY:  58.47222222222222\n",
            "TEST ACCURACY:  51.48148148148148\n"
          ]
        },
        {
          "output_type": "stream",
          "name": "stderr",
          "text": [
            " 76%|███████▌  | 755/1000 [00:38<00:10, 22.78it/s]"
          ]
        },
        {
          "output_type": "stream",
          "name": "stdout",
          "text": [
            "\n",
            "TRAIN ACCURACY:  58.47222222222222\n",
            "TEST ACCURACY:  51.48148148148148\n",
            "\n",
            "TRAIN ACCURACY:  58.425925925925924\n",
            "TEST ACCURACY:  51.48148148148148\n",
            "\n",
            "TRAIN ACCURACY:  58.51851851851852\n",
            "TEST ACCURACY:  51.48148148148148\n",
            "\n",
            "TRAIN ACCURACY:  58.47222222222222\n",
            "TEST ACCURACY:  51.48148148148148\n",
            "\n",
            "TRAIN ACCURACY:  58.379629629629626\n",
            "TEST ACCURACY:  51.666666666666664\n"
          ]
        },
        {
          "output_type": "stream",
          "name": "stderr",
          "text": [
            "\r 76%|███████▌  | 758/1000 [00:39<00:10, 23.18it/s]"
          ]
        },
        {
          "output_type": "stream",
          "name": "stdout",
          "text": [
            "\n",
            "TRAIN ACCURACY:  58.379629629629626\n",
            "TEST ACCURACY:  51.666666666666664\n",
            "\n",
            "TRAIN ACCURACY:  58.47222222222222\n",
            "TEST ACCURACY:  51.666666666666664\n",
            "\n",
            "TRAIN ACCURACY:  58.47222222222222\n",
            "TEST ACCURACY:  51.666666666666664\n",
            "\n",
            "TRAIN ACCURACY:  58.47222222222222\n",
            "TEST ACCURACY:  51.666666666666664\n",
            "\n",
            "TRAIN ACCURACY:  58.47222222222222\n",
            "TEST ACCURACY:  51.2962962962963\n"
          ]
        },
        {
          "output_type": "stream",
          "name": "stderr",
          "text": [
            " 76%|███████▋  | 764/1000 [00:39<00:09, 23.61it/s]"
          ]
        },
        {
          "output_type": "stream",
          "name": "stdout",
          "text": [
            "\n",
            "TRAIN ACCURACY:  58.379629629629626\n",
            "TEST ACCURACY:  51.2962962962963\n",
            "\n",
            "TRAIN ACCURACY:  58.379629629629626\n",
            "TEST ACCURACY:  51.48148148148148\n",
            "\n",
            "TRAIN ACCURACY:  58.425925925925924\n",
            "TEST ACCURACY:  51.48148148148148\n",
            "\n",
            "TRAIN ACCURACY:  58.379629629629626\n",
            "TEST ACCURACY:  51.48148148148148\n",
            "\n",
            "TRAIN ACCURACY:  58.425925925925924\n",
            "TEST ACCURACY:  51.48148148148148\n",
            "\n",
            "TRAIN ACCURACY:  58.379629629629626\n",
            "TEST ACCURACY:  51.2962962962963"
          ]
        },
        {
          "output_type": "stream",
          "name": "stderr",
          "text": [
            " 77%|███████▋  | 770/1000 [00:39<00:09, 23.92it/s]"
          ]
        },
        {
          "output_type": "stream",
          "name": "stdout",
          "text": [
            "\n",
            "\n",
            "TRAIN ACCURACY:  58.47222222222222\n",
            "TEST ACCURACY:  51.48148148148148\n",
            "\n",
            "TRAIN ACCURACY:  58.47222222222222\n",
            "TEST ACCURACY:  51.48148148148148\n",
            "\n",
            "TRAIN ACCURACY:  58.28703703703704\n",
            "TEST ACCURACY:  51.48148148148148\n",
            "\n",
            "TRAIN ACCURACY:  58.379629629629626\n",
            "TEST ACCURACY:  51.48148148148148\n"
          ]
        },
        {
          "output_type": "stream",
          "name": "stderr",
          "text": [
            "\r 77%|███████▋  | 773/1000 [00:39<00:09, 23.57it/s]"
          ]
        },
        {
          "output_type": "stream",
          "name": "stdout",
          "text": [
            "\n",
            "TRAIN ACCURACY:  58.333333333333336\n",
            "TEST ACCURACY:  51.48148148148148\n",
            "\n",
            "TRAIN ACCURACY:  58.47222222222222\n",
            "TEST ACCURACY:  51.48148148148148\n",
            "\n",
            "TRAIN ACCURACY:  58.56481481481482\n",
            "TEST ACCURACY:  51.48148148148148\n",
            "\n",
            "TRAIN ACCURACY:  58.47222222222222\n",
            "TEST ACCURACY:  51.48148148148148\n",
            "\n",
            "TRAIN ACCURACY:  58.425925925925924\n",
            "TEST ACCURACY:  51.48148148148148\n"
          ]
        },
        {
          "output_type": "stream",
          "name": "stderr",
          "text": [
            " 78%|███████▊  | 779/1000 [00:39<00:09, 23.14it/s]"
          ]
        },
        {
          "output_type": "stream",
          "name": "stdout",
          "text": [
            "\n",
            "TRAIN ACCURACY:  58.425925925925924\n",
            "TEST ACCURACY:  51.48148148148148\n",
            "\n",
            "TRAIN ACCURACY:  58.425925925925924\n",
            "TEST ACCURACY:  51.48148148148148\n",
            "\n",
            "TRAIN ACCURACY:  58.425925925925924\n",
            "TEST ACCURACY:  51.2962962962963\n",
            "\n",
            "TRAIN ACCURACY:  58.425925925925924\n",
            "TEST ACCURACY:  51.48148148148148\n",
            "\n",
            "TRAIN ACCURACY:  58.51851851851852\n",
            "TEST ACCURACY:  51.48148148148148\n"
          ]
        },
        {
          "output_type": "stream",
          "name": "stderr",
          "text": [
            " 78%|███████▊  | 785/1000 [00:40<00:09, 23.57it/s]"
          ]
        },
        {
          "output_type": "stream",
          "name": "stdout",
          "text": [
            "\n",
            "TRAIN ACCURACY:  58.51851851851852\n",
            "TEST ACCURACY:  51.48148148148148\n",
            "\n",
            "TRAIN ACCURACY:  58.51851851851852\n",
            "TEST ACCURACY:  51.48148148148148\n",
            "\n",
            "TRAIN ACCURACY:  58.51851851851852\n",
            "TEST ACCURACY:  51.48148148148148\n",
            "\n",
            "TRAIN ACCURACY:  58.425925925925924\n",
            "TEST ACCURACY:  51.48148148148148\n",
            "\n",
            "TRAIN ACCURACY:  58.51851851851852\n",
            "TEST ACCURACY:  51.48148148148148\n"
          ]
        },
        {
          "output_type": "stream",
          "name": "stderr",
          "text": [
            "\r 79%|███████▉  | 788/1000 [00:40<00:09, 23.49it/s]"
          ]
        },
        {
          "output_type": "stream",
          "name": "stdout",
          "text": [
            "\n",
            "TRAIN ACCURACY:  58.51851851851852\n",
            "TEST ACCURACY:  51.48148148148148\n",
            "\n",
            "TRAIN ACCURACY:  58.51851851851852\n",
            "TEST ACCURACY:  51.48148148148148\n",
            "\n",
            "TRAIN ACCURACY:  58.56481481481482\n",
            "TEST ACCURACY:  51.48148148148148\n",
            "\n",
            "TRAIN ACCURACY:  58.56481481481482\n",
            "TEST ACCURACY:  51.48148148148148\n",
            "\n",
            "TRAIN ACCURACY:  58.51851851851852\n",
            "TEST ACCURACY:  51.48148148148148\n"
          ]
        },
        {
          "output_type": "stream",
          "name": "stderr",
          "text": [
            " 79%|███████▉  | 794/1000 [00:40<00:08, 23.16it/s]"
          ]
        },
        {
          "output_type": "stream",
          "name": "stdout",
          "text": [
            "\n",
            "TRAIN ACCURACY:  58.56481481481482\n",
            "TEST ACCURACY:  51.48148148148148\n",
            "\n",
            "TRAIN ACCURACY:  58.51851851851852\n",
            "TEST ACCURACY:  51.48148148148148\n",
            "\n",
            "TRAIN ACCURACY:  58.51851851851852\n",
            "TEST ACCURACY:  51.48148148148148\n",
            "\n",
            "TRAIN ACCURACY:  58.47222222222222\n",
            "TEST ACCURACY:  51.48148148148148\n",
            "\n",
            "TRAIN ACCURACY:  58.51851851851852\n",
            "TEST ACCURACY:  51.666666666666664\n"
          ]
        },
        {
          "output_type": "stream",
          "name": "stderr",
          "text": [
            " 80%|████████  | 800/1000 [00:40<00:08, 23.71it/s]"
          ]
        },
        {
          "output_type": "stream",
          "name": "stdout",
          "text": [
            "\n",
            "TRAIN ACCURACY:  58.56481481481482\n",
            "TEST ACCURACY:  51.48148148148148\n",
            "\n",
            "TRAIN ACCURACY:  58.56481481481482\n",
            "TEST ACCURACY:  51.666666666666664\n",
            "\n",
            "TRAIN ACCURACY:  58.611111111111114\n",
            "TEST ACCURACY:  51.666666666666664\n",
            "\n",
            "TRAIN ACCURACY:  58.56481481481482\n",
            "TEST ACCURACY:  51.666666666666664\n",
            "\n",
            "TRAIN ACCURACY:  58.56481481481482\n",
            "TEST ACCURACY:  51.666666666666664\n",
            "\n",
            "TRAIN ACCURACY: "
          ]
        },
        {
          "output_type": "stream",
          "name": "stderr",
          "text": [
            "\r 80%|████████  | 803/1000 [00:41<00:08, 23.39it/s]"
          ]
        },
        {
          "output_type": "stream",
          "name": "stdout",
          "text": [
            " 58.56481481481482\n",
            "TEST ACCURACY:  51.666666666666664\n",
            "\n",
            "TRAIN ACCURACY:  58.56481481481482\n",
            "TEST ACCURACY:  51.666666666666664\n",
            "\n",
            "TRAIN ACCURACY:  58.56481481481482\n",
            "TEST ACCURACY:  51.666666666666664\n",
            "\n",
            "TRAIN ACCURACY:  58.611111111111114\n",
            "TEST ACCURACY:  51.666666666666664\n",
            "\n",
            "TRAIN ACCURACY:  58.611111111111114\n",
            "TEST ACCURACY:  51.666666666666664\n"
          ]
        },
        {
          "output_type": "stream",
          "name": "stderr",
          "text": [
            " 81%|████████  | 809/1000 [00:41<00:07, 24.12it/s]"
          ]
        },
        {
          "output_type": "stream",
          "name": "stdout",
          "text": [
            "\n",
            "TRAIN ACCURACY:  58.56481481481482\n",
            "TEST ACCURACY:  51.666666666666664\n",
            "\n",
            "TRAIN ACCURACY:  58.611111111111114\n",
            "TEST ACCURACY:  51.666666666666664\n",
            "\n",
            "TRAIN ACCURACY:  58.56481481481482\n",
            "TEST ACCURACY:  51.666666666666664\n",
            "\n",
            "TRAIN ACCURACY:  58.56481481481482\n",
            "TEST ACCURACY:  51.666666666666664\n",
            "\n",
            "TRAIN ACCURACY:  58.56481481481482\n",
            "TEST ACCURACY:  51.666666666666664\n",
            "\n",
            "TRAIN ACCURACY:  58.611111111111114\n",
            "TEST ACCURACY:  51.666666666666664\n"
          ]
        },
        {
          "output_type": "stream",
          "name": "stderr",
          "text": [
            " 82%|████████▏ | 815/1000 [00:41<00:07, 24.46it/s]"
          ]
        },
        {
          "output_type": "stream",
          "name": "stdout",
          "text": [
            "\n",
            "TRAIN ACCURACY:  58.657407407407405\n",
            "TEST ACCURACY:  51.666666666666664\n",
            "\n",
            "TRAIN ACCURACY:  58.611111111111114\n",
            "TEST ACCURACY:  51.666666666666664\n",
            "\n",
            "TRAIN ACCURACY:  58.611111111111114\n",
            "TEST ACCURACY:  51.666666666666664\n",
            "\n",
            "TRAIN ACCURACY:  58.657407407407405\n",
            "TEST ACCURACY:  51.666666666666664\n",
            "\n",
            "TRAIN ACCURACY:  58.611111111111114\n",
            "TEST ACCURACY:  51.666666666666664\n"
          ]
        },
        {
          "output_type": "stream",
          "name": "stderr",
          "text": [
            " 82%|████████▏ | 821/1000 [00:41<00:07, 24.21it/s]"
          ]
        },
        {
          "output_type": "stream",
          "name": "stdout",
          "text": [
            "\n",
            "TRAIN ACCURACY:  58.657407407407405\n",
            "TEST ACCURACY:  51.851851851851855\n",
            "\n",
            "TRAIN ACCURACY:  58.657407407407405\n",
            "TEST ACCURACY:  51.666666666666664\n",
            "\n",
            "TRAIN ACCURACY:  58.657407407407405\n",
            "TEST ACCURACY:  51.666666666666664\n",
            "\n",
            "TRAIN ACCURACY:  58.657407407407405\n",
            "TEST ACCURACY:  51.666666666666664\n",
            "\n",
            "TRAIN ACCURACY:  58.657407407407405\n",
            "TEST ACCURACY:  51.851851851851855\n"
          ]
        },
        {
          "output_type": "stream",
          "name": "stderr",
          "text": [
            "\r 82%|████████▏ | 824/1000 [00:41<00:07, 23.93it/s]"
          ]
        },
        {
          "output_type": "stream",
          "name": "stdout",
          "text": [
            "\n",
            "TRAIN ACCURACY:  58.611111111111114\n",
            "TEST ACCURACY:  51.666666666666664\n",
            "\n",
            "TRAIN ACCURACY:  58.657407407407405\n",
            "TEST ACCURACY:  51.851851851851855\n",
            "\n",
            "TRAIN ACCURACY:  58.657407407407405\n",
            "TEST ACCURACY:  51.666666666666664\n",
            "\n",
            "TRAIN ACCURACY:  58.657407407407405\n",
            "TEST ACCURACY:  51.666666666666664\n",
            "\n",
            "TRAIN ACCURACY:  58.657407407407405\n",
            "TEST ACCURACY:  51.666666666666664\n"
          ]
        },
        {
          "output_type": "stream",
          "name": "stderr",
          "text": [
            " 83%|████████▎ | 830/1000 [00:42<00:07, 23.56it/s]"
          ]
        },
        {
          "output_type": "stream",
          "name": "stdout",
          "text": [
            "\n",
            "TRAIN ACCURACY:  58.611111111111114\n",
            "TEST ACCURACY:  51.48148148148148\n",
            "\n",
            "TRAIN ACCURACY:  58.611111111111114\n",
            "TEST ACCURACY:  51.851851851851855\n",
            "\n",
            "TRAIN ACCURACY:  58.611111111111114\n",
            "TEST ACCURACY:  51.666666666666664\n",
            "\n",
            "TRAIN ACCURACY:  58.611111111111114\n",
            "TEST ACCURACY:  51.851851851851855\n",
            "\n",
            "TRAIN ACCURACY:  58.611111111111114\n",
            "TEST ACCURACY:  51.666666666666664\n"
          ]
        },
        {
          "output_type": "stream",
          "name": "stderr",
          "text": [
            " 84%|████████▎ | 836/1000 [00:42<00:06, 24.04it/s]"
          ]
        },
        {
          "output_type": "stream",
          "name": "stdout",
          "text": [
            "\n",
            "TRAIN ACCURACY:  58.611111111111114\n",
            "TEST ACCURACY:  51.851851851851855\n",
            "\n",
            "TRAIN ACCURACY:  58.611111111111114\n",
            "TEST ACCURACY:  52.03703703703704\n",
            "\n",
            "TRAIN ACCURACY:  58.611111111111114\n",
            "TEST ACCURACY:  51.851851851851855\n",
            "\n",
            "TRAIN ACCURACY:  58.611111111111114\n",
            "TEST ACCURACY:  51.851851851851855\n",
            "\n",
            "TRAIN ACCURACY:  58.611111111111114\n",
            "TEST ACCURACY:  51.851851851851855\n"
          ]
        },
        {
          "output_type": "stream",
          "name": "stderr",
          "text": [
            "\r 84%|████████▍ | 839/1000 [00:42<00:06, 23.44it/s]"
          ]
        },
        {
          "output_type": "stream",
          "name": "stdout",
          "text": [
            "\n",
            "TRAIN ACCURACY:  58.657407407407405\n",
            "TEST ACCURACY:  51.851851851851855\n",
            "\n",
            "TRAIN ACCURACY:  58.657407407407405\n",
            "TEST ACCURACY:  51.851851851851855\n",
            "\n",
            "TRAIN ACCURACY:  58.657407407407405\n",
            "TEST ACCURACY:  51.851851851851855\n",
            "\n",
            "TRAIN ACCURACY:  58.611111111111114\n",
            "TEST ACCURACY:  51.48148148148148\n",
            "\n",
            "TRAIN ACCURACY:  58.657407407407405\n",
            "TEST ACCURACY:  51.666666666666664\n"
          ]
        },
        {
          "output_type": "stream",
          "name": "stderr",
          "text": [
            " 84%|████████▍ | 845/1000 [00:42<00:06, 23.73it/s]"
          ]
        },
        {
          "output_type": "stream",
          "name": "stdout",
          "text": [
            "\n",
            "TRAIN ACCURACY:  58.7037037037037\n",
            "TEST ACCURACY:  51.48148148148148\n",
            "\n",
            "TRAIN ACCURACY:  58.657407407407405\n",
            "TEST ACCURACY:  51.48148148148148\n",
            "\n",
            "TRAIN ACCURACY:  58.657407407407405\n",
            "TEST ACCURACY:  51.48148148148148\n",
            "\n",
            "TRAIN ACCURACY:  58.657407407407405\n",
            "TEST ACCURACY:  51.666666666666664\n",
            "\n",
            "TRAIN ACCURACY:  58.611111111111114\n",
            "TEST ACCURACY:  51.666666666666664\n"
          ]
        },
        {
          "output_type": "stream",
          "name": "stderr",
          "text": [
            " 85%|████████▌ | 851/1000 [00:43<00:06, 23.18it/s]"
          ]
        },
        {
          "output_type": "stream",
          "name": "stdout",
          "text": [
            "\n",
            "TRAIN ACCURACY:  58.657407407407405\n",
            "TEST ACCURACY:  51.48148148148148\n",
            "\n",
            "TRAIN ACCURACY:  58.7037037037037\n",
            "TEST ACCURACY:  51.48148148148148\n",
            "\n",
            "TRAIN ACCURACY:  58.657407407407405\n",
            "TEST ACCURACY:  51.48148148148148\n",
            "\n",
            "TRAIN ACCURACY:  58.611111111111114\n",
            "TEST ACCURACY:  51.48148148148148\n",
            "\n",
            "TRAIN ACCURACY:  58.657407407407405\n",
            "TEST ACCURACY:  51.48148148148148\n"
          ]
        },
        {
          "output_type": "stream",
          "name": "stderr",
          "text": [
            " 86%|████████▌ | 857/1000 [00:43<00:06, 23.81it/s]"
          ]
        },
        {
          "output_type": "stream",
          "name": "stdout",
          "text": [
            "\n",
            "TRAIN ACCURACY:  58.7037037037037\n",
            "TEST ACCURACY:  51.48148148148148\n",
            "\n",
            "TRAIN ACCURACY:  58.611111111111114\n",
            "TEST ACCURACY:  51.48148148148148\n",
            "\n",
            "TRAIN ACCURACY:  58.657407407407405\n",
            "TEST ACCURACY:  51.48148148148148\n",
            "\n",
            "TRAIN ACCURACY:  58.7037037037037\n",
            "TEST ACCURACY:  51.48148148148148\n",
            "\n",
            "TRAIN ACCURACY:  58.611111111111114\n",
            "TEST ACCURACY:  51.48148148148148\n",
            "\n",
            "TRAIN ACCURACY:  58.657407407407405\n",
            "TEST ACCURACY:  51.48148148148148\n"
          ]
        },
        {
          "output_type": "stream",
          "name": "stderr",
          "text": [
            "\r 86%|████████▌ | 860/1000 [00:43<00:05, 24.07it/s]"
          ]
        },
        {
          "output_type": "stream",
          "name": "stdout",
          "text": [
            "\n",
            "TRAIN ACCURACY:  58.611111111111114\n",
            "TEST ACCURACY:  51.48148148148148\n",
            "\n",
            "TRAIN ACCURACY:  58.56481481481482\n",
            "TEST ACCURACY:  51.48148148148148\n",
            "\n",
            "TRAIN ACCURACY:  58.611111111111114\n",
            "TEST ACCURACY:  51.48148148148148\n",
            "\n",
            "TRAIN ACCURACY:  58.56481481481482\n",
            "TEST ACCURACY:  51.48148148148148\n",
            "\n",
            "TRAIN ACCURACY:  58.7037037037037\n",
            "TEST ACCURACY:  51.48148148148148\n"
          ]
        },
        {
          "output_type": "stream",
          "name": "stderr",
          "text": [
            " 87%|████████▋ | 866/1000 [00:43<00:05, 23.77it/s]"
          ]
        },
        {
          "output_type": "stream",
          "name": "stdout",
          "text": [
            "\n",
            "TRAIN ACCURACY:  58.657407407407405\n",
            "TEST ACCURACY:  51.48148148148148\n",
            "\n",
            "TRAIN ACCURACY:  58.7037037037037\n",
            "TEST ACCURACY:  51.48148148148148\n",
            "\n",
            "TRAIN ACCURACY:  58.56481481481482\n",
            "TEST ACCURACY:  51.48148148148148\n",
            "\n",
            "TRAIN ACCURACY:  58.51851851851852\n",
            "TEST ACCURACY:  51.48148148148148\n",
            "\n",
            "TRAIN ACCURACY:  58.611111111111114\n",
            "TEST ACCURACY:  51.48148148148148\n"
          ]
        },
        {
          "output_type": "stream",
          "name": "stderr",
          "text": [
            " 87%|████████▋ | 872/1000 [00:43<00:05, 23.72it/s]"
          ]
        },
        {
          "output_type": "stream",
          "name": "stdout",
          "text": [
            "\n",
            "TRAIN ACCURACY:  58.611111111111114\n",
            "TEST ACCURACY:  51.48148148148148\n",
            "\n",
            "TRAIN ACCURACY:  58.51851851851852\n",
            "TEST ACCURACY:  51.48148148148148\n",
            "\n",
            "TRAIN ACCURACY:  58.56481481481482\n",
            "TEST ACCURACY:  51.48148148148148\n",
            "\n",
            "TRAIN ACCURACY:  58.611111111111114\n",
            "TEST ACCURACY:  51.48148148148148\n",
            "\n",
            "TRAIN ACCURACY:  58.56481481481482\n",
            "TEST ACCURACY:  51.2962962962963\n"
          ]
        },
        {
          "output_type": "stream",
          "name": "stderr",
          "text": [
            "\r 88%|████████▊ | 875/1000 [00:44<00:05, 22.69it/s]"
          ]
        },
        {
          "output_type": "stream",
          "name": "stdout",
          "text": [
            "\n",
            "TRAIN ACCURACY:  58.657407407407405\n",
            "TEST ACCURACY:  51.2962962962963\n",
            "\n",
            "TRAIN ACCURACY:  58.611111111111114\n",
            "TEST ACCURACY:  51.2962962962963\n",
            "\n",
            "TRAIN ACCURACY:  58.7037037037037\n",
            "TEST ACCURACY:  51.2962962962963\n",
            "\n",
            "TRAIN ACCURACY:  58.7037037037037\n",
            "TEST ACCURACY:  51.2962962962963\n",
            "\n",
            "TRAIN ACCURACY:  58.7037037037037\n",
            "TEST ACCURACY:  51.2962962962963\n"
          ]
        },
        {
          "output_type": "stream",
          "name": "stderr",
          "text": [
            " 88%|████████▊ | 881/1000 [00:44<00:05, 22.77it/s]"
          ]
        },
        {
          "output_type": "stream",
          "name": "stdout",
          "text": [
            "\n",
            "TRAIN ACCURACY:  58.7037037037037\n",
            "TEST ACCURACY:  51.2962962962963\n",
            "\n",
            "TRAIN ACCURACY:  58.7037037037037\n",
            "TEST ACCURACY:  51.2962962962963\n",
            "\n",
            "TRAIN ACCURACY:  58.51851851851852\n",
            "TEST ACCURACY:  51.2962962962963\n",
            "\n",
            "TRAIN ACCURACY:  58.611111111111114\n",
            "TEST ACCURACY:  51.2962962962963\n",
            "\n",
            "TRAIN ACCURACY:  58.7037037037037\n",
            "TEST ACCURACY:  51.2962962962963\n"
          ]
        },
        {
          "output_type": "stream",
          "name": "stderr",
          "text": [
            " 89%|████████▊ | 887/1000 [00:44<00:04, 23.00it/s]"
          ]
        },
        {
          "output_type": "stream",
          "name": "stdout",
          "text": [
            "\n",
            "TRAIN ACCURACY:  58.611111111111114\n",
            "TEST ACCURACY:  51.2962962962963\n",
            "\n",
            "TRAIN ACCURACY:  58.7037037037037\n",
            "TEST ACCURACY:  51.2962962962963\n",
            "\n",
            "TRAIN ACCURACY:  58.611111111111114\n",
            "TEST ACCURACY:  51.2962962962963\n",
            "\n",
            "TRAIN ACCURACY:  58.657407407407405\n",
            "TEST ACCURACY:  51.2962962962963\n",
            "\n",
            "TRAIN ACCURACY:  58.657407407407405\n",
            "TEST ACCURACY:  51.2962962962963\n"
          ]
        },
        {
          "output_type": "stream",
          "name": "stderr",
          "text": [
            "\r 89%|████████▉ | 890/1000 [00:44<00:04, 22.62it/s]"
          ]
        },
        {
          "output_type": "stream",
          "name": "stdout",
          "text": [
            "\n",
            "TRAIN ACCURACY:  58.657407407407405\n",
            "TEST ACCURACY:  51.2962962962963\n",
            "\n",
            "TRAIN ACCURACY:  58.611111111111114\n",
            "TEST ACCURACY:  51.2962962962963\n",
            "\n",
            "TRAIN ACCURACY:  58.51851851851852\n",
            "TEST ACCURACY:  51.2962962962963\n",
            "\n",
            "TRAIN ACCURACY:  58.657407407407405\n",
            "TEST ACCURACY:  51.2962962962963\n",
            "\n",
            "TRAIN ACCURACY:  58.51851851851852\n",
            "TEST ACCURACY:  51.2962962962963\n"
          ]
        },
        {
          "output_type": "stream",
          "name": "stderr",
          "text": [
            " 90%|████████▉ | 896/1000 [00:44<00:04, 23.30it/s]"
          ]
        },
        {
          "output_type": "stream",
          "name": "stdout",
          "text": [
            "\n",
            "TRAIN ACCURACY:  58.56481481481482\n",
            "TEST ACCURACY:  51.2962962962963\n",
            "\n",
            "TRAIN ACCURACY:  58.611111111111114\n",
            "TEST ACCURACY:  51.2962962962963\n",
            "\n",
            "TRAIN ACCURACY:  58.611111111111114\n",
            "TEST ACCURACY:  51.2962962962963\n",
            "\n",
            "TRAIN ACCURACY:  58.7037037037037\n",
            "TEST ACCURACY:  51.2962962962963\n",
            "\n",
            "TRAIN ACCURACY:  58.75\n",
            "TEST ACCURACY:  51.2962962962963\n"
          ]
        },
        {
          "output_type": "stream",
          "name": "stderr",
          "text": [
            " 90%|█████████ | 902/1000 [00:45<00:04, 22.88it/s]"
          ]
        },
        {
          "output_type": "stream",
          "name": "stdout",
          "text": [
            "\n",
            "TRAIN ACCURACY:  58.611111111111114\n",
            "TEST ACCURACY:  51.2962962962963\n",
            "\n",
            "TRAIN ACCURACY:  58.7037037037037\n",
            "TEST ACCURACY:  51.2962962962963\n",
            "\n",
            "TRAIN ACCURACY:  58.75\n",
            "TEST ACCURACY:  51.2962962962963\n",
            "\n",
            "TRAIN ACCURACY:  58.657407407407405\n",
            "TEST ACCURACY:  51.2962962962963\n",
            "\n",
            "TRAIN ACCURACY:  58.611111111111114\n",
            "TEST ACCURACY:  51.2962962962963\n"
          ]
        },
        {
          "output_type": "stream",
          "name": "stderr",
          "text": [
            "\r 90%|█████████ | 905/1000 [00:45<00:04, 23.24it/s]"
          ]
        },
        {
          "output_type": "stream",
          "name": "stdout",
          "text": [
            "\n",
            "TRAIN ACCURACY:  58.657407407407405\n",
            "TEST ACCURACY:  51.2962962962963\n",
            "\n",
            "TRAIN ACCURACY:  58.75\n",
            "TEST ACCURACY:  51.2962962962963\n",
            "\n",
            "TRAIN ACCURACY:  58.657407407407405\n",
            "TEST ACCURACY:  51.2962962962963\n",
            "\n",
            "TRAIN ACCURACY:  58.7037037037037\n",
            "TEST ACCURACY:  51.2962962962963\n",
            "\n",
            "TRAIN ACCURACY:  58.75\n",
            "TEST ACCURACY:  51.2962962962963\n"
          ]
        },
        {
          "output_type": "stream",
          "name": "stderr",
          "text": [
            " 91%|█████████ | 911/1000 [00:45<00:03, 23.16it/s]"
          ]
        },
        {
          "output_type": "stream",
          "name": "stdout",
          "text": [
            "\n",
            "TRAIN ACCURACY:  58.75\n",
            "TEST ACCURACY:  51.2962962962963\n",
            "\n",
            "TRAIN ACCURACY:  58.7037037037037\n",
            "TEST ACCURACY:  51.2962962962963\n",
            "\n",
            "TRAIN ACCURACY:  58.75\n",
            "TEST ACCURACY:  51.2962962962963\n",
            "\n",
            "TRAIN ACCURACY:  58.75\n",
            "TEST ACCURACY:  51.2962962962963\n",
            "\n",
            "TRAIN ACCURACY:  58.7962962962963\n",
            "TEST ACCURACY:  51.2962962962963\n"
          ]
        },
        {
          "output_type": "stream",
          "name": "stderr",
          "text": [
            " 92%|█████████▏| 917/1000 [00:45<00:03, 23.15it/s]"
          ]
        },
        {
          "output_type": "stream",
          "name": "stdout",
          "text": [
            "\n",
            "TRAIN ACCURACY:  58.75\n",
            "TEST ACCURACY:  51.2962962962963\n",
            "\n",
            "TRAIN ACCURACY:  58.75\n",
            "TEST ACCURACY:  51.48148148148148\n",
            "\n",
            "TRAIN ACCURACY:  58.75\n",
            "TEST ACCURACY:  51.2962962962963\n",
            "\n",
            "TRAIN ACCURACY:  58.842592592592595\n",
            "TEST ACCURACY:  51.2962962962963\n",
            "\n",
            "TRAIN ACCURACY:  58.7037037037037\n",
            "TEST ACCURACY:  51.2962962962963\n"
          ]
        },
        {
          "output_type": "stream",
          "name": "stderr",
          "text": [
            "\r 92%|█████████▏| 920/1000 [00:46<00:03, 22.97it/s]"
          ]
        },
        {
          "output_type": "stream",
          "name": "stdout",
          "text": [
            "\n",
            "TRAIN ACCURACY:  58.75\n",
            "TEST ACCURACY:  51.2962962962963\n",
            "\n",
            "TRAIN ACCURACY:  58.75\n",
            "TEST ACCURACY:  51.2962962962963\n",
            "\n",
            "TRAIN ACCURACY:  58.888888888888886\n",
            "TEST ACCURACY:  51.48148148148148\n",
            "\n",
            "TRAIN ACCURACY:  58.657407407407405\n",
            "TEST ACCURACY:  51.48148148148148\n",
            "\n",
            "TRAIN ACCURACY:  58.7037037037037\n",
            "TEST ACCURACY:  51.48148148148148\n"
          ]
        },
        {
          "output_type": "stream",
          "name": "stderr",
          "text": [
            " 93%|█████████▎| 926/1000 [00:46<00:03, 23.29it/s]"
          ]
        },
        {
          "output_type": "stream",
          "name": "stdout",
          "text": [
            "\n",
            "TRAIN ACCURACY:  58.657407407407405\n",
            "TEST ACCURACY:  51.48148148148148\n",
            "\n",
            "TRAIN ACCURACY:  58.657407407407405\n",
            "TEST ACCURACY:  51.48148148148148\n",
            "\n",
            "TRAIN ACCURACY:  58.56481481481482\n",
            "TEST ACCURACY:  51.48148148148148\n",
            "\n",
            "TRAIN ACCURACY:  58.75\n",
            "TEST ACCURACY:  51.2962962962963\n",
            "\n",
            "TRAIN ACCURACY:  58.657407407407405\n",
            "TEST ACCURACY:  51.48148148148148\n"
          ]
        },
        {
          "output_type": "stream",
          "name": "stderr",
          "text": [
            " 93%|█████████▎| 932/1000 [00:46<00:02, 23.08it/s]"
          ]
        },
        {
          "output_type": "stream",
          "name": "stdout",
          "text": [
            "\n",
            "TRAIN ACCURACY:  58.657407407407405\n",
            "TEST ACCURACY:  51.48148148148148\n",
            "\n",
            "TRAIN ACCURACY:  58.611111111111114\n",
            "TEST ACCURACY:  51.48148148148148\n",
            "\n",
            "TRAIN ACCURACY:  58.56481481481482\n",
            "TEST ACCURACY:  51.48148148148148\n",
            "\n",
            "TRAIN ACCURACY:  58.611111111111114\n",
            "TEST ACCURACY:  51.2962962962963\n",
            "\n",
            "TRAIN ACCURACY:  58.611111111111114\n",
            "TEST ACCURACY:  51.48148148148148\n"
          ]
        },
        {
          "output_type": "stream",
          "name": "stderr",
          "text": [
            "\r 94%|█████████▎| 935/1000 [00:46<00:02, 22.87it/s]"
          ]
        },
        {
          "output_type": "stream",
          "name": "stdout",
          "text": [
            "\n",
            "TRAIN ACCURACY:  58.657407407407405\n",
            "TEST ACCURACY:  51.48148148148148\n",
            "\n",
            "TRAIN ACCURACY:  58.611111111111114\n",
            "TEST ACCURACY:  51.48148148148148\n",
            "\n",
            "TRAIN ACCURACY:  58.657407407407405\n",
            "TEST ACCURACY:  51.2962962962963\n",
            "\n",
            "TRAIN ACCURACY:  58.611111111111114\n",
            "TEST ACCURACY:  51.48148148148148\n",
            "\n",
            "TRAIN ACCURACY:  58.611111111111114\n",
            "TEST ACCURACY:  51.2962962962963\n"
          ]
        },
        {
          "output_type": "stream",
          "name": "stderr",
          "text": [
            " 94%|█████████▍| 941/1000 [00:46<00:02, 23.62it/s]"
          ]
        },
        {
          "output_type": "stream",
          "name": "stdout",
          "text": [
            "\n",
            "TRAIN ACCURACY:  58.56481481481482\n",
            "TEST ACCURACY:  51.2962962962963\n",
            "\n",
            "TRAIN ACCURACY:  58.611111111111114\n",
            "TEST ACCURACY:  51.2962962962963\n",
            "\n",
            "TRAIN ACCURACY:  58.56481481481482\n",
            "TEST ACCURACY:  51.2962962962963\n",
            "\n",
            "TRAIN ACCURACY:  58.56481481481482\n",
            "TEST ACCURACY:  51.2962962962963\n",
            "\n",
            "TRAIN ACCURACY:  58.611111111111114\n",
            "TEST ACCURACY:  51.2962962962963\n"
          ]
        },
        {
          "output_type": "stream",
          "name": "stderr",
          "text": [
            " 95%|█████████▍| 947/1000 [00:47<00:02, 23.23it/s]"
          ]
        },
        {
          "output_type": "stream",
          "name": "stdout",
          "text": [
            "\n",
            "TRAIN ACCURACY:  58.611111111111114\n",
            "TEST ACCURACY:  51.2962962962963\n",
            "\n",
            "TRAIN ACCURACY:  58.611111111111114\n",
            "TEST ACCURACY:  51.2962962962963\n",
            "\n",
            "TRAIN ACCURACY:  58.51851851851852\n",
            "TEST ACCURACY:  51.2962962962963\n",
            "\n",
            "TRAIN ACCURACY:  58.611111111111114\n",
            "TEST ACCURACY:  51.48148148148148\n",
            "\n",
            "TRAIN ACCURACY:  58.657407407407405\n",
            "TEST ACCURACY:  51.2962962962963\n"
          ]
        },
        {
          "output_type": "stream",
          "name": "stderr",
          "text": [
            " 95%|█████████▌| 953/1000 [00:47<00:01, 23.74it/s]"
          ]
        },
        {
          "output_type": "stream",
          "name": "stdout",
          "text": [
            "\n",
            "TRAIN ACCURACY:  58.657407407407405\n",
            "TEST ACCURACY:  51.2962962962963\n",
            "\n",
            "TRAIN ACCURACY:  58.657407407407405\n",
            "TEST ACCURACY:  51.2962962962963\n",
            "\n",
            "TRAIN ACCURACY:  58.611111111111114\n",
            "TEST ACCURACY:  51.2962962962963\n",
            "\n",
            "TRAIN ACCURACY:  58.611111111111114\n",
            "TEST ACCURACY:  51.2962962962963\n",
            "\n",
            "TRAIN ACCURACY:  58.611111111111114\n",
            "TEST ACCURACY:  51.48148148148148\n",
            "\n",
            "TRAIN ACCURACY:  58.56481481481482\n",
            "TEST ACCURACY:  51.48148148148148\n"
          ]
        },
        {
          "output_type": "stream",
          "name": "stderr",
          "text": [
            " 96%|█████████▌| 959/1000 [00:47<00:01, 24.13it/s]"
          ]
        },
        {
          "output_type": "stream",
          "name": "stdout",
          "text": [
            "\n",
            "TRAIN ACCURACY:  58.7037037037037\n",
            "TEST ACCURACY:  51.111111111111114\n",
            "\n",
            "TRAIN ACCURACY:  58.611111111111114\n",
            "TEST ACCURACY:  51.48148148148148\n",
            "\n",
            "TRAIN ACCURACY:  58.657407407407405\n",
            "TEST ACCURACY:  51.48148148148148\n",
            "\n",
            "TRAIN ACCURACY:  58.657407407407405\n",
            "TEST ACCURACY:  51.111111111111114\n",
            "\n",
            "TRAIN ACCURACY:  58.56481481481482\n",
            "TEST ACCURACY:  51.48148148148148\n",
            "\n",
            "TRAIN ACCURACY:  58.611111111111114\n",
            "TEST ACCURACY:  51.2962962962963\n"
          ]
        },
        {
          "output_type": "stream",
          "name": "stderr",
          "text": [
            " 96%|█████████▋| 965/1000 [00:47<00:01, 24.12it/s]"
          ]
        },
        {
          "output_type": "stream",
          "name": "stdout",
          "text": [
            "\n",
            "TRAIN ACCURACY:  58.611111111111114\n",
            "TEST ACCURACY:  50.925925925925924\n",
            "\n",
            "TRAIN ACCURACY:  58.611111111111114\n",
            "TEST ACCURACY:  51.111111111111114\n",
            "\n",
            "TRAIN ACCURACY:  58.56481481481482\n",
            "TEST ACCURACY:  50.925925925925924\n",
            "\n",
            "TRAIN ACCURACY:  58.611111111111114\n",
            "TEST ACCURACY:  51.2962962962963\n",
            "\n",
            "TRAIN ACCURACY:  58.611111111111114\n",
            "TEST ACCURACY:  51.2962962962963\n",
            "\n",
            "TRAIN ACCURACY:  58.657407407407405\n",
            "TEST ACCURACY:  51.111111111111114\n"
          ]
        },
        {
          "output_type": "stream",
          "name": "stderr",
          "text": [
            "\r 97%|█████████▋| 968/1000 [00:48<00:01, 23.73it/s]"
          ]
        },
        {
          "output_type": "stream",
          "name": "stdout",
          "text": [
            "\n",
            "TRAIN ACCURACY:  58.56481481481482\n",
            "TEST ACCURACY:  51.111111111111114\n",
            "\n",
            "TRAIN ACCURACY:  58.611111111111114\n",
            "TEST ACCURACY:  51.111111111111114\n",
            "\n",
            "TRAIN ACCURACY:  58.56481481481482\n",
            "TEST ACCURACY:  51.111111111111114\n",
            "\n",
            "TRAIN ACCURACY:  58.611111111111114\n",
            "TEST ACCURACY:  51.111111111111114\n",
            "\n",
            "TRAIN ACCURACY:  58.657407407407405\n",
            "TEST ACCURACY:  51.111111111111114\n"
          ]
        },
        {
          "output_type": "stream",
          "name": "stderr",
          "text": [
            " 97%|█████████▋| 974/1000 [00:48<00:01, 23.40it/s]"
          ]
        },
        {
          "output_type": "stream",
          "name": "stdout",
          "text": [
            "\n",
            "TRAIN ACCURACY:  58.611111111111114\n",
            "TEST ACCURACY:  51.111111111111114\n",
            "\n",
            "TRAIN ACCURACY:  58.611111111111114\n",
            "TEST ACCURACY:  51.111111111111114\n",
            "\n",
            "TRAIN ACCURACY:  58.611111111111114\n",
            "TEST ACCURACY:  51.111111111111114\n",
            "\n",
            "TRAIN ACCURACY:  58.611111111111114\n",
            "TEST ACCURACY:  51.111111111111114\n",
            "\n",
            "TRAIN ACCURACY:  58.379629629629626\n",
            "TEST ACCURACY:  51.111111111111114\n"
          ]
        },
        {
          "output_type": "stream",
          "name": "stderr",
          "text": [
            " 98%|█████████▊| 980/1000 [00:48<00:00, 23.71it/s]"
          ]
        },
        {
          "output_type": "stream",
          "name": "stdout",
          "text": [
            "\n",
            "TRAIN ACCURACY:  58.611111111111114\n",
            "TEST ACCURACY:  51.111111111111114\n",
            "\n",
            "TRAIN ACCURACY:  58.657407407407405\n",
            "TEST ACCURACY:  51.111111111111114\n",
            "\n",
            "TRAIN ACCURACY:  58.657407407407405\n",
            "TEST ACCURACY:  51.111111111111114\n",
            "\n",
            "TRAIN ACCURACY:  58.611111111111114\n",
            "TEST ACCURACY:  51.111111111111114\n",
            "\n",
            "TRAIN ACCURACY:  58.611111111111114\n",
            "TEST ACCURACY:  51.111111111111114\n"
          ]
        },
        {
          "output_type": "stream",
          "name": "stderr",
          "text": [
            "\r 98%|█████████▊| 983/1000 [00:48<00:00, 23.49it/s]"
          ]
        },
        {
          "output_type": "stream",
          "name": "stdout",
          "text": [
            "\n",
            "TRAIN ACCURACY:  58.657407407407405\n",
            "TEST ACCURACY:  51.111111111111114\n",
            "\n",
            "TRAIN ACCURACY:  58.611111111111114\n",
            "TEST ACCURACY:  51.111111111111114\n",
            "\n",
            "TRAIN ACCURACY:  58.657407407407405\n",
            "TEST ACCURACY:  51.111111111111114\n",
            "\n",
            "TRAIN ACCURACY:  58.657407407407405\n",
            "TEST ACCURACY:  51.111111111111114\n",
            "\n",
            "TRAIN ACCURACY:  58.611111111111114\n",
            "TEST ACCURACY:  51.111111111111114\n",
            "\n",
            "TRAIN ACCURACY: "
          ]
        },
        {
          "output_type": "stream",
          "name": "stderr",
          "text": [
            " 99%|█████████▉| 989/1000 [00:48<00:00, 23.86it/s]"
          ]
        },
        {
          "output_type": "stream",
          "name": "stdout",
          "text": [
            " 58.657407407407405\n",
            "TEST ACCURACY:  51.2962962962963\n",
            "\n",
            "TRAIN ACCURACY:  58.611111111111114\n",
            "TEST ACCURACY:  51.111111111111114\n",
            "\n",
            "TRAIN ACCURACY:  58.611111111111114\n",
            "TEST ACCURACY:  51.111111111111114\n",
            "\n",
            "TRAIN ACCURACY:  58.611111111111114\n",
            "TEST ACCURACY:  51.111111111111114\n",
            "\n",
            "TRAIN ACCURACY:  58.611111111111114\n",
            "TEST ACCURACY:  51.2962962962963\n",
            "\n",
            "TRAIN ACCURACY:  58.657407407407405\n",
            "TEST ACCURACY: "
          ]
        },
        {
          "output_type": "stream",
          "name": "stderr",
          "text": [
            "100%|█████████▉| 995/1000 [00:49<00:00, 24.23it/s]"
          ]
        },
        {
          "output_type": "stream",
          "name": "stdout",
          "text": [
            " 51.2962962962963\n",
            "\n",
            "TRAIN ACCURACY:  58.657407407407405\n",
            "TEST ACCURACY:  51.111111111111114\n",
            "\n",
            "TRAIN ACCURACY:  58.611111111111114\n",
            "TEST ACCURACY:  51.2962962962963\n",
            "\n",
            "TRAIN ACCURACY:  58.611111111111114\n",
            "TEST ACCURACY:  51.2962962962963\n",
            "\n",
            "TRAIN ACCURACY:  58.611111111111114\n",
            "TEST ACCURACY:  51.111111111111114\n"
          ]
        },
        {
          "output_type": "stream",
          "name": "stderr",
          "text": [
            "100%|██████████| 1000/1000 [00:49<00:00, 20.24it/s]"
          ]
        },
        {
          "output_type": "stream",
          "name": "stdout",
          "text": [
            "\n",
            "TRAIN ACCURACY:  58.657407407407405\n",
            "TEST ACCURACY:  51.111111111111114\n",
            "\n",
            "TRAIN ACCURACY:  58.657407407407405\n",
            "TEST ACCURACY:  51.111111111111114\n",
            "\n",
            "TRAIN ACCURACY:  58.611111111111114\n",
            "TEST ACCURACY:  51.111111111111114\n",
            "\n",
            "TRAIN ACCURACY:  58.657407407407405\n",
            "TEST ACCURACY:  51.2962962962963\n",
            "\n",
            "TRAIN ACCURACY:  58.657407407407405\n",
            "TEST ACCURACY:  51.2962962962963\n"
          ]
        },
        {
          "output_type": "stream",
          "name": "stderr",
          "text": [
            "\n"
          ]
        }
      ]
    },
    {
      "cell_type": "markdown",
      "metadata": {
        "id": "LnezwOKLW8GB"
      },
      "source": [
        "**Plot of epochs vs training accuracy.**"
      ]
    },
    {
      "cell_type": "code",
      "execution_count": 13,
      "metadata": {
        "id": "V1VxpwEGolnY",
        "colab": {
          "base_uri": "https://localhost:8080/",
          "height": 265
        },
        "outputId": "d9ee2077-a4b9-41c1-e9c1-8f354a8fe657"
      },
      "outputs": [
        {
          "output_type": "display_data",
          "data": {
            "text/plain": [
              "<Figure size 432x288 with 1 Axes>"
            ],
            "image/png": "[encoded data removed]"
          },
          "metadata": {
            "needs_background": "light"
          }
        }
      ],
      "source": [
        "ep_li = sorted(list(set(ep_li)))\n",
        "plt.plot(ep_li, acc_list)\n",
        "plt.plot(ep_li, test_acc_list)\n",
        "plt.show()"
      ]
    },
    {
      "cell_type": "markdown",
      "metadata": {
        "id": "jjpLnS2wXLdp"
      },
      "source": [
        "Here, we save training and testing data in csvs as well as saving the PyTorch model."
      ]
    },
    {
      "cell_type": "code",
      "execution_count": 14,
      "metadata": {
        "id": "bnJmD5Mze6W-",
        "colab": {
          "base_uri": "https://localhost:8080/"
        },
        "outputId": "1019adca-329e-4e1a-ec5f-175203c04f80"
      },
      "outputs": [
        {
          "output_type": "stream",
          "name": "stdout",
          "text": [
            "Mounted at /content/gdrive\n"
          ]
        }
      ],
      "source": [
        "from google.colab import files\n",
        "from google.colab import drive\n",
        "\n",
        "#Here, we download the train/test data csvs\n",
        "#files.download(\"csv_train.csv\")\n",
        "#files.download(\"csv_test.csv\")\n",
        "\n",
        "drive.mount('/content/gdrive')\n",
        "\n",
        "#Uncomment to save the torch models to these locations.\n",
        "\n",
        "#torch.save(model.state_dict(), '/content/gdrive/My Drive/SCAI ML Phases of Matter Implementation/model1.'+ str(test_acc_list[-1]) + '.pth')"
      ]
    }
  ],
  "metadata": {
    "colab": {
      "collapsed_sections": [],
      "name": "Clean Machine Learning Phase Transitions - Final.ipynb",
      "provenance": [],
      "include_colab_link": true
    },
    "kernelspec": {
      "display_name": "Python 3",
      "name": "python3"
    },
    "language_info": {
      "name": "python"
    }
  },
  "nbformat": 4,
  "nbformat_minor": 0
}