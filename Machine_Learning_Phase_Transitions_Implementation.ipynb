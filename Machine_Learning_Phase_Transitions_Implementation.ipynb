{
  "nbformat": 4,
  "nbformat_minor": 0,
  "metadata": {
    "colab": {
      "name": "Machine Learning Phase Transitions - Implementation.ipynb",
      "provenance": [],
      "authorship_tag": "ABX9TyPoqu4IDu4fPhWaGOw3gCw6",
      "include_colab_link": true
    },
    "kernelspec": {
      "name": "python3",
      "display_name": "Python 3"
    },
    "language_info": {
      "name": "python"
    }
  },
  "cells": [
    {
      "cell_type": "markdown",
      "metadata": {
        "id": "view-in-github",
        "colab_type": "text"
      },
      "source": [
        "<a href=\"https://colab.research.google.com/github/girivad/ml-phases-of-matter-ext/blob/main/Machine_Learning_Phase_Transitions_Implementation.ipynb\" target=\"_parent\"><img src=\"https://colab.research.google.com/assets/colab-badge.svg\" alt=\"Open In Colab\"/></a>"
      ]
    },
    {
      "cell_type": "code",
      "source": [
        "import numpy as np\n",
        "import random"
      ],
      "metadata": {
        "id": "Inezb3UQhrCt"
      },
      "execution_count": null,
      "outputs": []
    },
    {
      "cell_type": "markdown",
      "source": [
        "# **Data Generation**"
      ],
      "metadata": {
        "id": "Ipw8nBYofz_o"
      }
    },
    {
      "cell_type": "code",
      "execution_count": null,
      "metadata": {
        "id": "mj43CC46fuHX"
      },
      "outputs": [],
      "source": [
        "#Generate random grids of 1s and -1s, making sure they are unbalanced. Then calculate the energy of the current state. \n",
        "#Then pick a random particle in the lattice, and flip its sign. When you flip the spin, you have to calculate the energy of this new state again. \n",
        "#If it is less than the current energy, switch curr state to new state. If greater, apply the probability e^-(beta)(Ev-E_mu) = e^-(beta)(J)(summation of the product between the \n",
        "#flipped particle and its neighbors).\n",
        "def get_energy(lattice):\n",
        "  en = 0\n",
        "  #Brute Neighbor Addition\n",
        "  for i in range(len(lattice)):\n",
        "    for j in range(len(lattice)):\n",
        "      if i>0:\n",
        "        en -= lattice[i][j]*lattice[i-1][j]\n",
        "      if i<len(lattice)-1:\n",
        "        en -= lattice[i][j]*lattice[i+1][j]\n",
        "      if j>0:\n",
        "        en -= lattice[i][j]*lattice[i][j-1]\n",
        "      if j<len(lattice)-1:\n",
        "        en -= lattice[i][j] * lattice[i][j+1]\n",
        "  return en\n",
        "\n",
        "grid_size = 32\n",
        "interrupts = 1 #Later in order to do random starts.\n",
        "samples = 10000\n",
        "b = 0.7 #This is our beta*J value. \n",
        "sampleList = []\n",
        "for i in range(interrupts):\n",
        "  enList = []\n",
        "  countList = [0]\n",
        "  sampleList.append([])\n",
        "  sample_count = 0\n",
        "  start_lat = np.array([[np.random.exponential() for a in range(grid_size)] for b in range(grid_size)])\n",
        "  lattice = np.zeros((grid_size,grid_size))\n",
        "  lattice[start_lat>=0.4] = 1.0\n",
        "  lattice[start_lat<0.4] = -1.0\n",
        "  assert list(lattice.flatten()).count(1.)/(grid_size**2) > 0.5 #To ensure largely unbalanced\n",
        "  while sample_count<samples:\n",
        "    curr_en = get_energy(lattice)\n",
        "    flip_x,flip_y = (random.randint(0,grid_size-1),random.randint(0,grid_size-1))\n",
        "    state_v = lattice.copy()\n",
        "    state_v[flip_x][flip_y] *=-1\n",
        "    v_en = get_energy(state_v)\n",
        "    p_uv = 1 if v_en<curr_en else np.exp(-b*(v_en - curr_en))\n",
        "    countList.append(countList[-1]+1)\n",
        "    enList.append(v_en)\n",
        "    if np.random.random()<p_uv:\n",
        "      lattice = state_v.copy()\n",
        "      sampleList[i].append(lattice)\n",
        "      sample_count+=1\n",
        "      #enList.append(v_en)\n"
      ]
    },
    {
      "cell_type": "code",
      "source": [
        "import matplotlib.pyplot as plt\n",
        "plt.plot(countList[:-1],enList)\n",
        "plt.title(\"Energy vs Algorithmic Time\")"
      ],
      "metadata": {
        "collapsed": true,
        "id": "DvhwA7S5iEN4"
      },
      "execution_count": null,
      "outputs": []
    },
    {
      "cell_type": "code",
      "source": [
        ""
      ],
      "metadata": {
        "id": "fM-m9-DA4tut"
      },
      "execution_count": null,
      "outputs": []
    }
  ]
}